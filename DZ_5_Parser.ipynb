{
 "cells": [
  {
   "cell_type": "markdown",
   "metadata": {
    "id": "IO1m4W-2FugO"
   },
   "source": [
    "# Парсинг.\n",
    "Возьмем интересующий сайт, на котором можно пособирать какие-то данные (и при этом API не предоставляется).\n",
    "Идеальный датасет должен иметь текстовое описание некоторого объекта и некоторую целевую переменную, соответствующую этому объекту. Например:\n",
    "Сайт новостей: текстовое описание - сама новость, целевая переменная - количество просмотров новости (можно поделить на число дней с момента даты публикации, чтобы получить “среднее число просмотров в день”).\n",
    "Сайт с товарами/книгами/фильмами: текстовое описание товара/книги/фильма + средний рейтинг в качестве целевой переменной.\n",
    "Блоги - тексты заметок + число просмотров.\n",
    "И любые другие ваши идеи, которые подходят под такой формат.\n",
    "Напишем свой парсер, который будет бегать по страничкам и автоматически что-то собирать.\n",
    "Не забываем, что парсинг - это ответственное мероприятие, поэтому не бомбардируйте несчастные сайты слишком частыми запросами (можно ограничить число запросов в секунду при помощи time.sleep(0.3), вставленного в теле цикла)\n"
   ]
  },
  {
   "cell_type": "markdown",
   "metadata": {
    "id": "6-qGF6CjFugR"
   },
   "source": [
    "# 1. Ознакомление\n",
    "\n",
    "## 1.1. Что за парсинг?\n",
    "\n",
    "## 1.2 Сейчас познакомимся с парой определений:\n",
    "\n",
    "* **Парсер** — это скрипт, который грабит информацию с сайта\n",
    "* **Краулер** — это часть парсера, которая бродит по ссылкам\n",
    "* **Краулинг** — это переход по страницам и ссылкам\n",
    "* **Скрапинг** — это сбор данных со страниц\n",
    "* **Парсинг** — это сразу и краулинг и скрапинг!\n",
    "\n"
   ]
  },
  {
   "cell_type": "markdown",
   "metadata": {
    "id": "WWG2SZpHFugT"
   },
   "source": [
    "## 1.3. Наш первый запрос\n",
    "\n",
    "Доступ к веб-станицам позволяет получать модуль `requests`. Подгрузим его. За компанию подгрузим ещё парочку дельных пакетов."
   ]
  },
  {
   "cell_type": "code",
   "execution_count": 82,
   "metadata": {
    "id": "rnxFdMJIALLo"
   },
   "outputs": [],
   "source": [
    "# Импортировать модуль warnings для работы с предупреждениями\n",
    "import warnings\n",
    "# Отфильтровать все предупреждения и не выводить их на экран\n",
    "warnings.filterwarnings(\"ignore\")\n"
   ]
  },
  {
   "cell_type": "code",
   "execution_count": 83,
   "metadata": {
    "id": "35Uti68PFugT"
   },
   "outputs": [],
   "source": [
    "# Импортировать библиотеку requests для отправки запросов к веб-серверам\n",
    "import requests\n",
    "# Импортировать библиотеку numpy для работы с матрицами, векторами и линейной алгеброй\n",
    "import numpy as np\n",
    "# Импортировать библиотеку pandas для работы с табличными данными\n",
    "import pandas as pd\n",
    "# Импортировать библиотеку time для работы с временем и задержками\n",
    "import time"
   ]
  },
  {
   "cell_type": "markdown",
   "metadata": {
    "id": "Dq4nNCdWFugV"
   },
   "source": [
    "Для наших благородных исследовательских целей нужно собрать данные по каждому фильму с соответствующей ему страницы. Но для начала нужно получить адреса этих страниц. Поэтому открываем основную страницу со всеми фильмами. Выглядит она следующим образом:\n",
    "\n",
    "\n",
    "\n",
    "Со страницы всех фильмов https://www.kinopoisk.ru/lists/movies/?b=films мы  будем тащить ссылки на каждый из перечисленных фильмов. Сохраним в переменную `page_link` адрес основной страницы и откроем её при помощи библиотеки `requests`."
   ]
  },
  {
   "cell_type": "code",
   "execution_count": 84,
   "metadata": {
    "id": "G2U_F6onFugV"
   },
   "outputs": [],
   "source": [
    "# Присвоить переменной page_link URL-адрес первой страницы сайта \n",
    "page_link = 'https://metarankings.ru/best-movies-2023/'\n"
   ]
  },
  {
   "cell_type": "markdown",
   "metadata": {
    "id": "3cOE5tBeFugY"
   },
   "source": [
    "Не будем заходить на сервер, на питоне и используем библиотеку requests.\n",
    "Это может вызвать у него некоторые подозрения относительно наших благих намерений и он решит нас безжалостно отвергнуть.\n",
    "Будем работать с  [`fake-useragent`](https://pypi.python.org/pypi/fake-useragent). При вызове метода из различных кусочков будет генерироваться рандомное сочетание операционной системы, спецификаций и версии браузера, которые можно передавать в запрос:"
   ]
  },
  {
   "cell_type": "code",
   "execution_count": 85,
   "metadata": {
    "colab": {
     "base_uri": "https://localhost:8080/"
    },
    "id": "30VTGnO_GAuR",
    "outputId": "fd2b0d2e-46cb-4b3a-ca95-eaea16b36a5e"
   },
   "outputs": [],
   "source": [
    "# !pip install fake_useragent"
   ]
  },
  {
   "cell_type": "code",
   "execution_count": 86,
   "metadata": {
    "id": "_k3ix86eFugY"
   },
   "outputs": [],
   "source": [
    "# подгрузим один из методов этой библиотеки\n",
    "from fake_useragent import UserAgent"
   ]
  },
  {
   "cell_type": "code",
   "execution_count": 87,
   "metadata": {
    "colab": {
     "base_uri": "https://localhost:8080/",
     "height": 35
    },
    "id": "DoxSGx1lG_2C",
    "outputId": "c11d4faa-9817-4c3b-e3a6-68853fb5f602"
   },
   "outputs": [
    {
     "data": {
      "text/plain": [
       "'Mozilla/5.0 (Windows NT 10.0; Win64; x64) AppleWebKit/537.36 (KHTML, like Gecko) Chrome/112.0.0.0 Safari/537.36'"
      ]
     },
     "execution_count": 87,
     "metadata": {},
     "output_type": "execute_result"
    }
   ],
   "source": [
    "UserAgent().chrome"
   ]
  },
  {
   "cell_type": "code",
   "execution_count": 88,
   "metadata": {
    "scrolled": false
   },
   "outputs": [
    {
     "data": {
      "text/plain": [
       "<Response [200]>"
      ]
     },
     "execution_count": 88,
     "metadata": {},
     "output_type": "execute_result"
    }
   ],
   "source": [
    "# Отправить GET-запрос к веб-странице, используя поддельный user-agent для браузера Chrome\n",
    "response = requests.get(page_link, headers={'User-Agent': UserAgent().chrome})\n",
    "response"
   ]
  },
  {
   "cell_type": "markdown",
   "metadata": {
    "id": "Stgq18QcFuga"
   },
   "source": [
    "Замечательно, наша небольшая маскировка сработала и обманутый сервер покорно выдал благословенный 200 ответ — соединение установлено и данные получены, всё чудесно! Посмотрим, что же все-таки мы получили."
   ]
  },
  {
   "cell_type": "code",
   "execution_count": 89,
   "metadata": {
    "colab": {
     "base_uri": "https://localhost:8080/"
    },
    "id": "Hzy4Ofd4rwYZ",
    "outputId": "21232e32-7549-4266-8383-31808b6e8039"
   },
   "outputs": [
    {
     "data": {
      "text/plain": [
       "requests.models.Response"
      ]
     },
     "execution_count": 89,
     "metadata": {},
     "output_type": "execute_result"
    }
   ],
   "source": [
    "# Получить тип объекта response с помощью функции type()\n",
    "type(response)"
   ]
  },
  {
   "cell_type": "code",
   "execution_count": 90,
   "metadata": {
    "id": "7CzC1F1rFuga"
   },
   "outputs": [],
   "source": [
    "# Получить содержимое ответа в виде байтов с помощью атрибута response.content\n",
    "html = response.content"
   ]
  },
  {
   "cell_type": "code",
   "execution_count": 91,
   "metadata": {
    "colab": {
     "base_uri": "https://localhost:8080/"
    },
    "id": "lC27vW4oFuga",
    "outputId": "19a67f50-272d-4093-c9c5-8e20e4a15def"
   },
   "outputs": [
    {
     "data": {
      "text/plain": [
       "b'<!DOCTYPE html>\\n<html lang=\"ru-RU\">\\n<head>    \\n<meta http-equiv=\"Content-Type\" content=\"text/html; charset=UTF-8\">\\n<link rel=\"manifest\" href=\"/manifest.json\">\\n<meta http-equiv=\"X-UA-Compatible\" content=\"IE=edge\">\\n<meta name=\"viewport\" content=\"width=device-width, initial-scale=1\">\\n<title>\\xd0\\x9b\\xd1\\x83\\xd1\\x87\\xd1\\x88\\xd0\\xb8\\xd0\\xb5 \\xd1\\x84\\xd0\\xb8\\xd0\\xbb\\xd1\\x8c\\xd0\\xbc\\xd1\\x8b 2023 \\xd0\\xb3\\xd0\\xbe\\xd0\\xb4\\xd0\\xb0 - \\xd0\\xa1\\xd0\\xb0\\xd0\\xbc\\xd1\\x8b\\xd0\\xb5 \\xd0\\xb8\\xd0\\xbd\\xd1\\x82\\xd0\\xb5\\xd1\\x80\\xd0\\xb5\\xd1\\x81\\xd0\\xbd\\xd1\\x8b\\xd0\\xb5 \\xd0\\xb8 \\xd0\\xbf\\xd0\\xbe\\xd0\\xbf\\xd1\\x83\\xd0\\xbb\\xd1\\x8f\\xd1\\x80\\xd0\\xbd\\xd1\\x8b\\xd0\\xb5 \\xd1\\x84\\xd0\\xb8\\xd0\\xbb\\xd1\\x8c\\xd0\\xbc\\xd1\\x8b \\xd0\\xb2\\xd1\\x81\\xd0\\xb5\\xd1\\x85 \\xd0\\xb6\\xd0\\xb0\\xd0\\xbd\\xd1\\x80\\xd0\\xbe\\xd0\\xb2 \\xd0\\xb2 2023 \\xe2\\x80\\x94 \\xd1\\x80\\xd0\\xb5\\xd0\\xb9\\xd1\\x82\\xd0\\xb8\\xd0\\xbd\\xd0\\xb3 \\xd0\\xb8 \\xd0\\xbe\\xd1\\x86\\xd0\\xb5\\xd0\\xbd\\xd0\\xba\\xd0\\xb8</title>\\n<link rel=\"icon\" href=\"/favicon.png\" type=\"image/png\" />\\n<link rel=\\'stylesheet\\' id=\\'metarankings-style-css\\'  href=\\'https://metarankings.ru/wp-content/themes/metarankings/style.css\\' type=\\'text/css\\' media=\\'all\\' />\\n<script type=\\'text/javascript\\' src=\\'https://metarankings.ru/wp-includes/js/jquery/jquery.js\\'></script>\\n<script type=\\'text/javascript\\' src=\\'https://metarankings.ru/wp-includes/js/jquery/jquery-migrate.min.js\\'></script>\\n<meta name=\"description\" content=\"\\xd0\\x97\\xd0\\xb4\\xd0\\xb5\\xd1\\x81\\xd1\\x8c \\xd1\\x81\\xd0\\xbe\\xd0\\xb1\\xd1\\x80\\xd0\\xb0\\xd0\\xbd\\xd1\\x8b \\xd0\\xbb\\xd1\\x83\\xd1\\x87\\xd1\\x88\\xd0\\xb8\\xd0\\xb5 \\xd1\\x84\\xd0\\xb8\\xd0\\xbb\\xd1\\x8c\\xd0\\xbc\\xd1\\x8b 2023 \\xd0\\xb3\\xd0\\xbe\\xd0\\xb4'"
      ]
     },
     "execution_count": 91,
     "metadata": {},
     "output_type": "execute_result"
    }
   ],
   "source": [
    "html[:1000]"
   ]
  },
  {
   "cell_type": "code",
   "execution_count": 92,
   "metadata": {
    "colab": {
     "base_uri": "https://localhost:8080/"
    },
    "id": "AY0nhvoTFugb",
    "outputId": "c45d87c1-6f11-4c5f-ad3f-29cb2ab077c5"
   },
   "outputs": [
    {
     "data": {
      "text/plain": [
       "b'height=\\'31\\'>\")\\n//--></script><!--/LiveInternet-->\\n</div>\\n</div>\\n</div>\\n<div class=\"wbody\" onclick=\"show(\\'none\\')\"></div>\\n<div class=\"window\">\\n</div>\\n<div class=\"popup_block\">\\n<form action=\"https://metarankings.ru/login.php?redirect_to=https%3A%2F%2Fmetarankings.ru%2Fbest-movies-2023%2F\" id=\"loginForm\" method=\"post\">\\n<div class=\"field\">\\n<label>\\xd0\\x98\\xd0\\xbc\\xd1\\x8f \\xd0\\xbf\\xd0\\xbe\\xd0\\xbb\\xd1\\x8c\\xd0\\xb7\\xd0\\xbe\\xd0\\xb2\\xd0\\xb0\\xd1\\x82\\xd0\\xb5\\xd0\\xbb\\xd1\\x8f</label>\\n<div class=\"input\">\\n<input type=\"text\" name=\"log\" value=\"\"  id=\"login\" /></div>\\n</div>\\n<div class=\"field\">\\n<a rel=\"nofollow\" href=\"https://metarankings.ru/login.php?action=lostpassword\" id=\"forgot\">\\xd0\\x97\\xd0\\xb0\\xd0\\xb1\\xd1\\x8b\\xd0\\xbb\\xd0\\xb8?</a>\\n<label>\\xd0\\x9f\\xd0\\xb0\\xd1\\x80\\xd0\\xbe\\xd0\\xbb\\xd1\\x8c</label>\\n<div class=\"input\">\\n<input type=\"password\" name=\"pwd\" value=\"\" id=\"pass\" /></div>\\n</div>\\n<div class=\"submit\">\\n<button name=\"submit\" type=\"submit\">\\xd0\\x92\\xd0\\xbe\\xd0\\xb9\\xd1\\x82\\xd0\\xb8</button>\\n<div class=\"registr\"><a rel=\"nofollow\" href=\"https://metarankings.ru/login.php?action=register\">\\xd0\\xa0\\xd0\\xb5\\xd0\\xb3\\xd0\\xb8\\xd1\\x81\\xd1\\x82\\xd1\\x80\\xd0\\xb0\\xd1\\x86\\xd0\\xb8\\xd1\\x8f</a></div>\\n</div>\\n</form>\\n</div>\\n<div id=\"toTop\" class=\"toTop\">\\xe2\\x86\\x91</div>\\n</body>\\n</html>'"
      ]
     },
     "execution_count": 92,
     "metadata": {},
     "output_type": "execute_result"
    }
   ],
   "source": [
    "html[-1000:]"
   ]
  },
  {
   "cell_type": "code",
   "execution_count": 93,
   "metadata": {
    "colab": {
     "base_uri": "https://localhost:8080/"
    },
    "id": "giRv1imoFugb",
    "outputId": "510ad84a-5e5d-49aa-8f29-69592c2c7484"
   },
   "outputs": [
    {
     "data": {
      "text/plain": [
       "109203"
      ]
     },
     "execution_count": 93,
     "metadata": {},
     "output_type": "execute_result"
    }
   ],
   "source": [
    "len(html)"
   ]
  },
  {
   "cell_type": "code",
   "execution_count": 94,
   "metadata": {
    "colab": {
     "base_uri": "https://localhost:8080/"
    },
    "id": "u2fvAtRhFugb",
    "outputId": "234d88e0-47a8-4f9e-a61e-8812cc7fe045"
   },
   "outputs": [
    {
     "data": {
      "text/plain": [
       "bytes"
      ]
     },
     "execution_count": 94,
     "metadata": {},
     "output_type": "execute_result"
    }
   ],
   "source": [
    "type(html)"
   ]
  },
  {
   "cell_type": "markdown",
   "metadata": {
    "id": "x3nssAXqFugb"
   },
   "source": [
    "Выглядит неудобоваримо, как насчет сварить из этого дела что-то покрасивее? Например, красивый суп."
   ]
  },
  {
   "cell_type": "markdown",
   "metadata": {
    "id": "PdL3hXi2Fugc"
   },
   "source": [
    "## 1.4. Красивый суп\n",
    "\n",
    "Красивый суп — это совершенно волшебная библиотека, которая из сырого и необработанного HTML кода страницы выдаст вам структурированный массив данных, по которому очень удобно искать необходимые теги, классы, атрибуты, тексты и прочие элементы веб страниц.\n",
    "\n",
    "> Пакет под названием `BeautifulSoup` — скорее всего, не то, что нам нужно.\n",
    "С необработанным XML кодом страницы пакет также работает (XML — это исковерканый и превращённый в диалект, с помощью своих команд, HTML). Для того, чтобы пакет корректно работал с XML разметкой, придётся в довесок ко всему нашему арсеналу установить пакет `xml`."
   ]
  },
  {
   "cell_type": "code",
   "execution_count": 95,
   "metadata": {},
   "outputs": [],
   "source": [
    "# pip install beautifulsoup4\n"
   ]
  },
  {
   "cell_type": "code",
   "execution_count": 96,
   "metadata": {
    "id": "r3iHCGdPFugc"
   },
   "outputs": [],
   "source": [
    "from bs4 import BeautifulSoup"
   ]
  },
  {
   "cell_type": "markdown",
   "metadata": {
    "id": "m1Q5epfiFugc"
   },
   "source": [
    "Передадим функции `BeautifulSoup` текст веб-страницы, которую мы недавно получили."
   ]
  },
  {
   "cell_type": "code",
   "execution_count": 97,
   "metadata": {
    "id": "98tY_xT1Fugc"
   },
   "outputs": [],
   "source": [
    "soup = BeautifulSoup(html, 'html.parser') # В опции также можно указать lxml,\n",
    "                                         # если предварительно установить одноименный пакет"
   ]
  },
  {
   "cell_type": "markdown",
   "metadata": {},
   "source": [
    "МЫ используем функцию BeautifulSoup() из пакета bs4, чтобы создать объект soup, который представляет собой древовидную структуру HTML-документа, содержащегося в переменной html1. Также передаем в эту функцию параметр html.parser, который указывает, какой парсер использовать для анализа HTML-документа. Парсер - это программа, которая разбивает HTML-документ на составные части и строит из них дерево."
   ]
  },
  {
   "cell_type": "markdown",
   "metadata": {},
   "source": [
    " можно использовать другой парсер, например lxml, для анализа HTML-документа. lxml - это библиотека, которая предоставляет быстрые и гибкие парсеры для XML и HTML. Для использования lxml в качестве парсера для Beautiful Soup 4, вам нужно сначала установить его с помощью команды pip:\n",
    " pip install lxml\n",
    "Затем мы можем передать параметр lxml в функцию BeautifulSoup() вместо html.parser:\n",
    " soup = BeautifulSoup(html, 'lxml')\n",
    "Это изменит то, как Beautiful Soup 4 строит дерево из HTML-документа, и может повлиять на результаты поиска и фильтрации элементов. В некоторых случаях, lxml может быть быстрее и точнее, чем html.parser."
   ]
  },
  {
   "cell_type": "code",
   "execution_count": 98,
   "metadata": {
    "colab": {
     "base_uri": "https://localhost:8080/"
    },
    "id": "HK5l0uasFugd",
    "outputId": "81bd15a7-5536-4529-ca85-e61143eb6b6c"
   },
   "outputs": [
    {
     "data": {
      "text/plain": [
       "bs4.BeautifulSoup"
      ]
     },
     "execution_count": 98,
     "metadata": {},
     "output_type": "execute_result"
    }
   ],
   "source": [
    "type(soup)"
   ]
  },
  {
   "cell_type": "code",
   "execution_count": 99,
   "metadata": {
    "colab": {
     "base_uri": "https://localhost:8080/"
    },
    "id": "iytVf49JFugd",
    "outputId": "a6037748-4abf-4111-9323-a3c062804162"
   },
   "outputs": [
    {
     "name": "stdout",
     "output_type": "stream",
     "text": [
      "<!DOCTYPE html>\n",
      "<html lang=\"ru-RU\">\n",
      " <head>\n",
      "  <meta content=\"text/html; charset=utf-8\" http-equiv=\"Content-Type\"/>\n",
      "  <link href=\"/manifest.json\" rel=\"manifest\"/>\n",
      "  <meta content=\"IE=edge\" http-equiv=\"X-UA-Compatible\"/>\n",
      "  <meta content=\"width=device-width, initial-scale=1\" name=\"viewport\"/>\n",
      "  <title>\n",
      "   Лучшие фильмы 2023 года - Самые интересные и популярные фильмы всех жанров в 2023 — рейтинг и оценки\n",
      "  </title>\n",
      "  <link href=\"/favicon.png\" rel=\"icon\" type=\"image/png\">\n",
      "   <link href=\"https://metarankings.ru/wp-content/themes/metarankings/style.css\" id=\"metarankings-style-css\" media=\"all\" rel=\"stylesheet\" type=\"text/css\"/>\n",
      "   <script src=\"https://metarankings.ru/wp-includes/js/jquery/jquery.js\" type=\"text/javascript\">\n",
      "   </script>\n",
      "   <script src=\"https://metarankings.ru/wp-includes/js/jquery/jquery-migrate.min.js\" type=\"text/javascript\">\n",
      "   </script>\n",
      "   <meta content=\"Здесь собраны лучшие фильмы 2023 года выпуска — Самые интересные и популярные, рейтинг которых составлялся по данным оценок критиков и проголосовавших польз\" name=\"description\">\n",
      "    <link href=\"https://metarankings.ru/best-movies-2023/\" rel=\"canonical\"/>\n",
      "    <meta content=\"#fff\" name=\"theme-color\">\n",
      "     <meta content=\"yes\" name=\"apple-mobile-web-app-capable\"/>\n",
      "     <meta content=\"MetaRankings\" name=\"apple-mobile-web-app-title\"/>\n",
      "     <link href=\"/apple-touch-icon.png\" rel=\"apple-touch-icon\" sizes=\"180x180\"/>\n",
      "     <link href=\"/apple-touch-icon-32x32.png\" rel=\"apple-touch-icon\" sizes=\"32x32\"/>\n",
      "     <link href=\"/apple-touch-icon-16x16.png\" rel=\"apple-touch-icon\" sizes=\"16x16\"/>\n",
      "     <script>\n",
      "      window.yaContextCb=window.yaContextCb||[]\n",
      "     </script>\n",
      "     <script async=\"\" src=\"https://yandex.ru/ads/system/context.js\">\n",
      "     </script>\n",
      "     <script async=\"\" src=\"https://aflt.market.yandex.ru/widget/script/api\">\n",
      "     </script>\n",
      "     <script async=\"\" crossorigin=\"anonymous\" src=\"https://pagead2.googlesyndication.com/pagead/js/adsbygoogle.js?client=ca-pub-9064246890106061\">\n",
      "     </script>\n",
      "    </meta>\n",
      "   </meta>\n"
     ]
    }
   ],
   "source": [
    "print(soup.prettify()[:2000])"
   ]
  },
  {
   "cell_type": "markdown",
   "metadata": {
    "id": "Mq5XZ8V_Fugd"
   },
   "source": [
    "Получим что-то вот такое:\n",
    "    \n",
    "```\n",
    "<!DOCTYPE html>\n",
    "\n",
    "<html xmlns=\"http://www.w3.org/1999/xhtml\" xmlns:fb=\"http://www.facebook.com/2008/fbml\">\n",
    "<head>\n",
    "<meta content=\"text/html; charset=utf-8\" http-equiv=\"Content-Type\"/>\n",
    "<script type=\"text/javascript\">window.NREUM||(NREUM={});NREUM.info={\"beacon\":\"bam.nr-data.net\",\"errorBeacon\":\"bam.nr-data.net\",\"licenseKey\":\"c1a6d52f38\",\"applicationID\":\"31165848\",\"transactionName\":\"dFdfRUpeWglTQB8GDUNKWFRLHkUNWUU=\",\"queueTime\":0,\"applicationTime\":24,\"agent\":\"\"}</script>\n",
    "<script type=\"text/javascript\">window.NREUM||(NREUM={}),__nr_require=function(e,n,t){function r(t){if(!n[t]){var o=n[t]={exports:{}};e[t][0].call(o.exports,function(n){var o=e[t][1][n];return r(o||n)},o,o.exports)}return n[t].exports}if(\"function\"==typeof __nr_require)return __nr_require;for(var o=0;o<t.length;o++)r(t[o]);return r}({1:[function(e,n,t){function r(){}function o(e,n,t){return function(){return i(e,[c.now()].concat(u(arguments)),n?null:this,t),n?void 0:this}}var i=e(\"handle\"),a=e(2),u=e(3),f=e(\"ee\").get(\"tracer\"),c=e(\"loader\"),s=NREUM;\"undefined\"==typeof window.newrelic&&(newrelic=s);var p=\n",
    "```\n",
    "\n",
    "Стало намного лучше, не правда ли? Что же лежит в переменной `soup`? Невнимательный пользователь, скорее всего, скажет,что ничего вообще не изменилось. Тем не менее, это не так. Теперь мы можем свободно бродить по HTML-дереву страницы, искать детей, родителей и вытаскивать их!\n",
    "\n",
    "Например, можно бродить по вершинам, указывая путь из тегов."
   ]
  },
  {
   "cell_type": "code",
   "execution_count": 100,
   "metadata": {},
   "outputs": [
    {
     "data": {
      "text/plain": [
       "<title>Лучшие фильмы 2023 года - Самые интересные и популярные фильмы всех жанров в 2023 — рейтинг и оценки</title>"
      ]
     },
     "execution_count": 100,
     "metadata": {},
     "output_type": "execute_result"
    }
   ],
   "source": [
    "soup.html.head.title"
   ]
  },
  {
   "cell_type": "code",
   "execution_count": 101,
   "metadata": {
    "colab": {
     "base_uri": "https://localhost:8080/"
    },
    "id": "EfEDt9dVFugd",
    "outputId": "b375102d-2e14-4e27-9694-ac522bfbbca4"
   },
   "outputs": [
    {
     "data": {
      "text/plain": [
       "bs4.element.Tag"
      ]
     },
     "execution_count": 101,
     "metadata": {},
     "output_type": "execute_result"
    }
   ],
   "source": [
    "type(soup.html.head.title)"
   ]
  },
  {
   "cell_type": "markdown",
   "metadata": {
    "id": "KoR4X92NFuge"
   },
   "source": [
    "Можно вытащить из того места, куда мы забрели, текст с помощью метода `text`."
   ]
  },
  {
   "cell_type": "code",
   "execution_count": 102,
   "metadata": {
    "colab": {
     "base_uri": "https://localhost:8080/",
     "height": 35
    },
    "id": "14svOurWFuge",
    "outputId": "ede68e7a-be07-46b8-b4da-23c09779365b",
    "scrolled": true
   },
   "outputs": [
    {
     "data": {
      "text/plain": [
       "'Лучшие фильмы 2023 года - Самые интересные и популярные фильмы всех жанров в 2023 — рейтинг и оценки'"
      ]
     },
     "execution_count": 102,
     "metadata": {},
     "output_type": "execute_result"
    }
   ],
   "source": [
    "soup.html.head.title.text"
   ]
  },
  {
   "cell_type": "code",
   "execution_count": 103,
   "metadata": {
    "colab": {
     "base_uri": "https://localhost:8080/"
    },
    "id": "Jx0A2KLFtJJk",
    "outputId": "20d84eff-158a-483f-c52e-3a8668786991"
   },
   "outputs": [
    {
     "data": {
      "text/plain": [
       "str"
      ]
     },
     "execution_count": 103,
     "metadata": {},
     "output_type": "execute_result"
    }
   ],
   "source": [
    "type(soup.html.head.title.text)"
   ]
  },
  {
   "cell_type": "markdown",
   "metadata": {
    "id": "5RHnScSLFuge"
   },
   "source": [
    "Зная адрес элемента, мы сразу можем найти его. Например, можно сделать это по классу. Следующая команда должна найти элемент, который лежит внутри тега `` и имеет класс ``."
   ]
  },
  {
   "cell_type": "markdown",
   "metadata": {},
   "source": [
    "Просматриваем нашу страницу по коду\n",
    "<div class=\"post clear\">\n",
    "<a href=\"https://metarankings.ru/film-solnce-moyo-2023/\" title=\"«Солнце моё»\" class=\"thumb\"><img class=\"post-image\" src=\"https://metarankings.ru/images/uploads/2023/03/solnce-moyo-cover-art-100x140.jpg\" alt=\"Солнце моё\"></a>\n",
    "<div class=\"best-prod\">\n",
    "<div class=\"counter\">1</div>\n",
    "</div>\n",
    "<a class=\"name\" href=\"https://metarankings.ru/film-solnce-moyo-2023/\">Солнце моё</a>\n",
    "<div class=\"post-meta\"><p>Aftersun</p></div>\n",
    "<div class=\"post-meta\"><p>16 марта 2023 года</p></div>\n",
    "<div class=\"post-meta\"><p>Шарлотта Уэллс</p></div>\n",
    "<div class=\"post-content\">Фильм «Солнце моё» рассказывает о Софи, которая вспоминает свой отдых на море, где она была со своим отцом 20 лет назад, когда ей было 11 лет. Это была история ее взросления, с трудными отношениями с разведенным отцом, первым бунтом, первой...</div>\n",
    "<div class=\"trailer\" data-video=\"https://metarankings.ru/film-solnce-moyo-2023/#content-trailer\"></div>\n",
    "<div class=\"ratings-graph\">\n",
    "<div class=\"graph-critic\">\n",
    "<div class=\"graph\">\n",
    "<div class=\"small-score mark-9\">8.7</div> \n",
    "Рейтинг критиков\n",
    "<div class=\"graph-body\"><div style=\"width:87%\" class=\"rating-graph mark-9\"></div></div>\n",
    "</div>\n",
    "</div>\n",
    "<div class=\"graph-critic\">\n",
    "<div class=\"graph\">\n",
    "<div class=\"small-score mark-7\">7.3</div>\n",
    "Зрители \n",
    "<div class=\"graph-body\">\n",
    "<div class=\"rating-graph mark-7\" style=\"width:73%\"></div>\n",
    "</div>\n",
    "</div>\n",
    "</div>\n",
    "</div>\n",
    "</div>"
   ]
  },
  {
   "cell_type": "code",
   "execution_count": 104,
   "metadata": {},
   "outputs": [
    {
     "data": {
      "text/plain": [
       "<a class=\"thumb\" href=\"https://metarankings.ru/film-solnce-moyo-2023/\" title=\"«Солнце моё»\"><img alt=\"Солнце моё\" class=\"post-image\" src=\"https://metarankings.ru/images/uploads/2023/03/solnce-moyo-cover-art-100x140.jpg\"/></a>"
      ]
     },
     "execution_count": 104,
     "metadata": {},
     "output_type": "execute_result"
    }
   ],
   "source": [
    "# Найти первый тег <a> с атрибутом class=\"\" на HTML-странице\n",
    "# И присвоить его переменной obj\n",
    "obj = soup.find('a', attrs = {'class':'thumb'})\n",
    "# Вывести на экран объект obj\n",
    "obj"
   ]
  },
  {
   "cell_type": "code",
   "execution_count": 105,
   "metadata": {},
   "outputs": [
    {
     "data": {
      "text/plain": [
       "['thumb']"
      ]
     },
     "execution_count": 105,
     "metadata": {},
     "output_type": "execute_result"
    }
   ],
   "source": [
    "obj.get(\"class\")"
   ]
  },
  {
   "cell_type": "code",
   "execution_count": 106,
   "metadata": {},
   "outputs": [
    {
     "data": {
      "text/plain": [
       "<a class=\"thumb\" href=\"https://metarankings.ru/film-solnce-moyo-2023/\" title=\"«Солнце моё»\"><img alt=\"Солнце моё\" class=\"post-image\" src=\"https://metarankings.ru/images/uploads/2023/03/solnce-moyo-cover-art-100x140.jpg\"/></a>"
      ]
     },
     "execution_count": 106,
     "metadata": {},
     "output_type": "execute_result"
    }
   ],
   "source": [
    "# Найти первый тег <> с атрибутом class=\"\" на HTML-странице\n",
    "# Использовать лямбда-функцию в качестве параметра для метода soup.find()\n",
    "# Лямбда-функция проверяет, что имя тега равно '' и значение атрибута class равно ['']\n",
    "obj = soup.find(lambda tag: tag.name == 'a' and tag.get('class') == ['thumb'])\n",
    "obj"
   ]
  },
  {
   "cell_type": "code",
   "execution_count": 107,
   "metadata": {},
   "outputs": [
    {
     "data": {
      "text/plain": [
       "['thumb']"
      ]
     },
     "execution_count": 107,
     "metadata": {},
     "output_type": "execute_result"
    }
   ],
   "source": [
    "obj.get(\"class\")"
   ]
  },
  {
   "cell_type": "code",
   "execution_count": 108,
   "metadata": {},
   "outputs": [
    {
     "data": {
      "text/plain": [
       "<a class=\"thumb\" href=\"https://metarankings.ru/film-solnce-moyo-2023/\" title=\"«Солнце моё»\"><img alt=\"Солнце моё\" class=\"post-image\" src=\"https://metarankings.ru/images/uploads/2023/03/solnce-moyo-cover-art-100x140.jpg\"/></a>"
      ]
     },
     "execution_count": 108,
     "metadata": {},
     "output_type": "execute_result"
    }
   ],
   "source": [
    "obj"
   ]
  },
  {
   "cell_type": "code",
   "execution_count": 109,
   "metadata": {},
   "outputs": [
    {
     "data": {
      "text/plain": [
       "<a class=\"thumb\" href=\"https://metarankings.ru/film-solnce-moyo-2023/\" title=\"«Солнце моё»\"><img alt=\"Солнце моё\" class=\"post-image\" src=\"https://metarankings.ru/images/uploads/2023/03/solnce-moyo-cover-art-100x140.jpg\"/></a>"
      ]
     },
     "execution_count": 109,
     "metadata": {},
     "output_type": "execute_result"
    }
   ],
   "source": [
    "# Проверка на вхождение\n",
    "if hasattr(obj, '__dict__'):\n",
    "   try:\n",
    "       href = vars(obj)['href']\n",
    "   except KeyError:\n",
    "       href = None\n",
    "else:\n",
    "   href = None\n",
    "obj"
   ]
  },
  {
   "cell_type": "code",
   "execution_count": 110,
   "metadata": {},
   "outputs": [
    {
     "data": {
      "text/plain": [
       "'https://metarankings.ru/film-solnce-moyo-2023/'"
      ]
     },
     "execution_count": 110,
     "metadata": {},
     "output_type": "execute_result"
    }
   ],
   "source": [
    "obj.attrs['href']"
   ]
  },
  {
   "cell_type": "markdown",
   "metadata": {
    "id": "iB43fXxDFugg"
   },
   "source": [
    "Обратите внимание, что после всех этих безумных преобразований у данных поменялся тип. Теперь они `str`. Это означет, что с ними можно работать как с текстом и пускать в ход для отсеивания лишней информации регулярные выражения."
   ]
  },
  {
   "cell_type": "code",
   "execution_count": 111,
   "metadata": {
    "colab": {
     "base_uri": "https://localhost:8080/"
    },
    "id": "5-0EDpR_Fugg",
    "outputId": "6205ebb3-22a1-4310-dc57-bb42fccc72ad"
   },
   "outputs": [
    {
     "name": "stdout",
     "output_type": "stream",
     "text": [
      "Тип данных до вытаскивания ссылки: <class 'bs4.element.Tag'>\n",
      "Тип данных после вытаскивания ссылки: <class 'str'>\n"
     ]
    }
   ],
   "source": [
    "print(\"Тип данных до вытаскивания ссылки:\", type(obj))\n",
    "print(\"Тип данных после вытаскивания ссылки:\", type(obj.attrs['href']))"
   ]
  },
  {
   "cell_type": "markdown",
   "metadata": {
    "id": "jr_4IjurFugg"
   },
   "source": [
    "Если несколько элементов на странице обладают указанным адресом, то метод `find` вернёт только самый первый.  Чтобы найти все элементы с таким адресом, нужно использовать метод `findAll`, и на выход будет выдан список. Таким образом, мы можем получить одним поиском сразу все объекты, содержащие ссылки на страницы с мемами."
   ]
  },
  {
   "cell_type": "code",
   "execution_count": 112,
   "metadata": {},
   "outputs": [
    {
     "data": {
      "text/plain": [
       "<a class=\"thumb\" href=\"https://metarankings.ru/film-solnce-moyo-2023/\" title=\"«Солнце моё»\"><img alt=\"Солнце моё\" class=\"post-image\" src=\"https://metarankings.ru/images/uploads/2023/03/solnce-moyo-cover-art-100x140.jpg\"/></a>"
      ]
     },
     "execution_count": 112,
     "metadata": {},
     "output_type": "execute_result"
    }
   ],
   "source": [
    "# Найти первый тег <> с атрибутом class=\"\" на HTML-странице\n",
    "# Использовать лямбда-функцию в качестве параметра для метода soup.find()\n",
    "# Лямбда-функция проверяет, что имя тега равно '' и значение атрибута class равно ['']\n",
    "obj = soup.find(lambda tag: tag.name == 'a' and tag.get('class') == ['thumb'])\n",
    "obj"
   ]
  },
  {
   "cell_type": "markdown",
   "metadata": {},
   "source": [
    "#### Скачать можно и итерациями как пример кода\n",
    "#Создать пустой список для хранения ссылок на фильмы\n",
    "film_links = []\n",
    "#Для каждого номера страницы от 1 до 4\n",
    "for page_number in range(1, 5):\n",
    "  #Собрать ссылки на фильмы с текущей страницы\n",
    "  film_links += get_page_links(page_number)\n",
    "#Вывести длину списка film_links\n",
    "print(len(film_links))\n",
    "\n"
   ]
  },
  {
   "cell_type": "markdown",
   "metadata": {},
   "source": [
    "#### Целый код\n",
    "#Импортировать модуль time для использования функции слип\n",
    "import time\n",
    "\n",
    "#Для каждого номера страницы от 1 до 4\n",
    "for page_number in range(1, 5):\n",
    "  #Составить ссылку на страницу поиска\n",
    "  page_link = f'https://metarankings.ru/best-movies-2023/page/{page_number}'\n",
    "  #Попытаться отправить GET-запрос к веб-странице\n",
    "  try:\n",
    "    response = requests.get(page_link)\n",
    "    # Получить HTML-код страницы\n",
    "    html = response.text\n",
    "    # Создать объект BeautifulSoup для анализа HTML-кода\n",
    "    soup = BeautifulSoup(html, 'html.parser')\n",
    "    # Найти все ссылки на фильмы с атрибутом class=\"thumb\" и добавить их в список film_links\n",
    "    film_links += soup.findAll(lambda tag: tag.name == 'a' and tag.get('class') == ['thumb'])\n",
    "  #Если возникнет исключение, например, ошибка соединения или неверный URL\n",
    "  except Exception as e:\n",
    "    # Вывести сообщение об ошибке и продолжить цикл\n",
    "    print(f'Error while parsing page {page_number}: {e}')\n",
    "    continue\n",
    "  #Добавить задержку в 0.1 секунды между запросами к сайту\n",
    "  time.sleep(0.1)\n"
   ]
  },
  {
   "cell_type": "markdown",
   "metadata": {},
   "source": [
    "##### Скачиваем все ссылки"
   ]
  },
  {
   "cell_type": "code",
   "execution_count": 113,
   "metadata": {
    "colab": {
     "base_uri": "https://localhost:8080/"
    },
    "id": "Hq8RXn5cFugg",
    "outputId": "1d56727f-3804-40da-e138-3d7434ed61e6"
   },
   "outputs": [
    {
     "data": {
      "text/plain": [
       "[<a class=\"thumb\" href=\"https://metarankings.ru/film-solnce-moyo-2023/\" title=\"«Солнце моё»\"><img alt=\"Солнце моё\" class=\"post-image\" src=\"https://metarankings.ru/images/uploads/2023/03/solnce-moyo-cover-art-100x140.jpg\"/></a>,\n",
       " <a class=\"thumb\" href=\"https://metarankings.ru/bednye-neschastnye-2023/\" title=\"Фильм «Бедные-несчастные»\"><img alt=\"Бедные-несчастные\" class=\"post-image\" src=\"https://metarankings.ru/images/uploads/2023/09/bednye-neschastnye-cover-art-100x140.jpg\"/></a>,\n",
       " <a class=\"thumb\" href=\"https://metarankings.ru/dzhon-uik-4/\" title=\"Фильм «Джон Уик 4»\"><img alt=\"Джон Уик 4\" class=\"post-image\" src=\"https://metarankings.ru/images/uploads/2023/03/dzhon-uik-4-boxart-cover-100x140.jpg\"/></a>]"
      ]
     },
     "execution_count": 113,
     "metadata": {},
     "output_type": "execute_result"
    }
   ],
   "source": [
    "film_links = soup.findAll(lambda tag: tag.name == 'a' and tag.get('class') == ['thumb'])\n",
    "film_links[:3]"
   ]
  },
  {
   "cell_type": "code",
   "execution_count": 114,
   "metadata": {
    "colab": {
     "base_uri": "https://localhost:8080/"
    },
    "id": "-wZ2TuUeFugg",
    "outputId": "a42ffe13-137a-47ba-dd60-d21ee6a914d8"
   },
   "outputs": [
    {
     "data": {
      "text/plain": [
       "50"
      ]
     },
     "execution_count": 114,
     "metadata": {},
     "output_type": "execute_result"
    }
   ],
   "source": [
    "# Ни чё себе их 50\n",
    "len(film_links)"
   ]
  },
  {
   "cell_type": "markdown",
   "metadata": {
    "id": "MAJ9yyQxFugh"
   },
   "source": [
    "Осталось очистить полученный список от мусора:"
   ]
  },
  {
   "cell_type": "code",
   "execution_count": 115,
   "metadata": {
    "id": "xVeWPcC2Fugh"
   },
   "outputs": [],
   "source": [
    "film_links = [link.attrs['href'] for link in film_links]"
   ]
  },
  {
   "cell_type": "code",
   "execution_count": 116,
   "metadata": {
    "colab": {
     "base_uri": "https://localhost:8080/"
    },
    "id": "R9_2SeUuFugh",
    "outputId": "79c4a798-3e24-4523-c6bf-381280432784"
   },
   "outputs": [
    {
     "data": {
      "text/plain": [
       "['https://metarankings.ru/film-solnce-moyo-2023/',\n",
       " 'https://metarankings.ru/bednye-neschastnye-2023/',\n",
       " 'https://metarankings.ru/dzhon-uik-4/',\n",
       " 'https://metarankings.ru/film-strazhi-galaktiki-chast-3-2023/',\n",
       " 'https://metarankings.ru/vonka-2023/',\n",
       " 'https://metarankings.ru/film-posle-yanga-2023/',\n",
       " 'https://metarankings.ru/ostavlennye-2023/',\n",
       " 'https://metarankings.ru/film-po-pravilam-i-bez-2023/',\n",
       " 'https://metarankings.ru/film-air-bolshoj-pryzhok-2023/',\n",
       " 'https://metarankings.ru/film-barbi-2023/']"
      ]
     },
     "execution_count": 116,
     "metadata": {},
     "output_type": "execute_result"
    }
   ],
   "source": [
    "film_links [:10]"
   ]
  },
  {
   "cell_type": "code",
   "execution_count": 117,
   "metadata": {
    "colab": {
     "base_uri": "https://localhost:8080/"
    },
    "id": "_P5kFv5FFugh",
    "outputId": "350813da-5162-4316-97ad-2b2c3f70a4a1"
   },
   "outputs": [
    {
     "data": {
      "text/plain": [
       "50"
      ]
     },
     "execution_count": 117,
     "metadata": {},
     "output_type": "execute_result"
    }
   ],
   "source": [
    "# Фильмов 50\n",
    "len(film_links)"
   ]
  },
  {
   "cell_type": "markdown",
   "metadata": {
    "id": "rL-MDp53Fugh"
   },
   "source": [
    "- Готово, получили чуть менее 50 по числу фильмов на одной странице поиска.\n",
    "\n",
    "\n",
    "- Остался последний момент. Когда мы скачаем все фильмы с текущей страницы, нам нужно будет каким-то образом забраться на соседнюю. На сайте это можно делать просто пролистывая страницу вниз, javascript-функции подтянут новые мемы на текущее окно, но сейчас трогать эти функции не хочется.\n",
    "\n",
    "- Обычно, все параметры, которые мы устанавливаем на сайте для поиска. \n",
    "Если мы хотим получить первую порцию фильмов, мы должны будем обратиться к сайту по ссылке\n",
    "\n",
    "                `https://metarankings.ru/best-movies-2023/page/1/`\n",
    "\n",
    "\n",
    "- Если мы захотим получить вторую поцию с 50, нам придётся немного видоизменить ссылку, а именно заменить номер страницы на 2.\n",
    "\n",
    "\n",
    "                `https://metarankings.ru/best-movies-2023/page/2/`\n",
    "\n",
    "Таким незатейливым образом мы сможем пройтись по всем страницам.\n",
    "\n",
    "Наконец, обернем в красивую функцию все-все манипуляции, проделанные выше:"
   ]
  },
  {
   "cell_type": "code",
   "execution_count": 118,
   "metadata": {
    "code_folding": [],
    "id": "iwKbhgBuFugh"
   },
   "outputs": [],
   "source": [
    "def getPageLinks(page_number):\n",
    "    \"\"\"\n",
    "        Возвращает список ссылок на фильмы, полученный с текущей страницы\n",
    "\n",
    "        page_number: int/string\n",
    "            номер страницы для парсинга\n",
    "     Возвращает:\n",
    "        list: список ссылок на мемы в формате 'https://metarankings.ru/...' или пустой список, если сервер отказал в доступе.\n",
    "    \"\"\"\n",
    "    # составляем ссылку на страницу поиска\n",
    "    page_link = 'https://metarankings.ru/best-movies-2023/page/{}'.format(page_number)\n",
    "\n",
    "    # запрашиваем данные по ней\n",
    "    response = requests.get(page_link, headers={'User-Agent': UserAgent().chrome})\n",
    "\n",
    "    if not response.ok:\n",
    "        # если сервер нам отказал, вернем пустой лист для текущей страницы\n",
    "        return []\n",
    "\n",
    "    # получаем содержимое страницы и переводим в суп\n",
    "    html = response.content\n",
    "    soup = BeautifulSoup(html,'html.parser')\n",
    "\n",
    "    # наконец, ищем ссылки на мемы и очищаем их от ненужных тэгов\n",
    "    film_links = soup.findAll(lambda tag: tag.name == 'a' and tag.get('class') == ['thumb'])\n",
    "    film_links = ['https://metarankings.ru/' + link.attrs['href'] for link in film_links]\n",
    "\n",
    "    return film_links"
   ]
  },
  {
   "cell_type": "markdown",
   "metadata": {
    "id": "tapV9bsDFugi"
   },
   "source": [
    "Протестируем функцию и убедимся, что всё хорошо"
   ]
  },
  {
   "cell_type": "code",
   "execution_count": 119,
   "metadata": {
    "colab": {
     "base_uri": "https://localhost:8080/"
    },
    "id": "LQ3QNzNJFugi",
    "outputId": "000ac4fa-2164-4f61-f17f-40639fa74453"
   },
   "outputs": [
    {
     "data": {
      "text/plain": [
       "['https://metarankings.ru/https://metarankings.ru/film-solnce-moyo-2023/',\n",
       " 'https://metarankings.ru/https://metarankings.ru/bednye-neschastnye-2023/']"
      ]
     },
     "execution_count": 119,
     "metadata": {},
     "output_type": "execute_result"
    }
   ],
   "source": [
    "film_links = getPageLinks(1)\n",
    "film_links[:2]"
   ]
  },
  {
   "cell_type": "code",
   "execution_count": 120,
   "metadata": {
    "colab": {
     "base_uri": "https://localhost:8080/"
    },
    "id": "q3QfW4_VFugi",
    "outputId": "1d7afff4-d623-4f41-d6ff-bf585f5c8008"
   },
   "outputs": [
    {
     "data": {
      "text/plain": [
       "['https://metarankings.ru/https://metarankings.ru/film-ostrov-illyuzij-2023/',\n",
       " 'https://metarankings.ru/https://metarankings.ru/film-byuro-magicheskix-uslug-2023/']"
      ]
     },
     "execution_count": 120,
     "metadata": {},
     "output_type": "execute_result"
    }
   ],
   "source": [
    "meme_links = getPageLinks(2)\n",
    "meme_links[:2]"
   ]
  },
  {
   "cell_type": "markdown",
   "metadata": {
    "id": "KlqMT1cOFugi"
   },
   "source": [
    "-- Ой как хорошо, функция работает и теперь мы теоретически можем достать ссылки на все фильмы, для чего нам придется пройтись по 12+ страниц.\n",
    "Прежде чем расстраивать сервер таким количеством запросов, посмотрим, как доставать всю необходимую информацию о конкретном фильме."
   ]
  },
  {
   "cell_type": "markdown",
   "metadata": {
    "id": "YYjuK9I-Fugj"
   },
   "source": [
    "## 1.5 Финальная подготовка \n",
    "\n",
    "По аналогии со ссылками можно вытащить что угодно. Для этого надо сделать несколько шагов:\n",
    "\n",
    "1. Открываем страничку с фильмом\n",
    "2. Находим любым способом тег для нужной нам информации\n",
    "3. Пихаем всё это в красивый суп\n",
    "4. ......\n",
    "5. Profit\n",
    "\n",
    "Для закрепления информации в голове любознательного читателя, вытащим:\n",
    "-текстовое описание фильма + средний рейтинг в качестве целевой переменной.\n",
    "- тексты заметок + число просмотров.\n",
    "- идеи, которые подходят под такой формат.\n",
    "Сама страница, с которой мы будем доставать дорогую нашему исследовательскому сердцу информацию выглядит следуюшим образом:\n",
    "https://metarankings.ru/m3gan/\n",
    "\n",
    "Описание\n",
    "Фильм «М3ГАН» — хоррор, который рассказывает о современном робототехнике в компании по производству игрушек по имени Джемми. В один прекрасный день она получает опеку над своей недавно осиротевшей племянницей и дарит девочке экспериментальную куклу-андроид «М3ГАН», в программу которой входит защита своей хозяйки, но вскоре она выходит из под контроля и начинает угрожать всем, кто подходит к девочке.\n",
    "\n",
    "Как и прежде, для начала сохраним ссылку на страницу в переменную и вытащим по ней контент."
   ]
  },
  {
   "cell_type": "code",
   "execution_count": 121,
   "metadata": {
    "colab": {
     "base_uri": "https://localhost:8080/",
     "height": 35
    },
    "id": "-2UDRrZWxGE4",
    "outputId": "b1b100ab-2ef1-453a-f816-a6f978cb846e"
   },
   "outputs": [
    {
     "data": {
      "text/plain": [
       "'https://metarankings.ru/m3gan/'"
      ]
     },
     "execution_count": 121,
     "metadata": {},
     "output_type": "execute_result"
    }
   ],
   "source": [
    "film_page = 'https://metarankings.ru/m3gan/'\n",
    "film_page"
   ]
  },
  {
   "cell_type": "code",
   "execution_count": 122,
   "metadata": {
    "id": "zOuKDQXzFugj"
   },
   "outputs": [],
   "source": [
    "film_page = 'https://metarankings.ru/m3gan/'\n",
    "\n",
    "response = requests.get(film_page, headers={'User-Agent': UserAgent().chrome})\n",
    "\n",
    "html = response.content\n",
    "soup = BeautifulSoup(html,'html.parser')"
   ]
  },
  {
   "cell_type": "markdown",
   "metadata": {
    "id": "uZiSTmkeFugj"
   },
   "source": [
    "Посмотрим, как можно вытащить всю вышеуказанную статистику:\n",
    "-текстовое описание фильма + средний рейтинг в качестве целевой переменной.\n",
    "- идеи, которые подходят под такой формат."
   ]
  },
  {
   "cell_type": "code",
   "execution_count": 123,
   "metadata": {
    "colab": {
     "base_uri": "https://localhost:8080/"
    },
    "id": "EElJ6Qh-Fugj",
    "outputId": "639a3a82-1be0-4706-ee51-68c4ae9e747a"
   },
   "outputs": [
    {
     "data": {
      "text/plain": [
       "<div class=\"score\">\n",
       "7.1\n",
       "</div>"
      ]
     },
     "execution_count": 123,
     "metadata": {},
     "output_type": "execute_result"
    }
   ],
   "source": [
    "# <div class=\"rating\"> <div class=\"score\"> 7.1 </div> Оценки: <span>19</span> </div>\n",
    "\n",
    "score = soup.find(attrs={'class':'score'})\n",
    "score"
   ]
  },
  {
   "cell_type": "code",
   "execution_count": 124,
   "metadata": {
    "colab": {
     "base_uri": "https://localhost:8080/"
    },
    "id": "grO3KfulFugj",
    "outputId": "c66ec701-1937-40b5-ff1e-d199c1ac800c"
   },
   "outputs": [
    {
     "data": {
      "text/plain": [
       "bs4.element.Tag"
      ]
     },
     "execution_count": 124,
     "metadata": {},
     "output_type": "execute_result"
    }
   ],
   "source": [
    "type(score)"
   ]
  },
  {
   "cell_type": "markdown",
   "metadata": {},
   "source": [
    "Средняя оценка"
   ]
  },
  {
   "cell_type": "code",
   "execution_count": 125,
   "metadata": {
    "colab": {
     "base_uri": "https://localhost:8080/",
     "height": 35
    },
    "id": "E5WT3Pwm_7ej",
    "outputId": "a6291375-138f-4586-e14e-90dff48caff2"
   },
   "outputs": [
    {
     "data": {
      "text/plain": [
       "<div class=\"score\">\n",
       "7.1\n",
       "</div>"
      ]
     },
     "execution_count": 125,
     "metadata": {},
     "output_type": "execute_result"
    }
   ],
   "source": [
    "score"
   ]
  },
  {
   "cell_type": "markdown",
   "metadata": {},
   "source": [
    "Описание"
   ]
  },
  {
   "cell_type": "code",
   "execution_count": 126,
   "metadata": {},
   "outputs": [
    {
     "data": {
      "text/plain": [
       "<div class=\"description\">\n",
       "<h2>Описание</h2>\n",
       "<div itemprop=\"description\">\n",
       "<p>Фильм «М3ГАН» — хоррор, который рассказывает о современном робототехнике в компании по производству игрушек по имени Джемми. В один прекрасный день она получает опеку над своей недавно осиротевшей племянницей и дарит девочке экспериментальную куклу-андроид «М3ГАН», в программу которой входит защита своей хозяйки, но вскоре она выходит из под контроля и начинает угрожать всем, кто подходит к девочке.</p>\n",
       "</div>\n",
       "<h2>Актеры</h2>\n",
       "<p><a href=\"/aktery/эллисон_уильямс/\" itemprop=\"actor\">Эллисон Уильямс</a>, <a href=\"/aktery/вайолет_макгроу/\" itemprop=\"actor\">Вайолет Макгроу</a>, <a href=\"/aktery/эми_дональд/\" itemprop=\"actor\">Эми Дональд</a>, <a href=\"/aktery/дженна_дэвис/\" itemprop=\"actor\">Дженна Дэвис</a>, <a href=\"/aktery/джен_браун/\" itemprop=\"actor\">Джен Браун</a>, <a href=\"/aktery/брайан_джордан_альварез/\" itemprop=\"actor\">Брайан Джордан Альварез</a>, <a href=\"/aktery/джек_кэссиди/\" itemprop=\"actor\">Джек Кэссиди</a>, <a href=\"/aktery/ронни_чиэн/\" itemprop=\"actor\">Ронни Чиэн</a>, <a href=\"/aktery/лори_дунги/\" itemprop=\"actor\">Лори Дунги</a>, <a href=\"/aktery/стефан_гарно/\" itemprop=\"actor\">Стефан Гарно</a>, ...</p>\n",
       "</div>"
      ]
     },
     "execution_count": 126,
     "metadata": {},
     "output_type": "execute_result"
    }
   ],
   "source": [
    "description = soup.find(attrs={'class':'description'})\n",
    "description"
   ]
  },
  {
   "cell_type": "code",
   "execution_count": 127,
   "metadata": {},
   "outputs": [
    {
     "data": {
      "text/plain": [
       "bs4.element.Tag"
      ]
     },
     "execution_count": 127,
     "metadata": {},
     "output_type": "execute_result"
    }
   ],
   "source": [
    "type(description)"
   ]
  },
  {
   "cell_type": "markdown",
   "metadata": {},
   "source": [
    "Отзывы"
   ]
  },
  {
   "cell_type": "code",
   "execution_count": 128,
   "metadata": {},
   "outputs": [
    {
     "data": {
      "text/plain": [
       "<span class=\"revs\">Отзывы</span>"
      ]
     },
     "execution_count": 128,
     "metadata": {},
     "output_type": "execute_result"
    }
   ],
   "source": [
    "revs = soup.find(attrs={'class':'revs'})\n",
    "revs"
   ]
  },
  {
   "cell_type": "code",
   "execution_count": 129,
   "metadata": {},
   "outputs": [
    {
     "data": {
      "text/plain": [
       "bs4.element.Tag"
      ]
     },
     "execution_count": 129,
     "metadata": {},
     "output_type": "execute_result"
    }
   ],
   "source": [
    "type(revs)"
   ]
  },
  {
   "cell_type": "markdown",
   "metadata": {},
   "source": [
    "Рейтинг"
   ]
  },
  {
   "cell_type": "code",
   "execution_count": 130,
   "metadata": {},
   "outputs": [
    {
     "data": {
      "text/plain": [
       "<div class=\"rating-graph mark-6\" style=\"width:58%\"><span class=\"score-graph\">5.8</span></div>"
      ]
     },
     "execution_count": 130,
     "metadata": {},
     "output_type": "execute_result"
    }
   ],
   "source": [
    "rating_raph_mark_6 =  soup.find(attrs={'class':'rating-graph mark-6'})\n",
    "rating_raph_mark_6"
   ]
  },
  {
   "cell_type": "code",
   "execution_count": 131,
   "metadata": {},
   "outputs": [
    {
     "data": {
      "text/plain": [
       "bs4.element.Tag"
      ]
     },
     "execution_count": 131,
     "metadata": {},
     "output_type": "execute_result"
    }
   ],
   "source": [
    "type(rating_raph_mark_6)"
   ]
  },
  {
   "cell_type": "markdown",
   "metadata": {},
   "source": [
    "Общий рейтинг"
   ]
  },
  {
   "cell_type": "code",
   "execution_count": 132,
   "metadata": {},
   "outputs": [
    {
     "data": {
      "text/plain": [
       "<div class=\"rating-graph mark-7\" style=\"width:71%\"><span class=\"score-graph\">7.1</span></div>"
      ]
     },
     "execution_count": 132,
     "metadata": {},
     "output_type": "execute_result"
    }
   ],
   "source": [
    "rating_raph_mark_7 =  soup.find(attrs={'class':'rating-graph mark-7'})\n",
    "rating_raph_mark_7"
   ]
  },
  {
   "cell_type": "code",
   "execution_count": 133,
   "metadata": {},
   "outputs": [
    {
     "data": {
      "text/plain": [
       "bs4.element.Tag"
      ]
     },
     "execution_count": 133,
     "metadata": {},
     "output_type": "execute_result"
    }
   ],
   "source": [
    "type(rating_raph_mark_7)"
   ]
  },
  {
   "cell_type": "markdown",
   "metadata": {},
   "source": [
    "Ожидания"
   ]
  },
  {
   "cell_type": "code",
   "execution_count": 134,
   "metadata": {},
   "outputs": [
    {
     "data": {
      "text/plain": [
       "<div class=\"wait-stat\">Ожидания: 56%</div>"
      ]
     },
     "execution_count": 134,
     "metadata": {},
     "output_type": "execute_result"
    }
   ],
   "source": [
    "wait_stat =  soup.find(attrs={'class':'wait-stat'})\n",
    "wait_stat"
   ]
  },
  {
   "cell_type": "code",
   "execution_count": 135,
   "metadata": {},
   "outputs": [
    {
     "data": {
      "text/plain": [
       "bs4.element.Tag"
      ]
     },
     "execution_count": 135,
     "metadata": {},
     "output_type": "execute_result"
    }
   ],
   "source": [
    "type(wait_stat)"
   ]
  },
  {
   "cell_type": "markdown",
   "metadata": {
    "id": "K07DBjbhFugk"
   },
   "source": [
    "Преобразуем всё это в небольшую функцию."
   ]
  },
  {
   "cell_type": "code",
   "execution_count": 136,
   "metadata": {},
   "outputs": [
    {
     "name": "stdout",
     "output_type": "stream",
     "text": [
      "Описание: Описание\n",
      "\n",
      "Фильм «М3ГАН» — хоррор, который рассказывает о современном робототехнике в компании по производству игрушек по имени Джемми. В один прекрасный день она получает опеку над своей недавно осиротевшей племянницей и дарит девочке экспериментальную куклу-андроид «М3ГАН», в программу которой входит защита своей хозяйки, но вскоре она выходит из под контроля и начинает угрожать всем, кто подходит к девочке.\n",
      "\n",
      "Актеры\n",
      "Эллисон Уильямс, Вайолет Макгроу, Эми Дональд, Дженна Дэвис, Джен Браун, Брайан Джордан Альварез, Джек Кэссиди, Ронни Чиэн, Лори Дунги, Стефан Гарно, ...\n",
      "Средняя оценка: 7.1\n",
      "Рейтинг критиков: 5.8\n",
      "Ожидания: Ожидания: 56\n",
      "Дата выхода: 26 января 2023\n"
     ]
    }
   ],
   "source": [
    "def getStats(soup, stats):\n",
    " try:\n",
    "    obj = soup.find('div', attrs={'class':stats})\n",
    "    text = obj.text.strip()\n",
    "    return text.replace(\"%\", \"\") # Удаление символа '%'\n",
    " except:\n",
    "    return None\n",
    "\n",
    "description = getStats(soup, stats='description')\n",
    "average_score = getStats(soup, stats='score')\n",
    "critics_rating = getStats(soup, stats='rating-graph mark-6')\n",
    "\n",
    "expectations = getStats(soup, stats='wait-stat') # добавить ожидания\n",
    "span = soup.find('span', attrs={'class':'release-date'})\n",
    "release_date = span.text # добавить дату выхода\n",
    "#release_date = getStats(soup, stats='release-date') # добавить дату выхода\n",
    "#release_date = release_date.text\n",
    "print(\"Описание: {}\\nСредняя оценка: {}\\nРейтинг критиков: {}\\nОжидания: {}\\nДата выхода: {}\".format(description, average_score, critics_rating, expectations, release_date))\n"
   ]
  },
  {
   "cell_type": "code",
   "execution_count": 137,
   "metadata": {},
   "outputs": [],
   "source": [
    "#span = soup.find('span', attrs={'class':'release-date'})\n",
    "#release_date = span.text\n",
    "#print(date) # Outputs: 26 января 2023"
   ]
  },
  {
   "cell_type": "markdown",
   "metadata": {
    "id": "AEzpeek6Fugk"
   },
   "source": [
    "Всё готово!"
   ]
  },
  {
   "cell_type": "markdown",
   "metadata": {
    "id": "04QupfWdFugo"
   },
   "source": [
    "Наконец, создадим функцию, возвращающую всю информацию по фильму"
   ]
  },
  {
   "cell_type": "code",
   "execution_count": 138,
   "metadata": {
    "code_folding": [],
    "id": "DypiTwxQFugo"
   },
   "outputs": [],
   "source": [
    "def getMemeData(film_page):\n",
    "    \"\"\"\n",
    "        Запрашивает данные по странице, возвращает обработанный словарь с данными\n",
    "\n",
    "        meme_page: string\n",
    "            ссылка на страницу с мемом\n",
    "\n",
    "    \"\"\"\n",
    "\n",
    "    # запрашиваем данные по ссылке\n",
    "    response = requests.get(film_page, headers={'User-Agent': UserAgent().chrome})\n",
    "\n",
    "    if not response.ok:\n",
    "        # если сервер нам отказал, вернем статус ошибки\n",
    "        return response.status_code\n",
    "\n",
    "    # получаем содержимое страницы и переводим в суп\n",
    "    html = response.content\n",
    "    soup = BeautifulSoup(html,'html.parser')\n",
    "\n",
    "    description = getStats(soup, stats='description')\n",
    "    average_score = getStats(soup, stats='score')\n",
    "    critics_rating = getStats(soup, stats='rating-graph mark-6')\n",
    "\n",
    "    expectations = getStats(soup, stats='wait-stat') # добавить ожидания\n",
    "    release_date = getStats(soup, stats='release-date') # добавить дату выхода\n",
    "    #release_date = span.text\n",
    "    \n",
    "\n",
    "    # составляем словарь, в котором будут хранится все полученные и обработанные данные\n",
    "    data_row = {\"release-date\":release_date, \"description\":description,\n",
    "                \"score\":score, \"rating-graph mark-6\":critics_rating , \"wait-stat\":expectations }\n",
    "    #data_row.update(text_fileds)\n",
    "\n",
    "    return data_row"
   ]
  },
  {
   "cell_type": "code",
   "execution_count": 139,
   "metadata": {
    "id": "V0IXYJXgFugo"
   },
   "outputs": [],
   "source": [
    "data_row = getMemeData('https://metarankings.ru/m3gan/')"
   ]
  },
  {
   "cell_type": "code",
   "execution_count": 140,
   "metadata": {
    "colab": {
     "base_uri": "https://localhost:8080/"
    },
    "id": "IUbxnp7AP_uo",
    "outputId": "769e949b-8846-41a0-9ae1-1d1c2602ddfa"
   },
   "outputs": [
    {
     "data": {
      "text/plain": [
       "{'release-date': None,\n",
       " 'description': 'Описание\\n\\nФильм «М3ГАН» — хоррор, который рассказывает о современном\\xa0робототехнике в\\xa0компании по\\xa0производству игрушек по имени Джемми. В один прекрасный день она получает опеку над\\xa0своей недавно осиротевшей племянницей и дарит девочке экспериментальную куклу-андроид «М3ГАН», в программу которой входит защита своей хозяйки, но вскоре она выходит из под контроля и начинает угрожать всем, кто подходит к девочке.\\n\\nАктеры\\nЭллисон Уильямс, Вайолет Макгроу, Эми Дональд, Дженна Дэвис, Джен Браун, Брайан Джордан Альварез, Джек Кэссиди, Ронни Чиэн, Лори Дунги, Стефан Гарно, ...',\n",
       " 'score': <div class=\"score\">\n",
       " 7.1\n",
       " </div>,\n",
       " 'rating-graph mark-6': '5.8',\n",
       " 'wait-stat': 'Ожидания: 56'}"
      ]
     },
     "execution_count": 140,
     "metadata": {},
     "output_type": "execute_result"
    }
   ],
   "source": [
    "data_row"
   ]
  },
  {
   "cell_type": "markdown",
   "metadata": {
    "id": "smDLqxXeFugo"
   },
   "source": [
    "А теперь подготовим табличку, чтобы в неё записывать всё ~~награбленные~~ честно полученные данные, добавим в неё первую полученную строку и полюбуемся на результат"
   ]
  },
  {
   "cell_type": "code",
   "execution_count": 141,
   "metadata": {},
   "outputs": [],
   "source": [
    "#pip install --upgrade pandas\n"
   ]
  },
  {
   "cell_type": "code",
   "execution_count": 142,
   "metadata": {},
   "outputs": [
    {
     "name": "stdout",
     "output_type": "stream",
     "text": [
      "2.1.4\n"
     ]
    }
   ],
   "source": [
    "import pandas as pd\n",
    "print(pd.__version__)\n",
    "\n"
   ]
  },
  {
   "cell_type": "code",
   "execution_count": 143,
   "metadata": {},
   "outputs": [
    {
     "name": "stdout",
     "output_type": "stream",
     "text": [
      "Описание: Описание\n",
      "\n",
      "Фильм «М3ГАН» — хоррор, который рассказывает о современном робототехнике в компании по производству игрушек по имени Джемми. В один прекрасный день она получает опеку над своей недавно осиротевшей племянницей и дарит девочке экспериментальную куклу-андроид «М3ГАН», в программу которой входит защита своей хозяйки, но вскоре она выходит из под контроля и начинает угрожать всем, кто подходит к девочке.\n",
      "\n",
      "Актеры\n",
      "Эллисон Уильямс, Вайолет Макгроу, Эми Дональд, Дженна Дэвис, Джен Браун, Брайан Джордан Альварез, Джек Кэссиди, Ронни Чиэн, Лори Дунги, Стефан Гарно, ...\n",
      "Средняя оценка: 7.1\n",
      "Рейтинг критиков: 5.8\n",
      "Ожидания: Ожидания: 56\n",
      "Дата выхода: 26 января 2023\n"
     ]
    }
   ],
   "source": [
    "print(\"Описание: {}\\nСредняя оценка: {}\\nРейтинг критиков: {}\\nОжидания: {}\\nДата выхода: {}\".format(description, average_score, critics_rating, expectations, release_date))\n"
   ]
  },
  {
   "cell_type": "code",
   "execution_count": 144,
   "metadata": {
    "id": "ZhQv3iciFugo"
   },
   "outputs": [],
   "source": [
    "final_df = pd.DataFrame(columns=['description',  'dverage_score', 'critics_rating', 'expectations',\n",
    "                                 'release_date'])"
   ]
  },
  {
   "cell_type": "code",
   "execution_count": 145,
   "metadata": {
    "id": "vidS64jbFugo"
   },
   "outputs": [],
   "source": [
    "final_df = pd.concat([final_df, pd.DataFrame([data_row])], ignore_index=True)\n"
   ]
  },
  {
   "cell_type": "code",
   "execution_count": 146,
   "metadata": {
    "colab": {
     "base_uri": "https://localhost:8080/",
     "height": 98
    },
    "id": "W0YGjZPnFugp",
    "outputId": "b543bc6f-ad66-4d41-d271-4094da16f03a"
   },
   "outputs": [
    {
     "data": {
      "text/html": [
       "<div>\n",
       "<style scoped>\n",
       "    .dataframe tbody tr th:only-of-type {\n",
       "        vertical-align: middle;\n",
       "    }\n",
       "\n",
       "    .dataframe tbody tr th {\n",
       "        vertical-align: top;\n",
       "    }\n",
       "\n",
       "    .dataframe thead th {\n",
       "        text-align: right;\n",
       "    }\n",
       "</style>\n",
       "<table border=\"1\" class=\"dataframe\">\n",
       "  <thead>\n",
       "    <tr style=\"text-align: right;\">\n",
       "      <th></th>\n",
       "      <th>description</th>\n",
       "      <th>dverage_score</th>\n",
       "      <th>critics_rating</th>\n",
       "      <th>expectations</th>\n",
       "      <th>release_date</th>\n",
       "      <th>release-date</th>\n",
       "      <th>score</th>\n",
       "      <th>rating-graph mark-6</th>\n",
       "      <th>wait-stat</th>\n",
       "    </tr>\n",
       "  </thead>\n",
       "  <tbody>\n",
       "    <tr>\n",
       "      <th>0</th>\n",
       "      <td>Описание\\n\\nФильм «М3ГАН» — хоррор, который ра...</td>\n",
       "      <td>NaN</td>\n",
       "      <td>NaN</td>\n",
       "      <td>NaN</td>\n",
       "      <td>NaN</td>\n",
       "      <td>None</td>\n",
       "      <td>[\\r\\n7.1\\r\\n]</td>\n",
       "      <td>5.8</td>\n",
       "      <td>Ожидания: 56</td>\n",
       "    </tr>\n",
       "  </tbody>\n",
       "</table>\n",
       "</div>"
      ],
      "text/plain": [
       "                                         description dverage_score  \\\n",
       "0  Описание\\n\\nФильм «М3ГАН» — хоррор, который ра...           NaN   \n",
       "\n",
       "  critics_rating expectations release_date release-date          score  \\\n",
       "0            NaN          NaN          NaN         None  [\\r\\n7.1\\r\\n]   \n",
       "\n",
       "  rating-graph mark-6     wait-stat  \n",
       "0                 5.8  Ожидания: 56  "
      ]
     },
     "execution_count": 146,
     "metadata": {},
     "output_type": "execute_result"
    }
   ],
   "source": [
    "final_df.head(5)"
   ]
  },
  {
   "cell_type": "markdown",
   "metadata": {
    "id": "_pC_HY8mFugp"
   },
   "source": [
    " Еще раз убедимся что всё работает — пройдемся по списку из ссылок, полученных ранее в перменной `_links`."
   ]
  },
  {
   "cell_type": "code",
   "execution_count": 147,
   "metadata": {},
   "outputs": [],
   "source": [
    "#pip install tqdm"
   ]
  },
  {
   "cell_type": "code",
   "execution_count": 148,
   "metadata": {
    "id": "pn2888z-Fugp"
   },
   "outputs": [],
   "source": [
    "# Импортировать модуль tqdm.notebook для создания полос прогресса в Jupyter Notebook\n",
    "from tqdm.notebook import tqdm\n"
   ]
  },
  {
   "cell_type": "code",
   "execution_count": 149,
   "metadata": {
    "colab": {
     "base_uri": "https://localhost:8080/"
    },
    "id": "2FSWcLpsFugp",
    "outputId": "9aa7d2de-a883-4145-97d1-3654cab17904"
   },
   "outputs": [
    {
     "data": {
      "text/plain": [
       "['https://metarankings.ru/https://metarankings.ru/film-solnce-moyo-2023/',\n",
       " 'https://metarankings.ru/https://metarankings.ru/bednye-neschastnye-2023/',\n",
       " 'https://metarankings.ru/https://metarankings.ru/dzhon-uik-4/',\n",
       " 'https://metarankings.ru/https://metarankings.ru/film-strazhi-galaktiki-chast-3-2023/',\n",
       " 'https://metarankings.ru/https://metarankings.ru/vonka-2023/',\n",
       " 'https://metarankings.ru/https://metarankings.ru/film-posle-yanga-2023/',\n",
       " 'https://metarankings.ru/https://metarankings.ru/ostavlennye-2023/',\n",
       " 'https://metarankings.ru/https://metarankings.ru/film-po-pravilam-i-bez-2023/',\n",
       " 'https://metarankings.ru/https://metarankings.ru/film-air-bolshoj-pryzhok-2023/',\n",
       " 'https://metarankings.ru/https://metarankings.ru/film-barbi-2023/',\n",
       " 'https://metarankings.ru/https://metarankings.ru/lunatiki-2023/',\n",
       " 'https://metarankings.ru/https://metarankings.ru/podzemelya-i-drakony-chest-sredi-vorov/',\n",
       " 'https://metarankings.ru/https://metarankings.ru/godzilla-minus-odin-2023/',\n",
       " 'https://metarankings.ru/https://metarankings.ru/film-detektor-2023/',\n",
       " 'https://metarankings.ru/https://metarankings.ru/film-bostonskij-dushitel-2023/',\n",
       " 'https://metarankings.ru/https://metarankings.ru/film-zaklyatie-abizu-2023/',\n",
       " 'https://metarankings.ru/https://metarankings.ru/vosstanie-zloveshhix-mertvecov/',\n",
       " 'https://metarankings.ru/https://metarankings.ru/beri-da-pomni-2023/',\n",
       " 'https://metarankings.ru/https://metarankings.ru/film-beskrajnij-bassejn-2023/',\n",
       " 'https://metarankings.ru/https://metarankings.ru/film-oppengejmer-2023/',\n",
       " 'https://metarankings.ru/https://metarankings.ru/otpusk-v-oktyabre-2023/',\n",
       " 'https://metarankings.ru/https://metarankings.ru/prizraki-v-venecii-2023/',\n",
       " 'https://metarankings.ru/https://metarankings.ru/film-vnutri-2023/',\n",
       " 'https://metarankings.ru/https://metarankings.ru/killer-2023/',\n",
       " 'https://metarankings.ru/https://metarankings.ru/film-zdorovyj-chelovek-2023/',\n",
       " 'https://metarankings.ru/https://metarankings.ru/film-pravednik-2023/',\n",
       " 'https://metarankings.ru/https://metarankings.ru/xishhniki-2023/',\n",
       " 'https://metarankings.ru/https://metarankings.ru/film-ubijcy-cvetochnoj-luny-2023/',\n",
       " 'https://metarankings.ru/https://metarankings.ru/film-vse-straxi-bo-2023/',\n",
       " 'https://metarankings.ru/https://metarankings.ru/film-kokainovyj-medved-2023/',\n",
       " 'https://metarankings.ru/https://metarankings.ru/renfild-2023/',\n",
       " 'https://metarankings.ru/https://metarankings.ru/film-ajta-2023/',\n",
       " 'https://metarankings.ru/https://metarankings.ru/film-beshenstvo-2023/',\n",
       " 'https://metarankings.ru/https://metarankings.ru/mikulaj-2023/',\n",
       " 'https://metarankings.ru/https://metarankings.ru/zvuk-svobody-2023/',\n",
       " 'https://metarankings.ru/https://metarankings.ru/megalomanyak-reinkarnaciya/',\n",
       " 'https://metarankings.ru/https://metarankings.ru/film-krik-6-2023/',\n",
       " 'https://metarankings.ru/https://metarankings.ru/film-poexavshaya-2023/',\n",
       " 'https://metarankings.ru/https://metarankings.ru/film-sergij-protiv-nechisti-shabash-2023/',\n",
       " 'https://metarankings.ru/https://metarankings.ru/film-illyuziya-pobega-2023/',\n",
       " 'https://metarankings.ru/https://metarankings.ru/film-russkij-krest-2023/',\n",
       " 'https://metarankings.ru/https://metarankings.ru/operaciya-fortuna-iskusstvo-pobezhdat/',\n",
       " 'https://metarankings.ru/https://metarankings.ru/grom-trudnoe-detstvo-2023/',\n",
       " 'https://metarankings.ru/https://metarankings.ru/cheburashka-2023/',\n",
       " 'https://metarankings.ru/https://metarankings.ru/film-super-majk-poslednij-tanec-2023/',\n",
       " 'https://metarankings.ru/https://metarankings.ru/film-kto-ubil-blackberry-2023/',\n",
       " 'https://metarankings.ru/https://metarankings.ru/film-ne-stuchi-2023/',\n",
       " 'https://metarankings.ru/https://metarankings.ru/dva-tri-demon-pridi-2023/',\n",
       " 'https://metarankings.ru/https://metarankings.ru/koshmary-lunnogo-sada-2023/',\n",
       " 'https://metarankings.ru/https://metarankings.ru/igra-vedm-2023/']"
      ]
     },
     "execution_count": 149,
     "metadata": {},
     "output_type": "execute_result"
    }
   ],
   "source": [
    "film_links"
   ]
  },
  {
   "cell_type": "code",
   "execution_count": 150,
   "metadata": {
    "colab": {
     "base_uri": "https://localhost:8080/",
     "height": 49,
     "referenced_widgets": [
      "09cfb4b502814b4b81fdf93a837660ec",
      "ea9baf580f604208affdd0d051e34dd9",
      "de4ef222413c405b8cb7d755eedc2150",
      "256e77199e824cee94fba85b8fd00bf5",
      "d9616528fee546ea8a3d066b953e5172",
      "f1880de7dbc34a6381681fb40e909f60",
      "5f4261b7a8eb46b7b21b4a1c2f909350",
      "88e5a274dca146ee8025b32104f69d8b",
      "c79984b3b0a842efb76b3b7ad841484e",
      "89ebbe461ea84679acf11a58582fe51c",
      "db0b1417eef04360b0f340be80bebe77"
     ]
    },
    "id": "srOVa1nHFugp",
    "outputId": "25c2e53a-d051-4f20-d73e-fec1f5996d81",
    "scrolled": false
   },
   "outputs": [
    {
     "data": {
      "application/vnd.jupyter.widget-view+json": {
       "model_id": "16ae884834d2457d9644bee0724b0c24",
       "version_major": 2,
       "version_minor": 0
      },
      "text/plain": [
       "  0%|          | 0/50 [00:00<?, ?it/s]"
      ]
     },
     "metadata": {},
     "output_type": "display_data"
    }
   ],
   "source": [
    "for film_links in tqdm(film_links):\n",
    "    try:\n",
    "        data_row = getMemeData(film_links)\n",
    "        final_df = final_df.append(data_row, ignore_index=True)\n",
    "        time.sleep(0.3)\n",
    "    except:\n",
    "        continue"
   ]
  },
  {
   "cell_type": "code",
   "execution_count": 151,
   "metadata": {
    "id": "MMJStcOlFugp"
   },
   "outputs": [],
   "source": [
    "final_df = final_df.drop_duplicates().dropna(axis = 1)"
   ]
  },
  {
   "cell_type": "code",
   "execution_count": 152,
   "metadata": {
    "colab": {
     "base_uri": "https://localhost:8080/"
    },
    "id": "dOU6TZQIFugp",
    "outputId": "22820523-406d-4052-f1f9-d8b9a9bc8662"
   },
   "outputs": [
    {
     "data": {
      "text/plain": [
       "(1, 4)"
      ]
     },
     "execution_count": 152,
     "metadata": {},
     "output_type": "execute_result"
    }
   ],
   "source": [
    "final_df.shape"
   ]
  },
  {
   "cell_type": "code",
   "execution_count": 153,
   "metadata": {
    "colab": {
     "base_uri": "https://localhost:8080/",
     "height": 98
    },
    "id": "jL3_7JwVFugq",
    "outputId": "22889e45-d5a4-45c4-b4fd-ee1328850ff6"
   },
   "outputs": [
    {
     "data": {
      "text/html": [
       "<div>\n",
       "<style scoped>\n",
       "    .dataframe tbody tr th:only-of-type {\n",
       "        vertical-align: middle;\n",
       "    }\n",
       "\n",
       "    .dataframe tbody tr th {\n",
       "        vertical-align: top;\n",
       "    }\n",
       "\n",
       "    .dataframe thead th {\n",
       "        text-align: right;\n",
       "    }\n",
       "</style>\n",
       "<table border=\"1\" class=\"dataframe\">\n",
       "  <thead>\n",
       "    <tr style=\"text-align: right;\">\n",
       "      <th></th>\n",
       "      <th>description</th>\n",
       "      <th>score</th>\n",
       "      <th>rating-graph mark-6</th>\n",
       "      <th>wait-stat</th>\n",
       "    </tr>\n",
       "  </thead>\n",
       "  <tbody>\n",
       "    <tr>\n",
       "      <th>0</th>\n",
       "      <td>Описание\\n\\nФильм «М3ГАН» — хоррор, который ра...</td>\n",
       "      <td>[\\r\\n7.1\\r\\n]</td>\n",
       "      <td>5.8</td>\n",
       "      <td>Ожидания: 56</td>\n",
       "    </tr>\n",
       "  </tbody>\n",
       "</table>\n",
       "</div>"
      ],
      "text/plain": [
       "                                         description          score  \\\n",
       "0  Описание\\n\\nФильм «М3ГАН» — хоррор, который ра...  [\\r\\n7.1\\r\\n]   \n",
       "\n",
       "  rating-graph mark-6     wait-stat  \n",
       "0                 5.8  Ожидания: 56  "
      ]
     },
     "execution_count": 153,
     "metadata": {},
     "output_type": "execute_result"
    }
   ],
   "source": [
    "final_df.head()"
   ]
  },
  {
   "cell_type": "code",
   "execution_count": 154,
   "metadata": {},
   "outputs": [],
   "source": [
    "# Сохранить датафрейм в файл film_data.csv\n",
    "final_df.to_csv('film_data.csv', index=False)"
   ]
  },
  {
   "cell_type": "markdown",
   "metadata": {
    "id": "CSJijjxbFugq"
   },
   "source": [
    "Отлично! Всё работает, мемы качаются, данные наполняются и всё было бы хорошо, если бы не одно но — количество запросов, которое нам придётся сделать, чтобы всё получить."
   ]
  },
  {
   "cell_type": "markdown",
   "metadata": {
    "id": "Zinb3rLUFugq"
   },
   "source": [
    "# 2.  Момент истины\n",
    "\n",
    "Вот он! Тот самый момент абсолютного триумфа, когда код дописан и всё, что нам, мирным собирателям, остаётся — запустить наш код на одну ночку. Кажется, что через страсть мы преобрели силу. Запускаем наш код по всем  страницам с мемами. На всякий случай обернём наш цикл в `try-except`. Мало ли что там с этими мемами бывает."
   ]
  },
  {
   "cell_type": "code",
   "execution_count": 155,
   "metadata": {},
   "outputs": [
    {
     "name": "stdout",
     "output_type": "stream",
     "text": [
      "C:\\Users\\kolin\\Downloads\\Documents\\Парсер данных\n"
     ]
    }
   ],
   "source": [
    "import os\n",
    "print(os.getcwd())\n"
   ]
  },
  {
   "cell_type": "code",
   "execution_count": 162,
   "metadata": {},
   "outputs": [
    {
     "data": {
      "application/vnd.jupyter.widget-view+json": {
       "model_id": "4e1882ad057441a693327df7ae1db1b5",
       "version_major": 2,
       "version_minor": 0
      },
      "text/plain": [
       "Pages:   0%|          | 0/1 [00:00<?, ?it/s]"
      ]
     },
     "metadata": {},
     "output_type": "display_data"
    },
    {
     "data": {
      "application/vnd.jupyter.widget-view+json": {
       "model_id": "",
       "version_major": 2,
       "version_minor": 0
      },
      "text/plain": [
       "Films:   0%|          | 0/50 [00:00<?, ?it/s]"
      ]
     },
     "metadata": {},
     "output_type": "display_data"
    },
    {
     "name": "stdout",
     "output_type": "stream",
     "text": [
      "AHTUNG! parsing once again: https://metarankings.ru/https://metarankings.ru/film-solnce-moyo-2023/\n",
      "AHTUNG! parsing once again: https://metarankings.ru/https://metarankings.ru/film-solnce-moyo-2023/\n",
      "AHTUNG! parsing once again: https://metarankings.ru/https://metarankings.ru/film-solnce-moyo-2023/\n",
      "AHTUNG! parsing once again: https://metarankings.ru/https://metarankings.ru/bednye-neschastnye-2023/\n",
      "AHTUNG! parsing once again: https://metarankings.ru/https://metarankings.ru/bednye-neschastnye-2023/\n",
      "AHTUNG! parsing once again: https://metarankings.ru/https://metarankings.ru/bednye-neschastnye-2023/\n",
      "AHTUNG! parsing once again: https://metarankings.ru/https://metarankings.ru/dzhon-uik-4/\n",
      "AHTUNG! parsing once again: https://metarankings.ru/https://metarankings.ru/dzhon-uik-4/\n",
      "AHTUNG! parsing once again: https://metarankings.ru/https://metarankings.ru/dzhon-uik-4/\n",
      "AHTUNG! parsing once again: https://metarankings.ru/https://metarankings.ru/film-strazhi-galaktiki-chast-3-2023/\n",
      "AHTUNG! parsing once again: https://metarankings.ru/https://metarankings.ru/film-strazhi-galaktiki-chast-3-2023/\n",
      "AHTUNG! parsing once again: https://metarankings.ru/https://metarankings.ru/film-strazhi-galaktiki-chast-3-2023/\n",
      "AHTUNG! parsing once again: https://metarankings.ru/https://metarankings.ru/vonka-2023/\n",
      "AHTUNG! parsing once again: https://metarankings.ru/https://metarankings.ru/vonka-2023/\n",
      "AHTUNG! parsing once again: https://metarankings.ru/https://metarankings.ru/vonka-2023/\n",
      "AHTUNG! parsing once again: https://metarankings.ru/https://metarankings.ru/film-posle-yanga-2023/\n",
      "AHTUNG! parsing once again: https://metarankings.ru/https://metarankings.ru/film-posle-yanga-2023/\n",
      "AHTUNG! parsing once again: https://metarankings.ru/https://metarankings.ru/film-posle-yanga-2023/\n",
      "AHTUNG! parsing once again: https://metarankings.ru/https://metarankings.ru/ostavlennye-2023/\n",
      "AHTUNG! parsing once again: https://metarankings.ru/https://metarankings.ru/ostavlennye-2023/\n",
      "AHTUNG! parsing once again: https://metarankings.ru/https://metarankings.ru/ostavlennye-2023/\n",
      "AHTUNG! parsing once again: https://metarankings.ru/https://metarankings.ru/film-po-pravilam-i-bez-2023/\n",
      "AHTUNG! parsing once again: https://metarankings.ru/https://metarankings.ru/film-po-pravilam-i-bez-2023/\n",
      "AHTUNG! parsing once again: https://metarankings.ru/https://metarankings.ru/film-po-pravilam-i-bez-2023/\n",
      "AHTUNG! parsing once again: https://metarankings.ru/https://metarankings.ru/film-air-bolshoj-pryzhok-2023/\n",
      "AHTUNG! parsing once again: https://metarankings.ru/https://metarankings.ru/film-air-bolshoj-pryzhok-2023/\n",
      "AHTUNG! parsing once again: https://metarankings.ru/https://metarankings.ru/film-air-bolshoj-pryzhok-2023/\n",
      "AHTUNG! parsing once again: https://metarankings.ru/https://metarankings.ru/film-barbi-2023/\n",
      "AHTUNG! parsing once again: https://metarankings.ru/https://metarankings.ru/film-barbi-2023/\n",
      "AHTUNG! parsing once again: https://metarankings.ru/https://metarankings.ru/film-barbi-2023/\n",
      "AHTUNG! parsing once again: https://metarankings.ru/https://metarankings.ru/lunatiki-2023/\n",
      "AHTUNG! parsing once again: https://metarankings.ru/https://metarankings.ru/lunatiki-2023/\n",
      "AHTUNG! parsing once again: https://metarankings.ru/https://metarankings.ru/lunatiki-2023/\n",
      "AHTUNG! parsing once again: https://metarankings.ru/https://metarankings.ru/podzemelya-i-drakony-chest-sredi-vorov/\n",
      "AHTUNG! parsing once again: https://metarankings.ru/https://metarankings.ru/podzemelya-i-drakony-chest-sredi-vorov/\n",
      "AHTUNG! parsing once again: https://metarankings.ru/https://metarankings.ru/podzemelya-i-drakony-chest-sredi-vorov/\n",
      "AHTUNG! parsing once again: https://metarankings.ru/https://metarankings.ru/godzilla-minus-odin-2023/\n",
      "AHTUNG! parsing once again: https://metarankings.ru/https://metarankings.ru/godzilla-minus-odin-2023/\n",
      "AHTUNG! parsing once again: https://metarankings.ru/https://metarankings.ru/godzilla-minus-odin-2023/\n",
      "AHTUNG! parsing once again: https://metarankings.ru/https://metarankings.ru/film-detektor-2023/\n",
      "AHTUNG! parsing once again: https://metarankings.ru/https://metarankings.ru/film-detektor-2023/\n",
      "AHTUNG! parsing once again: https://metarankings.ru/https://metarankings.ru/film-detektor-2023/\n",
      "AHTUNG! parsing once again: https://metarankings.ru/https://metarankings.ru/film-bostonskij-dushitel-2023/\n",
      "AHTUNG! parsing once again: https://metarankings.ru/https://metarankings.ru/film-bostonskij-dushitel-2023/\n",
      "AHTUNG! parsing once again: https://metarankings.ru/https://metarankings.ru/film-bostonskij-dushitel-2023/\n",
      "AHTUNG! parsing once again: https://metarankings.ru/https://metarankings.ru/film-zaklyatie-abizu-2023/\n",
      "AHTUNG! parsing once again: https://metarankings.ru/https://metarankings.ru/film-zaklyatie-abizu-2023/\n",
      "AHTUNG! parsing once again: https://metarankings.ru/https://metarankings.ru/film-zaklyatie-abizu-2023/\n",
      "AHTUNG! parsing once again: https://metarankings.ru/https://metarankings.ru/vosstanie-zloveshhix-mertvecov/\n",
      "AHTUNG! parsing once again: https://metarankings.ru/https://metarankings.ru/vosstanie-zloveshhix-mertvecov/\n",
      "AHTUNG! parsing once again: https://metarankings.ru/https://metarankings.ru/vosstanie-zloveshhix-mertvecov/\n",
      "AHTUNG! parsing once again: https://metarankings.ru/https://metarankings.ru/beri-da-pomni-2023/\n",
      "AHTUNG! parsing once again: https://metarankings.ru/https://metarankings.ru/beri-da-pomni-2023/\n",
      "AHTUNG! parsing once again: https://metarankings.ru/https://metarankings.ru/beri-da-pomni-2023/\n",
      "AHTUNG! parsing once again: https://metarankings.ru/https://metarankings.ru/film-beskrajnij-bassejn-2023/\n",
      "AHTUNG! parsing once again: https://metarankings.ru/https://metarankings.ru/film-beskrajnij-bassejn-2023/\n",
      "AHTUNG! parsing once again: https://metarankings.ru/https://metarankings.ru/film-beskrajnij-bassejn-2023/\n",
      "AHTUNG! parsing once again: https://metarankings.ru/https://metarankings.ru/film-oppengejmer-2023/\n",
      "AHTUNG! parsing once again: https://metarankings.ru/https://metarankings.ru/film-oppengejmer-2023/\n",
      "AHTUNG! parsing once again: https://metarankings.ru/https://metarankings.ru/film-oppengejmer-2023/\n",
      "AHTUNG! parsing once again: https://metarankings.ru/https://metarankings.ru/otpusk-v-oktyabre-2023/\n",
      "AHTUNG! parsing once again: https://metarankings.ru/https://metarankings.ru/otpusk-v-oktyabre-2023/\n",
      "AHTUNG! parsing once again: https://metarankings.ru/https://metarankings.ru/otpusk-v-oktyabre-2023/\n",
      "AHTUNG! parsing once again: https://metarankings.ru/https://metarankings.ru/prizraki-v-venecii-2023/\n",
      "AHTUNG! parsing once again: https://metarankings.ru/https://metarankings.ru/prizraki-v-venecii-2023/\n",
      "AHTUNG! parsing once again: https://metarankings.ru/https://metarankings.ru/prizraki-v-venecii-2023/\n",
      "AHTUNG! parsing once again: https://metarankings.ru/https://metarankings.ru/film-vnutri-2023/\n",
      "AHTUNG! parsing once again: https://metarankings.ru/https://metarankings.ru/film-vnutri-2023/\n",
      "AHTUNG! parsing once again: https://metarankings.ru/https://metarankings.ru/film-vnutri-2023/\n",
      "AHTUNG! parsing once again: https://metarankings.ru/https://metarankings.ru/killer-2023/\n",
      "AHTUNG! parsing once again: https://metarankings.ru/https://metarankings.ru/killer-2023/\n",
      "AHTUNG! parsing once again: https://metarankings.ru/https://metarankings.ru/killer-2023/\n",
      "AHTUNG! parsing once again: https://metarankings.ru/https://metarankings.ru/film-zdorovyj-chelovek-2023/\n",
      "AHTUNG! parsing once again: https://metarankings.ru/https://metarankings.ru/film-zdorovyj-chelovek-2023/\n",
      "AHTUNG! parsing once again: https://metarankings.ru/https://metarankings.ru/film-zdorovyj-chelovek-2023/\n",
      "AHTUNG! parsing once again: https://metarankings.ru/https://metarankings.ru/film-pravednik-2023/\n",
      "AHTUNG! parsing once again: https://metarankings.ru/https://metarankings.ru/film-pravednik-2023/\n",
      "AHTUNG! parsing once again: https://metarankings.ru/https://metarankings.ru/film-pravednik-2023/\n",
      "AHTUNG! parsing once again: https://metarankings.ru/https://metarankings.ru/xishhniki-2023/\n",
      "AHTUNG! parsing once again: https://metarankings.ru/https://metarankings.ru/xishhniki-2023/\n",
      "AHTUNG! parsing once again: https://metarankings.ru/https://metarankings.ru/xishhniki-2023/\n",
      "AHTUNG! parsing once again: https://metarankings.ru/https://metarankings.ru/film-ubijcy-cvetochnoj-luny-2023/\n",
      "AHTUNG! parsing once again: https://metarankings.ru/https://metarankings.ru/film-ubijcy-cvetochnoj-luny-2023/\n"
     ]
    },
    {
     "name": "stdout",
     "output_type": "stream",
     "text": [
      "AHTUNG! parsing once again: https://metarankings.ru/https://metarankings.ru/film-ubijcy-cvetochnoj-luny-2023/\n",
      "AHTUNG! parsing once again: https://metarankings.ru/https://metarankings.ru/film-vse-straxi-bo-2023/\n",
      "AHTUNG! parsing once again: https://metarankings.ru/https://metarankings.ru/film-vse-straxi-bo-2023/\n",
      "AHTUNG! parsing once again: https://metarankings.ru/https://metarankings.ru/film-vse-straxi-bo-2023/\n",
      "AHTUNG! parsing once again: https://metarankings.ru/https://metarankings.ru/film-kokainovyj-medved-2023/\n",
      "AHTUNG! parsing once again: https://metarankings.ru/https://metarankings.ru/film-kokainovyj-medved-2023/\n",
      "AHTUNG! parsing once again: https://metarankings.ru/https://metarankings.ru/film-kokainovyj-medved-2023/\n",
      "AHTUNG! parsing once again: https://metarankings.ru/https://metarankings.ru/renfild-2023/\n",
      "AHTUNG! parsing once again: https://metarankings.ru/https://metarankings.ru/renfild-2023/\n",
      "AHTUNG! parsing once again: https://metarankings.ru/https://metarankings.ru/renfild-2023/\n",
      "AHTUNG! parsing once again: https://metarankings.ru/https://metarankings.ru/film-ajta-2023/\n",
      "AHTUNG! parsing once again: https://metarankings.ru/https://metarankings.ru/film-ajta-2023/\n",
      "AHTUNG! parsing once again: https://metarankings.ru/https://metarankings.ru/film-ajta-2023/\n",
      "AHTUNG! parsing once again: https://metarankings.ru/https://metarankings.ru/film-beshenstvo-2023/\n",
      "AHTUNG! parsing once again: https://metarankings.ru/https://metarankings.ru/film-beshenstvo-2023/\n",
      "AHTUNG! parsing once again: https://metarankings.ru/https://metarankings.ru/film-beshenstvo-2023/\n",
      "AHTUNG! parsing once again: https://metarankings.ru/https://metarankings.ru/mikulaj-2023/\n",
      "AHTUNG! parsing once again: https://metarankings.ru/https://metarankings.ru/mikulaj-2023/\n",
      "AHTUNG! parsing once again: https://metarankings.ru/https://metarankings.ru/mikulaj-2023/\n",
      "AHTUNG! parsing once again: https://metarankings.ru/https://metarankings.ru/zvuk-svobody-2023/\n",
      "AHTUNG! parsing once again: https://metarankings.ru/https://metarankings.ru/zvuk-svobody-2023/\n",
      "AHTUNG! parsing once again: https://metarankings.ru/https://metarankings.ru/zvuk-svobody-2023/\n",
      "AHTUNG! parsing once again: https://metarankings.ru/https://metarankings.ru/megalomanyak-reinkarnaciya/\n",
      "AHTUNG! parsing once again: https://metarankings.ru/https://metarankings.ru/megalomanyak-reinkarnaciya/\n",
      "AHTUNG! parsing once again: https://metarankings.ru/https://metarankings.ru/megalomanyak-reinkarnaciya/\n",
      "AHTUNG! parsing once again: https://metarankings.ru/https://metarankings.ru/film-krik-6-2023/\n",
      "AHTUNG! parsing once again: https://metarankings.ru/https://metarankings.ru/film-krik-6-2023/\n",
      "AHTUNG! parsing once again: https://metarankings.ru/https://metarankings.ru/film-krik-6-2023/\n",
      "AHTUNG! parsing once again: https://metarankings.ru/https://metarankings.ru/film-poexavshaya-2023/\n",
      "AHTUNG! parsing once again: https://metarankings.ru/https://metarankings.ru/film-poexavshaya-2023/\n",
      "AHTUNG! parsing once again: https://metarankings.ru/https://metarankings.ru/film-poexavshaya-2023/\n",
      "AHTUNG! parsing once again: https://metarankings.ru/https://metarankings.ru/film-sergij-protiv-nechisti-shabash-2023/\n",
      "AHTUNG! parsing once again: https://metarankings.ru/https://metarankings.ru/film-sergij-protiv-nechisti-shabash-2023/\n",
      "AHTUNG! parsing once again: https://metarankings.ru/https://metarankings.ru/film-sergij-protiv-nechisti-shabash-2023/\n",
      "AHTUNG! parsing once again: https://metarankings.ru/https://metarankings.ru/film-illyuziya-pobega-2023/\n",
      "AHTUNG! parsing once again: https://metarankings.ru/https://metarankings.ru/film-illyuziya-pobega-2023/\n",
      "AHTUNG! parsing once again: https://metarankings.ru/https://metarankings.ru/film-illyuziya-pobega-2023/\n",
      "AHTUNG! parsing once again: https://metarankings.ru/https://metarankings.ru/film-russkij-krest-2023/\n",
      "AHTUNG! parsing once again: https://metarankings.ru/https://metarankings.ru/film-russkij-krest-2023/\n",
      "AHTUNG! parsing once again: https://metarankings.ru/https://metarankings.ru/film-russkij-krest-2023/\n",
      "AHTUNG! parsing once again: https://metarankings.ru/https://metarankings.ru/operaciya-fortuna-iskusstvo-pobezhdat/\n",
      "AHTUNG! parsing once again: https://metarankings.ru/https://metarankings.ru/operaciya-fortuna-iskusstvo-pobezhdat/\n",
      "AHTUNG! parsing once again: https://metarankings.ru/https://metarankings.ru/operaciya-fortuna-iskusstvo-pobezhdat/\n",
      "AHTUNG! parsing once again: https://metarankings.ru/https://metarankings.ru/grom-trudnoe-detstvo-2023/\n",
      "AHTUNG! parsing once again: https://metarankings.ru/https://metarankings.ru/grom-trudnoe-detstvo-2023/\n",
      "AHTUNG! parsing once again: https://metarankings.ru/https://metarankings.ru/grom-trudnoe-detstvo-2023/\n",
      "AHTUNG! parsing once again: https://metarankings.ru/https://metarankings.ru/cheburashka-2023/\n",
      "AHTUNG! parsing once again: https://metarankings.ru/https://metarankings.ru/cheburashka-2023/\n",
      "AHTUNG! parsing once again: https://metarankings.ru/https://metarankings.ru/cheburashka-2023/\n",
      "AHTUNG! parsing once again: https://metarankings.ru/https://metarankings.ru/film-super-majk-poslednij-tanec-2023/\n",
      "AHTUNG! parsing once again: https://metarankings.ru/https://metarankings.ru/film-super-majk-poslednij-tanec-2023/\n",
      "AHTUNG! parsing once again: https://metarankings.ru/https://metarankings.ru/film-super-majk-poslednij-tanec-2023/\n",
      "AHTUNG! parsing once again: https://metarankings.ru/https://metarankings.ru/film-kto-ubil-blackberry-2023/\n",
      "AHTUNG! parsing once again: https://metarankings.ru/https://metarankings.ru/film-kto-ubil-blackberry-2023/\n",
      "AHTUNG! parsing once again: https://metarankings.ru/https://metarankings.ru/film-kto-ubil-blackberry-2023/\n",
      "AHTUNG! parsing once again: https://metarankings.ru/https://metarankings.ru/film-ne-stuchi-2023/\n",
      "AHTUNG! parsing once again: https://metarankings.ru/https://metarankings.ru/film-ne-stuchi-2023/\n",
      "AHTUNG! parsing once again: https://metarankings.ru/https://metarankings.ru/film-ne-stuchi-2023/\n",
      "AHTUNG! parsing once again: https://metarankings.ru/https://metarankings.ru/dva-tri-demon-pridi-2023/\n",
      "AHTUNG! parsing once again: https://metarankings.ru/https://metarankings.ru/dva-tri-demon-pridi-2023/\n",
      "AHTUNG! parsing once again: https://metarankings.ru/https://metarankings.ru/dva-tri-demon-pridi-2023/\n",
      "AHTUNG! parsing once again: https://metarankings.ru/https://metarankings.ru/koshmary-lunnogo-sada-2023/\n",
      "AHTUNG! parsing once again: https://metarankings.ru/https://metarankings.ru/koshmary-lunnogo-sada-2023/\n",
      "AHTUNG! parsing once again: https://metarankings.ru/https://metarankings.ru/koshmary-lunnogo-sada-2023/\n",
      "AHTUNG! parsing once again: https://metarankings.ru/https://metarankings.ru/igra-vedm-2023/\n",
      "AHTUNG! parsing once again: https://metarankings.ru/https://metarankings.ru/igra-vedm-2023/\n",
      "AHTUNG! parsing once again: https://metarankings.ru/https://metarankings.ru/igra-vedm-2023/\n"
     ]
    }
   ],
   "source": [
    "# Импортировать модули pandas и tqdm\n",
    "import pandas as pd\n",
    "from tqdm.notebook import tqdm\n",
    "\n",
    "# Создать пустой датафрейм с нужными столбцами\n",
    "final_df = pd.DataFrame(columns=['description', 'dverage_score', 'critics_rating', 'expectations',\n",
    "                             'release_date'])\n",
    "\n",
    "# Для каждого номера страницы от 1 до 12\n",
    "for page_number in tqdm(range(1, 2), desc='Pages'):\n",
    "  # Собрать ссылки на фильмы с текущей страницы\n",
    "  film_links = getPageLinks(page_number)\n",
    "  # Для каждой ссылки на фильм в списке film_links\n",
    "  for film_link in tqdm(film_links, desc='Films', leave=False):\n",
    "      # Иногда с первого раза страница не парсится\n",
    "      for i in range(3):\n",
    "          try:\n",
    "              # Попытаться собрать данные о фильме\n",
    "              data_row = getMemeData(film_link)  # оставил название переменной не изменял при желании можно изменить\n",
    "              # И добавить их в датафрейм\n",
    "              final_df = final_df.append(data_row, ignore_index=True)\n",
    "              # Если все получилось - выйти из внутреннего цикла\n",
    "              break\n",
    "          except:\n",
    "              # Иначе, пробовать еще несколько раз, пока не закончатся попытки\n",
    "              print('AHTUNG! parsing once again:', film_link)\n",
    "              continue\n",
    "          # Добавить задержку между запросами\n",
    "          time.sleep(0.3)\n"
   ]
  },
  {
   "cell_type": "markdown",
   "metadata": {},
   "source": [
    "##### Сохраняем датафрейм в файл"
   ]
  },
  {
   "cell_type": "code",
   "execution_count": 159,
   "metadata": {},
   "outputs": [],
   "source": [
    "# Сохранить датафрейм в файл film_data.csv\n",
    "final_df.to_csv('film_data.csv', index=False)\n"
   ]
  },
  {
   "cell_type": "markdown",
   "metadata": {},
   "source": [
    "https://metarankings.ru/robots.txt"
   ]
  },
  {
   "cell_type": "code",
   "execution_count": 168,
   "metadata": {
    "id": "rAL-xWrQFugr"
   },
   "outputs": [],
   "source": [
    "def checkIP():\n",
    "    ip = requests.get('http://checkip.dyndns.org').content\n",
    "    soup = BeautifulSoup(ip, 'html.parser')\n",
    "    print(soup.find('body').text)"
   ]
  },
  {
   "cell_type": "code",
   "execution_count": 169,
   "metadata": {
    "id": "DshD-B1ZFugr"
   },
   "outputs": [
    {
     "name": "stdout",
     "output_type": "stream",
     "text": [
      "Current IP Address: 88.150.230.100\n"
     ]
    }
   ],
   "source": [
    "checkIP()"
   ]
  },
  {
   "cell_type": "markdown",
   "metadata": {
    "id": "9jDW-zBWFugt"
   },
   "source": [
    "Спасибо за внимание!"
   ]
  }
 ],
 "metadata": {
  "colab": {
   "provenance": []
  },
  "kernelspec": {
   "display_name": "Python 3 (ipykernel)",
   "language": "python",
   "name": "python3"
  },
  "language_info": {
   "codemirror_mode": {
    "name": "ipython",
    "version": 3
   },
   "file_extension": ".py",
   "mimetype": "text/x-python",
   "name": "python",
   "nbconvert_exporter": "python",
   "pygments_lexer": "ipython3",
   "version": "3.11.5"
  },
  "varInspector": {
   "cols": {
    "lenName": 16,
    "lenType": 16,
    "lenVar": 40
   },
   "kernels_config": {
    "python": {
     "delete_cmd_postfix": "",
     "delete_cmd_prefix": "del ",
     "library": "var_list.py",
     "varRefreshCmd": "print(var_dic_list())"
    },
    "r": {
     "delete_cmd_postfix": ") ",
     "delete_cmd_prefix": "rm(",
     "library": "var_list.r",
     "varRefreshCmd": "cat(var_dic_list()) "
    }
   },
   "types_to_exclude": [
    "module",
    "function",
    "builtin_function_or_method",
    "instance",
    "_Feature"
   ],
   "window_display": false
  },
  "widgets": {
   "application/vnd.jupyter.widget-state+json": {
    "09cfb4b502814b4b81fdf93a837660ec": {
     "model_module": "@jupyter-widgets/controls",
     "model_module_version": "1.5.0",
     "model_name": "HBoxModel",
     "state": {
      "_dom_classes": [],
      "_model_module": "@jupyter-widgets/controls",
      "_model_module_version": "1.5.0",
      "_model_name": "HBoxModel",
      "_view_count": null,
      "_view_module": "@jupyter-widgets/controls",
      "_view_module_version": "1.5.0",
      "_view_name": "HBoxView",
      "box_style": "",
      "children": [
       "IPY_MODEL_ea9baf580f604208affdd0d051e34dd9",
       "IPY_MODEL_de4ef222413c405b8cb7d755eedc2150",
       "IPY_MODEL_256e77199e824cee94fba85b8fd00bf5"
      ],
      "layout": "IPY_MODEL_d9616528fee546ea8a3d066b953e5172"
     }
    },
    "256e77199e824cee94fba85b8fd00bf5": {
     "model_module": "@jupyter-widgets/controls",
     "model_module_version": "1.5.0",
     "model_name": "HTMLModel",
     "state": {
      "_dom_classes": [],
      "_model_module": "@jupyter-widgets/controls",
      "_model_module_version": "1.5.0",
      "_model_name": "HTMLModel",
      "_view_count": null,
      "_view_module": "@jupyter-widgets/controls",
      "_view_module_version": "1.5.0",
      "_view_name": "HTMLView",
      "description": "",
      "description_tooltip": null,
      "layout": "IPY_MODEL_89ebbe461ea84679acf11a58582fe51c",
      "placeholder": "​",
      "style": "IPY_MODEL_db0b1417eef04360b0f340be80bebe77",
      "value": " 16/16 [00:00&lt;00:00, 26.44it/s]"
     }
    },
    "5f4261b7a8eb46b7b21b4a1c2f909350": {
     "model_module": "@jupyter-widgets/controls",
     "model_module_version": "1.5.0",
     "model_name": "DescriptionStyleModel",
     "state": {
      "_model_module": "@jupyter-widgets/controls",
      "_model_module_version": "1.5.0",
      "_model_name": "DescriptionStyleModel",
      "_view_count": null,
      "_view_module": "@jupyter-widgets/base",
      "_view_module_version": "1.2.0",
      "_view_name": "StyleView",
      "description_width": ""
     }
    },
    "88e5a274dca146ee8025b32104f69d8b": {
     "model_module": "@jupyter-widgets/base",
     "model_module_version": "1.2.0",
     "model_name": "LayoutModel",
     "state": {
      "_model_module": "@jupyter-widgets/base",
      "_model_module_version": "1.2.0",
      "_model_name": "LayoutModel",
      "_view_count": null,
      "_view_module": "@jupyter-widgets/base",
      "_view_module_version": "1.2.0",
      "_view_name": "LayoutView",
      "align_content": null,
      "align_items": null,
      "align_self": null,
      "border": null,
      "bottom": null,
      "display": null,
      "flex": null,
      "flex_flow": null,
      "grid_area": null,
      "grid_auto_columns": null,
      "grid_auto_flow": null,
      "grid_auto_rows": null,
      "grid_column": null,
      "grid_gap": null,
      "grid_row": null,
      "grid_template_areas": null,
      "grid_template_columns": null,
      "grid_template_rows": null,
      "height": null,
      "justify_content": null,
      "justify_items": null,
      "left": null,
      "margin": null,
      "max_height": null,
      "max_width": null,
      "min_height": null,
      "min_width": null,
      "object_fit": null,
      "object_position": null,
      "order": null,
      "overflow": null,
      "overflow_x": null,
      "overflow_y": null,
      "padding": null,
      "right": null,
      "top": null,
      "visibility": null,
      "width": null
     }
    },
    "89ebbe461ea84679acf11a58582fe51c": {
     "model_module": "@jupyter-widgets/base",
     "model_module_version": "1.2.0",
     "model_name": "LayoutModel",
     "state": {
      "_model_module": "@jupyter-widgets/base",
      "_model_module_version": "1.2.0",
      "_model_name": "LayoutModel",
      "_view_count": null,
      "_view_module": "@jupyter-widgets/base",
      "_view_module_version": "1.2.0",
      "_view_name": "LayoutView",
      "align_content": null,
      "align_items": null,
      "align_self": null,
      "border": null,
      "bottom": null,
      "display": null,
      "flex": null,
      "flex_flow": null,
      "grid_area": null,
      "grid_auto_columns": null,
      "grid_auto_flow": null,
      "grid_auto_rows": null,
      "grid_column": null,
      "grid_gap": null,
      "grid_row": null,
      "grid_template_areas": null,
      "grid_template_columns": null,
      "grid_template_rows": null,
      "height": null,
      "justify_content": null,
      "justify_items": null,
      "left": null,
      "margin": null,
      "max_height": null,
      "max_width": null,
      "min_height": null,
      "min_width": null,
      "object_fit": null,
      "object_position": null,
      "order": null,
      "overflow": null,
      "overflow_x": null,
      "overflow_y": null,
      "padding": null,
      "right": null,
      "top": null,
      "visibility": null,
      "width": null
     }
    },
    "c79984b3b0a842efb76b3b7ad841484e": {
     "model_module": "@jupyter-widgets/controls",
     "model_module_version": "1.5.0",
     "model_name": "ProgressStyleModel",
     "state": {
      "_model_module": "@jupyter-widgets/controls",
      "_model_module_version": "1.5.0",
      "_model_name": "ProgressStyleModel",
      "_view_count": null,
      "_view_module": "@jupyter-widgets/base",
      "_view_module_version": "1.2.0",
      "_view_name": "StyleView",
      "bar_color": null,
      "description_width": ""
     }
    },
    "d9616528fee546ea8a3d066b953e5172": {
     "model_module": "@jupyter-widgets/base",
     "model_module_version": "1.2.0",
     "model_name": "LayoutModel",
     "state": {
      "_model_module": "@jupyter-widgets/base",
      "_model_module_version": "1.2.0",
      "_model_name": "LayoutModel",
      "_view_count": null,
      "_view_module": "@jupyter-widgets/base",
      "_view_module_version": "1.2.0",
      "_view_name": "LayoutView",
      "align_content": null,
      "align_items": null,
      "align_self": null,
      "border": null,
      "bottom": null,
      "display": null,
      "flex": null,
      "flex_flow": null,
      "grid_area": null,
      "grid_auto_columns": null,
      "grid_auto_flow": null,
      "grid_auto_rows": null,
      "grid_column": null,
      "grid_gap": null,
      "grid_row": null,
      "grid_template_areas": null,
      "grid_template_columns": null,
      "grid_template_rows": null,
      "height": null,
      "justify_content": null,
      "justify_items": null,
      "left": null,
      "margin": null,
      "max_height": null,
      "max_width": null,
      "min_height": null,
      "min_width": null,
      "object_fit": null,
      "object_position": null,
      "order": null,
      "overflow": null,
      "overflow_x": null,
      "overflow_y": null,
      "padding": null,
      "right": null,
      "top": null,
      "visibility": null,
      "width": null
     }
    },
    "db0b1417eef04360b0f340be80bebe77": {
     "model_module": "@jupyter-widgets/controls",
     "model_module_version": "1.5.0",
     "model_name": "DescriptionStyleModel",
     "state": {
      "_model_module": "@jupyter-widgets/controls",
      "_model_module_version": "1.5.0",
      "_model_name": "DescriptionStyleModel",
      "_view_count": null,
      "_view_module": "@jupyter-widgets/base",
      "_view_module_version": "1.2.0",
      "_view_name": "StyleView",
      "description_width": ""
     }
    },
    "de4ef222413c405b8cb7d755eedc2150": {
     "model_module": "@jupyter-widgets/controls",
     "model_module_version": "1.5.0",
     "model_name": "FloatProgressModel",
     "state": {
      "_dom_classes": [],
      "_model_module": "@jupyter-widgets/controls",
      "_model_module_version": "1.5.0",
      "_model_name": "FloatProgressModel",
      "_view_count": null,
      "_view_module": "@jupyter-widgets/controls",
      "_view_module_version": "1.5.0",
      "_view_name": "ProgressView",
      "bar_style": "success",
      "description": "",
      "description_tooltip": null,
      "layout": "IPY_MODEL_88e5a274dca146ee8025b32104f69d8b",
      "max": 16,
      "min": 0,
      "orientation": "horizontal",
      "style": "IPY_MODEL_c79984b3b0a842efb76b3b7ad841484e",
      "value": 16
     }
    },
    "ea9baf580f604208affdd0d051e34dd9": {
     "model_module": "@jupyter-widgets/controls",
     "model_module_version": "1.5.0",
     "model_name": "HTMLModel",
     "state": {
      "_dom_classes": [],
      "_model_module": "@jupyter-widgets/controls",
      "_model_module_version": "1.5.0",
      "_model_name": "HTMLModel",
      "_view_count": null,
      "_view_module": "@jupyter-widgets/controls",
      "_view_module_version": "1.5.0",
      "_view_name": "HTMLView",
      "description": "",
      "description_tooltip": null,
      "layout": "IPY_MODEL_f1880de7dbc34a6381681fb40e909f60",
      "placeholder": "​",
      "style": "IPY_MODEL_5f4261b7a8eb46b7b21b4a1c2f909350",
      "value": "100%"
     }
    },
    "f1880de7dbc34a6381681fb40e909f60": {
     "model_module": "@jupyter-widgets/base",
     "model_module_version": "1.2.0",
     "model_name": "LayoutModel",
     "state": {
      "_model_module": "@jupyter-widgets/base",
      "_model_module_version": "1.2.0",
      "_model_name": "LayoutModel",
      "_view_count": null,
      "_view_module": "@jupyter-widgets/base",
      "_view_module_version": "1.2.0",
      "_view_name": "LayoutView",
      "align_content": null,
      "align_items": null,
      "align_self": null,
      "border": null,
      "bottom": null,
      "display": null,
      "flex": null,
      "flex_flow": null,
      "grid_area": null,
      "grid_auto_columns": null,
      "grid_auto_flow": null,
      "grid_auto_rows": null,
      "grid_column": null,
      "grid_gap": null,
      "grid_row": null,
      "grid_template_areas": null,
      "grid_template_columns": null,
      "grid_template_rows": null,
      "height": null,
      "justify_content": null,
      "justify_items": null,
      "left": null,
      "margin": null,
      "max_height": null,
      "max_width": null,
      "min_height": null,
      "min_width": null,
      "object_fit": null,
      "object_position": null,
      "order": null,
      "overflow": null,
      "overflow_x": null,
      "overflow_y": null,
      "padding": null,
      "right": null,
      "top": null,
      "visibility": null,
      "width": null
     }
    }
   }
  }
 },
 "nbformat": 4,
 "nbformat_minor": 1
}
