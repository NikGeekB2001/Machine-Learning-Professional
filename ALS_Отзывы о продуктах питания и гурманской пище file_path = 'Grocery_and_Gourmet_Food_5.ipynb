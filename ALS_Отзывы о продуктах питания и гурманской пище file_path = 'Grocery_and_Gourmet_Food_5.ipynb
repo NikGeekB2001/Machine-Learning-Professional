{
 "cells": [
  {
   "cell_type": "markdown",
   "metadata": {},
   "source": [
    "### Отзывы о продуктах питания и гурманской пище file_path = 'Grocery_and_Gourmet_Food_5"
   ]
  },
  {
   "cell_type": "markdown",
   "metadata": {},
   "source": [
    "- Рекомендательные системы — это комплекс сервисов и программ, который анализирует предпочтения пользователей и пытается предсказать, что может их заинтересовать. Они помогают клиентам определиться с выбором товара или контента, а также повышают лояльность, конверсию и средний чек интернет-магазинов, предприятий быстрого питания, телекоммуникационных и финансовых организаций.\n",
    "- Существует два основных типа рекомендательных систем: контентно-ориентированная и коллаборативная фильтрация.\n",
    "- Контентно-ориентированная фильтрация основана на анализе характеристик товаров и предпочтениях пользователя. Система анализирует содержание товаров, такие как текстовые описания, категории, ключевые слова и т. д., и сопоставляет их с предпочтениями пользователя. На основе этого анализа система предлагает рекомендации, соответствующие интересам пользователя.\n",
    "- Коллаборативная фильтрация рекомендует продукты как на основе оценок самого покупателя, так и на основе явных и неявных предпочтений других пользователей. Например, если вы купили стиральную машину, то коллаборативная система предложит товары, которыми интересовались другие покупатели стиральных машин, а не машину другого бренда.\n",
    "- Универсальных методов не существует, и всё чаще применяется гибридный подход, который сочетает методы для получения максимально точных рекомендаций на имеющихся данных и при минимальных затратах времени."
   ]
  },
  {
   "cell_type": "markdown",
   "metadata": {},
   "source": [
    "- Alternating Least Squares (ALS) — это метод матричной факторизации, который используется в рекомендательных системах для предсказания предпочтений пользователей. ALS работает путем разложения исходной матрицы рейтингов на две меньшие матрицы: одну для пользователей, которая представляет их личные предпочтения, и другую для товаров, которая представляет характеристики товаров.\n",
    "- Алгоритм ALS работает в два шага, которые чередуются:\n",
    "- Итерация по пользователям: Матрица товаров фиксируется, а матрица пользователей обновляется таким образом, чтобы минимизировать ошибку между рейтингами пользователей и предсказанными рейтингами, основанными на текущем состоянии матрицы товаров.\n",
    "- Итерация по товарам: Матрица пользователей фиксируется, а матрица товаров обновляется аналогичным образом, чтобы минимизировать ошибку между рейтингами товаров и предсказанными рейтингами, основанными на текущем состоянии матрицы пользователей.\n",
    "- Этот процесс повторяется до тех пор, пока не будет достигнута достаточная точность или не будет выполнено максимальное количество итераций. ALS также включает регуляризацию, чтобы предотвратить переобучение и улучшить обобщающую способность модели.\n",
    "- ALS особенно эффективен для работы с большими наборами данных и может быть распараллелен для ускорения процесса обучения на кластерах машин. Это делает ALS подходящим выбором для рекомендательных систем, где требуется обработка больших объемов данных/"
   ]
  },
  {
   "cell_type": "markdown",
   "metadata": {},
   "source": [
    "- Скачаем набор данных Amazon, который включает отзывы пользователей о различных продуктах. Данные предоставляются в формате JSON и могут быть использованы для экспериментов и анализа данных.\n",
    "- \"5-core\" и \"ratings only\" относятся к двум разным типам данных, доступных на сайте Amazon Review Data.\n",
    "- \"5-core\" относится к подмножеству данных, в котором каждое из оставшихся пользователей и элементов имеет 5 отзывов каждый. Это означает, что если у пользователя было менее 5 отзывов, он был исключен из этого набора данных. Эти данные обычно используются для экспериментов, где требуется большое количество отзывов от каждого пользователя и каждого товара.\n",
    "- \"ratings only\" относится к набору данных, который включает только кортежи (item, user, rating, timestamp). \n",
    "- Каждый поднабор включает информацию об отзывах пользователей, такую как рейтинг, время отзыва, идентификатор отзывателя и текст отзыва. Это означает, что в этих данных нет метаданных или самих отзывов, они включают только рейтинги. "
   ]
  },
  {
   "cell_type": "code",
   "execution_count": 2,
   "metadata": {},
   "outputs": [
    {
     "data": {
      "text/html": [
       "<style>.container { width:90% !important; }</style>"
      ],
      "text/plain": [
       "<IPython.core.display.HTML object>"
      ]
     },
     "metadata": {},
     "output_type": "display_data"
    }
   ],
   "source": [
    "# Установка ширины контейнера для отображения\n",
    "from IPython.display import display, HTML\n",
    "display(HTML(\"<style>.container { width:90% !important; }</style>\"))"
   ]
  },
  {
   "cell_type": "code",
   "execution_count": 3,
   "metadata": {},
   "outputs": [],
   "source": [
    "# Импорт библиотеки pandas для работы с данными в формате DataFrame\n",
    "import pandas as pd\n",
    "\n",
    "# Импорт модуля scipy.sparse для работы с разреженными матрицами\n",
    "import scipy.sparse as sparse\n",
    "\n",
    "# Импорт библиотеки numpy для выполнения математических операций\n",
    "import numpy as np\n",
    "\n",
    "# Импорт функции spsolve из модуля scipy.sparse.linalg для решения систем линейных уравнений\n",
    "from scipy.sparse.linalg import spsolve\n",
    "\n",
    "# Импорт модуля warnings для управления предупреждениями\n",
    "import warnings\n",
    "\n",
    "# Отключение предупреждений, которые могут появляться при выполнении кода\n",
    "# Это может быть полезно, если вы хотите избежать прерывания выполнения кода из-за предупреждений\n",
    "warnings.filterwarnings(\"ignore\")"
   ]
  },
  {
   "cell_type": "code",
   "execution_count": 4,
   "metadata": {
    "id": "hESX_-JVqouT"
   },
   "outputs": [
    {
     "name": "stdout",
     "output_type": "stream",
     "text": [
      "   overall  verified   reviewTime      reviewerID        asin  \\\n",
      "0        5      True  11 19, 2014  A1QVBUH9E1V6I8  4639725183   \n",
      "1        5      True  10 13, 2016  A3GEOILWLK86XM  4639725183   \n",
      "2        5      True  11 21, 2015  A32RD6L701BIGP  4639725183   \n",
      "3        5      True  08 12, 2015  A2UY1O1FBGKIE6  4639725183   \n",
      "4        5      True  05 28, 2015  A3QHVBQYDV7Z6U  4639725183   \n",
      "\n",
      "      reviewerName                                         reviewText  \\\n",
      "0   Jamshed Mathur                                No adverse comment.   \n",
      "1        itsjustme                          Gift for college student.   \n",
      "2  Krystal Clifton  If you like strong tea, this is for you. It mi...   \n",
      "3          U. Kane  Love the tea. The flavor is way better than th...   \n",
      "4         The Nana  I have searched everywhere until I browsed Ama...   \n",
      "\n",
      "                         summary  unixReviewTime vote style image  \n",
      "0                     Five Stars      1416355200  NaN   NaN   NaN  \n",
      "1                 Great product.      1476316800  NaN   NaN   NaN  \n",
      "2                         Strong      1448064000  NaN   NaN   NaN  \n",
      "3                      Great tea      1439337600  NaN   NaN   NaN  \n",
      "4  This is the tea I remembered!      1432771200  NaN   NaN   NaN  \n"
     ]
    }
   ],
   "source": [
    "import pandas as pd\n",
    "\n",
    "# Путь к файлу с отзывами о продуктах питания и гурманской пище\n",
    "file_path = 'Grocery_and_Gourmet_Food_5.json.gz' \n",
    "\n",
    "# Чтение JSON файла по частям с использованием chunksize\n",
    "chunk_size =  10000  # Размер части данных для чтения за один раз\n",
    "chunks = []\n",
    "\n",
    "for chunk in pd.read_json(file_path, lines=True, chunksize=chunk_size):\n",
    "    chunks.append(chunk)\n",
    "\n",
    "# Объединение всех частей в один DataFrame\n",
    "retail_data = pd.concat(chunks, ignore_index=True)\n",
    "\n",
    "# Вывод первых пяти строк DataFrame\n",
    "print(retail_data.head())\n"
   ]
  },
  {
   "cell_type": "code",
   "execution_count": 5,
   "metadata": {
    "colab": {
     "base_uri": "https://localhost:8080/",
     "height": 206
    },
    "id": "2LEdNNXPqouU",
    "outputId": "3c023f56-3c0e-4456-caf9-10e83813b9d7"
   },
   "outputs": [
    {
     "data": {
      "text/html": [
       "<div>\n",
       "<style scoped>\n",
       "    .dataframe tbody tr th:only-of-type {\n",
       "        vertical-align: middle;\n",
       "    }\n",
       "\n",
       "    .dataframe tbody tr th {\n",
       "        vertical-align: top;\n",
       "    }\n",
       "\n",
       "    .dataframe thead th {\n",
       "        text-align: right;\n",
       "    }\n",
       "</style>\n",
       "<table border=\"1\" class=\"dataframe\">\n",
       "  <thead>\n",
       "    <tr style=\"text-align: right;\">\n",
       "      <th></th>\n",
       "      <th>overall</th>\n",
       "      <th>verified</th>\n",
       "      <th>reviewTime</th>\n",
       "      <th>reviewerID</th>\n",
       "      <th>asin</th>\n",
       "      <th>reviewerName</th>\n",
       "      <th>reviewText</th>\n",
       "      <th>summary</th>\n",
       "      <th>unixReviewTime</th>\n",
       "      <th>vote</th>\n",
       "      <th>style</th>\n",
       "      <th>image</th>\n",
       "    </tr>\n",
       "  </thead>\n",
       "  <tbody>\n",
       "    <tr>\n",
       "      <th>0</th>\n",
       "      <td>5</td>\n",
       "      <td>True</td>\n",
       "      <td>11 19, 2014</td>\n",
       "      <td>A1QVBUH9E1V6I8</td>\n",
       "      <td>4639725183</td>\n",
       "      <td>Jamshed Mathur</td>\n",
       "      <td>No adverse comment.</td>\n",
       "      <td>Five Stars</td>\n",
       "      <td>1416355200</td>\n",
       "      <td>NaN</td>\n",
       "      <td>NaN</td>\n",
       "      <td>NaN</td>\n",
       "    </tr>\n",
       "    <tr>\n",
       "      <th>1</th>\n",
       "      <td>5</td>\n",
       "      <td>True</td>\n",
       "      <td>10 13, 2016</td>\n",
       "      <td>A3GEOILWLK86XM</td>\n",
       "      <td>4639725183</td>\n",
       "      <td>itsjustme</td>\n",
       "      <td>Gift for college student.</td>\n",
       "      <td>Great product.</td>\n",
       "      <td>1476316800</td>\n",
       "      <td>NaN</td>\n",
       "      <td>NaN</td>\n",
       "      <td>NaN</td>\n",
       "    </tr>\n",
       "    <tr>\n",
       "      <th>2</th>\n",
       "      <td>5</td>\n",
       "      <td>True</td>\n",
       "      <td>11 21, 2015</td>\n",
       "      <td>A32RD6L701BIGP</td>\n",
       "      <td>4639725183</td>\n",
       "      <td>Krystal Clifton</td>\n",
       "      <td>If you like strong tea, this is for you. It mi...</td>\n",
       "      <td>Strong</td>\n",
       "      <td>1448064000</td>\n",
       "      <td>NaN</td>\n",
       "      <td>NaN</td>\n",
       "      <td>NaN</td>\n",
       "    </tr>\n",
       "    <tr>\n",
       "      <th>3</th>\n",
       "      <td>5</td>\n",
       "      <td>True</td>\n",
       "      <td>08 12, 2015</td>\n",
       "      <td>A2UY1O1FBGKIE6</td>\n",
       "      <td>4639725183</td>\n",
       "      <td>U. Kane</td>\n",
       "      <td>Love the tea. The flavor is way better than th...</td>\n",
       "      <td>Great tea</td>\n",
       "      <td>1439337600</td>\n",
       "      <td>NaN</td>\n",
       "      <td>NaN</td>\n",
       "      <td>NaN</td>\n",
       "    </tr>\n",
       "    <tr>\n",
       "      <th>4</th>\n",
       "      <td>5</td>\n",
       "      <td>True</td>\n",
       "      <td>05 28, 2015</td>\n",
       "      <td>A3QHVBQYDV7Z6U</td>\n",
       "      <td>4639725183</td>\n",
       "      <td>The Nana</td>\n",
       "      <td>I have searched everywhere until I browsed Ama...</td>\n",
       "      <td>This is the tea I remembered!</td>\n",
       "      <td>1432771200</td>\n",
       "      <td>NaN</td>\n",
       "      <td>NaN</td>\n",
       "      <td>NaN</td>\n",
       "    </tr>\n",
       "  </tbody>\n",
       "</table>\n",
       "</div>"
      ],
      "text/plain": [
       "   overall  verified   reviewTime      reviewerID        asin  \\\n",
       "0        5      True  11 19, 2014  A1QVBUH9E1V6I8  4639725183   \n",
       "1        5      True  10 13, 2016  A3GEOILWLK86XM  4639725183   \n",
       "2        5      True  11 21, 2015  A32RD6L701BIGP  4639725183   \n",
       "3        5      True  08 12, 2015  A2UY1O1FBGKIE6  4639725183   \n",
       "4        5      True  05 28, 2015  A3QHVBQYDV7Z6U  4639725183   \n",
       "\n",
       "      reviewerName                                         reviewText  \\\n",
       "0   Jamshed Mathur                                No adverse comment.   \n",
       "1        itsjustme                          Gift for college student.   \n",
       "2  Krystal Clifton  If you like strong tea, this is for you. It mi...   \n",
       "3          U. Kane  Love the tea. The flavor is way better than th...   \n",
       "4         The Nana  I have searched everywhere until I browsed Ama...   \n",
       "\n",
       "                         summary  unixReviewTime vote style image  \n",
       "0                     Five Stars      1416355200  NaN   NaN   NaN  \n",
       "1                 Great product.      1476316800  NaN   NaN   NaN  \n",
       "2                         Strong      1448064000  NaN   NaN   NaN  \n",
       "3                      Great tea      1439337600  NaN   NaN   NaN  \n",
       "4  This is the tea I remembered!      1432771200  NaN   NaN   NaN  "
      ]
     },
     "execution_count": 5,
     "metadata": {},
     "output_type": "execute_result"
    }
   ],
   "source": [
    "# Прочитаем 5 строк\n",
    "retail_data.head()"
   ]
  },
  {
   "cell_type": "markdown",
   "metadata": {},
   "source": [
    "- Используем библиотеку pandas для чтения данных из сжатого JSON файла с отзывами о продуктах питания и гурманской пище. \n",
    "- ниже представлен перевод на русский язык:\n",
    "- overall — общий рейтинг товара.\n",
    "- verified — флаг подтверждения отзыва.\n",
    "- reviewTime — время отзыва в читаемом формате.\n",
    "- reviewerID — идентификатор пользователя-автора отзыва.\n",
    "- asin — идентификатор товара Amazon Standard Identification Number.\n",
    "- reviewerName — имя пользователя-автора отзыва.\n",
    "- reviewText — текст отзыва.\n",
    "- summary — краткое содержание отзыва.\n",
    "- unixReviewTime — время отзыва в формате Unix timestamp.\n",
    "- vote — количество полезных голосов для отзыва.\n",
    "- style — метаданные товара (например, формат, цвет и т.д.).\n",
    "- image — изображения, добавленные пользователем после получения товара."
   ]
  },
  {
   "cell_type": "markdown",
   "metadata": {
    "id": "VF1_ETYoqouU"
   },
   "source": [
    "\n",
    "- Проверим, нет ли в данных недостающих значений."
   ]
  },
  {
   "cell_type": "code",
   "execution_count": 6,
   "metadata": {
    "colab": {
     "base_uri": "https://localhost:8080/"
    },
    "id": "DsbE9-6qqouU",
    "outputId": "e431a0c3-9e58-4ab0-87a3-cd11456a6957"
   },
   "outputs": [
    {
     "name": "stdout",
     "output_type": "stream",
     "text": [
      "<class 'pandas.core.frame.DataFrame'>\n",
      "RangeIndex: 1143860 entries, 0 to 1143859\n",
      "Data columns (total 12 columns):\n",
      " #   Column          Non-Null Count    Dtype \n",
      "---  ------          --------------    ----- \n",
      " 0   overall         1143860 non-null  int64 \n",
      " 1   verified        1143860 non-null  bool  \n",
      " 2   reviewTime      1143860 non-null  object\n",
      " 3   reviewerID      1143860 non-null  object\n",
      " 4   asin            1143860 non-null  object\n",
      " 5   reviewerName    1143722 non-null  object\n",
      " 6   reviewText      1143470 non-null  object\n",
      " 7   summary         1143641 non-null  object\n",
      " 8   unixReviewTime  1143860 non-null  int64 \n",
      " 9   vote            158202 non-null   object\n",
      " 10  style           592086 non-null   object\n",
      " 11  image           9510 non-null     object\n",
      "dtypes: bool(1), int64(2), object(9)\n",
      "memory usage: 97.1+ MB\n"
     ]
    }
   ],
   "source": [
    "# Просмотр информации\n",
    "retail_data.info()"
   ]
  },
  {
   "cell_type": "markdown",
   "metadata": {
    "id": "5W88wlYBqouV"
   },
   "source": [
    "- У нас нет пропущенных значений, и все покупки могут быть сопоставлены с конкретным клиентом.\n"
   ]
  },
  {
   "cell_type": "code",
   "execution_count": 7,
   "metadata": {
    "id": "70ZDvpBkqouV"
   },
   "outputs": [],
   "source": [
    "#cleaned_retail = retail_data.loc[pd.isnull(retail_data.reviewerID) == False]\n",
    "cleaned_retail = retail_data # переменуем переменную для удобства"
   ]
  },
  {
   "cell_type": "code",
   "execution_count": 8,
   "metadata": {
    "colab": {
     "base_uri": "https://localhost:8080/"
    },
    "id": "JXOaFbMjqouV",
    "outputId": "f408a7e1-cb2e-431d-d1f0-e9ae2c2ce240",
    "scrolled": true
   },
   "outputs": [
    {
     "name": "stdout",
     "output_type": "stream",
     "text": [
      "<class 'pandas.core.frame.DataFrame'>\n",
      "RangeIndex: 1143860 entries, 0 to 1143859\n",
      "Data columns (total 12 columns):\n",
      " #   Column          Non-Null Count    Dtype \n",
      "---  ------          --------------    ----- \n",
      " 0   overall         1143860 non-null  int64 \n",
      " 1   verified        1143860 non-null  bool  \n",
      " 2   reviewTime      1143860 non-null  object\n",
      " 3   reviewerID      1143860 non-null  object\n",
      " 4   asin            1143860 non-null  object\n",
      " 5   reviewerName    1143722 non-null  object\n",
      " 6   reviewText      1143470 non-null  object\n",
      " 7   summary         1143641 non-null  object\n",
      " 8   unixReviewTime  1143860 non-null  int64 \n",
      " 9   vote            158202 non-null   object\n",
      " 10  style           592086 non-null   object\n",
      " 11  image           9510 non-null     object\n",
      "dtypes: bool(1), int64(2), object(9)\n",
      "memory usage: 97.1+ MB\n"
     ]
    }
   ],
   "source": [
    "# Просмотр информации\n",
    "cleaned_retail.info()"
   ]
  },
  {
   "cell_type": "markdown",
   "metadata": {
    "id": "4fjFOdrsqouV"
   },
   "source": [
    "- Прежде чем мы сделаем какую-либо матрицу рейтингов, было бы неплохо иметь таблицу поиска, в которой отслеживался бы идентификатор каждого товара вместе с его описанием. \n",
    "- Возьмём\n",
    "- asin — идентификатор товара Amazon Standard Identification Number.\n",
    "- reviewText — текст отзыва."
   ]
  },
  {
   "cell_type": "code",
   "execution_count": 9,
   "metadata": {
    "id": "7ealy-RVqouV"
   },
   "outputs": [],
   "source": [
    "# DataFrame под названием cleaned_retail\n",
    "# Создаем временный DataFrame item_lookup, который содержит только столбцы 'asin' и 'reviewText'\n",
    "# Используем метод drop_duplicates() для удаления дубликатов в этом временном DataFrame\n",
    "item_lookup = cleaned_retail[['asin', 'reviewText']].drop_duplicates()\n",
    "\n",
    "# 'asin' является столбцом в исходном DataFrame, который мы хотим преобразовать в строку\n",
    "# Используем метод astype(str) для преобразования данных в столбце 'asin' в строковый формат\n",
    "# Затем присваиваем преобразованные данные обратно в столбец 'asin' в DataFrame item_lookup\n",
    "item_lookup['asin'] = item_lookup.asin.astype(str)\n",
    "\n",
    "# Теперь у нас есть DataFrame item_lookup, который содержит уникальные комбинации 'asin' и 'reviewText'\n",
    "# И все значения в столбце 'asin' преобразованы в строковый формат"
   ]
  },
  {
   "cell_type": "code",
   "execution_count": 10,
   "metadata": {
    "colab": {
     "base_uri": "https://localhost:8080/",
     "height": 206
    },
    "id": "5tr_rvIiqouW",
    "outputId": "f7578035-28aa-40e6-e270-95589adcc38a"
   },
   "outputs": [
    {
     "data": {
      "text/html": [
       "<div>\n",
       "<style scoped>\n",
       "    .dataframe tbody tr th:only-of-type {\n",
       "        vertical-align: middle;\n",
       "    }\n",
       "\n",
       "    .dataframe tbody tr th {\n",
       "        vertical-align: top;\n",
       "    }\n",
       "\n",
       "    .dataframe thead th {\n",
       "        text-align: right;\n",
       "    }\n",
       "</style>\n",
       "<table border=\"1\" class=\"dataframe\">\n",
       "  <thead>\n",
       "    <tr style=\"text-align: right;\">\n",
       "      <th></th>\n",
       "      <th>asin</th>\n",
       "      <th>reviewText</th>\n",
       "    </tr>\n",
       "  </thead>\n",
       "  <tbody>\n",
       "    <tr>\n",
       "      <th>0</th>\n",
       "      <td>4639725183</td>\n",
       "      <td>No adverse comment.</td>\n",
       "    </tr>\n",
       "    <tr>\n",
       "      <th>1</th>\n",
       "      <td>4639725183</td>\n",
       "      <td>Gift for college student.</td>\n",
       "    </tr>\n",
       "    <tr>\n",
       "      <th>2</th>\n",
       "      <td>4639725183</td>\n",
       "      <td>If you like strong tea, this is for you. It mi...</td>\n",
       "    </tr>\n",
       "    <tr>\n",
       "      <th>3</th>\n",
       "      <td>4639725183</td>\n",
       "      <td>Love the tea. The flavor is way better than th...</td>\n",
       "    </tr>\n",
       "    <tr>\n",
       "      <th>4</th>\n",
       "      <td>4639725183</td>\n",
       "      <td>I have searched everywhere until I browsed Ama...</td>\n",
       "    </tr>\n",
       "  </tbody>\n",
       "</table>\n",
       "</div>"
      ],
      "text/plain": [
       "         asin                                         reviewText\n",
       "0  4639725183                                No adverse comment.\n",
       "1  4639725183                          Gift for college student.\n",
       "2  4639725183  If you like strong tea, this is for you. It mi...\n",
       "3  4639725183  Love the tea. The flavor is way better than th...\n",
       "4  4639725183  I have searched everywhere until I browsed Ama..."
      ]
     },
     "execution_count": 10,
     "metadata": {},
     "output_type": "execute_result"
    }
   ],
   "source": [
    "# Просматриваем матрицу, где ID товара \n",
    "item_lookup.head()"
   ]
  },
  {
   "cell_type": "markdown",
   "metadata": {},
   "source": [
    "- Из представленных транзакций, транзакция с reviewText \"No adverse comment.\" может быть нерелевантна для рекомендательной системы, так как она не предоставляет конкретной информации о предпочтениях пользователя.\n",
    "- Рекомендательные системы обычно основываются на отзывах, которые содержат полезную информацию о предпочтениях пользователя, такую как оценки, обзоры или описания.\n",
    "- Транзакции, которые содержат конкретные отзывы, такие как \"Gift for college student.\" или \"If you like strong tea, this is for you. It mi...\", могут быть более полезными для рекомендательной системы, так как они предоставляют конкретные данные о предпочтениях пользователя и могут быть использованы для предсказания его интересов. "
   ]
  },
  {
   "cell_type": "markdown",
   "metadata": {
    "id": "m0wAQ878qouW"
   },
   "source": [
    "Это может сказать нам, что каждый предмет, например, 4639725183 коммент - Если вы любите крепкий чай, это для вас.. Теперь, когда он создан, нам нужно:\n",
    "\n",
    "- Групповое количество покупок вместе по коду и идентификатору товара\n",
    "- Выкинуть фейковую транзакцию `No adverse comment`, соотвествующую печати чека и присутвующую во всех покупках\n",
    "- Изменить любые суммы, равные нулю на единицу (это может произойти, если товар был возвращен, но мы хотим указать, что пользователь действительно приобрел товар, вместо того, чтобы предполагать, что взаимодействие между пользователем и товаром никогда не происходило).\n",
    "- Определяем:\n",
    "- vote — количество полезных голосов для отзыва.\n",
    "- reviewerID — идентификатор пользователя-автора отзыва\n",
    "- asin — идентификатор товара Amazon Standard Identification Number."
   ]
  },
  {
   "cell_type": "markdown",
   "metadata": {},
   "source": [
    "Этот последний шаг особенно важен, если вы не хотите иметь ненужных проблем с памятью! Если подумать, то наша матрица будет содержать тысячи элементов и тысячи пользователей со значением \"пользователь/элемент\", необходимым для каждой возможной комбинации. Это БОЛЬШАЯ матрица, поэтому мы можем сэкономить много памяти, сохраняя только те места и значения элементов, которые не являются нулевыми.\n",
    "\n",
    "Приведенный ниже код завершит шаги препроцессирования, необходимые для нашей матрицы с разреженными итоговыми рейтингами:"
   ]
  },
  {
   "cell_type": "code",
   "execution_count": 11,
   "metadata": {
    "colab": {
     "base_uri": "https://localhost:8080/",
     "height": 81
    },
    "id": "zxlF6IfSAgUO",
    "outputId": "b4684067-8a8b-482f-ad74-0b87601c1464"
   },
   "outputs": [],
   "source": [
    "# Выбор строк DataFrame, где столбец 'Description' равен 'No adverse comment'\n",
    "# Это делается с помощью булевой индексации, где условие 'reviewText == 'No adverse comment'' возвращает Series булевых значений\n",
    "# С помощью этого Series фильтруются строки DataFrame\n",
    "filtered_items = item_lookup[item_lookup.reviewText == 'No adverse comment']\n",
    "\n",
    "# Теперь filtered_items содержит только те строки из item_lookup, где 'reviewText' равен 'No adverse comment'\n",
    "# Мы можем работать с filtered_items, как с обычным DataFrame"
   ]
  },
  {
   "cell_type": "markdown",
   "metadata": {},
   "source": [
    "- Определяем:\n",
    "- vote — количество полезных голосов для отзыва.\n",
    "- reviewerID — идентификатор пользователя-автора отзыва\n",
    "- asin — идентификатор товара Amazon Standard Identification Number."
   ]
  },
  {
   "cell_type": "code",
   "execution_count": 12,
   "metadata": {},
   "outputs": [],
   "source": [
    "# Выполняем серию операций с DataFrame cleaned_retail, включая фильтрацию, \n",
    "# преобразование типов данных, группировку и фильтрацию данных для подготовки к анализу или моделированию/\n",
    "\n",
    "# cleaned_retail = pd.DataFrame\n",
    "# Фильтрация DataFrame, чтобы оставить только те строки, где столбец 'asin' не равен 'POST'\n",
    "# Это делается с помощью булевой индексации, где условие 'asin != 'POST'' возвращает Series булевых значений\n",
    "# С помощью этого Series фильтруются строки DataFrame\n",
    "cleaned_retail = cleaned_retail[cleaned_retail['asin'] != 'POST']"
   ]
  },
  {
   "cell_type": "code",
   "execution_count": 13,
   "metadata": {},
   "outputs": [],
   "source": [
    "# Преобразование столбца 'reviewerID' в категориальный тип данных\n",
    "# Это делается для оптимизации использования памяти и улучшения производительности при работе с большими наборами данных\n",
    "# Категориальные данные соответствуют категориальным переменным в статистике, которые принимают ограниченное количество возможных значений\n",
    "cleaned_retail['reviewerID'] = cleaned_retail['reviewerID'].astype('category')\n",
    "\n",
    "# Получение кодов категорий для каждого значения в столбце 'reviewerID'\n",
    "# Коды категорий - это целые числа, которые используются для ссылки на реальные значения в массиве категорий\n",
    "# Это позволяет эффективно хранить и обрабатывать категориальные данные, особенно когда у нас есть много уникальных значений\n",
    "cleaned_retail['reviewerID'] = cleaned_retail['reviewerID'].cat.codes\n",
    "\n",
    "# astype('category') преобразует столбец reviewerID в категориальный тип данных, а cat.codes заменяет каждую уникальную категорию на уникальное целое число"
   ]
  },
  {
   "cell_type": "code",
   "execution_count": 14,
   "metadata": {},
   "outputs": [],
   "source": [
    "# Преобразование столбца 'reviewerID' в целочисленный тип данных и присвоение его столбцу 'reviewerID'\n",
    "# Это может быть необходимо для выполнения математических операций или для совместимости с другими данными\n",
    "# cleaned_retail['reviewerID'] = cleaned_retail.reviewerID.astype(int)"
   ]
  },
  {
   "cell_type": "code",
   "execution_count": 15,
   "metadata": {},
   "outputs": [],
   "source": [
    "# Выбор только определенных столбцов из DataFrame: 'asin', 'vote', 'reviewerID'\n",
    "# Это делается для упрощения дальнейшего анализа и уменьшения объема данных\n",
    "cleaned_retail = cleaned_retail[['asin', 'vote', 'reviewerID']]"
   ]
  },
  {
   "cell_type": "code",
   "execution_count": 16,
   "metadata": {},
   "outputs": [],
   "source": [
    "# Группировка данных по 'reviewerID' и 'asin', суммирование 'vote' для каждой группы\n",
    "# reset_index() используется для сброса индекса после группировки, чтобы вернуть DataFrame в обычный вид\n",
    "grouped_cleaned = cleaned_retail.groupby(['reviewerID', 'asin']).sum().reset_index()"
   ]
  },
  {
   "cell_type": "code",
   "execution_count": 17,
   "metadata": {},
   "outputs": [],
   "source": [
    "# Замена всех значений в столбце 'vote', равных  0, на  1\n",
    "# Метод loc используется для выбора строк и столбцов по метке или булевым массивам\n",
    "# grouped_cleaned.vote ==  0 возвращает Series булевых значений, где True соответствует строкам, где 'vote' равен  0\n",
    "# grouped_cleaned.vote.loc[grouped_cleaned.vote ==  0] =  1 заменяет значения в столбце 'vote', где условие выполняется, на  1\n",
    "grouped_cleaned.vote.loc[grouped_cleaned.vote ==  0] =  1"
   ]
  },
  {
   "cell_type": "code",
   "execution_count": 18,
   "metadata": {},
   "outputs": [
    {
     "data": {
      "text/plain": [
       "0    1\n",
       "1    1\n",
       "2    1\n",
       "3    1\n",
       "4    1\n",
       "Name: vote, dtype: object"
      ]
     },
     "execution_count": 18,
     "metadata": {},
     "output_type": "execute_result"
    }
   ],
   "source": [
    "# Посмотрим на тип данных\n",
    "grouped_cleaned.vote.head()"
   ]
  },
  {
   "cell_type": "code",
   "execution_count": 19,
   "metadata": {},
   "outputs": [],
   "source": [
    "# Убедитесь, что столбец 'vote' является строкой\n",
    "grouped_cleaned['vote'] = grouped_cleaned['vote'].astype(str)\n",
    "\n",
    "# Удаление запятых в столбце 'vote'\n",
    "grouped_cleaned['vote'] = grouped_cleaned['vote'].str.replace(',', '')\n",
    "\n",
    "# Преобразование столбца 'vote' в тип данных с плавающей точкой\n",
    "grouped_cleaned['vote'] = grouped_cleaned['vote'].astype(float)\n"
   ]
  },
  {
   "cell_type": "code",
   "execution_count": 20,
   "metadata": {},
   "outputs": [
    {
     "data": {
      "text/plain": [
       "0    1.0\n",
       "1    1.0\n",
       "2    1.0\n",
       "3    1.0\n",
       "4    1.0\n",
       "Name: vote, dtype: float64"
      ]
     },
     "execution_count": 20,
     "metadata": {},
     "output_type": "execute_result"
    }
   ],
   "source": [
    "# Посмотрим на тип данных\n",
    "grouped_cleaned.vote.head()"
   ]
  },
  {
   "cell_type": "code",
   "execution_count": 21,
   "metadata": {},
   "outputs": [],
   "source": [
    "# для преобразования столбца ‘vote’ в числовой формат. Параметр errors='coerce' гарантирует, что любые ошибки при преобразовании \n",
    "# (например, если в столбце есть нечисловые значения) будут приводить к присвоению этим значениям NaN. Затем мы выполняем операцию сравнения как обычно.\n",
    "# Использование функции pd.to_numeric() с параметром errors='coerce' позволяет преобразовать данные в числовой формат, заменяя нечисловые значения на NaN.\n",
    "#grouped_cleaned['vote'] = pd.to_numeric(grouped_cleaned['vote'], errors='coerce')\n"
   ]
  },
  {
   "cell_type": "code",
   "execution_count": 22,
   "metadata": {},
   "outputs": [],
   "source": [
    "# Используем метод query для фильтрации строк DataFrame, где значение в столбце 'vote' больше  0\n",
    "# Метод query принимает строку, которая содержит условия для фильтрации, и возвращает новый DataFrame,\n",
    "# содержащий только те строки, которые удовлетворяют этим условиям\n",
    "# В данном случае, мы хотим оставить только те строки, где 'vote' больше  0\n",
    "grouped_purchased = grouped_cleaned.query('vote >   0')\n",
    "\n",
    "# Теперь grouped_purchased содержит только те строки из grouped_cleaned, где 'vote' больше  0\n",
    "# Это может быть полезно для последующего анализа, так как оно позволяет сосредоточиться только на строках \n",
    "# с положительными оценками"
   ]
  },
  {
   "cell_type": "code",
   "execution_count": 23,
   "metadata": {},
   "outputs": [
    {
     "data": {
      "text/plain": [
       "0    1.0\n",
       "1    1.0\n",
       "2    1.0\n",
       "3    1.0\n",
       "4    1.0\n",
       "Name: vote, dtype: float64"
      ]
     },
     "execution_count": 23,
     "metadata": {},
     "output_type": "execute_result"
    }
   ],
   "source": [
    "grouped_purchased.vote.head()"
   ]
  },
  {
   "cell_type": "markdown",
   "metadata": {
    "id": "67MfR3Wxij6G"
   },
   "source": [
    "- Определяем:\n",
    "- vote — количество полезных голосов для отзыва.\n",
    "- reviewerID — идентификатор пользователя-автора отзыва\n",
    "- asin — идентификатор товара Amazon Standard Identification Number."
   ]
  },
  {
   "cell_type": "code",
   "execution_count": 24,
   "metadata": {},
   "outputs": [
    {
     "data": {
      "text/html": [
       "<div>\n",
       "<style scoped>\n",
       "    .dataframe tbody tr th:only-of-type {\n",
       "        vertical-align: middle;\n",
       "    }\n",
       "\n",
       "    .dataframe tbody tr th {\n",
       "        vertical-align: top;\n",
       "    }\n",
       "\n",
       "    .dataframe thead th {\n",
       "        text-align: right;\n",
       "    }\n",
       "</style>\n",
       "<table border=\"1\" class=\"dataframe\">\n",
       "  <thead>\n",
       "    <tr style=\"text-align: right;\">\n",
       "      <th></th>\n",
       "      <th>reviewerID</th>\n",
       "      <th>asin</th>\n",
       "      <th>vote</th>\n",
       "    </tr>\n",
       "  </thead>\n",
       "  <tbody>\n",
       "    <tr>\n",
       "      <th>0</th>\n",
       "      <td>0</td>\n",
       "      <td>B000HDI5O8</td>\n",
       "      <td>1.0</td>\n",
       "    </tr>\n",
       "    <tr>\n",
       "      <th>1</th>\n",
       "      <td>0</td>\n",
       "      <td>B0013OX8II</td>\n",
       "      <td>1.0</td>\n",
       "    </tr>\n",
       "    <tr>\n",
       "      <th>2</th>\n",
       "      <td>0</td>\n",
       "      <td>B002UGMH9Y</td>\n",
       "      <td>1.0</td>\n",
       "    </tr>\n",
       "    <tr>\n",
       "      <th>3</th>\n",
       "      <td>0</td>\n",
       "      <td>B006RNQ7YW</td>\n",
       "      <td>1.0</td>\n",
       "    </tr>\n",
       "    <tr>\n",
       "      <th>4</th>\n",
       "      <td>1</td>\n",
       "      <td>B000CQE3HS</td>\n",
       "      <td>1.0</td>\n",
       "    </tr>\n",
       "  </tbody>\n",
       "</table>\n",
       "</div>"
      ],
      "text/plain": [
       "   reviewerID        asin  vote\n",
       "0           0  B000HDI5O8   1.0\n",
       "1           0  B0013OX8II   1.0\n",
       "2           0  B002UGMH9Y   1.0\n",
       "3           0  B006RNQ7YW   1.0\n",
       "4           1  B000CQE3HS   1.0"
      ]
     },
     "execution_count": 24,
     "metadata": {},
     "output_type": "execute_result"
    }
   ],
   "source": [
    "# Просмотр матрицы\n",
    "grouped_purchased.head()"
   ]
  },
  {
   "cell_type": "code",
   "execution_count": 25,
   "metadata": {
    "colab": {
     "base_uri": "https://localhost:8080/"
    },
    "id": "sJXxPsKIy4yW",
    "outputId": "c1c39c57-dc66-456b-af39-859d5abdfc64"
   },
   "outputs": [
    {
     "data": {
      "text/plain": [
       "41320"
      ]
     },
     "execution_count": 25,
     "metadata": {},
     "output_type": "execute_result"
    }
   ],
   "source": [
    "# Посмотрим на уникальные значения\n",
    "grouped_purchased.asin.nunique()"
   ]
  },
  {
   "cell_type": "code",
   "execution_count": 26,
   "metadata": {
    "colab": {
     "base_uri": "https://localhost:8080/"
    },
    "id": "iapewkJ0NLF_",
    "outputId": "c6c4690f-a93a-4c02-8891-ba639c4d58a7"
   },
   "outputs": [
    {
     "data": {
      "text/plain": [
       "127496"
      ]
     },
     "execution_count": 26,
     "metadata": {},
     "output_type": "execute_result"
    }
   ],
   "source": [
    "grouped_purchased.reviewerID.nunique()"
   ]
  },
  {
   "cell_type": "code",
   "execution_count": 27,
   "metadata": {
    "colab": {
     "base_uri": "https://localhost:8080/"
    },
    "id": "j08_ejp75L0D",
    "outputId": "bfcd1863-3371-4ebb-de06-fd8a63aaf636"
   },
   "outputs": [
    {
     "data": {
      "text/plain": [
       "23341136"
      ]
     },
     "execution_count": 27,
     "metadata": {},
     "output_type": "execute_result"
    }
   ],
   "source": [
    "2392*9758"
   ]
  },
  {
   "cell_type": "code",
   "execution_count": 28,
   "metadata": {
    "colab": {
     "base_uri": "https://localhost:8080/"
    },
    "id": "HeVhc3EUiiWT",
    "outputId": "451c4326-4f78-47ab-9df0-3e796dd91d03"
   },
   "outputs": [],
   "source": [
    "#!pip install purl"
   ]
  },
  {
   "cell_type": "code",
   "execution_count": 29,
   "metadata": {},
   "outputs": [],
   "source": [
    "# Импорт модуля scipy.sparse для работы с разреженными матрицами\n",
    "import scipy.sparse as sparse\n",
    "\n",
    "# grouped_purchased = pd.DataFrame\n",
    "# Получение уникальных значений из столбца 'reviewerID' и их сортировка\n",
    "# Метод unique() возвращает уникальные значения из столбца DataFrame\n",
    "# Метод sort() из numpy используется для сортировки уникальных значений\n",
    "# Метод list() преобразует результат в список\n",
    "customers = list(np.sort(grouped_purchased.reviewerID.unique()))\n",
    "\n",
    "# Получение уникальных значений из столбца 'asin' и их преобразование в список\n",
    "# Это делается для удобства работы с данными, так как уникальные значения можно использовать для индексации\n",
    "products = list(grouped_purchased.asin.unique())\n",
    "\n",
    "# Получение списка значений столбца 'vote' из DataFrame grouped_purchased\n",
    "# Это делается для создания списка, который можно использовать вместе с уникальными пользователями и товарами\n",
    "quantity = list(grouped_purchased.vote)\n",
    "\n",
    "# Теперь у нас есть три списка: customers, products и vote\n",
    "# Список customers содержит уникальных пользователей, отсортированных в порядке возрастания\n",
    "# Список products содержит уникальные товары\n",
    "# Список quantity содержит количество покупок для каждого товара каждого пользователя\n",
    "# Преобразование столбцов 'reviewerID' и 'asin' в категориальные типы данных\n",
    "# Это делается для улучшения производительности при работе с большими наборами данных\n",
    "rows = grouped_purchased.reviewerID.astype('category').cat.codes\n",
    "cols = grouped_purchased.asin.astype('category').cat.codes\n",
    "\n",
    "# Создание разреженной матрицы с использованием данных из столбца 'vote'\n",
    "# Строки и столбцы матрицы определяются на основе преобразованных категориальных данных\n",
    "# Размер матрицы определяется на основе количества уникальных пользователей и товаров\n",
    "# Значения матрицы берутся из столбца 'vote'\n",
    "purchases_sparse = sparse.csr_matrix((grouped_purchased.vote, (rows, cols)), shape=(len(customers), len(products)))\n",
    "\n",
    "# Теперь у нас есть разреженная матрица purchases_sparse, которая представляет собой матрицу оценок пользователей для товаров\n",
    "# Разреженная матрица эффективна для хранения и обработки больших объемов данных с большим количеством нулей\n"
   ]
  },
  {
   "cell_type": "code",
   "execution_count": 30,
   "metadata": {},
   "outputs": [
    {
     "data": {
      "text/plain": [
       "<127496x41320 sparse matrix of type '<class 'numpy.float64'>'\n",
       "\twith 1065424 stored elements in Compressed Sparse Row format>"
      ]
     },
     "execution_count": 30,
     "metadata": {},
     "output_type": "execute_result"
    }
   ],
   "source": [
    "purchases_sparse"
   ]
  },
  {
   "cell_type": "markdown",
   "metadata": {
    "id": "OhwlkPiiqouW"
   },
   "source": [
    "Вместо того, чтобы представлять явный рейтинг, количество покупки может представлять собой \"уверенность\" в том, насколько сильным было взаимодействие. Товары с большим количеством покупок покупателя могут иметь больший вес в нашей рейтинговой матрице покупок.\n",
    "\n",
    "Наш последний шаг - это создание матрицы разреженных рейтингов пользователей и товаров с помощью приведенного ниже кода:"
   ]
  },
  {
   "cell_type": "markdown",
   "metadata": {},
   "source": [
    "\n",
    "У нас 9758 клиентов с 2392 товарами. Для этих взаимодействий между пользователями и элементами 11645 из них были приобретены. С точки зрения матрицы:"
   ]
  },
  {
   "cell_type": "code",
   "execution_count": 31,
   "metadata": {},
   "outputs": [
    {
     "name": "stdout",
     "output_type": "stream",
     "text": [
      "Sparsity: 99.97977606768568\n"
     ]
    }
   ],
   "source": [
    "# purchases_sparse = sparse.csr_matrix\n",
    "\n",
    "# Вычисление размера матрицы purchases_sparse\n",
    "# Размер матрицы - это количество строк, умноженное на количество столбцов\n",
    "# purchases_sparse.shape возвращает кортеж (количество строк, количество столбцов)\n",
    "matrix_size = purchases_sparse.shape[0] * purchases_sparse.shape[1]\n",
    "\n",
    "# Вычисление количества взаимодействий в матрице purchases_sparse\n",
    "# Метод nonzero() возвращает индексы ненулевых элементов матрицы\n",
    "# len(purchases_sparse.nonzero()[0]) возвращает количество ненулевых элементов\n",
    "num_purchases = len(purchases_sparse.nonzero()[0])\n",
    "\n",
    "# Вычисление разреженности матрицы purchases_sparse\n",
    "# Разреженность - это процентное отношение количества ненулевых элементов к общему числу элементов\n",
    "#  100*(1 - (num_purchases/matrix_size)) вычисляет процентное отношение\n",
    "sparsity =  100 * (1 - (num_purchases / matrix_size))\n",
    "\n",
    "# Вывод разреженности матрицы\n",
    "print(\"Sparsity:\", sparsity)"
   ]
  },
  {
   "cell_type": "markdown",
   "metadata": {
    "id": "SwJQ92tMqouY"
   },
   "source": [
    "- 99,95% матрицы разреженно. Для того, чтобы фильтрация работала, разреженность должна быть меньше чем приблизительно 99.5%. \n"
   ]
  },
  {
   "cell_type": "markdown",
   "metadata": {},
   "source": [
    " - Вычисляем разреженность матрицы purchases_sparse, которая представляет собой матрицу рейтингов пользователей для товаров. Вы вычисляете количество взаимодействий (ненулевых элементов) и общее количество возможных взаимодействий (размер матрицы), а затем вычисляете разреженность как процентное отношение количества взаимодействий к общему количеству элементов"
   ]
  },
  {
   "cell_type": "markdown",
   "metadata": {},
   "source": [
    "Теоритическая справка\n",
    "- Разреженность матрицы — это показатель того, насколько часто в матрице встречаются ненулевые значения. Матрицы с высокой разреженностью обычно более эффективны для хранения и обработки, поскольку они используют меньше памяти и ресурсов для обработки.\n",
    "- Мы вычисляем разреженность матрицы purchases_sparse, которая представляет собой матрицу рейтингов пользователей для товаров. \n",
    "Вычисляем количество взаимодействий (ненулевых элементов) и общее количество возможных взаимодействий (размер матрицы), а затем вычисляем разреженность как процентное отношение количества взаимодействий к общему количеству элементов.\n",
    "- Это может быть полезно для определения, насколько \"полной\" является наша матрица рейтингов, и для выбора подходящих алгоритмов рекомендаций, которые могут работать эффективно с разреженными данными."
   ]
  },
  {
   "cell_type": "markdown",
   "metadata": {},
   "source": [
    "- Вывод:\n",
    "- Наша матрица имеет очень высокий уровень разреженности, что может затруднить применение некоторых методов фильтрации. Разреженность матрицы означает, что большинство ее элементов равны нулю. В вашем случае 99,95% элементов матрицы равны нулю.\n",
    "\n",
    "- Возможно, стоит рассмотреть использование методов, специально предназначенных для работы с разреженными данными. Например, вместо обычных матричных операций мы можем использовать специализированные алгоритмы и структуры данных для разреженных матриц, которые эффективно работают с большим количеством нулевых значений.\n",
    "- Также стоит отметить, что некоторые методы машинного обучения могут работать неправильно или неэффективно на сильно разреженных данных. Возможно, нам придется применить методы уменьшения размерности, такие как PCA (метод главных компонент), чтобы сделать данные менее разреженными.\n",
    "\n",
    "- Наконец, возможно, нам стоит рассмотреть другие критерии фильтрации, которые могут быть более подходящими для вашего случая. "
   ]
  },
  {
   "cell_type": "markdown",
   "metadata": {
    "id": "LoF67mFiqouY"
   },
   "source": [
    "## Создание тренировочного и валидационного сета"
   ]
  },
  {
   "cell_type": "code",
   "execution_count": 32,
   "metadata": {},
   "outputs": [],
   "source": [
    "# Импорт библиотеки random для генерации случайных чисел\n",
    "import random\n",
    "import numpy as np\n",
    "\n",
    "# Функция make_train принимает матрицу рейтингов и процент тестовых данных\n",
    "# и возвращает обучающий и тестовый наборы, а также список уникальных пользователей\n",
    "def make_train(ratings, pct_test=0.2):\n",
    "    # Создание копии тестового набора данных\n",
    "    test_set = ratings.copy()\n",
    "    \n",
    "    # Замена всех ненулевых значений в тестовом наборе на  1\n",
    "    # Это делается для удобства последующего сравнения с обучающим набором\n",
    "    test_set[test_set !=  0] =  1\n",
    "    \n",
    "    # Создание копии обучающего набора данных\n",
    "    training_set = ratings.copy()\n",
    "    \n",
    "    # Получение индексов ненулевых элементов в обучающем наборе\n",
    "    nonzero_inds = training_set.nonzero()\n",
    "    \n",
    "    # Создание списка пар индексов (пользователь, товар) для ненулевых элементов\n",
    "    nonzero_pairs = list(zip(nonzero_inds[0], nonzero_inds[1]))\n",
    "    \n",
    "    # Установка семени для генератора случайных чисел\n",
    "    # Это делается для воспроизводимости результатов\n",
    "    random.seed(0)\n",
    "    \n",
    "    # Вычисление количества тестовых образцов\n",
    "    num_samples = int(np.ceil(pct_test * len(nonzero_pairs)))\n",
    "    \n",
    "    # Выбор случайных тестовых образцов из списка пар индексов\n",
    "    samples = random.sample(nonzero_pairs, num_samples)\n",
    "    \n",
    "    # Извлечение индексов пользователей и товаров из выбранных образцов\n",
    "    user_inds = [index[0] for index in samples]\n",
    "    item_inds = [index[1] for index in samples]\n",
    "    \n",
    "    # Замена выбранных образцов в обучающем наборе на  0\n",
    "    # Это делается для создания \"пустоты\" в обучающем наборе, где рейтинги неизвестны\n",
    "    training_set[user_inds, item_inds] =  0\n",
    "    \n",
    "    # Удаление ненулевых элементов из обучающего набора, которые стали равными  0\n",
    "    training_set.eliminate_zeros()\n",
    "    \n",
    "    # Возвращение обучающего и тестового наборов, а также списка уникальных пользователей\n",
    "    return training_set, test_set, list(set(user_inds))"
   ]
  },
  {
   "cell_type": "markdown",
   "metadata": {
    "id": "64XZDGtaqouZ"
   },
   "source": [
    "Это вернет наш набор для обучения, тестовый набор, который был бинаризован в 0/1 для купленных/не купленных, и список пользователей, у которых по крайней мере один пункт был замаскирован. Мы протестируем работу системы рекомендующих только на этих пользователях. В этом примере я маскирую 20% взаимодействия пользователя с элементом."
   ]
  },
  {
   "cell_type": "code",
   "execution_count": 33,
   "metadata": {},
   "outputs": [],
   "source": [
    "# Разреженная матрица purchases_sparse\n",
    "# purchases_sparse = sparse.csr_matrix\n",
    "\n",
    "# Использование функции make_train для разделения данных\n",
    "# pct_test =  0.2 означает, что  20% данных будут использоваться для тестирования\n",
    "# функция возвращает три объекта: product_train, product_test и product_users_altered\n",
    "# product_train - обучающая выборка данных\n",
    "# product_test - тестовая выборка данных\n",
    "# product_users_altered - возможно, это измененный список пользователей, соответствующий тестовой выборке\n",
    "product_train, product_test, product_users_altered = make_train(purchases_sparse, pct_test=0.2)\n",
    "\n",
    "# Теперь у нас есть обучающая и тестовая выборки, которые можно использовать для обучения и тестирования модели рекомендаций"
   ]
  },
  {
   "cell_type": "code",
   "execution_count": 34,
   "metadata": {
    "id": "NVcvUy_tqouZ"
   },
   "outputs": [],
   "source": [
    "product_train, product_test, product_users_altered = make_train(purchases_sparse, pct_test = 0.2)"
   ]
  },
  {
   "cell_type": "code",
   "execution_count": 35,
   "metadata": {
    "colab": {
     "base_uri": "https://localhost:8080/"
    },
    "id": "j6Fc-RqLqouZ",
    "outputId": "9bfd33c0-2744-40d4-81af-2b7287581100"
   },
   "outputs": [
    {
     "data": {
      "text/plain": [
       "scipy.sparse._csr.csr_matrix"
      ]
     },
     "execution_count": 35,
     "metadata": {},
     "output_type": "execute_result"
    }
   ],
   "source": [
    "# product_train - это DataFrame, содержащий обучающие данные\n",
    "\n",
    "# Вывод типа объекта product_train\n",
    "type(product_train)"
   ]
  },
  {
   "cell_type": "code",
   "execution_count": 36,
   "metadata": {
    "colab": {
     "base_uri": "https://localhost:8080/"
    },
    "id": "6fshfpP0qouZ",
    "outputId": "0e42cd9f-fb02-435c-d8a8-d1f6b78092a4"
   },
   "outputs": [
    {
     "data": {
      "text/plain": [
       "(127496, 41320)"
      ]
     },
     "execution_count": 36,
     "metadata": {},
     "output_type": "execute_result"
    }
   ],
   "source": [
    "# product_train - это матрица рейтингов пользователей для товаров\n",
    "\n",
    "# Получение размерности матрицы product_train\n",
    "# .shape возвращает кортеж (количество строк, количество столбцов)\n",
    "product_train.shape"
   ]
  },
  {
   "cell_type": "markdown",
   "metadata": {
    "id": "gIwQbnGhqouZ"
   },
   "source": [
    "##  ALS"
   ]
  },
  {
   "cell_type": "code",
   "execution_count": 37,
   "metadata": {
    "colab": {
     "base_uri": "https://localhost:8080/"
    },
    "id": "GCvGL-HMxo04",
    "outputId": "d934114a-a2a3-4822-c9a4-ba072410329b"
   },
   "outputs": [],
   "source": [
    "# !pip install implicit\n",
    "#!apt install cuda\n",
    "#!conda install -c conda-forge git+https://github.com/benfred/implicit.git@18a8010b07e8a86f8eb37f837b5bbda11647501f"
   ]
  },
  {
   "cell_type": "markdown",
   "metadata": {},
   "source": [
    "- Теритическая справка\n",
    "- Библиотека implicit является библиотекой Python, которая предоставляет реализацию алгоритма Alternating Least Squares (ALS) для рекомендательных систем.\n",
    "- ALS — это метод матричного факторизации, который используется для обнаружения скрытых структур в данных и может быть применен к рекомендательным системам для предсказания предпочтений пользователей."
   ]
  },
  {
   "cell_type": "code",
   "execution_count": 38,
   "metadata": {
    "id": "CnbR-4hXqoua"
   },
   "outputs": [],
   "source": [
    "# Импорт библиотеки implicit для работы с алгоритмами машинного обучения рекомендаций\n",
    "import implicit"
   ]
  },
  {
   "cell_type": "markdown",
   "metadata": {
    "id": "L_4pq-gxwUEf"
   },
   "source": [
    "**Caution: bag in new ALS version**\n",
    "\n",
    "Обратите внимание, в новой версии `implicit.als.AlternatingLeastSquares` появила поддержка GPU по умолчанию. Однако она пока работает некорректно, и качество полученной модели может оказаться на уровне рандома. Поэтому для надежности использовать GPU не рекомендуется. Для этого необходимо в явном виде задать параметр `use_gpu = False`."
   ]
  },
  {
   "cell_type": "markdown",
   "metadata": {},
   "source": [
    "- Используем библиотеку implicit для обучения модели на основе метода альтернативных наименьших квадратов (ALS). "
   ]
  },
  {
   "cell_type": "code",
   "execution_count": 39,
   "metadata": {},
   "outputs": [
    {
     "data": {
      "application/vnd.jupyter.widget-view+json": {
       "model_id": "152c5c5b90ef4f5bb24424d736685e52",
       "version_major": 2,
       "version_minor": 0
      },
      "text/plain": [
       "  0%|          | 0/50 [00:00<?, ?it/s]"
      ]
     },
     "metadata": {},
     "output_type": "display_data"
    }
   ],
   "source": [
    "# Создание экземпляра модели ALS с заданными параметрами\n",
    "# factors - количество факторов для факторизации матрицы\n",
    "# regularization - параметр регуляризации для предотвращения переобучения\n",
    "# iterations - количество итераций обучения\n",
    "# use_gpu - флаг, указывающий использовать ли GPU для обучения (False означает использование CPU)\n",
    "algo = implicit.als.AlternatingLeastSquares(factors=32, regularization=0.1, iterations=50, use_gpu=False)\n",
    "\n",
    "# Обучение модели на данных, представленных в виде разреженной матрицы (product_train)\n",
    "# .astype('double') преобразует данные в тип double для более точных вычислений\n",
    "algo.fit((product_train).astype('double'))\n"
   ]
  },
  {
   "cell_type": "markdown",
   "metadata": {
    "id": "x6i-YG4y6J6F"
   },
   "source": [
    "В новой версии также надо быть аккуратнее в векторами для юзеров и для айтемов.\n",
    "\n",
    "\n",
    "Вектора для юзеров:\n",
    "```\n",
    "user_vecs = algo.user_factors\n",
    "```\n",
    "\n",
    "Вектора для товаров:\n",
    "```\n",
    "item_vecs = algo.item_factors\n",
    "```\n",
    "\n",
    "\n"
   ]
  },
  {
   "cell_type": "code",
   "execution_count": 40,
   "metadata": {},
   "outputs": [
    {
     "name": "stdout",
     "output_type": "stream",
     "text": [
      "(127496, 41320)\n",
      "(127496, 32) (41320, 32)\n"
     ]
    }
   ],
   "source": [
    "# Получение векторов факторов для пользователей и товаров из обученной модели\n",
    "# user_factors содержит векторы факторов для каждого пользователя\n",
    "# item_factors содержит векторы факторов для каждого товара\n",
    "user_vecs = algo.user_factors\n",
    "item_vecs = algo.item_factors\n",
    "\n",
    "# Проверка размеров матриц, чтобы убедиться, что мы не перепутали пользователей и товары\n",
    "# product_train.shape возвращает размерность исходной матрицы рейтингов\n",
    "# user_vecs.shape и item_vecs.shape возвращают размерности матриц векторов факторов\n",
    "print(product_train.shape)\n",
    "print(user_vecs.shape, item_vecs.shape)"
   ]
  },
  {
   "cell_type": "markdown",
   "metadata": {},
   "source": [
    "- Кол-во пользоватеей 9758, товары 2392"
   ]
  },
  {
   "cell_type": "code",
   "execution_count": 41,
   "metadata": {},
   "outputs": [],
   "source": [
    "# Вычисление скалярного произведения между векторами пользователей и товаров\n",
    "# Оператор .T транспонирует массив item_vecs, чтобы его можно было использовать в скалярном произведении\n",
    "# Результатом является матрица, где каждый элемент представляет собой \"оценку\" пользователя для товара\n",
    "# user_vecs.dot(item_vecs.T).shape"
   ]
  },
  {
   "cell_type": "code",
   "execution_count": 42,
   "metadata": {
    "colab": {
     "base_uri": "https://localhost:8080/"
    },
    "id": "32opMZYxqoua",
    "outputId": "aca6aa30-aac9-4c61-c0c7-bc44f9e97e66"
   },
   "outputs": [
    {
     "data": {
      "text/plain": [
       "-1.862483e-05"
      ]
     },
     "execution_count": 42,
     "metadata": {},
     "output_type": "execute_result"
    }
   ],
   "source": [
    "# Посмотрим какое количество товара с индексом 13 пользователь купит с индексом 2.\n",
    "# вычисляем сходство между конкретным пользователем и конкретным элементом, используя их векторные представления. \n",
    "# `user_vecs[13,:]` выбирает 14-й вектор пользователя (индексация в Python начинается с 0)\n",
    "# `item_vecs[2,:]` выбирает 3-й вектор элемента\n",
    "\n",
    "# `.dot(item_vecs[2,:])` выполняет операцию скалярного произведения между 14-м вектором пользователя и 3-м вектором элемента.\n",
    "# Скалярное произведение измеряет сходство между двумя векторами: большое скалярное произведение указывает на большое сходство.\n",
    "\n",
    "# Результат - \"ноль\", которое представляет сходство между 14-м пользователем и 3-м элементом.\n",
    "\n",
    "user_vecs[13,:].dot(item_vecs[2,:])"
   ]
  },
  {
   "cell_type": "code",
   "execution_count": 43,
   "metadata": {
    "colab": {
     "base_uri": "https://localhost:8080/"
    },
    "id": "3D0oadzZ3fck",
    "outputId": "64200a63-345f-457a-b556-2caa84c9cf68"
   },
   "outputs": [
    {
     "name": "stdout",
     "output_type": "stream",
     "text": [
      "(127496, 41320)\n"
     ]
    }
   ],
   "source": [
    "# product_train - это DataFrame, содержащий обучающие данные\n",
    "\n",
    "# Вывод размерности матрицы product_train\n",
    "print(product_train.shape)"
   ]
  },
  {
   "cell_type": "markdown",
   "metadata": {
    "id": "7F_ySwIOqoub"
   },
   "source": [
    "## Оценка Системы"
   ]
  },
  {
   "cell_type": "markdown",
   "metadata": {
    "id": "cLBHDLYVqoub"
   },
   "source": [
    "Мы отложили в тест 20% покупок. Это позволит нам оценить работу нашей системы рекомендаций. По сути, нам нужно посмотреть, соответствует ли порядок рекомендаций для каждого пользователя тем предметам, которые он в итоге приобрел. Часто используемой метрикой для такого рода проблем является область под кривой [Receiver Operating Characteristic](https://en.wikipedia.org/wiki/Receiver_operating_characteristic) (или ROC). Большая площадь под кривой означает, что мы рекомендуем товары, которые в конечном итоге были приобретены в верхней части списка рекомендуемых товаров. Обычно эта метрика используется в более типичных проблемах бинарной классификации для определения того, насколько хорошо модель может предсказать положительный пример по сравнению с отрицательным. Она также будет хорошо работать для наших целей ранжирования рекомендаций.\n",
    "\n",
    "Для этого нам нужно написать функцию, которая может вычислить среднюю область под кривой (AUC) для любого пользователя, у которого хотя бы один элемент был замаскирован. В качестве эталона мы также вычислим, каким был бы средний AUC, если бы мы просто рекомендовали наиболее популярные элементы. Популярность, как правило, трудно превзойти в большинстве проблем рекомендательных систем, так что это - хороший baseline.\n",
    "\n",
    "Во-первых, давайте сделаем простую функцию, которая может вычислить наш AUC. У Scikit-learn есть функция, которую мы можем немного изменить."
   ]
  },
  {
   "cell_type": "markdown",
   "metadata": {},
   "source": [
    "- Функция roc_curve из библиотеки sklearn.metrics используется для вычисления значений для построения ROC-кривой (Receiver Operating Characteristic curve) — графика, который показывает производительность бинарного классификатора в зависимости от порога классификации.\n",
    "- ROC-кривая — это инструмент для визуализации качества бинарного классификатора, и она строится по двум значениям: чувствительность (true positive rate, TPR) и 1 минус специфичность (false positive rate, FPR)"
   ]
  },
  {
   "cell_type": "code",
   "execution_count": 44,
   "metadata": {
    "id": "VR9s4UqPqoub"
   },
   "outputs": [],
   "source": [
    "# импортируем функцию roc_curve из модуля sklearn.metrics и используем ее для вычисления значений, необходимых для построения ROC-кривой\n",
    "from sklearn import metrics\n",
    "metrics.roc_curve?"
   ]
  },
  {
   "cell_type": "code",
   "execution_count": 45,
   "metadata": {
    "id": "_3kYSRHGAYAb"
   },
   "outputs": [],
   "source": [
    "metrics.auc?"
   ]
  },
  {
   "cell_type": "code",
   "execution_count": 46,
   "metadata": {},
   "outputs": [],
   "source": [
    "# Эта функция принимает два аргумента: predictions, который содержит предсказанные вероятности класса, и test, \n",
    "# который содержит истинные метки класса. Функция возвращает значение AUC, которое представляет собой площадь под ROC-кривой,\n",
    "# отражающую качество бинарного классификатора.\n",
    "\n",
    "# Функция для вычисления площади под ROC-кривой (AUC)\n",
    "def auc_score(predictions, test):\n",
    "    # Вычисление значений для построения ROC-кривой\n",
    "    # fpr (false positive rate), tpr (true positive rate), thresholds (пороги классификации)\n",
    "    fpr, tpr, thresholds = metrics.roc_curve(test, predictions)\n",
    "\n",
    "    # Вычисление площади под ROC-кривой (AUC)\n",
    "    # AUC оценивает способность модели различать классы на различных порогах классификации\n",
    "    return metrics.auc(fpr, tpr)\n"
   ]
  },
  {
   "cell_type": "markdown",
   "metadata": {
    "id": "ZJhQBACeqoub"
   },
   "source": [
    "Теперь используем эту вспомогательную функцию внутри второй функции, которая будет вычислять AUC для каждого пользователя в нашем train наборе, у которого хотя бы один элемент был скрыт. Она также должна вычислить AUC для самых популярных элементов для сравнения наших пользователей."
   ]
  },
  {
   "cell_type": "code",
   "execution_count": 47,
   "metadata": {},
   "outputs": [],
   "source": [
    "# Импорт необходимых библиотек\n",
    "import numpy as np\n",
    "from sklearn.metrics import roc_auc_score\n",
    "\n",
    "# Определение функции для вычисления среднего значения AUC по пользователю\n",
    "def calc_mean_auc(training_set, altered_users, predictions, test_set):\n",
    "    '''\n",
    "    Эта функция вычислит среднее значение AUC по пользователю для любого пользователя,\n",
    "    у которого была изменена матрица пользовательского элемента.\n",
    "\n",
    "    возвращает:\n",
    "\n",
    "    Среднее AUC (область под кривой характеристик оператора приемника) тестового набора только по взаимодействию между пользователем и элементом.\n",
    "    Изначально, в дополнение к наиболее популярным объектам в качестве эталона, было нулевым, чтобы протестировать способность ранжирования.\n",
    "    '''\n",
    "\n",
    "    # Инициализация списков для хранения AUC значений\n",
    "    store_auc = []\n",
    "    popularity_auc = []\n",
    "    \n",
    "    # Вычисление популярности элементов\n",
    "    pop_items = np.array(test_set.sum(axis =  0)).reshape(-1)\n",
    "    \n",
    "    # Извлечение векторов элементов из предсказаний\n",
    "    item_vecs = predictions[1]\n",
    "    \n",
    "    # Проход по пользователям с измененными матрицами\n",
    "    for user in altered_users:\n",
    "        # Извлечение строки обучающего набора для текущего пользователя\n",
    "        training_row = training_set[user,:].toarray().reshape(-1)\n",
    "        \n",
    "        # Нахождение индексов нулевых значений в строке обучающего набора\n",
    "        zero_inds = np.where(training_row ==  0)\n",
    "        \n",
    "        # Извлечение вектора пользователя из предсказаний\n",
    "        user_vec = predictions[0][user,:]\n",
    "        \n",
    "        # Вычисление предсказаний для нулевых элементов тестового набора\n",
    "        pred = user_vec.dot(item_vecs).toarray()[0,zero_inds].reshape(-1)\n",
    "        \n",
    "        # Извлечение фактических значений для нулевых элементов тестового набора\n",
    "        actual = test_set[user,:].toarray()[0,zero_inds].reshape(-1)\n",
    "        \n",
    "        # Вычисление популярности для нулевых элементов тестового набора\n",
    "        pop = pop_items[zero_inds]\n",
    "        \n",
    "        # Вычисление и сохранение AUC для пользовательских предсказаний\n",
    "        store_auc.append(roc_auc_score(actual, pred))\n",
    "        \n",
    "        # Вычисление и сохранение AUC для предсказаний на основе популярности\n",
    "        popularity_auc.append(roc_auc_score(actual, pop))\n",
    "    \n",
    "    # Возврат среднего значения AUC для пользовательских предсказаний и предсказаний на основе популярности\n",
    "    return float('%.3f'%np.mean(store_auc)), float('%.3f'%np.mean(popularity_auc))\n"
   ]
  },
  {
   "cell_type": "markdown",
   "metadata": {
    "id": "Km08vjqzqoub"
   },
   "source": [
    "Теперь мы можем использовать эту функцию, чтобы посмотреть, как работает наша система рекомендаций. Чтобы использовать эту функцию, нам нужно будет преобразовать наш вывод из функции ALS в формат csr_matrix и переместить векторы элементов. Оригинальная чистая версия Python уже выводит векторы пользователя и элемента в правильном формате."
   ]
  },
  {
   "cell_type": "code",
   "execution_count": 48,
   "metadata": {},
   "outputs": [
    {
     "data": {
      "text/plain": [
       "(0.72, 0.814)"
      ]
     },
     "execution_count": 48,
     "metadata": {},
     "output_type": "execute_result"
    }
   ],
   "source": [
    "# Функция calc_mean_auc вычисляет среднее значение AUC (Area Under the Curve) для каждого пользователя.\n",
    "# AUC - это метрика, которая измеряет качество ранжирования предсказаний модели.\n",
    "\n",
    "# product_train - это обучающий набор данных, содержащий информацию о взаимодействиях пользователей с продуктами.\n",
    "# product_users_altered - это список пользователей, для которых изменилась история взаимодействий с продуктами.\n",
    "# [sparse.csr_matrix(user_vecs), sparse.csr_matrix(item_vecs.T)] - это список двух матриц: матрицы векторов пользователей и транспонированной матрицы векторов продуктов.\n",
    "# product_test - это тестовый набор данных, содержащий информацию о взаимодействиях пользователей с продуктами.\n",
    "\n",
    "# Вызов функции calc_mean_auc с этими параметрами вычислит среднее значение AUC для каждого пользователя на основе его взаимодействий с продуктами в обучающем и тестовом наборах данных.\n",
    "calc_mean_auc(product_train, product_users_altered,\n",
    "                         [sparse.csr_matrix(user_vecs), sparse.csr_matrix(item_vecs.T)], product_test)"
   ]
  },
  {
   "cell_type": "code",
   "execution_count": null,
   "metadata": {},
   "outputs": [],
   "source": [
    "# Функция calc_mean_auc вычисляет среднее значение AUC (Area Under the Curve) для каждого пользователя.\n",
    "# AUC - это метрика, которая измеряет качество ранжирования предсказаний модели.\n",
    "\n",
    "# product_train - это обучающий набор данных, содержащий информацию о взаимодействиях пользователей с продуктами.\n",
    "# product_users_altered - это список пользователей, для которых изменилась история взаимодействий с продуктами.\n",
    "# [sparse.csr_matrix(user_vecs), sparse.csr_matrix(item_vecs.T)] - это список двух матриц: матрицы векторов пользователей и транспонированной матрицы векторов продуктов.\n",
    "# product_test - это тестовый набор данных, содержащий информацию о взаимодействиях пользователей с продуктами.\n",
    "\n",
    "# Вызов функции calc_mean_auc с этими параметрами вычислит среднее значение AUC для каждого пользователя на основе его взаимодействий с продуктами в обучающем и тестовом наборах данных.\n",
    "mean_auc = calc_mean_auc(product_train, product_users_altered,\n",
    "                         [sparse.csr_matrix(user_vecs), sparse.csr_matrix(item_vecs.T)], product_test)\n",
    "\n",
    "# Вывод результата\n",
    "print(mean_auc)\n"
   ]
  },
  {
   "cell_type": "markdown",
   "metadata": {},
   "source": [
    "- При вычислении среднего значения AUC для каждого пользователя, используя их взаимодействия с продуктами в обучающем и тестовом наборах данных,\n",
    "- можно сделать вывод, что два значения AUC (0.72, 0.814) представляют средние значения AUC для двух разных типов предсказаний, которые вы делаете в вашей модели.\n",
    "- Первое значение AUC, 0.72, скорее всего, относится к среднему значению AUC для предсказаний, основанных на ваших пользовательских предсказаниях. Это предсказания, сделанные на основе взаимодействий пользователя с элементами.\n",
    "- Второе значение AUC, 0.814, скорее всего, относится к среднему значению AUC для предсказаний, основанных на популярности элементов. Это предсказания, сделанные на основе общей популярности элементов среди всех пользователей.\n",
    "- Таким образом, эти два значения AUC демонстрируют эффективность двух разных подходов к предсказанию взаимодействий пользователя с элементами.\n",
    "- Модель, основанная на взаимодействиях пользователя, имеет AUC 0.72, что указывает на то, что она едва превосходит случайное угадывание. С другой стороны, наша модель, основанная на популярности элементов, имеет AUC 0.814, что указывает на то, что она значительно превосходит случайное угадывание и имеет неплохое качество предсказаний.\n",
    "- Это может указывать на то, что в данных есть сильные популярные тенденции, которые модель, основанная на взаимодействиях пользователя, не смогла уловить. "
   ]
  },
  {
   "cell_type": "markdown",
   "metadata": {},
   "source": [
    "#### Оптимизация"
   ]
  },
  {
   "cell_type": "markdown",
   "metadata": {},
   "source": [
    "Методы оптимизации представлены ниже:\n",
    "- В идеале у нас должны быть отдельные наборы для train, перекрестной проверки и тестирования, чтобы вы перегружаться при настройке гиперпараметров, но эта настройка адекватна для демонстрации того, как проверить, что система работает.\n",
    "- Возможно, нам стоит рассмотреть возможность интеграции этих популярных тенденций в основную модель, чтобы улучшить ее производительность."
   ]
  },
  {
   "cell_type": "markdown",
   "metadata": {},
   "source": [
    "- Настройка гиперпараметров:\n",
    "- Мы можем попробовать разные значения для параметров factors, regularization и iterations.\n",
    "- Например, мы можем увеличить количество факторов или итераций или изменить коэффициент регуляризации."
   ]
  },
  {
   "cell_type": "markdown",
   "metadata": {},
   "source": [
    "- Либо найти и потом применить настройку лучших параметров."
   ]
  },
  {
   "cell_type": "markdown",
   "metadata": {},
   "source": [
    "- Пример ниже, осторожно в нем нужно добавить в код наши переменные:"
   ]
  },
  {
   "cell_type": "markdown",
   "metadata": {},
   "source": [
    "# Пример настройки гиперпараметров\n",
    "latent_factors = [5, 10, 20, 40, 80]\n",
    "regularizations = [0.01, 0.1, 1., 10., 100.]\n",
    "iter_array = [1, 2, 5, 10, 25, 50, 100]\n",
    "\n",
    "best_params = {}\n",
    "best_params['n_factors'] = latent_factors[0]\n",
    "best_params['reg'] = regularizations[0]\n",
    "best_params['n_iter'] = 0\n",
    "best_params['auc_result'] = np.inf\n",
    "best_params['model'] = None\n",
    "\n",
    "for fact in latent_factors:\n",
    "    for reg in regularizations:\n",
    "        for ite in iter_array:\n",
    "            model = implicit.als.AlternatingLeastSquares(factors=fact, regularization=reg, iterations=ite)\n",
    "            model.fit((training2_set.T * 15).astype('double'))\n",
    "            customers_vecs = model.user_factors\n",
    "            restaurant_vecs = model.item_factors\n",
    "            auc_result = calc_mean_auc(training2_set, cust_altered2, [sparse.csr_matrix(customers_vecs), sparse.csr_matrix(restaurant_vecs.T)], validation_set)\n",
    "            if auc_result > best_params['auc_result']:\n",
    "                best_params['n_factors'] = fact\n",
    "                best_params['reg'] = reg\n",
    "                best_params['n_iter'] = ite\n",
    "                best_params['auc_result'] = auc_result\n",
    "                best_params['model'] = 'AlternatingLeastSquare'\n"
   ]
  },
  {
   "cell_type": "markdown",
   "metadata": {},
   "source": [
    "- Использование дополнительных данных: Если у нас есть доступ к дополнительным данным, таким как метаданные о пользователях или элементах, мы можем использовать их для улучшения модели.\n",
    "- Использование различных моделей: В библиотеке implicit есть и другие модели, такие как BayesianPersonalizedRanking и LogisticMatrixFactorization, которые вы можете попробовать.\n",
    "- Предварительная обработка данных: Мы можем попробовать различные методы предварительной обработки данных, такие как нормализация или взвешивание наших данных.\n",
    "- Нужно помнить, что настройка модели - это итеративный процесс, и важно проводить кросс-валидацию и тестирование на отложенной выборке, чтобы убедиться, что модель не переобучается. "
   ]
  },
  {
   "cell_type": "markdown",
   "metadata": {},
   "source": [
    "Спасибо за внимание!"
   ]
  }
 ],
 "metadata": {
  "colab": {
   "provenance": []
  },
  "kernelspec": {
   "display_name": "Python 3 (ipykernel)",
   "language": "python",
   "name": "python3"
  },
  "language_info": {
   "codemirror_mode": {
    "name": "ipython",
    "version": 3
   },
   "file_extension": ".py",
   "mimetype": "text/x-python",
   "name": "python",
   "nbconvert_exporter": "python",
   "pygments_lexer": "ipython3",
   "version": "3.11.5"
  },
  "widgets": {
   "application/vnd.jupyter.widget-state+json": {
    "0b86b41a57ab4e41abdba06ef845659c": {
     "model_module": "@jupyter-widgets/base",
     "model_module_version": "1.2.0",
     "model_name": "LayoutModel",
     "state": {
      "_model_module": "@jupyter-widgets/base",
      "_model_module_version": "1.2.0",
      "_model_name": "LayoutModel",
      "_view_count": null,
      "_view_module": "@jupyter-widgets/base",
      "_view_module_version": "1.2.0",
      "_view_name": "LayoutView",
      "align_content": null,
      "align_items": null,
      "align_self": null,
      "border": null,
      "bottom": null,
      "display": null,
      "flex": null,
      "flex_flow": null,
      "grid_area": null,
      "grid_auto_columns": null,
      "grid_auto_flow": null,
      "grid_auto_rows": null,
      "grid_column": null,
      "grid_gap": null,
      "grid_row": null,
      "grid_template_areas": null,
      "grid_template_columns": null,
      "grid_template_rows": null,
      "height": null,
      "justify_content": null,
      "justify_items": null,
      "left": null,
      "margin": null,
      "max_height": null,
      "max_width": null,
      "min_height": null,
      "min_width": null,
      "object_fit": null,
      "object_position": null,
      "order": null,
      "overflow": null,
      "overflow_x": null,
      "overflow_y": null,
      "padding": null,
      "right": null,
      "top": null,
      "visibility": null,
      "width": null
     }
    },
    "0c3b037aa25648e99183ee2d8e580b4c": {
     "model_module": "@jupyter-widgets/controls",
     "model_module_version": "1.5.0",
     "model_name": "HTMLModel",
     "state": {
      "_dom_classes": [],
      "_model_module": "@jupyter-widgets/controls",
      "_model_module_version": "1.5.0",
      "_model_name": "HTMLModel",
      "_view_count": null,
      "_view_module": "@jupyter-widgets/controls",
      "_view_module_version": "1.5.0",
      "_view_name": "HTMLView",
      "description": "",
      "description_tooltip": null,
      "layout": "IPY_MODEL_6e0256093d0345e7ae95de48e31fb56b",
      "placeholder": "​",
      "style": "IPY_MODEL_9bc45f4f86ea413cb43b11ba782dafae",
      "value": " 50/50 [00:51&lt;00:00,  1.29it/s]"
     }
    },
    "2d3184309fc04e60aa489983ab043240": {
     "model_module": "@jupyter-widgets/controls",
     "model_module_version": "1.5.0",
     "model_name": "ProgressStyleModel",
     "state": {
      "_model_module": "@jupyter-widgets/controls",
      "_model_module_version": "1.5.0",
      "_model_name": "ProgressStyleModel",
      "_view_count": null,
      "_view_module": "@jupyter-widgets/base",
      "_view_module_version": "1.2.0",
      "_view_name": "StyleView",
      "bar_color": null,
      "description_width": ""
     }
    },
    "4a741edd352e4f19a3ca6ee4f8e56ef5": {
     "model_module": "@jupyter-widgets/base",
     "model_module_version": "1.2.0",
     "model_name": "LayoutModel",
     "state": {
      "_model_module": "@jupyter-widgets/base",
      "_model_module_version": "1.2.0",
      "_model_name": "LayoutModel",
      "_view_count": null,
      "_view_module": "@jupyter-widgets/base",
      "_view_module_version": "1.2.0",
      "_view_name": "LayoutView",
      "align_content": null,
      "align_items": null,
      "align_self": null,
      "border": null,
      "bottom": null,
      "display": null,
      "flex": null,
      "flex_flow": null,
      "grid_area": null,
      "grid_auto_columns": null,
      "grid_auto_flow": null,
      "grid_auto_rows": null,
      "grid_column": null,
      "grid_gap": null,
      "grid_row": null,
      "grid_template_areas": null,
      "grid_template_columns": null,
      "grid_template_rows": null,
      "height": null,
      "justify_content": null,
      "justify_items": null,
      "left": null,
      "margin": null,
      "max_height": null,
      "max_width": null,
      "min_height": null,
      "min_width": null,
      "object_fit": null,
      "object_position": null,
      "order": null,
      "overflow": null,
      "overflow_x": null,
      "overflow_y": null,
      "padding": null,
      "right": null,
      "top": null,
      "visibility": null,
      "width": null
     }
    },
    "5ae51161b1ed4eb4bbdcf74b25fdcb72": {
     "model_module": "@jupyter-widgets/controls",
     "model_module_version": "1.5.0",
     "model_name": "FloatProgressModel",
     "state": {
      "_dom_classes": [],
      "_model_module": "@jupyter-widgets/controls",
      "_model_module_version": "1.5.0",
      "_model_name": "FloatProgressModel",
      "_view_count": null,
      "_view_module": "@jupyter-widgets/controls",
      "_view_module_version": "1.5.0",
      "_view_name": "ProgressView",
      "bar_style": "success",
      "description": "",
      "description_tooltip": null,
      "layout": "IPY_MODEL_4a741edd352e4f19a3ca6ee4f8e56ef5",
      "max": 50,
      "min": 0,
      "orientation": "horizontal",
      "style": "IPY_MODEL_2d3184309fc04e60aa489983ab043240",
      "value": 50
     }
    },
    "6e0256093d0345e7ae95de48e31fb56b": {
     "model_module": "@jupyter-widgets/base",
     "model_module_version": "1.2.0",
     "model_name": "LayoutModel",
     "state": {
      "_model_module": "@jupyter-widgets/base",
      "_model_module_version": "1.2.0",
      "_model_name": "LayoutModel",
      "_view_count": null,
      "_view_module": "@jupyter-widgets/base",
      "_view_module_version": "1.2.0",
      "_view_name": "LayoutView",
      "align_content": null,
      "align_items": null,
      "align_self": null,
      "border": null,
      "bottom": null,
      "display": null,
      "flex": null,
      "flex_flow": null,
      "grid_area": null,
      "grid_auto_columns": null,
      "grid_auto_flow": null,
      "grid_auto_rows": null,
      "grid_column": null,
      "grid_gap": null,
      "grid_row": null,
      "grid_template_areas": null,
      "grid_template_columns": null,
      "grid_template_rows": null,
      "height": null,
      "justify_content": null,
      "justify_items": null,
      "left": null,
      "margin": null,
      "max_height": null,
      "max_width": null,
      "min_height": null,
      "min_width": null,
      "object_fit": null,
      "object_position": null,
      "order": null,
      "overflow": null,
      "overflow_x": null,
      "overflow_y": null,
      "padding": null,
      "right": null,
      "top": null,
      "visibility": null,
      "width": null
     }
    },
    "9bc45f4f86ea413cb43b11ba782dafae": {
     "model_module": "@jupyter-widgets/controls",
     "model_module_version": "1.5.0",
     "model_name": "DescriptionStyleModel",
     "state": {
      "_model_module": "@jupyter-widgets/controls",
      "_model_module_version": "1.5.0",
      "_model_name": "DescriptionStyleModel",
      "_view_count": null,
      "_view_module": "@jupyter-widgets/base",
      "_view_module_version": "1.2.0",
      "_view_name": "StyleView",
      "description_width": ""
     }
    },
    "a8f7f207f0b741a5b77761501a0ba5eb": {
     "model_module": "@jupyter-widgets/controls",
     "model_module_version": "1.5.0",
     "model_name": "HTMLModel",
     "state": {
      "_dom_classes": [],
      "_model_module": "@jupyter-widgets/controls",
      "_model_module_version": "1.5.0",
      "_model_name": "HTMLModel",
      "_view_count": null,
      "_view_module": "@jupyter-widgets/controls",
      "_view_module_version": "1.5.0",
      "_view_name": "HTMLView",
      "description": "",
      "description_tooltip": null,
      "layout": "IPY_MODEL_0b86b41a57ab4e41abdba06ef845659c",
      "placeholder": "​",
      "style": "IPY_MODEL_c86c4076580249288619206be73460e8",
      "value": "100%"
     }
    },
    "c86c4076580249288619206be73460e8": {
     "model_module": "@jupyter-widgets/controls",
     "model_module_version": "1.5.0",
     "model_name": "DescriptionStyleModel",
     "state": {
      "_model_module": "@jupyter-widgets/controls",
      "_model_module_version": "1.5.0",
      "_model_name": "DescriptionStyleModel",
      "_view_count": null,
      "_view_module": "@jupyter-widgets/base",
      "_view_module_version": "1.2.0",
      "_view_name": "StyleView",
      "description_width": ""
     }
    },
    "ce1fb19d618249dbab703d8d659dc80c": {
     "model_module": "@jupyter-widgets/base",
     "model_module_version": "1.2.0",
     "model_name": "LayoutModel",
     "state": {
      "_model_module": "@jupyter-widgets/base",
      "_model_module_version": "1.2.0",
      "_model_name": "LayoutModel",
      "_view_count": null,
      "_view_module": "@jupyter-widgets/base",
      "_view_module_version": "1.2.0",
      "_view_name": "LayoutView",
      "align_content": null,
      "align_items": null,
      "align_self": null,
      "border": null,
      "bottom": null,
      "display": null,
      "flex": null,
      "flex_flow": null,
      "grid_area": null,
      "grid_auto_columns": null,
      "grid_auto_flow": null,
      "grid_auto_rows": null,
      "grid_column": null,
      "grid_gap": null,
      "grid_row": null,
      "grid_template_areas": null,
      "grid_template_columns": null,
      "grid_template_rows": null,
      "height": null,
      "justify_content": null,
      "justify_items": null,
      "left": null,
      "margin": null,
      "max_height": null,
      "max_width": null,
      "min_height": null,
      "min_width": null,
      "object_fit": null,
      "object_position": null,
      "order": null,
      "overflow": null,
      "overflow_x": null,
      "overflow_y": null,
      "padding": null,
      "right": null,
      "top": null,
      "visibility": null,
      "width": null
     }
    },
    "eadcd7c33ea548fe85da0054695b89cd": {
     "model_module": "@jupyter-widgets/controls",
     "model_module_version": "1.5.0",
     "model_name": "HBoxModel",
     "state": {
      "_dom_classes": [],
      "_model_module": "@jupyter-widgets/controls",
      "_model_module_version": "1.5.0",
      "_model_name": "HBoxModel",
      "_view_count": null,
      "_view_module": "@jupyter-widgets/controls",
      "_view_module_version": "1.5.0",
      "_view_name": "HBoxView",
      "box_style": "",
      "children": [
       "IPY_MODEL_a8f7f207f0b741a5b77761501a0ba5eb",
       "IPY_MODEL_5ae51161b1ed4eb4bbdcf74b25fdcb72",
       "IPY_MODEL_0c3b037aa25648e99183ee2d8e580b4c"
      ],
      "layout": "IPY_MODEL_ce1fb19d618249dbab703d8d659dc80c"
     }
    }
   }
  }
 },
 "nbformat": 4,
 "nbformat_minor": 1
}
