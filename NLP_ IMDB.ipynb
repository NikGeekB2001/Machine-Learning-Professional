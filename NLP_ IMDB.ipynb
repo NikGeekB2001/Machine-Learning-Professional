{
 "cells": [
  {
   "cell_type": "markdown",
   "id": "87e031a8",
   "metadata": {},
   "source": [
    "Возьмём датасет - Отзывы на фильмы с сайта IMDB (https://www.kaggle.com/lakshmi25npathi/imdb-dataset-of-50k-movie-reviews), в которых для каждого отзыва поставлена семантическая оценка - \"позитивный\" или \"негативный\"."
   ]
  },
  {
   "cell_type": "markdown",
   "id": "984f0b09",
   "metadata": {},
   "source": [
    "### Анализ тональности - процесс определения эмоциональной окраски текста, то есть является ли он положительным, отрицательным или нейтральным."
   ]
  },
  {
   "cell_type": "markdown",
   "id": "cd0173c0",
   "metadata": {},
   "source": [
    "- >Можем выделить блоки, такие как:\n",
    "- Импорт необходимых библиотек и загрузка набора данных\n",
    "- Предварительная обработка текста, включая удаление знаков препинания, приведение к нижнему регистру, удаление стоп-слов и лемматизация\n",
    "- Векторизация текста, используя мешок слов или TF-IDF\n",
    "- Разделение данных на обучающую и тестовую выборки\n",
    "- Обучение и оценка различных моделей машинного обучения\n",
    "- Визуализация результатов, используя матрицу ошибок и кривые ROC"
   ]
  },
  {
   "cell_type": "code",
   "execution_count": null,
   "id": "26142f7d",
   "metadata": {},
   "outputs": [],
   "source": [
    "# Устанавливаем библиотеку, если у кого не установлена\n",
    "#pip install nltk"
   ]
  },
  {
   "cell_type": "markdown",
   "id": "e2639d0c",
   "metadata": {},
   "source": [
    "#### 1. Начальный импорт необходимых библиотек и загрузка набора данных, далее библиотеки будут отмечены в шаге кода ниже"
   ]
  },
  {
   "cell_type": "code",
   "execution_count": 5,
   "id": "2f2875b9",
   "metadata": {},
   "outputs": [],
   "source": [
    "# Импорт необходимых библиотек\n",
    "import pandas as pd\n",
    "import nltk # импорт модуля nltk, который содержит инструменты для работы с естественным языком\n",
    "from nltk.corpus import stopwords # импорт списка стоп-слов из модуля nltk"
   ]
  },
  {
   "cell_type": "code",
   "execution_count": 6,
   "id": "01694d23",
   "metadata": {},
   "outputs": [],
   "source": [
    "# Импорт необходимых модулей\n",
    "from sklearn.feature_extraction.text import TfidfVectorizer # импорт класса TfidfVectorizer из модуля sklearn.feature_extraction.text, который позволяет преобразовать текст в векторы с весами, основанными на частоте термов и обратной частоте документов\n",
    "from sklearn.linear_model import LinearRegression, LogisticRegression # импорт классов LinearRegression и LogisticRegression из модуля sklearn.linear_model, которые позволяют обучать линейные модели регрессии и классификации соответственно\n",
    "from sklearn.model_selection import train_test_split # импорт функции train_test_split из модуля sklearn.model_selection, которая позволяет разбить данные на обучающую и тестовую выборки\n",
    "from sklearn.metrics import mean_squared_error, accuracy_score, confusion_matrix, roc_curve, auc # импорт функций mean_squared_error, accuracy_score, confusion_matrix, roc_curve и auc из модуля sklearn.metrics, которые позволяют оценивать качество моделей по разным метрикам\n",
    "import matplotlib.pyplot as plt # импорт модуля matplotlib.pyplot под именем plt, который позволяет строить графики и визуализировать данные\n"
   ]
  },
  {
   "cell_type": "markdown",
   "id": "db9fd871",
   "metadata": {},
   "source": [
    "#### 2. Загрузка датасета"
   ]
  },
  {
   "cell_type": "code",
   "execution_count": 7,
   "id": "d90bd38e",
   "metadata": {},
   "outputs": [
    {
     "data": {
      "text/html": [
       "<div>\n",
       "<style scoped>\n",
       "    .dataframe tbody tr th:only-of-type {\n",
       "        vertical-align: middle;\n",
       "    }\n",
       "\n",
       "    .dataframe tbody tr th {\n",
       "        vertical-align: top;\n",
       "    }\n",
       "\n",
       "    .dataframe thead th {\n",
       "        text-align: right;\n",
       "    }\n",
       "</style>\n",
       "<table border=\"1\" class=\"dataframe\">\n",
       "  <thead>\n",
       "    <tr style=\"text-align: right;\">\n",
       "      <th></th>\n",
       "      <th>review</th>\n",
       "      <th>sentiment</th>\n",
       "    </tr>\n",
       "  </thead>\n",
       "  <tbody>\n",
       "    <tr>\n",
       "      <th>0</th>\n",
       "      <td>One of the other reviewers has mentioned that ...</td>\n",
       "      <td>positive</td>\n",
       "    </tr>\n",
       "    <tr>\n",
       "      <th>1</th>\n",
       "      <td>A wonderful little production. &lt;br /&gt;&lt;br /&gt;The...</td>\n",
       "      <td>positive</td>\n",
       "    </tr>\n",
       "    <tr>\n",
       "      <th>2</th>\n",
       "      <td>I thought this was a wonderful way to spend ti...</td>\n",
       "      <td>positive</td>\n",
       "    </tr>\n",
       "    <tr>\n",
       "      <th>3</th>\n",
       "      <td>Basically there's a family where a little boy ...</td>\n",
       "      <td>negative</td>\n",
       "    </tr>\n",
       "    <tr>\n",
       "      <th>4</th>\n",
       "      <td>Petter Mattei's \"Love in the Time of Money\" is...</td>\n",
       "      <td>positive</td>\n",
       "    </tr>\n",
       "  </tbody>\n",
       "</table>\n",
       "</div>"
      ],
      "text/plain": [
       "                                              review sentiment\n",
       "0  One of the other reviewers has mentioned that ...  positive\n",
       "1  A wonderful little production. <br /><br />The...  positive\n",
       "2  I thought this was a wonderful way to spend ti...  positive\n",
       "3  Basically there's a family where a little boy ...  negative\n",
       "4  Petter Mattei's \"Love in the Time of Money\" is...  positive"
      ]
     },
     "execution_count": 7,
     "metadata": {},
     "output_type": "execute_result"
    }
   ],
   "source": [
    "# Загрузка набора данных IMDB\n",
    "data = pd.read_csv(\"IMDB Dataset.csv\")\n",
    "data.head(5)"
   ]
  },
  {
   "cell_type": "code",
   "execution_count": 8,
   "id": "55adf357",
   "metadata": {},
   "outputs": [
    {
     "data": {
      "text/plain": [
       "(50000, 2)"
      ]
     },
     "execution_count": 8,
     "metadata": {},
     "output_type": "execute_result"
    }
   ],
   "source": [
    "# Выводим размерность объекта DataFrame\n",
    "data.shape"
   ]
  },
  {
   "cell_type": "code",
   "execution_count": 9,
   "id": "3e8d47b6",
   "metadata": {},
   "outputs": [
    {
     "data": {
      "text/plain": [
       "sentiment\n",
       "positive    25000\n",
       "negative    25000\n",
       "Name: count, dtype: int64"
      ]
     },
     "execution_count": 9,
     "metadata": {},
     "output_type": "execute_result"
    }
   ],
   "source": [
    "# Вызываем метод value_counts() на столбце sentiment объекта DataFrame df\n",
    "# Этот метод возвращает серию, содержащую частоту каждого уникального значения в столбце\n",
    "# Результатом будет серия с индексом из значений столбца sentiment и значениями из их частот\n",
    "data.sentiment.value_counts()\n"
   ]
  },
  {
   "cell_type": "markdown",
   "id": "a2f06169",
   "metadata": {},
   "source": [
    "\"позитивные\" и \"негативные\" отзывы разделены на  25000 - поровну"
   ]
  },
  {
   "cell_type": "code",
   "execution_count": 10,
   "id": "17ba1af7",
   "metadata": {},
   "outputs": [
    {
     "data": {
      "text/plain": [
       "array(['positive', 'negative'], dtype=object)"
      ]
     },
     "execution_count": 10,
     "metadata": {},
     "output_type": "execute_result"
    }
   ],
   "source": [
    "# Получаем уникальные значения столбца \"sentiment\" в датафрейме data\n",
    "# Это позволяет узнать, какие эмоции были выражены в текстах\n",
    "data[\"sentiment\"].unique()\n"
   ]
  },
  {
   "cell_type": "code",
   "execution_count": 11,
   "id": "34e1332d",
   "metadata": {},
   "outputs": [
    {
     "name": "stdout",
     "output_type": "stream",
     "text": [
      "{'negative', 'positive'}\n"
     ]
    }
   ],
   "source": [
    "# Преобразуем столбец \"sentiment\" в датафрейме data в множество\n",
    "# Это позволяет убрать повторяющиеся значения и получить упорядоченный набор эмоций\n",
    "print(set(data[\"sentiment\"]))"
   ]
  },
  {
   "cell_type": "code",
   "execution_count": 12,
   "id": "68c81547",
   "metadata": {},
   "outputs": [
    {
     "name": "stdout",
     "output_type": "stream",
     "text": [
      "                                              review sentiment\n",
      "0  One of the other reviewers has mentioned that ...  positive\n",
      "1  A wonderful little production. <br /><br />The...  positive\n",
      "2  I thought this was a wonderful way to spend ti...  positive\n",
      "4  Petter Mattei's \"Love in the Time of Money\" is...  positive\n",
      "5  Probably my all-time favorite movie, a story o...  positive\n"
     ]
    }
   ],
   "source": [
    "# Выберем все примеры с положительным настроением\n",
    "positive_examples = data[data['sentiment'] == 'positive']\n",
    "\n",
    "# Выведем первые 5 примеров\n",
    "print(positive_examples.head())\n"
   ]
  },
  {
   "cell_type": "markdown",
   "id": "8c4ba3d2",
   "metadata": {},
   "source": [
    "#### 3. Предобработка данных\n",
    "Прежде, чем перейти к ML, текст необходимо предобработать."
   ]
  },
  {
   "cell_type": "markdown",
   "id": "837fb457",
   "metadata": {},
   "source": [
    "Предварительная обработка текста, включая удаление знаков препинания, приведение к нижнему регистру, удаление стоп-слов и лемматизация"
   ]
  },
  {
   "cell_type": "code",
   "execution_count": 13,
   "id": "2150da91",
   "metadata": {},
   "outputs": [
    {
     "name": "stdout",
     "output_type": "stream",
     "text": [
      "Количество стоп-слов: 179\n",
      "Первые 10 стоп-слов: ['i', 'me', 'my', 'myself', 'we', 'our', 'ours', 'ourselves', 'you', \"you're\"]\n"
     ]
    },
    {
     "name": "stderr",
     "output_type": "stream",
     "text": [
      "[nltk_data] Downloading package stopwords to\n",
      "[nltk_data]     C:\\Users\\kolin\\AppData\\Roaming\\nltk_data...\n",
      "[nltk_data]   Package stopwords is already up-to-date!\n"
     ]
    }
   ],
   "source": [
    "# Загружаем список стоп-слов для английского языка\n",
    "nltk.download('stopwords')\n",
    "stop_words = stopwords.words('english')\n",
    "\n",
    "# Выводим количество стоп-слов и первые 10 из них\n",
    "print(f\"Количество стоп-слов: {len(stop_words)}\")\n",
    "print(f\"Первые 10 стоп-слов: {stop_words[:10]}\")"
   ]
  },
  {
   "cell_type": "code",
   "execution_count": 14,
   "id": "6a6ef6f0",
   "metadata": {},
   "outputs": [
    {
     "name": "stdout",
     "output_type": "stream",
     "text": [
      "['One', 'of', 'the', 'other', 'reviewers', 'has', 'mentioned', 'that', '...']\n"
     ]
    }
   ],
   "source": [
    "# Создаем токенизатор WordPunctTokenizer из библиотеки nltk\n",
    "word_tokenizer = nltk.WordPunctTokenizer()\n",
    "# Применяем токенизатор \n",
    "tokens = word_tokenizer.tokenize('One of the other reviewers has mentioned that ...')\n",
    "print(tokens)"
   ]
  },
  {
   "cell_type": "code",
   "execution_count": 15,
   "id": "fefc1461",
   "metadata": {},
   "outputs": [
    {
     "name": "stdout",
     "output_type": "stream",
     "text": [
      "                                              review sentiment  \\\n",
      "0  One of the other reviewers has mentioned that ...  positive   \n",
      "1  A wonderful little production. <br /><br />The...  positive   \n",
      "2  I thought this was a wonderful way to spend ti...  positive   \n",
      "3  Basically there's a family where a little boy ...  negative   \n",
      "4  Petter Mattei's \"Love in the Time of Money\" is...  positive   \n",
      "\n",
      "                                              tokens  \n",
      "0  [One, of, the, other, reviewers, has, mentione...  \n",
      "1  [A, wonderful, little, production, ., <, br, /...  \n",
      "2  [I, thought, this, was, a, wonderful, way, to,...  \n",
      "3  [Basically, there, ', s, a, family, where, a, ...  \n",
      "4  [Petter, Mattei, ', s, \", Love, in, the, Time,...  \n"
     ]
    }
   ],
   "source": [
    "# Создаем токенизатор WordPunctTokenizer из библиотеки nltk\n",
    "word_tokenizer = nltk.WordPunctTokenizer()\n",
    "\n",
    "# Применяем токенизатор к каждому обзору в датасете\n",
    "data['tokens'] = data['review'].apply(word_tokenizer.tokenize)\n",
    "\n",
    "# Выводим первые 5 строк датасета для проверки\n",
    "print(data.head())\n"
   ]
  },
  {
   "cell_type": "markdown",
   "id": "9e8721fc",
   "metadata": {},
   "source": [
    "- Создаем функцию words_only, которая принимает текст, извлекает из него только слова на английском языке, приводит их к нижнему регистру и возвращает их в виде одной строки. \n",
    "- Затем используем функцию на примере строки 'To be, or not to be: that is the question!!! 2023 year'"
   ]
  },
  {
   "cell_type": "code",
   "execution_count": 16,
   "id": "810109e8",
   "metadata": {},
   "outputs": [
    {
     "name": "stdout",
     "output_type": "stream",
     "text": [
      "to be or not to be that is the question year\n"
     ]
    }
   ],
   "source": [
    "# Импортируем модуль re, который позволяет работать с регулярными выражениями\n",
    "import re\n",
    "\n",
    "# Создаем регулярное выражение, которое соответствует только буквам английского алфавита\n",
    "# Регулярное выражение состоит из двух частей: [A-Za-z] и [-]\n",
    "# Первая часть означает, что мы ищем любую букву в верхнем или нижнем регистре\n",
    "# Вторая часть означает, что мы также ищем дефис\n",
    "# Знак + означает, что мы ищем одну или более повторений предыдущего символа или группы символов\n",
    "regex = re.compile(r'[A-Za-z-]+')\n",
    "\n",
    "# Определяем функцию words_only, которая принимает текст и регулярное выражение в качестве аргументов\n",
    "# По умолчанию мы используем регулярное выражение, которое мы создали выше\n",
    "def words_only(text, regex=regex):\n",
    "    # Используем конструкцию try-except, чтобы обработать возможные ошибки\n",
    "    try:\n",
    "        # Используем метод findall, чтобы найти все совпадения регулярного выражения в тексте\n",
    "        # Этот метод возвращает список строк, которые соответствуют регулярному выражению\n",
    "        # Используем метод join, чтобы объединить элементы списка в одну строку, разделяя их пробелами\n",
    "        # Используем метод lower, чтобы привести все буквы к нижнему регистру\n",
    "        return \" \".join(regex.findall(text)).lower()\n",
    "    # Если произошла ошибка, возвращаем пустую строку\n",
    "    except:\n",
    "        return \"\"\n",
    "\n",
    "# Пример использования функции\n",
    "# Передаем строку 'To be, or not to be: that is the question!!! 2024 year' в качестве аргумента функции words_only\n",
    "# Функция возвращает строку 'to be or not to be that is the question year', которую мы выводим на экран с помощью функции print\n",
    "print(words_only('To be, or not to be: that is the question!!! 2024 year'))\n"
   ]
  },
  {
   "cell_type": "markdown",
   "id": "b16ca3ef",
   "metadata": {},
   "source": [
    "Найдем стоп слова"
   ]
  },
  {
   "cell_type": "code",
   "execution_count": 17,
   "id": "6fdc7f80",
   "metadata": {},
   "outputs": [
    {
     "name": "stdout",
     "output_type": "stream",
     "text": [
      "[('the', 573398), (',', 544030), ('.', 467982), ('and', 309118), ('a', 309103), ('of', 285087), ('to', 263658), ('is', 214740), ('/', 202455), ('>', 202250), ('<', 202094), ('br', 201948), ('in', 173139), ('I', 163294), ('it', 151931), ('that', 137744), (\"'s\", 121768), ('this', 120442), ('was', 99090), ('The', 87819), ('as', 85000), ('with', 84743), ('movie', 83813), ('for', 82594), ('film', 75940), (')', 71268), ('(', 69585), ('but', 68864), (\"''\", 66435), (\"n't\", 65930), ('``', 65695), ('on', 64621), ('you', 61807), ('are', 59379), ('not', 57052), ('have', 56188), ('his', 54573), ('be', 52361), ('!', 49164), ('he', 48041), ('one', 47091), ('at', 43361), ('by', 42842), ('an', 41376), ('all', 41242), ('who', 40615), ('they', 38718), ('from', 38646), ('like', 37671), ('It', 35619), ('so', 34311), ('or', 34011), ('about', 33544), ('has', 33431), ('her', 33007), ('just', 32829), ('out', 32374), ('?', 32338), ('do', 31115), ('This', 29208), ('some', 28489), ('good', 27582), ('more', 27193), ('very', 26369), ('would', 26132), ('what', 25393), ('there', 24958), ('up', 24006), ('can', 23422), ('when', 23162), ('time', 22947), ('if', 22903), ('which', 22767), ('really', 22267), ('had', 22228), ('only', 22109), ('their', 22055), ('were', 21898), ('see', 21865), ('even', 21703), ('she', 21693), ('story', 21622), ('no', 21013), ('my', 20614), ('me', 20400), ('did', 20297), ('does', 19823), (\"'\", 19781), ('...', 19745), (':', 19414), ('-', 19294), ('than', 19122), ('much', 18455), ('been', 18206), ('could', 18198), ('get', 17823), ('into', 17726), ('will', 17298), ('other', 17291), ('we', 17085)]\n"
     ]
    }
   ],
   "source": [
    "# Импортируем модуль collections, который содержит полезные структуры данных\n",
    "from collections import Counter\n",
    "# Импортируем модуль nltk, который предоставляет инструменты для обработки текстов\n",
    "from nltk.tokenize import word_tokenize\n",
    "\n",
    "# Определяем функцию get_most_common_words, которая принимает список текстов и число n в качестве аргументов\n",
    "def get_most_common_words(texts, n=100):\n",
    "    # Создаем пустой список all_words, в котором будем хранить все слова из текстов\n",
    "    all_words = []\n",
    "    # Проходимся по каждому тексту в списке texts\n",
    "    for text in texts:\n",
    "        # Используем функцию word_tokenize, чтобы разбить текст на отдельные слова\n",
    "        words = word_tokenize(text)\n",
    "        # Добавляем полученный список слов в список all_words с помощью метода extend\n",
    "        all_words.extend(words)\n",
    "    # Используем класс Counter, чтобы подсчитать, сколько раз каждое слово встречается в списке all_words\n",
    "    # Метод most_common возвращает список кортежей, содержащих слова и их частоты, отсортированный по убыванию частоты\n",
    "    # Аргумент n означает, сколько наиболее частых слов мы хотим получить\n",
    "    most_common_words = Counter(all_words).most_common(n)\n",
    "    # Возвращаем список most_common_words из функции\n",
    "    return most_common_words\n",
    "\n",
    "# Использование функции\n",
    "# Передаем столбец 'review' из датафрейма data в качестве аргумента функции get_most_common_words\n",
    "# Функция возвращает список из 100 наиболее частых слов и их частот, которые мы сохраняем в переменную most_common_words\n",
    "most_common_words = get_most_common_words(data['review'])\n",
    "# Выводим значение переменной most_common_words на экран с помощью функции print\n",
    "print(most_common_words)"
   ]
  },
  {
   "cell_type": "code",
   "execution_count": 18,
   "id": "c111948d",
   "metadata": {},
   "outputs": [
    {
     "name": "stdout",
     "output_type": "stream",
     "text": [
      "['the', 'and', 'a', 'of', 'to', 'is', 'br', 'in', 'I', 'it']\n"
     ]
    }
   ],
   "source": [
    "# Импорт модуля string для работы со знаками пунктуации\n",
    "import string\n",
    "\n",
    "# Задаем список наиболее часто встречающихся слов\n",
    "most_common_words = [('the', 573398), (',', 544030), ('.', 467982), ('and', 309118), ('a', 309103), ('of', 285087), ('to', 263658), ('is', 214740), ('/', 202455), ('>', 202250), ('<', 202094), ('br', 201948), ('in', 173139), ('I', 163294), ('it', 151931), ('that', 137744), (\"'s\", 121768), ('this', 120442), ('was', 99090), ('The', 87819), ('as', 85000), ('with', 84743), ('movie', 83813), ('for', 82594), ('film', 75940), (')', 71268), ('(', 69585), ('but', 68864), (\"''\", 66435), (\"n't\", 65930), ('``', 65695), ('on', 64621), ('you', 61807), ('are', 59379), ('not', 57052), ('have', 56188), ('his', 54573), ('be', 52361), ('!', 49164), ('he', 48041), ('one', 47091), ('at', 43361), ('by', 42842), ('an', 41376), ('all', 41242), ('who', 40615), ('they', 38718), ('from', 38646), ('like', 37671), ('It', 35619), ('so', 34311), ('or', 34011), ('about', 33544), ('has', 33431), ('her', 33007), ('just', 32829), ('out', 32374), ('?', 32338), ('do', 31115), ('This', 29208), ('some', 28489), ('good', 27582), ('more', 27193), ('very', 26369), ('would', 26132), ('what', 25393), ('there', 24958), ('up', 24006), ('can', 23422), ('when', 23162), ('time', 22947), ('if', 22903), ('which', 22767), ('really', 22267), ('had', 22228), ('only', 22109), ('their', 22055), ('were', 21898), ('see', 21865), ('even', 21703), ('she', 21693), ('story', 21622), ('no', 21013), ('my', 20614), ('me', 20400), ('did', 20297), ('does', 19823), (\"'\", 19781), ('...', 19745), (':', 19414), ('-', 19294), ('than', 19122), ('much', 18455), ('been', 18206), ('could', 18198), ('get', 17823), ('into', 17726), ('will', 17298), ('other', 17291), ('we', 17085)]\n",
    "\n",
    "# Создаем список стоп-слов из 10 самых встречающихся слов, исключая знаки пунктуации\n",
    "stop_words = [word for word, _ in most_common_words if word not in string.punctuation][:10]\n",
    "\n",
    "print(stop_words)\n"
   ]
  },
  {
   "cell_type": "markdown",
   "id": "b52ec4b5",
   "metadata": {},
   "source": [
    "Расширим список стоп-слов, словами, которые являются стоп-словами в данной задаче. Удаляем знаки пунктуации и токенизируем"
   ]
  },
  {
   "cell_type": "code",
   "execution_count": 19,
   "id": "e08b009f",
   "metadata": {},
   "outputs": [
    {
     "name": "stderr",
     "output_type": "stream",
     "text": [
      "[nltk_data] Downloading package stopwords to\n",
      "[nltk_data]     C:\\Users\\kolin\\AppData\\Roaming\\nltk_data...\n",
      "[nltk_data]   Package stopwords is already up-to-date!\n"
     ]
    }
   ],
   "source": [
    "# Импортируем модуль re, который позволяет работать с регулярными выражениями\n",
    "import re\n",
    "# Импортируем модуль nltk, который предоставляет инструменты для обработки текстов\n",
    "import nltk\n",
    "# Импортируем подмодуль stopwords из модуля nltk.corpus, который содержит списки стоп-слов для разных языков\n",
    "from nltk.corpus import stopwords\n",
    "# Импортируем класс WordPunctTokenizer из модуля nltk.tokenize, который позволяет разбивать текст на слова с учетом пунктуации\n",
    "from nltk.tokenize import WordPunctTokenizer\n",
    "# Импортируем модуль tqdm, который позволяет отображать прогресс выполнения циклов\n",
    "from tqdm import tqdm\n",
    "\n",
    "# Создаем регулярное выражение, которое соответствует только буквам английского алфавита\n",
    "# Регулярное выражение состоит из двух частей: [A-Za-z] и [-]\n",
    "# Первая часть означает, что мы ищем любую букву в верхнем или нижнем регистре\n",
    "# Вторая часть означает, что мы также ищем дефис\n",
    "# Знак + означает, что мы ищем одну или более повторений предыдущего символа или группы символов\n",
    "regex = re.compile(r'[A-Za-z-]+')\n",
    "\n",
    "# Определяем функцию words_only, которая принимает текст и регулярное выражение в качестве аргументов\n",
    "# По умолчанию мы используем регулярное выражение, которое мы создали выше\n",
    "def words_only(text, regex=regex):\n",
    "    # Используем конструкцию try-except, чтобы обработать возможные ошибки\n",
    "    try:\n",
    "        # Используем метод findall, чтобы найти все совпадения регулярного выражения в тексте\n",
    "        # Этот метод возвращает список строк, которые соответствуют регулярному выражению\n",
    "        # Используем метод join, чтобы объединить элементы списка в одну строку, разделяя их пробелами\n",
    "        # Используем метод lower, чтобы привести все буквы к нижнему регистру\n",
    "        return \" \".join(regex.findall(text)).lower()\n",
    "    # Если произошла ошибка, возвращаем пустую строку\n",
    "    except:\n",
    "        return \"\"\n",
    "\n",
    "# Загружаем список стоп-слов для английского языка с помощью функции download из модуля nltk\n",
    "nltk.download('stopwords')\n",
    "# Получаем список стоп-слов для английского языка с помощью функции words из подмодуля stopwords\n",
    "stop_words = stopwords.words('english')\n",
    "\n",
    "# Расширим список стоп-слов, словами, которые являются стоп-словами в данной задаче\n",
    "# Это слова, которые не несут смысловой нагрузки или часто встречаются в текстах\n",
    "add_stop_words = ['the', 'and', 'a', 'of', 'to', 'is', 'br', 'in', 'I', 'it']\n",
    "\n",
    "# Объединяем два списка стоп-слов в один с помощью оператора +\n",
    "all_stop_words = stop_words + add_stop_words\n",
    "\n",
    "# Создаем объект токенизатора с помощью класса WordPunctTokenizer\n",
    "word_tokenizer = WordPunctTokenizer()\n",
    "\n",
    "# Определяем функцию process_data, которая принимает датафрейм data в качестве аргумента\n",
    "def process_data(data):\n",
    "    # Создаем пустой список texts, в котором будем хранить предобработанные тексты\n",
    "    texts = []\n",
    "\n",
    "    # Поочередно проходим по всем обзорам в столбце 'review' в датафрейме data\n",
    "    # Используем функцию tqdm, чтобы отображать прогресс выполнения цикла\n",
    "    for item in tqdm(data['review']):\n",
    "\n",
    "        # Используем функцию words_only, чтобы оставить только слова в обзоре\n",
    "        text_lower = words_only(item)\n",
    "        # Используем метод tokenize, чтобы разбить текст на слова с учетом пунктуации\n",
    "        tokens     = word_tokenizer.tokenize(text_lower)\n",
    "\n",
    "        # Удаляем пунктуацию и стоп-слова из списка слов\n",
    "        # Используем генератор списка, чтобы создать новый список, содержащий только те слова, которые не входят в список all_stop_words и не являются числами\n",
    "        tokens = [word for word in tokens if (word not in all_stop_words and not word.isnumeric())]\n",
    "\n",
    "        # Добавляем полученный список слов в список texts с помощью метода append\n",
    "        texts.append(tokens)\n",
    "\n",
    "    # Возвращаем список texts из функции\n",
    "    return texts"
   ]
  },
  {
   "cell_type": "markdown",
   "id": "6828aba1",
   "metadata": {},
   "source": [
    "Создаем функцию process_data, которая принимает DataFrame data, применяет функцию words_only к столбцу 'review' для извлечения только слов, затем токенизирует текст и удаляет стоп-слова и числа. Результат сохраняется в новом списке texts"
   ]
  },
  {
   "cell_type": "code",
   "execution_count": 20,
   "id": "5f7e5a11",
   "metadata": {},
   "outputs": [
    {
     "name": "stderr",
     "output_type": "stream",
     "text": [
      "100%|████████████████████████████████████████████████████████████████████████████| 50000/50000 [11:04<00:00, 75.24it/s]\n"
     ]
    }
   ],
   "source": [
    "# Если data - это DataFrame pandas:\n",
    "# .tolist() - это метод серии pandas, который преобразует серию в список.\n",
    "y = data['sentiment'].tolist()\n",
    "\n",
    "# Если data - это список словарей:\n",
    "# y = [item['sentiment'] for item in data]\n",
    "\n",
    "# Запускаем предобработку\n",
    "texts = process_data(data)\n"
   ]
  },
  {
   "cell_type": "markdown",
   "id": "10a6ecad",
   "metadata": {},
   "source": [
    "Описание:\n",
    "  > - y = y = data['sentiment'].tolist() Это генератор списка, который создает новый список y, содержащий значения 'sentiment' из датафрейма data. Это предполагает, что data - это DataFrame, где 'sentiment' - это одно из полей. В контексте анализа тональности текста, 'sentiment' обычно обозначает метку класса (например, \"положительный\" или \"отрицательный\").\n",
    "\n",
    "  > - texts = process_data(data): Это вызов функции process_data, которая, предобрабатывает данные, включая очистку текста, удаление стоп-слов и возможно другие шаги. Результат этой функции (предположительно список предобработанных текстов) сохраняется в переменной texts.\n",
    "  > - В общем, мы подготавливаем данные для дальнейшего использования в модели машинного обучения, извлекая метки классов и предобрабатывая текстовые данные.\n",
    "  > - Далее вызываем функцию process_data, передавая ей в качестве аргумента data. \n",
    "  > - Функция process_data выполняет предобработку данных, включая, возможно, очистку текста, удаление стоп-слов, токенизацию и другие шаги. Результат работы функции (список предобработанных текстов) сохраняется в переменной texts.\n",
    "  > - В итоге у нас есть два списка: y, содержащий метки классов, и texts, содержащий предобработанные тексты. Эти данные теперь можно использовать для обучения модели машинного обучения."
   ]
  },
  {
   "cell_type": "markdown",
   "id": "9321b0b8",
   "metadata": {},
   "source": [
    "Теперь каждый пример представлен списком слов. Причем все слова с маленькой буквы. Пунктуацию и стоп-слова мы удалили."
   ]
  },
  {
   "cell_type": "code",
   "execution_count": 21,
   "id": "c8d083d1",
   "metadata": {},
   "outputs": [
    {
     "name": "stdout",
     "output_type": "stream",
     "text": [
      "Label:  positive\n",
      "Tokens:  ['wonderful', 'little', 'production', 'filming', 'technique']\n"
     ]
    }
   ],
   "source": [
    "# example\n",
    "i = 1\n",
    "print(\"Label: \", y[i])\n",
    "print(\"Tokens: \", texts[i][:5])"
   ]
  },
  {
   "cell_type": "markdown",
   "id": "5b3a3c73",
   "metadata": {},
   "source": [
    "Пояснение:\n",
    "- i = 1: Задает значение переменной i равным 1. Это значение будет использоваться как индекс для извлечения элементов из списков y и texts.\n",
    "- print(\"Label: \", y[i]): Выводит на экран строку \"Label: \" и элемент из списка y с индексом i. В данном случае, поскольку i равно 1, будет выведен второй элемент списка y (индексация в Python начинается с 0). Это метка класса для второго обзора в датасете.\n",
    "- print(\"Tokens: \", texts[i][:5]): Выводит на экран строку \"Tokens: \" и первые пять элементов из списка texts с индексом i. Это первые пять токенов (слов или символов) после предобработки.\n",
    "- В общем, этот код просто показывает, как выглядит предобработанный текст и соответствующая ему метка класса в датасете.\n",
    "\n"
   ]
  },
  {
   "cell_type": "markdown",
   "id": "2124f7e2",
   "metadata": {},
   "source": [
    "#### 4. Нормализация слов"
   ]
  },
  {
   "cell_type": "code",
   "execution_count": 22,
   "id": "87c9e439",
   "metadata": {},
   "outputs": [],
   "source": [
    "from nltk.stem.snowball import SnowballStemmer\n",
    "\n",
    "# инициализируем объект стеммер\n",
    "stemmer = SnowballStemmer(\"english\")"
   ]
  },
  {
   "cell_type": "markdown",
   "id": "cafc4363",
   "metadata": {},
   "source": [
    "- Код инициализирует стеммер Snowball из библиотеки NLTK (Natural Language Toolkit) для английского языка.\n",
    "\n",
    "- Двойные кавычки вокруг \"english\" используются для указания аргумента функции или метода. В данном случае, \"english\" - это аргумент, который передается в конструктор SnowballStemmer. Этот аргумент указывает, что стеммер будет работать с английским языком.\n",
    "\n",
    "- Стеммер - это инструмент, используемый в обработке естественного языка для упрощения слов до их корневой формы (или \"леммы\"). Например, стеммер может преобразовать слова \"running\", \"runs\", \"ran\" и \"runner\" в \"run\". Это может быть полезно при анализе текста, поскольку это уменьшает размерность данных и делает его менее сложным для моделей машинного обучения."
   ]
  },
  {
   "cell_type": "code",
   "execution_count": 23,
   "id": "e3f74a2f",
   "metadata": {},
   "outputs": [
    {
     "name": "stdout",
     "output_type": "stream",
     "text": [
      "Before: wonderful, After: wonder\n",
      "Before: little, After: littl\n",
      "Before: production, After: product\n",
      "Before: filming, After: film\n",
      "Before: technique, After: techniqu\n",
      "Before: unassuming, After: unassum\n",
      "Before: -, After: -\n",
      "Before: old, After: old\n",
      "Before: -, After: -\n",
      "Before: time, After: time\n"
     ]
    }
   ],
   "source": [
    "# примеры стемминга\n",
    "i = 1\n",
    "for aword in texts[i][:10]:\n",
    "    aword_stem = stemmer.stem(aword)\n",
    "    print(\"Before: %s, After: %s\" % (aword, aword_stem))"
   ]
  },
  {
   "cell_type": "code",
   "execution_count": 24,
   "id": "af8f2dc7",
   "metadata": {},
   "outputs": [
    {
     "name": "stdout",
     "output_type": "stream",
     "text": [
      "Original text:\t This is an extension to the (ML for) Natural Language Processing course \n",
      "Stemmed text:\t this is an extens to the (ml for) natur languag process cours \n"
     ]
    }
   ],
   "source": [
    "text = 'This is an extension to the (ML for) Natural Language Processing course '\n",
    "stemmed_text = ' '.join([stemmer.stem(x) for x in text.split(' ')])\n",
    "print('Original text:\\t',text)\n",
    "print('Stemmed text:\\t',stemmed_text)"
   ]
  },
  {
   "cell_type": "code",
   "execution_count": 25,
   "id": "834d32c8",
   "metadata": {},
   "outputs": [],
   "source": [
    "# Применяем стемминг ко всем текстам\n",
    "# Стемминг - это процесс приведения слов к их основе или корню\n",
    "# Например, слова \"программирование\", \"программист\" и \"программа\" имеют общий корень \"программ\"\n",
    "# Стемминг может помочь уменьшить размер словаря и улучшить качество анализа текстов\n",
    "# Для стемминга мы используем объект stemmer, который должен быть определен заранее\n",
    "\n",
    "# Проходимся по всем текстам в списке texts с помощью цикла for\n",
    "# Используем функцию range, чтобы получить индексы текстов от 0 до длины списка texts\n",
    "for i in range(len(texts)):\n",
    "    # Для каждого текста применяем стемминг к каждому слову в тексте\n",
    "    # Используем генератор списка, чтобы создать новый список, содержащий основы слов\n",
    "    # Используем метод stem, чтобы получить основу каждого слова\n",
    "    text_stemmed = [stemmer.stem(x) for x in texts[i]]\n",
    "    # Объединяем все основы слов в одну строку через пробел\n",
    "    # Используем метод join, чтобы соединить элементы списка в одну строку\n",
    "    texts[i] = ' '.join(text_stemmed)\n"
   ]
  },
  {
   "cell_type": "code",
   "execution_count": 26,
   "id": "bd1b258f",
   "metadata": {},
   "outputs": [],
   "source": [
    "# Для инфо\n",
    "# Удаляем символы новой строки из всех текстов\n",
    "#texts = [text.replace('\\n', '') for text in texts]"
   ]
  },
  {
   "cell_type": "code",
   "execution_count": 27,
   "id": "b2b8d8ac",
   "metadata": {},
   "outputs": [
    {
     "name": "stdout",
     "output_type": "stream",
     "text": [
      "Label:  positive\n",
      "Text: \n",
      " wonder littl product film techniqu unassum - old - time - bbc fashion give comfort sometim discomfort sens realism entir piec actor extrem well chosen - michael sheen got polari voic pat truli see seamless edit guid refer william diari entri well worth watch terrif written perform piec master product one great master comedi life realism realli come home littl thing fantasi guard rather use tradit dream techniqu remain solid disappear play knowledg sens particular scene concern orton halliwel set particular flat halliwel mural decor everi surfac terribl well done\n"
     ]
    }
   ],
   "source": [
    "# посмотрим на пример\n",
    "i = 1\n",
    "print(\"Label: \",   y[i])\n",
    "# \"Text: \\n\" - Это строка, которую мы хотите вывести. \n",
    "# \\n - это специальный символ, который создает новую строку, то есть переносит курсор на следующую строку.\n",
    "# texts[i] - Это элемент списка texts на позиции i. \n",
    "# i - это индекс элемента, который мы хотим вывести. \n",
    "# Индексация в Python начинается с 0, поэтому texts[0] вернет первый элемент списка, texts[1] - второй и т.д.\n",
    "print(\"Text: \\n\",  texts[i])"
   ]
  },
  {
   "cell_type": "markdown",
   "id": "7839d266",
   "metadata": {},
   "source": [
    "#### 5. Разбьём собранные данные на train/test, отложив 20-30% наблюдений для тестирования."
   ]
  },
  {
   "cell_type": "markdown",
   "id": "fdb5ca81",
   "metadata": {},
   "source": [
    "Теоритическая справка\n",
    "Мы разбиваем собранные данные на обучающий и тестовый наборы, отложив 20-30% наблюдений для тестирования.\n",
    "Это позволит оценить, насколько хорошо наша модель будет работать на новых данных, которые она ранее не видела.\n",
    "\n",
    "Важно отметить, что порядок этих шагов может немного варьироваться в зависимости от конкретной задачи и предпочтений аналитика. Например, некоторые могут предпочесть сначала разделить данные на обучающий и тестовый наборы, а затем провести предварительную обработку текста отдельно для каждого набора. Это может помочь предотвратить утечку данных из тестового набора в обучающий."
   ]
  },
  {
   "cell_type": "markdown",
   "id": "3eb67e0b",
   "metadata": {},
   "source": [
    "Лейблы у нас также закодированы словами. Для корректной работы алгорима конвертируем их в числа (`'negative', 'positive'`):\n",
    "\n",
    "    negative = -1\n",
    "    positive = 1"
   ]
  },
  {
   "cell_type": "code",
   "execution_count": 28,
   "id": "ec3382b0",
   "metadata": {},
   "outputs": [],
   "source": [
    "# Функция для кодирования лейблов\n",
    "def label2num(y):\n",
    "    if y == 'positive':\n",
    "        return 1\n",
    "    if y == 'negative':\n",
    "        return -1\n",
    "    \n",
    "\n",
    "encoded_y = [label2num(yy) for yy in y]"
   ]
  },
  {
   "cell_type": "code",
   "execution_count": 25,
   "id": "4ad9a326",
   "metadata": {},
   "outputs": [],
   "source": [
    "# Как вариант можно сделать так как ниже\n",
    "\n",
    "# Импортируем класс OrdinalEncoder из модуля sklearn.preprocessing\n",
    "# from sklearn.preprocessing import OrdinalEncoder\n",
    "\n",
    "# Определяем функцию для кодирования меток\n",
    "# def label2num(y):\n",
    "#    if y == 'positive':\n",
    "#        return 1\n",
    "#    if y == 'negative':\n",
    "#        return -1\n",
    "\n",
    "# Создаем список меток\n",
    "# y = ['positive', 'negative']\n",
    "\n",
    "# Применяем функцию label2num к каждой метке в списке y\n",
    "# Используем генератор списка, чтобы создать новый список, содержащий числовые метки\n",
    "# encoded_y = [label2num(yy) for yy in y]\n",
    "\n",
    "# Создаем объект ordinalencoder с параметром dtype=int\n",
    "# ordinalencoder = OrdinalEncoder(dtype=int)\n",
    "\n",
    "# Вызываем метод fit_transform на объекте ordinalencoder, передав ему список меток в виде двумерной матрицы\n",
    "# Для этого мы используем метод reshape из модуля numpy\n",
    "# import numpy as np\n",
    "# ordinal_y = ordinalencoder.fit_transform(np.array(encoded_y).reshape(-1, 1))\n",
    "\n",
    "# Выводим закодированные метки на экран\n",
    "# print(ordinal_y)\n",
    "\n"
   ]
  },
  {
   "cell_type": "code",
   "execution_count": 29,
   "id": "24043c8c",
   "metadata": {},
   "outputs": [],
   "source": [
    "# Импортируем функцию train_test_split из модуля sklearn.model_selection, который предоставляет инструменты для выбора \n",
    "# и разбиения данных\n",
    "from sklearn.model_selection import train_test_split\n",
    "# Используем функцию train_test_split, чтобы разделить наши данные на обучающую и тестовую выборки\n",
    "# Передаем в качестве аргументов список текстов texts, список закодированных меток encoded_y, размер тестовой выборки test_size,\n",
    "# случайное состояние random_state и параметр стратификации stratify\n",
    "# Функция возвращает четыре массива: train_texts, test_texts, train_y, test_y, которые мы сохраняем в соответствующие переменные\n",
    "train_texts, test_texts, train_y, test_y = train_test_split(texts, encoded_y, test_size=0.2, random_state=42, stratify = y)\n",
    "# Разберем подробнее, что делает каждый аргумент функции train_test_split\n",
    "# texts - это список текстов, которые мы хотим использовать для обучения и тестирования нашей модели\n",
    "# encoded_y - это список меток, которые соответствуют текстам, например, положительный или отрицательный отзыв\n",
    "# test_size - это доля данных, которую мы хотим отвести для тестовой выборки, в нашем случае это 0.2, то есть 20%\n",
    "# random_state - это параметр, который контролирует случайность разбиения данных, если мы хотим воспроизводить результаты, \n",
    "# мы можем задать конкретное число, в нашем случае это 42\n",
    "# stratify - это параметр, который позволяет сохранить пропорцию меток в обучающей и тестовой выборках, \n",
    "# в нашем случае мы передаем список y, который содержит исходные метки\n"
   ]
  },
  {
   "cell_type": "markdown",
   "id": "42ee25fe",
   "metadata": {},
   "source": [
    "#### 6. Применим tf-idf преобразование для текстового описания.\n",
    "- Используя как отдельные токены, так и биграммы, отсеиваем стоп-слова, а также слова, которые встречаются слишком редко или слишком часто (параметры min/max_df), и конечно не забудем убрать l2 регуляризацию, которая по умолчанию включена."
   ]
  },
  {
   "cell_type": "markdown",
   "id": "a13f9a43",
   "metadata": {},
   "source": [
    "Теоритическая справка:\n",
    "- Стемминг - это процесс, при котором от слов отбрасываются окончания и суффиксы, чтобы оставить только основу слова.\n",
    "- Мы применяем TF-IDF преобразование к нашим текстовым данным, чтобы получить векторы признаков для каждого документа. \n",
    "- TF-IDF - это мера, которая отражает важность слова в документе в коллекции документов. \n",
    "- Мы используем класс TfidfVectorizer из модуля sklearn.feature_extraction.text, который позволяет преобразовать коллекцию текстов в матрицу TF-IDF признаков.\n",
    "- TF-IDF - это аббревиатура от английских слов term frequency и inverse document frequency, что означает частота слова и обратная частота документа. Это статистическая мера, которая используется для оценки важности слова в контексте документа, являющегося частью коллекции документов или корпуса. TF-IDF высокий, если слово часто встречается в документе, но редко в других документах, что означает, что оно характеризует документ. TF-IDF низкий, если слово часто встречается во многих документах, что означает, что оно не специфично для документа. TF-IDF может использоваться для извлечения ключевых слов из текстов или для векторизации текстов для машинного обучения.\n",
    "\n",
    "Для вычисления TF-IDF, вам нужно знать две величины: TF и IDF.\n",
    "\n",
    "TF (term frequency) - это отношение числа вхождений некоторого слова к общему числу слов документа. Таким образом, оценивается важность слова в пределах отдельного документа. Формула для TF выглядит так:\n",
    "\n",
    "$$TF(t, d) = \\frac{n_t}{N}$$\n",
    "\n",
    "где $t$ - это слово, $d$ - это документ, $n_t$ - это число вхождений слова $t$ в документ $d$, а $N$ - это общее число слов в документе $d$.\n",
    "\n",
    "IDF (inverse document frequency) - это инверсия частоты, с которой некоторое слово встречается в документах коллекции. Основоположником данной концепции является Карен Спарк Джонс . Учёт IDF уменьшает вес широкоупотребительных слов. Для каждого уникального слова в пределах конкретной коллекции документов существует только одно значение IDF. Формула для IDF выглядит так:\n",
    "\n",
    "$$IDF(t, D) = \\log \\frac{|D|}{| \\{ d_i \\in D \\mid t \\in d_i \\} |}$$\n",
    "\n",
    "где $t$ - это слово, $D$ - это коллекция документов, $|D|$ - это число документов в коллекции, а $| \\{ d_i \\in D \\mid t \\in d_i \\} |$ - это число документов из коллекции $D$, в которых встречается слово $t$.\n",
    "\n",
    "Таким образом, мера TF-IDF является произведением двух сомножителей:\n",
    "\n",
    "$$TFIDF(t, d, D) = TF(t, d) \\times IDF(t, D)$$\n",
    "\n",
    "Большой вес в TF-IDF получат слова с высокой частотой в пределах конкретного документа и с низкой частотой употреблений в других документах.\n"
   ]
  },
  {
   "cell_type": "code",
   "execution_count": 30,
   "id": "0c33c162",
   "metadata": {},
   "outputs": [
    {
     "data": {
      "text/plain": [
       "array(['act', 'actor', 'bad', 'charact', 'come', 'end', 'film', 'good',\n",
       "       'great', 'know'], dtype=object)"
      ]
     },
     "execution_count": 30,
     "metadata": {},
     "output_type": "execute_result"
    }
   ],
   "source": [
    "# Импортируем класс TfidfVectorizer из модуля sklearn.feature_extraction.text, который позволяет преобразовать коллекцию текстов\n",
    "# в матрицу TF-IDF признаков\n",
    "from sklearn.feature_extraction.text import TfidfVectorizer\n",
    "\n",
    "# Создаем объект vectorizer с нужными параметрами\n",
    "# ngram_range=(1, 2) означает, что мы используем как отдельные токены, так и биграммы, то есть пары соседних слов, \n",
    "# чтобы уловить контекст\n",
    "# stop_words='english' означает, что мы отсеиваем стоп-слова на английском языке, которые не несут смысловой нагрузки\n",
    "# min_df=0.2 и max_df=0.8 означают, что мы отсеиваем слова, которые встречаются менее чем в 20% или более чем в 80% документов,\n",
    "# чтобы оставить только релевантные слова\n",
    "# norm=None означает, что мы не применяем l2 регуляризацию к векторам TF-IDF, которая по умолчанию включена в TF-IDF\n",
    "# векторизатор, чтобы не штрафовать слова с большими значениями TF-IDF\n",
    "vectorizer = TfidfVectorizer(ngram_range=(1, 2), stop_words='english', min_df=0.2, max_df=0.8, norm=None)\n",
    "\n",
    "# Вызываем метод fit на объекте vectorizer, передав ему список обучающих текстов train_texts\n",
    "# Этот метод извлекает слова и биграммы из текстов и вычисляет их IDF значения\n",
    "# Затем он сохраняет полученный словарь слов и их IDF в атрибуте vocabulary_ объекта vectorizer\n",
    "vectorizer.fit(train_texts)\n",
    "\n",
    "# Вызываем метод get_feature_names_out на объекте vectorizer, чтобы получить список слов и биграмм в словаре, отсортированный \n",
    "# по алфавиту\n",
    "# Затем мы берем первые 10 элементов этого списка, чтобы увидеть топ-10 слов и биграмм по алфавиту\n",
    "vectorizer.get_feature_names_out()[:10]\n"
   ]
  },
  {
   "cell_type": "code",
   "execution_count": 31,
   "id": "92fc1c0c",
   "metadata": {},
   "outputs": [],
   "source": [
    "# Обучаем TF-IDF на train, а затем применяем к train и test\n",
    "# TF-IDF - это мера, которая отражает важность слова в документе в коллекции документов\n",
    "# TF (term frequency) - это частота слова в документе, а IDF (inverse document frequency) - это обратная частота документов,\n",
    "# содержащих слово в коллекции\n",
    "# TF-IDF высокий, если слово часто встречается в документе, но редко в других документах, что означает, что оно характеризует \n",
    "# документ\n",
    "# TF-IDF низкий, если слово часто встречается во многих документах, что означает, что оно не специфично для документа\n",
    "# TF-IDF может использоваться для извлечения ключевых слов из текстов или для векторизации текстов \n",
    "\n",
    "# Используем объект vectorizer, который мы создали ранее с помощью класса TfidfVectorizer\n",
    "# Вызываем метод fit_transform на объекте vectorizer, передав ему список обучающих текстов train_texts\n",
    "# Этот метод извлекает слова из текстов и вычисляет их IDF значения, а затем преобразует тексты в векторы TF-IDF\n",
    "# Возвращаем матрицу TF-IDF признаков для обучающих текстов и сохраняем ее в переменную train_X\n",
    "train_X = vectorizer.fit_transform(train_texts)\n",
    "\n",
    "# Вызываем метод transform на объекте vectorizer, передав ему список тестовых текстов test_texts\n",
    "# Этот метод преобразует тексты в векторы TF-IDF, используя уже известные IDF значения из обучающих текстов\n",
    "# Возвращаем матрицу TF-IDF признаков для тестовых текстов и сохраняем ее в переменную test_X\n",
    "test_X  = vectorizer.transform(test_texts)\n"
   ]
  },
  {
   "cell_type": "markdown",
   "id": "6e82b5d9",
   "metadata": {},
   "source": [
    "Теоритическая справка:\n",
    "- Стемминг - это процесс, при котором от слов отбрасываются окончания и суффиксы, чтобы оставить только основу слова.\n",
    "- Мы применяем TF-IDF преобразование к нашим текстовым данным, чтобы получить векторы признаков для каждого документа. \n",
    "- TF-IDF - это мера, которая отражает важность слова в документе в коллекции документов. \n",
    "- Мы используем класс TfidfVectorizer из модуля sklearn.feature_extraction.text, который позволяет преобразовать коллекцию текстов в матрицу TF-IDF признаков."
   ]
  },
  {
   "cell_type": "code",
   "execution_count": 32,
   "id": "cae6e32d",
   "metadata": {},
   "outputs": [
    {
     "data": {
      "text/plain": [
       "matrix([[0.        , 0.        , 0.        , 0.        , 0.        ,\n",
       "         0.        , 0.        , 0.        , 0.        , 2.48790922,\n",
       "         1.69402254, 4.57784091, 0.        , 0.        , 0.        ,\n",
       "         1.43134652, 0.        , 2.47986111, 0.        , 2.1942125 ,\n",
       "         0.        , 0.        , 0.        , 0.        , 0.        ,\n",
       "         0.        , 0.        , 0.        , 0.        , 0.        ,\n",
       "         2.58184775],\n",
       "        [0.        , 0.        , 0.        , 0.        , 2.5641311 ,\n",
       "         0.        , 0.        , 1.95246118, 0.        , 2.48790922,\n",
       "         0.        , 2.28892045, 0.        , 0.        , 0.        ,\n",
       "         4.29403957, 0.        , 2.47986111, 2.57590725, 2.1942125 ,\n",
       "         2.49345924, 2.32165585, 0.        , 0.        , 0.        ,\n",
       "         0.        , 1.88463539, 0.        , 2.00371355, 0.        ,\n",
       "         0.        ]])"
      ]
     },
     "execution_count": 32,
     "metadata": {},
     "output_type": "execute_result"
    }
   ],
   "source": [
    "# Пример\n",
    "train_X.todense()[:2] # посмотрим на первые 2 строки"
   ]
  },
  {
   "cell_type": "markdown",
   "id": "ad6a9af7",
   "metadata": {},
   "source": [
    "- В датасете целевая переменная непрерывная (например, среднее число просмотров в день), то воспользуемся линейной регрессией, если дискретная (положительный/отрицательный отзыв), то логистической.\n",
    "- В нашем случае дискретная величина\n",
    "- Построем регрессию с настройкой параметра регуляризации, оценим качество при помощи соответствующих задаче метрик."
   ]
  },
  {
   "cell_type": "markdown",
   "id": "6d2d8db1",
   "metadata": {},
   "source": [
    "#### 7. Применяем логическую регрессию"
   ]
  },
  {
   "cell_type": "markdown",
   "id": "28157475",
   "metadata": {},
   "source": [
    "- Логическая регрессия - это метод машинного обучения, который позволяет предсказывать вероятность принадлежности объекта к одному из двух классов. "
   ]
  },
  {
   "cell_type": "markdown",
   "id": "73fdc4af",
   "metadata": {},
   "source": [
    "Обоснование:\n",
    "- Обучаем два раза в TF-IDF и в логистической регрессии. Одного раза не достаточно, потому что TF-IDF и логистическая регрессия решают разные задачи. \n",
    "- TF-IDF преобразует текстовые данные в векторы признаков, которые отражают важность слов в документах.\n",
    "- Логистическая регрессия обучает модель, которая предсказывает вероятность принадлежности документа к одному из двух классов, например, положительный или отрицательный отзыв.\n",
    "- Таким образом, TF-IDF подготавливает данные для логистической регрессии, а логистическая регрессия обучает модель на этих данных. Оба шага необходимы для построения эффективной модели машинного обучения на текстовых данных."
   ]
  },
  {
   "cell_type": "code",
   "execution_count": 33,
   "id": "44e38233",
   "metadata": {},
   "outputs": [],
   "source": [
    "# Обучаем модель логистической регрессии на векторах TF-IDF\n",
    "# Логистическая регрессия - это метод машинного обучения, который позволяет предсказывать вероятность принадлежности объекта\n",
    "# к одному из двух классов, например, положительный или отрицательный отзыв\n",
    "# Логистическая регрессия строит линейную границу решения между классами и применяет логистическую функцию к линейной комбинации\n",
    "# признаков, чтобы получить вероятность принадлежности к положительному классу\n",
    "# Логистическая регрессия также использует регуляризацию, чтобы предотвратить переобучение модели, то есть слишком сильную\n",
    "# подгонку под обучающие данные\n",
    "\n",
    "# Импортируем класс LogisticRegression из модуля sklearn.linear_model, который позволяет создавать и обучать модели логистической регрессии\n",
    "from sklearn.linear_model import LogisticRegression\n"
   ]
  },
  {
   "cell_type": "code",
   "execution_count": 34,
   "id": "9eff11d6",
   "metadata": {},
   "outputs": [],
   "source": [
    "# Регуляризация добавляет штраф к функции потерь модели, который зависит от величины весов признаков\n",
    "# Регуляризация может быть l1 или l2, в зависимости от того, какой нормы весов мы используем для штрафа\n",
    "# l1 регуляризация уменьшает некоторые веса признаков до нуля, тем самым делая модель более разреженной и отбирая наиболее \n",
    "# важные признаки\n",
    "# l2 регуляризация уменьшает все веса признаков, но не до нуля, тем самым делая модель более гладкой и предотвращая слишком \n",
    "# большие значения весов\n",
    "# Сила регуляризации контролируется параметром C, который является обратным значением коэффициента регуляризации\n",
    "# Чем меньше C, тем сильнее регуляризация, и наоборот\n",
    "# Подбор оптимального значения C можно делать с помощью кросс-валидации, то есть разбиения обучающих данных на несколько\n",
    "# частей и проверки качества модели на каждой из них\n",
    "# Создаем объект model с помощью класса LogisticRegression из модуля sklearn.linear_model\n",
    "# Указываем параметры, например, C=1.0, чтобы задать среднюю силу регуляризации\n",
    "# penalty=\"l2\", чтобы задать тип регуляризации\n",
    "# random_state=42, чтобы зафиксировать случайное состояние модели и получать воспроизводимые результаты\n",
    "model = LogisticRegression(C=1.0, penalty=\"l2\", random_state=42)"
   ]
  },
  {
   "cell_type": "code",
   "execution_count": 35,
   "id": "d77ad7d2",
   "metadata": {},
   "outputs": [
    {
     "data": {
      "text/html": [
       "<style>#sk-container-id-1 {color: black;}#sk-container-id-1 pre{padding: 0;}#sk-container-id-1 div.sk-toggleable {background-color: white;}#sk-container-id-1 label.sk-toggleable__label {cursor: pointer;display: block;width: 100%;margin-bottom: 0;padding: 0.3em;box-sizing: border-box;text-align: center;}#sk-container-id-1 label.sk-toggleable__label-arrow:before {content: \"▸\";float: left;margin-right: 0.25em;color: #696969;}#sk-container-id-1 label.sk-toggleable__label-arrow:hover:before {color: black;}#sk-container-id-1 div.sk-estimator:hover label.sk-toggleable__label-arrow:before {color: black;}#sk-container-id-1 div.sk-toggleable__content {max-height: 0;max-width: 0;overflow: hidden;text-align: left;background-color: #f0f8ff;}#sk-container-id-1 div.sk-toggleable__content pre {margin: 0.2em;color: black;border-radius: 0.25em;background-color: #f0f8ff;}#sk-container-id-1 input.sk-toggleable__control:checked~div.sk-toggleable__content {max-height: 200px;max-width: 100%;overflow: auto;}#sk-container-id-1 input.sk-toggleable__control:checked~label.sk-toggleable__label-arrow:before {content: \"▾\";}#sk-container-id-1 div.sk-estimator input.sk-toggleable__control:checked~label.sk-toggleable__label {background-color: #d4ebff;}#sk-container-id-1 div.sk-label input.sk-toggleable__control:checked~label.sk-toggleable__label {background-color: #d4ebff;}#sk-container-id-1 input.sk-hidden--visually {border: 0;clip: rect(1px 1px 1px 1px);clip: rect(1px, 1px, 1px, 1px);height: 1px;margin: -1px;overflow: hidden;padding: 0;position: absolute;width: 1px;}#sk-container-id-1 div.sk-estimator {font-family: monospace;background-color: #f0f8ff;border: 1px dotted black;border-radius: 0.25em;box-sizing: border-box;margin-bottom: 0.5em;}#sk-container-id-1 div.sk-estimator:hover {background-color: #d4ebff;}#sk-container-id-1 div.sk-parallel-item::after {content: \"\";width: 100%;border-bottom: 1px solid gray;flex-grow: 1;}#sk-container-id-1 div.sk-label:hover label.sk-toggleable__label {background-color: #d4ebff;}#sk-container-id-1 div.sk-serial::before {content: \"\";position: absolute;border-left: 1px solid gray;box-sizing: border-box;top: 0;bottom: 0;left: 50%;z-index: 0;}#sk-container-id-1 div.sk-serial {display: flex;flex-direction: column;align-items: center;background-color: white;padding-right: 0.2em;padding-left: 0.2em;position: relative;}#sk-container-id-1 div.sk-item {position: relative;z-index: 1;}#sk-container-id-1 div.sk-parallel {display: flex;align-items: stretch;justify-content: center;background-color: white;position: relative;}#sk-container-id-1 div.sk-item::before, #sk-container-id-1 div.sk-parallel-item::before {content: \"\";position: absolute;border-left: 1px solid gray;box-sizing: border-box;top: 0;bottom: 0;left: 50%;z-index: -1;}#sk-container-id-1 div.sk-parallel-item {display: flex;flex-direction: column;z-index: 1;position: relative;background-color: white;}#sk-container-id-1 div.sk-parallel-item:first-child::after {align-self: flex-end;width: 50%;}#sk-container-id-1 div.sk-parallel-item:last-child::after {align-self: flex-start;width: 50%;}#sk-container-id-1 div.sk-parallel-item:only-child::after {width: 0;}#sk-container-id-1 div.sk-dashed-wrapped {border: 1px dashed gray;margin: 0 0.4em 0.5em 0.4em;box-sizing: border-box;padding-bottom: 0.4em;background-color: white;}#sk-container-id-1 div.sk-label label {font-family: monospace;font-weight: bold;display: inline-block;line-height: 1.2em;}#sk-container-id-1 div.sk-label-container {text-align: center;}#sk-container-id-1 div.sk-container {/* jupyter's `normalize.less` sets `[hidden] { display: none; }` but bootstrap.min.css set `[hidden] { display: none !important; }` so we also need the `!important` here to be able to override the default hidden behavior on the sphinx rendered scikit-learn.org. See: https://github.com/scikit-learn/scikit-learn/issues/21755 */display: inline-block !important;position: relative;}#sk-container-id-1 div.sk-text-repr-fallback {display: none;}</style><div id=\"sk-container-id-1\" class=\"sk-top-container\"><div class=\"sk-text-repr-fallback\"><pre>LogisticRegression(random_state=42)</pre><b>In a Jupyter environment, please rerun this cell to show the HTML representation or trust the notebook. <br />On GitHub, the HTML representation is unable to render, please try loading this page with nbviewer.org.</b></div><div class=\"sk-container\" hidden><div class=\"sk-item\"><div class=\"sk-estimator sk-toggleable\"><input class=\"sk-toggleable__control sk-hidden--visually\" id=\"sk-estimator-id-1\" type=\"checkbox\" checked><label for=\"sk-estimator-id-1\" class=\"sk-toggleable__label sk-toggleable__label-arrow\">LogisticRegression</label><div class=\"sk-toggleable__content\"><pre>LogisticRegression(random_state=42)</pre></div></div></div></div></div>"
      ],
      "text/plain": [
       "LogisticRegression(random_state=42)"
      ]
     },
     "execution_count": 35,
     "metadata": {},
     "output_type": "execute_result"
    }
   ],
   "source": [
    "# Обучаем model на векторах TF-IDF и метках обучающей выборки с помощью метода fit\n",
    "model.fit(train_X, train_y)"
   ]
  },
  {
   "cell_type": "code",
   "execution_count": 36,
   "id": "410c0954",
   "metadata": {},
   "outputs": [],
   "source": [
    "# Предсказываем метки тестовой выборки с помощью метода predict\n",
    "# Сохраняем список предсказанных меток в переменную pred_y\n",
    "pred_y = model.predict(test_X)"
   ]
  },
  {
   "cell_type": "code",
   "execution_count": 37,
   "id": "01c76c7c",
   "metadata": {},
   "outputs": [],
   "source": [
    "# Оцениваем качество модели с помощью различных метрик\n",
    "# Метрики качества - это численные показатели, которые отражают, насколько хорошо модель справляется с задачей\n",
    "# Для задачи бинарной классификации, как в нашем случае, мы можем использовать следующие метрики:\n",
    "# Точность (accuracy) - это доля правильно предсказанных меток от общего числа меток\n",
    "# Матрица ошибок (confusion matrix) - это таблица, которая показывает, сколько объектов каждого класса было правильно \n",
    "# или неправильно предсказано моделью\n",
    "# Площадь под кривой ROC (ROC AUC) - это мера, которая отражает, насколько хорошо модель разделяет классы, \n",
    "# основываясь на вероятностях, которые она выдает\n",
    "# ROC кривая - это график, который показывает зависимость доли верно классифицированных положительных объектов (TPR)\n",
    "# от доли неверно классифицированных отрицательных объектов (FPR) при изменении порога вероятности, \n",
    "# по которому мы относим объект к положительному классу\n",
    "# Площадь под кривой ROC равна 1, если модель идеально разделяет классы, и равна 0.5, если модель не лучше случайного угадывания\n",
    "\n",
    "# Импортируем функции accuracy_score, confusion_matrix и roc_auc_score из модуля sklearn.metrics, который предоставляет \n",
    "# инструменты для оценки качества моделей\n",
    "from sklearn.metrics import accuracy_score, confusion_matrix, roc_auc_score"
   ]
  },
  {
   "cell_type": "code",
   "execution_count": 38,
   "id": "a5da419b",
   "metadata": {},
   "outputs": [
    {
     "name": "stdout",
     "output_type": "stream",
     "text": [
      "Accuracy: 0.6849\n"
     ]
    }
   ],
   "source": [
    "# Вычисляем точность модели с помощью функции accuracy_score\n",
    "# Передаем в качестве аргументов список истинных меток для тестовых данных и список предсказанных меток\n",
    "# Функция возвращает значение точности в диапазоне от 0 до 1\n",
    "accuracy = accuracy_score(test_y, pred_y)\n",
    "\n",
    "# Выводим значение точности на экран\n",
    "print(f\"Accuracy: {accuracy}\")"
   ]
  },
  {
   "cell_type": "code",
   "execution_count": 39,
   "id": "c6a5cdbb",
   "metadata": {},
   "outputs": [
    {
     "name": "stdout",
     "output_type": "stream",
     "text": [
      "Confusion matrix:\n",
      "[[3275 1725]\n",
      " [1426 3574]]\n"
     ]
    }
   ],
   "source": [
    "# Вычисляем матрицу ошибок с помощью функции confusion_matrix\n",
    "# Передаем в качестве аргументов список истинных меток для тестовых данных и список предсказанных меток\n",
    "# Функция возвращает матрицу размера 2x2, где элементы по диагонали - это количество верно предсказанных объектов каждого класса,\n",
    "# а элементы вне диагонали - это количество неверно предсказанных объектов\n",
    "# Матрица имеет следующий вид:\n",
    "# [[TN, FP],\n",
    "#  [FN, TP]]\n",
    "# где TN - количество верно предсказанных отрицательных объектов, FP - количество неверно предсказанных положительных объектов,\n",
    "# FN - количество неверно предсказанных отрицательных объектов, TP - количество верно предсказанных положительных объектов\n",
    "conf_matrix = confusion_matrix(test_y, pred_y)\n",
    "\n",
    "# Выводим матрицу ошибок на экран\n",
    "print(f\"Confusion matrix:\\n{conf_matrix}\")"
   ]
  },
  {
   "cell_type": "code",
   "execution_count": 40,
   "id": "ec8eefd3",
   "metadata": {},
   "outputs": [],
   "source": [
    "# Вычисляем площадь под кривой ROC с помощью функции roc_auc_score\n",
    "# Передаем в качестве аргументов список истинных меток для тестовых данных и список вероятностей принадлежности \n",
    "# к положительному классу, которые можно получить с помощью метода predict_proba объекта model\n",
    "# Функция возвращает значение площади под кривой ROC в диапазоне от 0 до 1\n",
    "roc_auc = roc_auc_score(test_y, model.predict_proba(test_X)[:, 1])"
   ]
  },
  {
   "cell_type": "code",
   "execution_count": 41,
   "id": "148f40d7",
   "metadata": {},
   "outputs": [
    {
     "name": "stdout",
     "output_type": "stream",
     "text": [
      "ROC AUC: 0.75189222\n"
     ]
    }
   ],
   "source": [
    "# Выводим значение площади под кривой ROC на экран\n",
    "print(f\"ROC AUC: {roc_auc}\")"
   ]
  },
  {
   "cell_type": "markdown",
   "id": "34d3bbdb",
   "metadata": {},
   "source": [
    "####  8. Визуализируем получившиеся коэффициенты регрессии (возьмем топ-50 слов)."
   ]
  },
  {
   "cell_type": "code",
   "execution_count": 42,
   "id": "040c14be",
   "metadata": {},
   "outputs": [],
   "source": [
    "# Визуализируем коэффициенты регрессии, которые отражают важность признаков для модели\n",
    "# Коэффициенты регрессии - это веса, которые модель присваивает каждому признаку, чтобы получить линейную комбинацию признаков\n",
    "# Чем больше по модулю коэффициент регрессии, тем больше влияние признака на предсказание модели\n",
    "# Знак коэффициента регрессии показывает, как признак влияет на вероятность принадлежности к положительному классу: \n",
    "# положительный знак означает, что признак увеличивает вероятность, а отрицательный знак - что уменьшает\n",
    "\n",
    "# Получаем список коэффициентов регрессии с помощью атрибута coef_ объекта model\n",
    "# Атрибут coef_ возвращает массив размера 1xN, где N - количество признаков\n",
    "# Преобразуем массив в одномерный список с помощью метода flatten\n",
    "coefs = model.coef_.flatten()"
   ]
  },
  {
   "cell_type": "code",
   "execution_count": 43,
   "id": "714880f9",
   "metadata": {},
   "outputs": [],
   "source": [
    "# Получаем список слов, соответствующих признакам, с помощью метода get_feature_names_out объекта vectorizer\n",
    "# Метод get_feature_names_out возвращает список слов в словаре, отсортированный по алфавиту\n",
    "words = vectorizer.get_feature_names_out()"
   ]
  },
  {
   "cell_type": "code",
   "execution_count": 44,
   "id": "2e705a31",
   "metadata": {},
   "outputs": [],
   "source": [
    "# Создаем датафрейм с двумя столбцами: word - слово, coef - коэффициент регрессии\n",
    "# Используем функцию pd.DataFrame, передавая в качестве аргументов словарь с именами столбцов и списками значений\n",
    "df = pd.DataFrame({\"word\": words, \"coef\": coefs})"
   ]
  },
  {
   "cell_type": "code",
   "execution_count": 52,
   "id": "aaae3134",
   "metadata": {},
   "outputs": [],
   "source": [
    "# Сортируем датафрейм по модулю коэффициента регрессии в убывающем порядке, чтобы получить топ-50 самых важных слов для модели\n",
    "# Используем метод sort_values, передавая в качестве аргументов имя столбца, по которому сортируем, и параметр ascending=False,\n",
    "# чтобы сортировать в убывающем порядке\n",
    "# Используем метод abs, чтобы применить модуль к столбцу coef\n",
    "# Используем метод head, чтобы взять первые 50 строк датафрейма\n",
    "df = df.sort_values(by='coef', key=abs, ascending=False).head(50)\n"
   ]
  },
  {
   "cell_type": "code",
   "execution_count": 45,
   "id": "b4a26b95",
   "metadata": {},
   "outputs": [
    {
     "name": "stdout",
     "output_type": "stream",
     "text": [
      "Toп 50 признаков:\n",
      "       word      coef\n",
      "0       act -0.098941\n",
      "1     actor -0.057233\n",
      "2       bad -0.383062\n",
      "3   charact -0.014226\n",
      "4      come  0.011513\n",
      "5       end -0.007804\n",
      "6      film  0.021687\n",
      "7      good  0.079371\n",
      "8     great  0.293388\n",
      "9      know -0.000778\n",
      "10     like -0.032909\n",
      "11     look -0.094273\n",
      "12     love  0.181848\n",
      "13     make -0.043262\n",
      "14     mani  0.074989\n",
      "15     movi -0.041379\n",
      "16    peopl  0.005574\n",
      "17     play  0.080175\n",
      "18     plot -0.131914\n",
      "19   realli -0.008951\n",
      "20      say -0.035772\n",
      "21    scene -0.019067\n",
      "22     seen  0.051394\n",
      "23    stori  0.039014\n",
      "24    thing -0.054572\n",
      "25    think  0.008523\n",
      "26     time  0.038194\n",
      "27     want -0.051280\n",
      "28    watch -0.022794\n",
      "29      way  0.041737\n",
      "30     work  0.048527\n"
     ]
    }
   ],
   "source": [
    "# Выводим первые 50 строк датафрейма на экран, чтобы увидеть топ-50 самых важных признаков для модели\n",
    "# Используем метод head для получения первых n строк датафрейма\n",
    "# Передаем в качестве аргумента число 50\n",
    "print(f\"Toп 50 признаков:\\n{df.head(50)}\")"
   ]
  },
  {
   "cell_type": "code",
   "execution_count": 46,
   "id": "57eb02de",
   "metadata": {},
   "outputs": [],
   "source": [
    "# Визуализируем коэффициенты регрессии с помощью графика\n",
    "# Используем библиотеку matplotlib.pyplot для построения графика\n",
    "# Импортируем библиотеку с помощью команды import matplotlib.pyplot as plt\n",
    "import matplotlib.pyplot as plt"
   ]
  },
  {
   "cell_type": "code",
   "execution_count": 47,
   "id": "f5dde8df",
   "metadata": {},
   "outputs": [
    {
     "data": {
      "image/png": "[encoded data removed]",
      "text/plain": [
       "<Figure size 640x480 with 1 Axes>"
      ]
     },
     "metadata": {},
     "output_type": "display_data"
    }
   ],
   "source": [
    "# Создаем горизонтальный столбчатый график, который показывает коэффициенты регрессии для топ-50 признаков\n",
    "# Используем функцию barh для создания графика\n",
    "# Передаем в качестве аргументов столбец word датафрейма df, который содержит названия признаков, и столбец coef, \n",
    "# который содержит значения коэффициентов регрессии\n",
    "# Параметр color позволяет задать цвет столбцов в зависимости от знака коэффициента: зеленый для положительных и \n",
    "# красный для отрицательных\n",
    "# Параметр edgecolor позволяет задать цвет границ столбцов\n",
    "plt.barh(df[\"word\"].head(50), df[\"coef\"].head(50), color=[\"green\" if x > 0 else \"red\" for x in df[\"coef\"].head(50)], edgecolor=\"black\")\n",
    "\n",
    "# Добавляем заголовок графика с помощью функции title\n",
    "plt.title(\"Коэффициенты логистической регрессии для топ-50 признаков\")\n",
    "\n",
    "# Добавляем подписи осей с помощью функций xlabel и ylabel\n",
    "plt.xlabel(\"Коэффициент\")\n",
    "plt.ylabel(\"Признаки\")\n",
    "\n",
    "# Показываем график\n",
    "plt.show()\n"
   ]
  },
  {
   "cell_type": "markdown",
   "id": "81186b66",
   "metadata": {},
   "source": [
    "<h6 style= 'color: blue'>  Вывод по графику </h6> \n",
    "\n",
    "- График показывает, какие слова имеют наибольшее по модулю влияние на предсказание модели, и какой знак у этого влияния. Зеленые столбцы соответствуют словам, которые увеличивают вероятность принадлежности к положительному классу, а красные столбцы - словам, которые уменьшают эту вероятность.\n",
    "- Самое влиятельное слово по модулю - это “bad”, которое имеет отрицательный коэффициент -0.383062. Это означает, что если отзыв содержит это слово, то вероятность того, что он положительный, сильно снижается. Это логично, так как слово “bad” обычно используется для выражения негативного отношения к фильму.\n",
    "- Самое влиятельное слово с положительным знаком - это “great”, которое имеет коэффициент 0.293388. Это означает, что если отзыв содержит это слово, то вероятность того, что он положительный, сильно повышается. Это тоже логично, так как слово “great” обычно используется для выражения положительного отношения к фильму.\n",
    "- В топ-50 признаков входят также слова “love”, “plot”, “act”, “look” и “actor”, которые имеют большой по модулю коэффициент. Это означает, что эти слова тоже сильно влияют на предсказание модели, но в разных направлениях. Слова “love”, “play”, “good” и “mani” имеют положительное влияние, \n",
    "- а слова “plot”, “act”, “look” и “actor” - отрицательное. Это может быть связано с тем, что эти слова часто используются для оценки разных аспектов фильма, таких как сюжет, актерская игра, внешний вид и т.д., и могут иметь разный окрас в зависимости от контекста и тональности отзыва.\n",
    "- В топ-50 признаков также входят слова, которые имеют маленький по модулю коэффициент, например, “know”, “end”, “realli” и т.д. Это означает, что эти слова слабо влияют на предсказание модели, и могут быть не очень информативными для задачи классификации. Это может быть связано с тем, что эти слова часто используются в разных контекстах и не несут сильной эмоциональной окраски. От которых можно избавиться в последствии при новом обучении."
   ]
  },
  {
   "cell_type": "markdown",
   "id": "16d1e894",
   "metadata": {},
   "source": [
    "<h6 style= 'color: blue'> Общий вывод </h6>\n",
    "\n",
    "- Результат логистической регрессии для задачи бинарной классификации текстовых отзывов на фильмы. \n",
    "- Модель предсказала, является ли отзыв положительным или отрицательным, на основе слов, которые в нем содержатся. \n",
    "- Мы использовали различные метрики качества, чтобы оценить, насколько хорошо модель справляется с задачей:\n",
    "- Точность (accuracy) - это доля правильно предсказанных меток от общего числа меток. Модель имеет точность 0.6849, что означает, что она правильно предсказывает 68.49% отзывов. Это неплохой результат, но не идеальный. Это может быть связано с тем, что модель не учитывает контекст, тональность или сарказм в отзывах, а также с тем, что некоторые отзывы могут быть неоднозначными или смешанными.\n",
    "- Площадь под кривой ROC (ROC AUC) - это мера, которая отражает, насколько хорошо модель разделяет классы, основываясь на вероятностях, которые она выдает. \n",
    "- ROC кривая - это график, который показывает зависимость доли верно классифицированных положительных объектов (TPR) от доли неверно классифицированных отрицательных объектов (FPR) при изменении порога вероятности, по которому мы относим объект к положительному классу. \n",
    "- Площадь под кривой ROC равна 1, если модель идеально разделяет классы, и равна 0.5, если модель не лучше случайного угадывания. Модель имеет площадь под кривой ROC 0.7519, что означает, что она достаточно хорошо разделяет классы, но не идеально. \n",
    "- Топ 50 признаков - это список слов, которые имеют наибольший по модулю коэффициент регрессии. Коэффициент регрессии - это вес, который модель присваивает каждому слову, чтобы получить линейную комбинацию слов. Чем больше по модулю коэффициент регрессии, тем больше влияние слова на предсказание модели. \n",
    "- Из графика мы можем сделать следующий вывод:\n",
    "- Модель улавливает некоторые общие слова, которые часто используются для выражения положительного или отрицательного отношения к фильму, но не учитывает более специфические или необычные слова, которые также могут быть важными.\n",
    "- Наша модель не учитывает контекст, тональность или сарказм в отзывах, а также не учитывает различия в сложности и длине отзывов, а также не учитывает противоречивые или неявные сигналы."
   ]
  },
  {
   "cell_type": "markdown",
   "id": "2d86e88f",
   "metadata": {},
   "source": [
    "#### Возможные улучшения модели"
   ]
  },
  {
   "cell_type": "markdown",
   "id": "19700f49",
   "metadata": {},
   "source": [
    "- Модель может быть улучшена, если мы используем другие типы векторизации текста, которые учитывают не только частоту слов, но и их важность, контекст и порядок, а также если мы используем другие модели или комбинируем несколько моделей в одну.\n",
    "- Точность - это одна из метрик качества, которая показывает, какая доля объектов была правильно предсказана моделью. Однако, точность не всегда является лучшей метрикой для оценки модели, особенно если данные несбалансированы, то есть один класс значительно превосходит другой по количеству объектов. В таком случае, модель может игнорировать меньший класс и предсказывать только больший класс, что приведет к высокой точности, но низкому качеству.\n",
    "- Для того, чтобы увеличить точность и другие метрики качества, нам нужно улучшить модель. Это можно сделать разными способами, например:\n",
    "- Подобрать оптимальные гиперпараметры модели, такие как коэффициент регуляризации, который контролирует сложность модели и предотвращает переобучение.\n",
    "- Для этого мы можем использовать функции GridSearchCV или RandomizedSearchCV из модуля sklearn.model_selection, которые позволяют перебирать разные значения гиперпараметров и выбирать лучшие по заданной метрике качества.\n",
    "- Преобразовать или отобрать признаки, которые используете для обучения модели. Некоторые признаки могут быть бесполезными или шумными для модели, поэтому их можно удалить или заменить на другие.\n",
    "- Использовать другую модель или комбинировать несколько моделей в одну. \n",
    "- Логистическая регрессия - это одна из простых и популярных моделей для бинарной классификации, но она может быть неэффективной для сложных или нелинейных данных. \n",
    "- В таком случае, мы можете попробовать другие модели, такие как деревья решений, случайный лес, градиентный бустинг, нейронные сети и т.д."
   ]
  },
  {
   "cell_type": "code",
   "execution_count": 48,
   "id": "ea6f3bd1",
   "metadata": {},
   "outputs": [
    {
     "data": {
      "text/plain": [
       "['LogisticRegression_model']"
      ]
     },
     "execution_count": 48,
     "metadata": {},
     "output_type": "execute_result"
    }
   ],
   "source": [
    "# Сериализовать объект\n",
    "import joblib\n",
    "joblib.dump(model, 'LogisticRegression_model')"
   ]
  },
  {
   "cell_type": "markdown",
   "id": "eaad1b26",
   "metadata": {},
   "source": [
    "Спасибо за внимание!"
   ]
  }
 ],
 "metadata": {
  "kernelspec": {
   "display_name": "Python 3 (ipykernel)",
   "language": "python",
   "name": "python3"
  },
  "language_info": {
   "codemirror_mode": {
    "name": "ipython",
    "version": 3
   },
   "file_extension": ".py",
   "mimetype": "text/x-python",
   "name": "python",
   "nbconvert_exporter": "python",
   "pygments_lexer": "ipython3",
   "version": "3.11.5"
  }
 },
 "nbformat": 4,
 "nbformat_minor": 5
}
