{
 "cells": [
  {
   "cell_type": "markdown",
   "id": "f5386653",
   "metadata": {
    "_cell_guid": "b1076dfc-b9ad-4769-8c92-a6c4dae69d19",
    "_uuid": "8f2839f25d086af736a60e9eeb907d3b93b6e0e5",
    "execution": {
     "iopub.execute_input": "2023-08-02T13:00:03.609159Z",
     "iopub.status.busy": "2023-08-02T13:00:03.608570Z",
     "iopub.status.idle": "2023-08-02T13:00:03.632709Z",
     "shell.execute_reply": "2023-08-02T13:00:03.631448Z"
    },
    "papermill": {
     "duration": 0.03964,
     "end_time": "2023-08-02T13:00:03.636136",
     "exception": false,
     "start_time": "2023-08-02T13:00:03.596496",
     "status": "completed"
    },
    "tags": []
   },
   "source": [
    "<h6 style= 'color: blue'>  Часть третья </h6> \n",
    "  "
   ]
  },
  {
   "cell_type": "code",
   "execution_count": 1,
   "id": "80309c31",
   "metadata": {
    "execution": {
     "iopub.execute_input": "2023-08-02T13:00:03.658251Z",
     "iopub.status.busy": "2023-08-02T13:00:03.657866Z",
     "iopub.status.idle": "2023-08-02T13:00:05.026549Z",
     "shell.execute_reply": "2023-08-02T13:00:05.025085Z"
    },
    "papermill": {
     "duration": 1.383246,
     "end_time": "2023-08-02T13:00:05.029865",
     "exception": false,
     "start_time": "2023-08-02T13:00:03.646619",
     "status": "completed"
    },
    "tags": []
   },
   "outputs": [],
   "source": [
    "# Импортируем библиотеку numpy для работы с линейной алгеброй\n",
    "import numpy as np\n",
    "# Импортируем библиотеку pandas для работы с данными, чтения и записи файлов в формате CSV\n",
    "import pandas as pd\n",
    "# Импортируем модуль warnings для управления предупреждениями, которые могут возникать при выполнении кода\n",
    "import warnings\n",
    "# Используем метод filterwarnings для игнорирования всех предупреждений\n",
    "warnings.filterwarnings(\"ignore\")\n",
    "# Импортируем модуль sklearn.model_selection для разделения данных на обучающую и тестовую выборки\n",
    "from sklearn.model_selection import train_test_split\n",
    "\n",
    "# Импортируем функции для оценки качества классификации\n",
    "# Функция classification_report строит текстовый отчет, показывающий основные метрики классификации, такие как точность, \n",
    "# полнота и F1-мера для каждого класса \n",
    "# Функция confusion_matrix вычисляет матрицу ошибок, чтобы оценить точность классификации \n",
    "# Класс ConfusionMatrixDisplay позволяет визуализировать матрицу ошибок с помощью matplotlib\n",
    "from sklearn.metrics import classification_report, confusion_matrix, ConfusionMatrixDisplay\n",
    "\n",
    "# Импортируем модуль sklearn.preprocessing для стандартизации данных\n",
    "from sklearn.preprocessing import StandardScaler"
   ]
  },
  {
   "cell_type": "code",
   "execution_count": 3,
   "id": "01483d6f",
   "metadata": {
    "execution": {
     "iopub.execute_input": "2023-08-02T13:00:05.051274Z",
     "iopub.status.busy": "2023-08-02T13:00:05.050810Z",
     "iopub.status.idle": "2023-08-02T13:00:23.798878Z",
     "shell.execute_reply": "2023-08-02T13:00:23.797237Z"
    },
    "papermill": {
     "duration": 18.762386,
     "end_time": "2023-08-02T13:00:23.802037",
     "exception": false,
     "start_time": "2023-08-02T13:00:05.039651",
     "status": "completed"
    },
    "tags": []
   },
   "outputs": [],
   "source": [
    "# Устанавливаем библиотеку pyod - это инструмент для обнаружения выбросов в многомерных данных\n",
    "# %pip install pyod\n",
    "\n",
    "# Я пока закоментирую."
   ]
  },
  {
   "cell_type": "code",
   "execution_count": 4,
   "id": "3acab967",
   "metadata": {},
   "outputs": [
    {
     "name": "stdout",
     "output_type": "stream",
     "text": [
      "WARNING:tensorflow:From C:\\Users\\kolin\\AppData\\Roaming\\Python\\Python311\\site-packages\\keras\\src\\losses.py:2976: The name tf.losses.sparse_softmax_cross_entropy is deprecated. Please use tf.compat.v1.losses.sparse_softmax_cross_entropy instead.\n",
      "\n",
      "2.15.0\n"
     ]
    }
   ],
   "source": [
    "import tensorflow as tf\n",
    "print(tf.__version__)"
   ]
  },
  {
   "cell_type": "code",
   "execution_count": 5,
   "id": "9fcc416f",
   "metadata": {
    "execution": {
     "iopub.execute_input": "2023-08-02T13:00:23.827978Z",
     "iopub.status.busy": "2023-08-02T13:00:23.826550Z",
     "iopub.status.idle": "2023-08-02T13:00:25.444070Z",
     "shell.execute_reply": "2023-08-02T13:00:25.442779Z"
    },
    "papermill": {
     "duration": 1.633404,
     "end_time": "2023-08-02T13:00:25.446947",
     "exception": false,
     "start_time": "2023-08-02T13:00:23.813543",
     "status": "completed"
    },
    "tags": []
   },
   "outputs": [],
   "source": [
    "# Импортируем функцию evaluate_print из модуля pyod.utils.data\n",
    "from pyod.utils.data import evaluate_print\n",
    "# Функция evaluate_print принимает на вход истинные метки (y) и прогнозируемые оценки выбросов (scores) и \n",
    "# выводит метрики ROC-AUC и Precision\n",
    "# ROC-AUC - это площадь под кривой ROC, которая показывает, насколько хорошо модель разделяет выбросы и нормальные объекты \n",
    "# Precision - это доля выбросов среди n объектов с самыми высокими оценками выбросов"
   ]
  },
  {
   "cell_type": "markdown",
   "id": "33c48c81",
   "metadata": {},
   "source": [
    "Определяем функцию с метриками"
   ]
  },
  {
   "cell_type": "code",
   "execution_count": 6,
   "id": "5384a6a2",
   "metadata": {},
   "outputs": [],
   "source": [
    "# Определяем функцию, которая принимает на вход модель и истинные метки (y_train)\n",
    "def metrics(model, y_train):\n",
    "    # Получаем предсказанные метки (y_pred) из атрибута labels_ модели\n",
    "    y_pred = model.labels_\n",
    "    # Вызываем функцию evaluate_print из модуля pyod.utils.data, которая выводит метрики ROC-AUC и Precision\n",
    "    evaluate_print(model.__class__, y_train, y_pred)\n",
    "    # Вызываем функцию classification_report из модуля sklearn.metrics, которая строит текстовый отчет с основными\n",
    "    # метриками классификации, такими как точность, полнота и F1-мера для каждого класса \n",
    "    print(classification_report(y_train, y_pred))\n",
    "    # Вызываем функцию confusion_matrix из модуля sklearn.metrics, которая вычисляет матрицу ошибок, чтобы оценить\n",
    "    # точность классификации \n",
    "    cm = confusion_matrix(y_train, y_pred)\n",
    "    # Выводим матрицу ошибок\n",
    "    print(cm)\n",
    "    # Создаем объект класса ConfusionMatrixDisplay из модуля sklearn.metrics, передавая ему матрицу ошибок в\n",
    "    # качестве аргумента \n",
    "    disp = ConfusionMatrixDisplay(confusion_matrix=cm)\n",
    "    # Вызываем метод plot объекта disp, который визуализирует матрицу ошибок \n",
    "    disp.plot()\n"
   ]
  },
  {
   "cell_type": "code",
   "execution_count": 7,
   "id": "14644f35",
   "metadata": {
    "execution": {
     "iopub.execute_input": "2023-08-02T13:00:25.508892Z",
     "iopub.status.busy": "2023-08-02T13:00:25.508455Z",
     "iopub.status.idle": "2023-08-02T13:00:25.514284Z",
     "shell.execute_reply": "2023-08-02T13:00:25.513026Z"
    },
    "papermill": {
     "duration": 0.02096,
     "end_time": "2023-08-02T13:00:25.516826",
     "exception": false,
     "start_time": "2023-08-02T13:00:25.495866",
     "status": "completed"
    },
    "tags": []
   },
   "outputs": [],
   "source": [
    "import numpy as np\n",
    "# Устанавливаем случайное зерно для воспроизводимости результатов\n",
    "np.random.seed(42)"
   ]
  },
  {
   "cell_type": "markdown",
   "id": "564afa53",
   "metadata": {},
   "source": [
    "Теоритическая справка\n",
    "Seed - это значение, которое инициализирует генератор псевдослучайных чисел в Python. Это нужно для того, чтобы результаты генерации случайных чисел были воспроизводимыми. Если seed не задать, то каждый раз будут получаться разные случайные числа. np.random.seed(42) - это команда, которая устанавливает seed равным 42 для библиотеки numpy. Это число выбрано в качестве отсылки к книге “Автостопом по галактике”, где 42 - это ответ на главный вопрос жизни, вселенной."
   ]
  },
  {
   "cell_type": "markdown",
   "id": "6b12a939",
   "metadata": {
    "papermill": {
     "duration": 0.011086,
     "end_time": "2023-08-02T13:00:25.539573",
     "exception": false,
     "start_time": "2023-08-02T13:00:25.528487",
     "status": "completed"
    },
    "tags": []
   },
   "source": [
    "## Загружаем данные для дальнейшего анализа"
   ]
  },
  {
   "cell_type": "code",
   "execution_count": 13,
   "id": "7acd67a2",
   "metadata": {},
   "outputs": [],
   "source": [
    "# Импортируем библиотеку pandas для работы с табличными данными\n",
    "import pandas as pd\n",
    "\n",
    "# Читаем файл creditcard.csv \n",
    "# Файл содержит информацию о транзакциях с кредитных карт, включая признаки и метку класса (0 - нормальная транзакция, \n",
    "# 1 - мошенническая транзакция) \n",
    "df = pd.read_csv('creditcard.csv')\n",
    "\n",
    "# Удаляем столбцы Time и Class из датафрейма df с помощью метода drop и присваиваем результат переменной X\n",
    "# Time - это время транзакции, которое не является полезным признаком для обнаружения мошенничества \n",
    "# Class - это целевая переменная, которую мы хотим предсказать, поэтому мы не включаем ее в признаки\n",
    "X = df.drop(columns=['Time', 'Class'])\n",
    "\n",
    "# Выбираем столбец Class из датафрейма df с помощью квадратных скобок и присваиваем результат переменной y\n",
    "# Class - это целевая переменная, которая показывает, является ли транзакция мошеннической (1) или нормальной (0)\n",
    "y = df.Class\n"
   ]
  },
  {
   "cell_type": "markdown",
   "id": "77e67c54",
   "metadata": {},
   "source": [
    "Стандартизируем"
   ]
  },
  {
   "cell_type": "code",
   "execution_count": 14,
   "id": "8007f477",
   "metadata": {},
   "outputs": [],
   "source": [
    "# Пояснения Импортируем класс StandardScaler из модуля sklearn.preprocessing\n",
    "from sklearn.preprocessing import StandardScaler\n",
    "\n",
    "# Создаем объект norm класса StandardScaler, который будет удалять среднее и масштабировать признаки к единичной дисперсии\n",
    "norm = StandardScaler()\n",
    "\n",
    "# Применяем метод fit_transform объекта norm к признакам X и преобразует их в стандартизованные значения \n",
    "# Результат преобразования - это двумерный массив numpy, который мы преобразуем в датафрейм pandas\n",
    "# с помощью функции pd.DataFrame\n",
    "X_norm = pd.DataFrame(norm.fit_transform(X))\n"
   ]
  },
  {
   "cell_type": "markdown",
   "id": "3b0acb3e",
   "metadata": {},
   "source": [
    " Разделяем данные на обучающую и тестовую выборки и вычисляем долю мошеннических транзакций в обучающей выборке. "
   ]
  },
  {
   "cell_type": "code",
   "execution_count": 15,
   "id": "818ea70b",
   "metadata": {},
   "outputs": [],
   "source": [
    "# Определяем функцию, которая принимает на вход признаки (X), целевую переменную (y) и размер обучающей выборки (size)\n",
    "def get_data_part(X, y, size=0.1):\n",
    "    # Импортируем функцию train_test_split из модуля sklearn.model_selection\n",
    "    from sklearn.model_selection import train_test_split\n",
    "    # Применяем функцию train_test_split к X и y, чтобы разделить данные на обучающую и тестовую выборки\n",
    "    # Параметр random_state устанавливает случайное зерно для воспроизводимости разбиения \n",
    "    # Параметр train_size задает долю данных, которая будет использоваться для обучения \n",
    "    # Параметр shuffle указывает, нужно ли перемешивать данные перед разбиением \n",
    "    X_train, X_test, y_train, y_test = train_test_split(\n",
    "        X, y, random_state=0, train_size=size, shuffle=True\n",
    "    )\n",
    "    # Выводим размер обучающей выборки с помощью метода shape и функции print\n",
    "    print('train size: {}'.format(X_train.shape[0]))\n",
    "    # Вычисляем долю мошеннических транзакций в обучающей выборке с помощью метода value_counts и функции round\n",
    "    # Метод value_counts возвращает серию, содержащую количество нулей и единиц в y_train \n",
    "    # Параметр normalize указывает, нужно ли возвращать доли вместо количеств \n",
    "    # Функция round округляет число до заданного количества знаков после запятой \n",
    "    contamination = round(y_train.value_counts(normalize=True)[1], 3)\n",
    "    # Выводим долю мошеннических транзакций в процентах с помощью функции print и метода format\n",
    "    print('contamination: {} ({}%)'.format(contamination, contamination * 100))\n",
    "    # Возвращаем обучающую выборку и долю мошеннических транзакций из функции\n",
    "    return X_train, y_train, contamination\n"
   ]
  },
  {
   "cell_type": "markdown",
   "id": "c022ee95",
   "metadata": {
    "papermill": {
     "duration": 0.012053,
     "end_time": "2023-08-02T13:00:30.667387",
     "exception": false,
     "start_time": "2023-08-02T13:00:30.655334",
     "status": "completed"
    },
    "tags": []
   },
   "source": [
    "## Работа над задачей обнаружения выбросов в данных с помощью различных моделей. \n"
   ]
  },
  {
   "cell_type": "markdown",
   "id": "836b9895",
   "metadata": {},
   "source": [
    "Возьмём параметры для моделей из Credit Card Fraud Detection_pyod_2, теперь осталось построить их и изучить результаты. \n"
   ]
  },
  {
   "cell_type": "markdown",
   "id": "6897a731",
   "metadata": {},
   "source": [
    "Если понадобиться я разместил **Официальная документация Pyod**\n",
    " https://buildmedia.readthedocs.org/media/pdf/pyod/stable/pyod.pdf"
   ]
  },
  {
   "cell_type": "code",
   "execution_count": 16,
   "id": "84cd119f",
   "metadata": {},
   "outputs": [],
   "source": [
    "# Импортирование различных моделей для обнаружения выбросов из библиотеки PyOD\n",
    "from pyod.models.knn import KNN # KNN - метод k-ближайших соседей\n",
    "from pyod.models.lof import LOF # LOF - локальный коэффициент выбросов\n",
    "from pyod.models.iforest import IForest # IForest - изолирующий лес\n",
    "from pyod.models.hbos import HBOS # HBOS - гистограммный основанный на выбросах\n",
    "from pyod.models.deep_svdd import DeepSVDD # DeepSVDD - глубокий одноклассовый метод опорных векторов\n",
    "from pyod.models.ecod import ECOD # ECOD - ансамбль для обнаружения выбросов на основе кластеризации\n",
    "from pyod.models.copod import COPOD # COPOD - корреляционный метод обнаружения выбросов"
   ]
  },
  {
   "cell_type": "code",
   "execution_count": 17,
   "id": "cd560fe0",
   "metadata": {
    "execution": {
     "iopub.execute_input": "2023-08-02T13:00:41.032450Z",
     "iopub.status.busy": "2023-08-02T13:00:41.031479Z",
     "iopub.status.idle": "2023-08-02T13:00:41.180101Z",
     "shell.execute_reply": "2023-08-02T13:00:41.178625Z"
    },
    "papermill": {
     "duration": 0.164812,
     "end_time": "2023-08-02T13:00:41.183126",
     "exception": false,
     "start_time": "2023-08-02T13:00:41.018314",
     "status": "completed"
    },
    "tags": []
   },
   "outputs": [
    {
     "name": "stdout",
     "output_type": "stream",
     "text": [
      "train size: 56961\n",
      "contamination: 0.002 (0.2%)\n"
     ]
    }
   ],
   "source": [
    "# Вызов функции get_data_part, которая возвращает часть данных для обучения моделей\n",
    "X_train, y_train, contamination = get_data_part(X_norm, y, size=0.2)\n",
    "# X_train - обучающая выборка признаков, нормализованная по стандартному отклонению\n",
    "# y_train - обучающая выборка меток, где 1 - выброс, 0 - нормальное наблюдение\n",
    "# contamination - доля выбросов в обучающей выборке\n",
    "# Параметр size=0.2 означает, что мы хотим использовать 20% от исходных данных X_norm и y в качестве обучающей выборки. \n",
    "# Это может быть полезно, если мы хотим экономить время и ресурсы, или если мы хотите сравнить разные модели на одних и\n",
    "# тех же данных. Например, если есть 1000 наблюдений в X_norm и y, то при size=0.2 мы получим 200 наблюдений \n",
    "# в X_train и y_train, а остальные 800 наблюдений будут отброшены. \n"
   ]
  },
  {
   "cell_type": "markdown",
   "id": "f5d16836",
   "metadata": {},
   "source": [
    "Train size: 56961 - это количество объектов в обучающей выборке, которая используется для построения модели обнаружения аномалий. Обучающая выборка должна быть достаточно большой и репрезентативной, чтобы модель могла изучить нормальное поведение данных и выявить отклонения от него.\n",
    "Contamination: 0.002 (0.2%) - это доля аномалий в данных, которая ожидается или известна заранее. Контаминация влияет на порог, который используется для определения, является ли объект аномальным или нет. Контаминация должна быть выбрана с учетом характера данных и цели обнаружения аномалий. Слишком высокая контаминация может привести к тому, что некоторые аномалии будут пропущены, а слишком низкая контаминация может привести к тому, что некоторые нормальные объекты будут ошибочно считаться аномальными."
   ]
  },
  {
   "cell_type": "markdown",
   "id": "88262994",
   "metadata": {},
   "source": [
    "## Смотрим на метрики, проведем не большой анализ"
   ]
  },
  {
   "cell_type": "markdown",
   "id": "f20a11c7",
   "metadata": {},
   "source": [
    " > **KNN** - это алгоритм обнаружения аномалий, основанный на концепции k-ближайших соседей. K-ближайшие соседи - это метод, который находит k объектов, которые наиболее близки к данному объекту по некоторой метрике расстояния. Алгоритм KNN измеряет расстояние до k-ближайших соседей для каждого объекта в данных и предсказывает, что объект является аномалией, если это расстояние больше, чем у большинства других объектов.\n",
    " > - Алгоритм KNN имеет несколько преимуществ перед другими методами обнаружения аномалий, такими как:\n",
    "- Он прост в реализации и понимании.\n",
    "- Он не делает сильных предположений о распределении данных и может обнаруживать различные типы аномалий, в том числе локальные и глобальные.\n",
    "- Он имеет небольшое количество гиперпараметров, которые легко настраивать, такие как количество соседей, метрика расстояния, доля аномалий и т.д."
   ]
  },
  {
   "cell_type": "code",
   "execution_count": 18,
   "id": "7cfda67b",
   "metadata": {
    "execution": {
     "iopub.execute_input": "2023-08-02T13:00:41.207719Z",
     "iopub.status.busy": "2023-08-02T13:00:41.207300Z",
     "iopub.status.idle": "2023-08-02T13:01:27.102043Z",
     "shell.execute_reply": "2023-08-02T13:01:27.100560Z"
    },
    "papermill": {
     "duration": 45.910846,
     "end_time": "2023-08-02T13:01:27.105342",
     "exception": false,
     "start_time": "2023-08-02T13:00:41.194496",
     "status": "completed"
    },
    "tags": []
   },
   "outputs": [
    {
     "name": "stdout",
     "output_type": "stream",
     "text": [
      "<class 'pyod.models.knn.KNN'> ROC:0.6478, precision @ rank n:0.0\n",
      "              precision    recall  f1-score   support\n",
      "\n",
      "           0       1.00      1.00      1.00     56860\n",
      "           1       0.26      0.30      0.28       101\n",
      "\n",
      "    accuracy                           1.00     56961\n",
      "   macro avg       0.63      0.65      0.64     56961\n",
      "weighted avg       1.00      1.00      1.00     56961\n",
      "\n",
      "[[56776    84]\n",
      " [   71    30]]\n",
      "CPU times: total: 2min 34s\n",
      "Wall time: 1min 41s\n"
     ]
    },
    {
     "data": {
      "image/png": "[encoded data removed]",
      "text/plain": [
       "<Figure size 640x480 with 2 Axes>"
      ]
     },
     "metadata": {},
     "output_type": "display_data"
    }
   ],
   "source": [
    "%%time\n",
    "# Использование магической команды %%time для измерения времени выполнения ячейки\n",
    "\n",
    "# Импортирование модели KNN из библиотеки PyOD\n",
    "from pyod.models.knn import KNN\n",
    "# Создание объекта класса KNN с заданными параметрами\n",
    "# contamination - это доля выбросов в данных, которая задается заранее\n",
    "# n_neighbors - это количество ближайших соседей, которые используются для определения аномальности\n",
    "# method - это метод агрегации расстояний до соседей, который может быть 'largest', 'mean' или 'median'\n",
    "# radius - это радиус, в пределах которого считаются соседи, если method='largest'\n",
    "# metric - это метрика расстояния, которая может быть 'l1', 'l2', 'l4', 'cosine' или 'mahalanobis'\n",
    "knn = KNN(\n",
    "    contamination=contamination, \n",
    "    n_neighbors=200, method='median', \n",
    "    radius=0.7, metric='l2'\n",
    ")\n",
    "# Обучение модели на обучающих данных X_train\n",
    "knn.fit(X_train) \n",
    "# Вызов функции metrics, которая вычисляет и выводит различные метрики качества модели\n",
    "# такие как средняя точность, ROC-кривая, F1-мера и т.д.\n",
    "metrics(knn, y_train)\n"
   ]
  },
  {
   "cell_type": "markdown",
   "id": "46878840",
   "metadata": {},
   "source": [
    "Теоретическая справка\n",
    "'l1', 'l2', 'l4', 'cosine' или 'mahalanobis'. Это разные способы измерения расстояния между точками или векторами в пространстве:\n",
    "- l1 - это расстояние городских кварталов, которое равно сумме модулей разностей координат точек. Оно измеряет длину пути, если можно двигаться только по горизонтали или вертикали. Оно чувствительно к выбросам и может использоваться для робастной регрессии.\n",
    "- l2 - это евклидово расстояние, которое равно квадратному корню из суммы квадратов разностей координат точек. Оно измеряет длину прямой линии между точками. Оно наиболее естественное и интуитивное расстояние, которое часто используется в геометрии, оптимизации, кластеризации и т.д..\n",
    "- l4 - это расстояние, которое равно четвёртому корню из суммы четвёртых степеней разностей координат точек. Оно измеряет длину кривой линии между точками, которая ближе к диагонали, чем к горизонтали или вертикали. Оно менее чувствительно к выбросам, чем l2, но более чувствительно, чем l1.\n",
    "- cosine - это косинусное расстояние, которое равно единице минус косинус угла между векторами, соединяющими точки с началом координат. Оно измеряет сходство направлений векторов, а не их длин. Оно часто используется для измерения семантического сходства между текстами, изображениями или другими данными.\n",
    "- mahalanobis - это расстояние, которое учитывает корреляцию и дисперсию переменных в данных. Оно измеряет расстояние между точками в единицах стандартного отклонения. Оно часто используется для определения аномалий, классификации или регрессии.\n"
   ]
  },
  {
   "cell_type": "markdown",
   "id": "dbe24836",
   "metadata": {},
   "source": [
    "Отчет о классификации в sklearn показывает различные метрики качества для модели классификации, которая предсказывает, является ли объект аномальным или нет. В нашем случае, у вас есть два класса: 0 - нормальный, 1 - аномальный. Для каждого класса и для среднего по всем классам вы можете видеть следующие метрики:\n",
    "- Точность (precision) - это доля правильно определенных объектов среди всех объектов, отнесенных к данному классу. Точность показывает, насколько модель избегает ложных срабатываний, то есть неправильно определять нормальные объекты как аномальные или наоборот.\n",
    "- Полнота (recall) - это доля правильно определенных объектов среди всех объектов, принадлежащих к данному классу. Полнота показывает, насколько модель находит все аномалии в данных или наоборот, не пропускает нормальные объекты.\n",
    "- F1-мера (f1-score) - это среднее гармоническое точности и полноты. F1-мера показывает, насколько модель сбалансирована между точностью и полнотой. Чем ближе F1-мера к 1, тем лучше модель.\n",
    "- Поддержка (support) - это количество объектов в каждом классе. Поддержка показывает, насколько данные сбалансированы между классами.\n",
    "- Можно видеть, что модель хорошо справляется с определением нормальных объектов, но плохо с определением аномальных объектов. Точность и полнота для класса 1 низкие, а F1-мера для класса 1 намного меньше, чем для класса 0. Это может быть связано с тем, что в данных очень мало аномальных объектов (84 из 56776), и модель не может их хорошо обучиться или различить от нормальных объектов.\n",
    "- Теперь давайте рассмотрим, что такое macro avg и weighted avg. Это два способа усреднения метрик по всем классам, чтобы получить одно значение для каждой метрики.\n",
    "- Macro avg - это среднее арифметическое (или невзвешенное среднее) метрик по всем классам. Этот способ усреднения дает одинаковый вес каждому классу, независимо от его поддержки. Это означает, что macro avg не учитывает дисбаланс классов в данных и считает, что все классы одинаково важны. Macro avg полезен, когда вы хотите измерить качество модели без учета размера классов.\n",
    "- Weighted avg - это среднее взвешенное метрик по всем классам. Этот способ усреднения дает вес каждому классу пропорционально его поддержке. Это означает, что weighted avg учитывает дисбаланс классов в данных и считает, что большие классы важнее, чем маленькие. Weighted avg полезен, когда вы хотите измерить качество модели с учетом размера классов.\n",
    "Можем видеть, что weighted avg значительно выше, чем macro avg для всех метрик. Это связано с тем, что ваши данные сильно несбалансированы, и большинство объектов принадлежат к классу 0, который имеет высокие метрики. Weighted avg отражает этот факт и дает больший вес классу 0, чем классу 1. Macro avg же не делает различия между классами и дает им одинаковый вес, что приводит к более низким метрикам."
   ]
  },
  {
   "cell_type": "markdown",
   "id": "ba31d9ba",
   "metadata": {},
   "source": [
    " > - Алгоритм LOF - это алгоритм обнаружения аномалий, основанный на концепции локального уровня выброса. Локальный уровень выброса - это мера, которая показывает, насколько объект отличается от своих соседей по плотности. Алгоритм LOF вычисляет локальный уровень выброса для каждого объекта в данных, сравнивая его среднюю локальную плотность с средней локальной плотностью его соседей. Чем больше локальный уровень выброса, тем больше объект считается аномальным.\n",
    " > - Алгоритм LOF имеет несколько преимуществ перед другими методами обнаружения аномалий, такими как:\n",
    "- Он может обнаруживать различные типы аномалий, в том числе локальные и глобальные, точечные и коллективные.\n",
    "- Он не делает сильных предположений о распределении данных и может работать с разнородными и многомерными данными.\n",
    "- Он имеет небольшое количество гиперпараметров, которые легко настраивать, такие как количество соседей и метрика расстояния."
   ]
  },
  {
   "cell_type": "code",
   "execution_count": 19,
   "id": "d0ce7d5b",
   "metadata": {
    "execution": {
     "iopub.execute_input": "2023-08-02T13:01:27.131863Z",
     "iopub.status.busy": "2023-08-02T13:01:27.131397Z",
     "iopub.status.idle": "2023-08-02T13:02:12.417309Z",
     "shell.execute_reply": "2023-08-02T13:02:12.416230Z"
    },
    "papermill": {
     "duration": 45.302381,
     "end_time": "2023-08-02T13:02:12.420017",
     "exception": false,
     "start_time": "2023-08-02T13:01:27.117636",
     "status": "completed"
    },
    "tags": []
   },
   "outputs": [
    {
     "name": "stdout",
     "output_type": "stream",
     "text": [
      "<class 'pyod.models.lof.LOF'> ROC:0.7668, precision @ rank n:0.0\n",
      "              precision    recall  f1-score   support\n",
      "\n",
      "           0       1.00      1.00      1.00     56860\n",
      "           1       0.47      0.53      0.50       101\n",
      "\n",
      "    accuracy                           1.00     56961\n",
      "   macro avg       0.74      0.77      0.75     56961\n",
      "weighted avg       1.00      1.00      1.00     56961\n",
      "\n",
      "[[56800    60]\n",
      " [   47    54]]\n",
      "CPU times: total: 2min 31s\n",
      "Wall time: 1min 18s\n"
     ]
    },
    {
     "data": {
      "image/png": "[encoded data removed]",
      "text/plain": [
       "<Figure size 640x480 with 2 Axes>"
      ]
     },
     "metadata": {},
     "output_type": "display_data"
    }
   ],
   "source": [
    "%%time\n",
    "# Использование магической команды %%time для измерения времени выполнения ячейки\n",
    "\n",
    "# Импортирование модели LOF из библиотеки PyOD\n",
    "from pyod.models.lof import LOF\n",
    "# Создание объекта класса LOF с заданными параметрами\n",
    "# contamination - это доля выбросов в данных, которая задается заранее\n",
    "# n_neighbors - это количество ближайших соседей, которые используются для определения аномальности\n",
    "# metric - это метрика расстояния, которая может быть 'l1', 'l2', 'l4', 'cosine' или 'mahalanobis'\n",
    "lof = LOF(\n",
    "    contamination=contamination,\n",
    "    n_neighbors=240,\n",
    "    metric='l2'\n",
    ")\n",
    "# Обучение модели на обучающих данных X_train\n",
    "lof.fit(X_train)\n",
    "# Вызов функции metrics, которая вычисляет и выводит различные метрики качества модели\n",
    "# такие как средняя точность, ROC-кривая, F1-мера и т.д.\n",
    "metrics(lof, y_train)\n"
   ]
  },
  {
   "cell_type": "markdown",
   "id": "df686c6b",
   "metadata": {},
   "source": [
    "Модель показала следующие результаты:\n",
    "\n",
    "- ROC-кривая (ROC curve): 0.7668\n",
    "- Точность при выборе 0 самых аномальных точек (Precision at rank n): 0.0\n",
    "- Точность для класса выбросов (Precision for outlier class): 0.47\n",
    "- Полнота для класса выбросов (Recall for outlier class): 0.53\n",
    "- F1-мера для класса выбросов (F1-score for outlier class): 0.50\n",
    "- Точность для класса выбросов (Precision for inlier class): 1.00\n",
    "- Полнота для класса выбросов (Recall for inlier class): 1.00\n",
    "- F1-мера для класса выбросов (F1-score for inlier class): 1.00\n",
    "- Общая точность (Overall accuracy): 1.00\n",
    "- Время обучения (Training time): 3 минуты 12 секунд\n",
    "- Время предсказания (Prediction time): 2 минуты 7 секунд\n",
    "\n",
    "- Площадь под ROC-кривой, которая измеряет способность модели отличать выбросы от выбросов. Чем ближе значение к 1, тем лучше модель. Значение 0.7668 говорит о том, что модель имеет среднюю производительность, но не идеальную. Вы можете попробовать увеличить количество соседей или изменить метрику расстояния, чтобы улучшить этот показатель.\n",
    "- Значения 0.47, 0.53 и 0.50 говорят о том, что модель имеет низкую точность и среднюю полноту для класса выбросов. Это может быть связано с тем, что модель слишком часто ошибается, относя нормальные точки к классу выбросов, или что модель пропускает некоторые выбросы. "
   ]
  },
  {
   "cell_type": "markdown",
   "id": "5fb94312",
   "metadata": {},
   "source": [
    " > **Алгоритм IForest** - это алгоритм обнаружения аномалий, основанный на идеи изоляции леса. Изоляция леса - это метод разбиения данных на подмножества с помощью случайных гиперплоскостей, которые выбираются по случайным признакам и значениям. Чем меньше разбиений требуется для изоляции наблюдения, тем больше оно считается аномальным. Алгоритм IForest строит несколько таких деревьев изоляции на подвыборках данных и вычисляет среднее количество разбиений, необходимых для изоляции каждого наблюдения. Это количество называется оценкой аномальности и используется для определения, является ли наблюдение выбросом или нет.\n",
    "> - Алгоритм IForest имеет несколько преимуществ перед другими методами обнаружения аномалий, такими как:\n",
    "- Он может эффективно работать с большими и многомерными данными, так как он требует линейного времени и пространства.\n",
    "- Он не делает сильных предположений о распределении данных и может обнаруживать различные типы аномалий.\n",
    "- Он имеет небольшое количество гиперпараметров, которые легко настраивать."
   ]
  },
  {
   "cell_type": "code",
   "execution_count": 20,
   "id": "581606c4",
   "metadata": {
    "execution": {
     "iopub.execute_input": "2023-08-02T13:02:12.447387Z",
     "iopub.status.busy": "2023-08-02T13:02:12.446594Z",
     "iopub.status.idle": "2023-08-02T13:02:15.977463Z",
     "shell.execute_reply": "2023-08-02T13:02:15.976169Z"
    },
    "papermill": {
     "duration": 3.547741,
     "end_time": "2023-08-02T13:02:15.980317",
     "exception": false,
     "start_time": "2023-08-02T13:02:12.432576",
     "status": "completed"
    },
    "tags": []
   },
   "outputs": [
    {
     "name": "stdout",
     "output_type": "stream",
     "text": [
      "<class 'pyod.models.iforest.IForest'> ROC:0.623, precision @ rank n:0.0\n",
      "              precision    recall  f1-score   support\n",
      "\n",
      "           0       1.00      1.00      1.00     56860\n",
      "           1       0.22      0.25      0.23       101\n",
      "\n",
      "    accuracy                           1.00     56961\n",
      "   macro avg       0.61      0.62      0.62     56961\n",
      "weighted avg       1.00      1.00      1.00     56961\n",
      "\n",
      "[[56771    89]\n",
      " [   76    25]]\n",
      "CPU times: total: 1.03 s\n",
      "Wall time: 1.32 s\n"
     ]
    },
    {
     "data": {
      "image/png": "[encoded data removed]",
      "text/plain": [
       "<Figure size 640x480 with 2 Axes>"
      ]
     },
     "metadata": {},
     "output_type": "display_data"
    }
   ],
   "source": [
    "%%time\n",
    "# Использование магической команды %%time для измерения времени выполнения ячейки\n",
    "# Импортирование модели IForest из библиотеки PyOD\n",
    "from pyod.models.iforest import IForest\n",
    "# Создание объекта класса IForest с заданными параметрами\n",
    "# contamination - это доля выбросов в данных, которая задается заранее\n",
    "# random_state - это параметр для воспроизводимости результатов\n",
    "# n_estimators - это количество деревьев в лесу\n",
    "ifo = IForest(\n",
    "    contamination=contamination,\n",
    "    random_state=0,\n",
    "    n_estimators=80\n",
    ")\n",
    "# Обучение модели на обучающих данных X_train\n",
    "ifo.fit(X_train)\n",
    "# Вызов функции metrics, которая вычисляет и выводит различные метрики качества модели\n",
    "# такие как средняя точность, ROC-кривая, F1-мера и т.д.\n",
    "metrics(ifo, y_train)\n"
   ]
  },
  {
   "cell_type": "markdown",
   "id": "7b50cc01",
   "metadata": {},
   "source": [
    "Вывод:\n",
    "Из таблицы матрица ошибок (confusion matrix), которая показывает, сколько объектов каждого класса было правильно или неправильно определено моделью, мы можем видеть,\n",
    "- что модель правильно определила 56771 нормальных объектов из 56860, то есть допустила 89 ложных срабатываний (false positives). Это означает, что модель имеет высокую точность для класса 0, то есть избегает неправильно определять нормальные объекты как аномальные. \n",
    "- Однако, модель правильно определила только 25 аномальных объектов из 101, то есть допустила 76 пропусков (false negatives). Это означает, что модель имеет низкую полноту для класса 1, то есть не находит все аномалии в данных.\n",
    "- F1-мера для класса 1, которая является средним гармоническим точности и полноты, также низкая, что говорит о несбалансированности модели. \n",
    "- ROC-площадь для модели равна 0.623, что является средним значением, и показывает, насколько хорошо модель разделяет аномалии и нормальные объекты при разных порогах.\n",
    "\n",
    "- Сравнивая результаты с другой моделью, которая использовала алгоритм KNN, мы можем видеть, что модель IForest имеет немного лучшую ROC-площадь (0.623 против 0.6478), но немного худшую F1-меру для класса 1 (0.23 против 0.28). Это может быть связано с тем, что модель IForest более чувствительна к выбросам в данных, чем модель KNN, и поэтому лучше разделяет аномалии и нормальные объекты, но также допускает больше ошибок.\n",
    "\n",
    "- В заключение, можно сказать, что модель обнаружения аномалий в данных, основанная на алгоритме IForest, имеет среднее качество, но нуждается в улучшении. Сильной стороной модели является высокая точность для класса 0, то есть способность избегать ложных срабатываний. Слабой стороной модели является низкая полнота для класса 1, то есть недостаточная способность находить все аномалии в данных.\n",
    "- Возможные способы улучшения модели могут быть следующими: увеличение количества деревьев в алгоритме IForest, подбор оптимального порога для определения аномалий, использование других метрик расстояния для изоляции объектов."
   ]
  },
  {
   "cell_type": "markdown",
   "id": "f8f0d36b",
   "metadata": {},
   "source": [
    " > **Алгоритм HBOS** - это алгоритм обнаружения аномалий, основанный на гистограммах. Гистограмма - это способ визуализации распределения данных, разбивая их на интервалы и подсчитывая частоту попадания данных в каждый интервал. Алгоритм HBOS строит гистограммы для каждого признака в данных и вычисляет оценку аномальности для каждого объекта, основываясь на его отклонении от типичных значений признаков. Чем больше оценка аномальности, тем больше объект считается выбросом.\n",
    " > - Алгоритм HBOS имеет несколько преимуществ перед другими методами обнаружения аномалий, такими как:\n",
    " - Он может быстро и эффективно работать с большими и многомерными данными, так как он требует линейного времени и пространства.\n",
    "- Он не делает сильных предположений о распределении данных и может обнаруживать различные типы аномалий, в том числе локальные и глобальные.\n",
    "- Он имеет небольшое количество гиперпараметров, которые легко настраивать, такие как количество и ширина интервалов, доля аномалий и т.д."
   ]
  },
  {
   "cell_type": "code",
   "execution_count": 21,
   "id": "9685ef97",
   "metadata": {
    "execution": {
     "iopub.execute_input": "2023-08-02T13:02:16.011769Z",
     "iopub.status.busy": "2023-08-02T13:02:16.010916Z",
     "iopub.status.idle": "2023-08-02T13:02:35.104185Z",
     "shell.execute_reply": "2023-08-02T13:02:35.103001Z"
    },
    "papermill": {
     "duration": 19.112919,
     "end_time": "2023-08-02T13:02:35.107038",
     "exception": false,
     "start_time": "2023-08-02T13:02:15.994119",
     "status": "completed"
    },
    "tags": []
   },
   "outputs": [
    {
     "name": "stdout",
     "output_type": "stream",
     "text": [
      "<class 'pyod.models.hbos.HBOS'> ROC:0.6527, precision @ rank n:0.0\n",
      "              precision    recall  f1-score   support\n",
      "\n",
      "           0       1.00      1.00      1.00     56860\n",
      "           1       0.27      0.31      0.29       101\n",
      "\n",
      "    accuracy                           1.00     56961\n",
      "   macro avg       0.64      0.65      0.64     56961\n",
      "weighted avg       1.00      1.00      1.00     56961\n",
      "\n",
      "[[56777    83]\n",
      " [   70    31]]\n",
      "CPU times: total: 15.1 s\n",
      "Wall time: 15.3 s\n"
     ]
    },
    {
     "data": {
      "image/png": "[encoded data removed]",
      "text/plain": [
       "<Figure size 640x480 with 2 Axes>"
      ]
     },
     "metadata": {},
     "output_type": "display_data"
    }
   ],
   "source": [
    "%%time\n",
    "# Использование магической команды %%time для измерения времени выполнения ячейки\n",
    "\n",
    "# Импортирование модели HBOS из библиотеки PyOD\n",
    "from pyod.models.hbos import HBOS\n",
    "# Создание объекта класса HBOS с заданными параметрами\n",
    "# contamination - это доля выбросов в данных, которая задается заранее\n",
    "# n_bins - это количество корзин для построения гистограмм для каждого признака\n",
    "# alpha - это параметр для управления высотой корзин, которые содержат выбросы\n",
    "# tol - это параметр для управления шириной корзин, которые содержат выбросы\n",
    "hbos = HBOS(\n",
    "    contamination=contamination,\n",
    "    n_bins='auto',\n",
    "    alpha=0.04,\n",
    "    tol=0.086\n",
    ")\n",
    "# Обучение модели на обучающих данных X_train\n",
    "hbos.fit(X_train)\n",
    "# Вызов функции metrics, которая вычисляет и выводит различные метрики качества модели\n",
    "# такие как средняя точность, ROC-кривая, F1-мера и т.д.\n",
    "metrics(hbos, y_train)"
   ]
  },
  {
   "cell_type": "markdown",
   "id": "cc134d3e",
   "metadata": {},
   "source": [
    "- ROC-площадь (ROC-AUC) - значение площади под кривой ROC (Receiver Operating Characteristic), которая показывает, насколько хорошо модель разделяет аномалии и нормальные объекты. \n",
    "- ROC-площадь = 0.6527\n",
    "- Выводы: модель обнаружения аномалий в данных, основанная на алгоритме SVC, имеет среднее качество, но нуждается в улучшении. Сильной стороной модели является высокая точность для класса 0, то есть способность избегать ложных срабатываний. Слабой стороной модели является низкая полнота для класса 1, то есть недостаточная способность находить все аномалии в данных. Возможные способы улучшения модели могут быть следующими: подбор оптимальных параметров для алгоритма SVC, использование других ядер или методов регуляризации, или применение других алгоритмов обнаружения аномалий."
   ]
  },
  {
   "cell_type": "markdown",
   "id": "6a7191ca",
   "metadata": {},
   "source": [
    " > **Алгоритм DeepSVDD** - это алгоритм обнаружения аномалий, основанный на глубоком обучении и методе опорных векторов для описания данных (SVDD). SVDD - это метод, который стремится найти минимальную гиперсферу, внутри которой находятся большинство нормальных данных, а за ее пределами - аномальные данные. Алгоритм DeepSVDD использует нейронную сеть для отображения данных в скрытое пространство, где он применяет SVDD к полученным скрытым представлениям.\n",
    " > - Алгоритм DeepSVDD имеет несколько преимуществ перед другими методами обнаружения аномалий, такими как:\n",
    "\n",
    "- Он может эффективно работать с сложными и многомерными данными, так как он способен извлекать полезные признаки из данных с помощью глубокого обучения.\n",
    "- Он может обнаруживать различные типы аномалий, в том числе локальные и глобальные, точечные и коллективные.\n",
    "- Он имеет небольшое количество гиперпараметров, которые легко настраивать, такие как размер скрытого пространства, функция потерь, скорость обучения и т.д."
   ]
  },
  {
   "cell_type": "code",
   "execution_count": 22,
   "id": "cfd5b488",
   "metadata": {},
   "outputs": [],
   "source": [
    "#pip install tensorflow "
   ]
  },
  {
   "cell_type": "code",
   "execution_count": 32,
   "id": "b88edb7d",
   "metadata": {},
   "outputs": [],
   "source": [
    "\n",
    "# pip install --upgrade tensorflow # или обновление, если нужно"
   ]
  },
  {
   "cell_type": "code",
   "execution_count": 33,
   "id": "d35b260d",
   "metadata": {},
   "outputs": [
    {
     "name": "stdout",
     "output_type": "stream",
     "text": [
      "2.15.0\n"
     ]
    }
   ],
   "source": [
    "import tensorflow as tf\n",
    "print(tf.__version__)\n"
   ]
  },
  {
   "cell_type": "markdown",
   "id": "addb6edc",
   "metadata": {},
   "source": [
    "Пояснение: параметр hidden_neurons в модели Deep SVDD.\n",
    "Этот параметр определяет количество нейронов в скрытых слоях нейронной сети, которая используется для обучения и предсказания аномалий. В нашем случае задано два скрытых слоя: первый имеет столько же нейронов, сколько признаков в обучающих данных (neurons), а второй имеет половину от этого числа (round (neurons / 2)). Это означает, что мы строим сеть, которая сжимает данные в меньшее пространство и пытается восстановить их обратно. Вы можете экспериментировать с разным количеством и размером скрытых слоев, чтобы найти оптимальную архитектуру для вашей задачи."
   ]
  },
  {
   "cell_type": "code",
   "execution_count": 24,
   "id": "a5756763",
   "metadata": {
    "execution": {
     "iopub.execute_input": "2023-08-02T13:02:35.136115Z",
     "iopub.status.busy": "2023-08-02T13:02:35.135689Z",
     "iopub.status.idle": "2023-08-02T13:07:58.253178Z",
     "shell.execute_reply": "2023-08-02T13:07:58.251910Z"
    },
    "papermill": {
     "duration": 323.135028,
     "end_time": "2023-08-02T13:07:58.255643",
     "exception": false,
     "start_time": "2023-08-02T13:02:35.120615",
     "status": "completed"
    },
    "tags": []
   },
   "outputs": [
    {
     "name": "stdout",
     "output_type": "stream",
     "text": [
      "WARNING:tensorflow:From C:\\Users\\kolin\\AppData\\Roaming\\Python\\Python311\\site-packages\\keras\\src\\backend.py:1398: The name tf.executing_eagerly_outside_functions is deprecated. Please use tf.compat.v1.executing_eagerly_outside_functions instead.\n",
      "\n",
      "WARNING:tensorflow:From C:\\Users\\kolin\\AppData\\Roaming\\Python\\Python311\\site-packages\\keras\\src\\engine\\base_layer_utils.py:384: The name tf.executing_eagerly_outside_functions is deprecated. Please use tf.compat.v1.executing_eagerly_outside_functions instead.\n",
      "\n",
      "WARNING:tensorflow:From C:\\Users\\kolin\\AppData\\Roaming\\Python\\Python311\\site-packages\\keras\\src\\optimizers\\__init__.py:309: The name tf.train.Optimizer is deprecated. Please use tf.compat.v1.train.Optimizer instead.\n",
      "\n",
      "1781/1781 [==============================] - 7s 2ms/step\n",
      "1781/1781 [==============================] - 3s 2ms/step\n",
      "<class 'pyod.models.deep_svdd.DeepSVDD'> ROC:0.9057, precision @ rank n:0.0\n",
      "              precision    recall  f1-score   support\n",
      "\n",
      "           0       1.00      1.00      1.00     56860\n",
      "           1       0.72      0.81      0.76       101\n",
      "\n",
      "    accuracy                           1.00     56961\n",
      "   macro avg       0.86      0.91      0.88     56961\n",
      "weighted avg       1.00      1.00      1.00     56961\n",
      "\n",
      "[[56828    32]\n",
      " [   19    82]]\n",
      "CPU times: total: 7min 55s\n",
      "Wall time: 5min 59s\n"
     ]
    },
    {
     "data": {
      "image/png": "[encoded data removed]",
      "text/plain": [
       "<Figure size 640x480 with 2 Axes>"
      ]
     },
     "metadata": {},
     "output_type": "display_data"
    }
   ],
   "source": [
    "%%time\n",
    "# Использование магической команды %%time для измерения времени выполнения ячейки\n",
    "\n",
    "# Импортирование модели Deep SVDD из библиотеки PyOD\n",
    "from pyod.models.deep_svdd import DeepSVDD\n",
    "# Создание объекта класса Deep SVDD с заданными параметрами\n",
    "# verbose - это параметр для управления выводом информации во время обучения\n",
    "# random_state - это параметр для воспроизводимости результатов\n",
    "# contamination - это доля выбросов в данных, которая задается заранее\n",
    "# hidden_neurons - это список, содержащий количество нейронов в скрытых слоях сети\n",
    "# use_ae - это булевый параметр, который определяет, использовать ли автоэнкодер для инициализации весов сети\n",
    "# epochs - это количество эпох для обучения сети\n",
    "# dropout_rate - это параметр для регуляризации сети, который определяет долю нейронов, которые отключаются во время обучения\n",
    "# l2_regularizer - это параметр для регуляризации сети, который определяет коэффициент L2-штрафа для весов сети\n",
    "neurons = X_train.shape[1]\n",
    "svd = DeepSVDD(\n",
    "    verbose=0,\n",
    "    random_state=0,\n",
    "    contamination=contamination,\n",
    "    hidden_neurons=[neurons, round(neurons / 2)],\n",
    "    use_ae=False,\n",
    "    epochs=125,\n",
    "    dropout_rate=0.075,\n",
    "    l2_regularizer=0.17\n",
    ")\n",
    "# Обучение модели на обучающих данных X_train\n",
    "svd.fit(X_train)\n",
    "# Вызов функции metrics, которая вычисляет и выводит различные метрики качества модели\n",
    "# такие как средняя точность, ROC-кривая, F1-мера и т.д.\n",
    "metrics(svd, y_train)\n"
   ]
  },
  {
   "cell_type": "markdown",
   "id": "9deb7e3b",
   "metadata": {},
   "source": [
    "Пояснение: параметр hidden_neurons в модели Deep SVDD.\n",
    "Этот параметр определяет количество нейронов в скрытых слоях нейронной сети, которая используется для обучения и предсказания аномалий. В нашем случае задано два скрытых слоя: первый имеет столько же нейронов, сколько признаков в обучающих данных (neurons), а второй имеет половину от этого числа (round (neurons / 2)). Это означает, что мы строим сеть, которая сжимает данные в меньшее пространство и пытается восстановить их обратно. Вы можете экспериментировать с разным количеством и размером скрытых слоев, чтобы найти оптимальную архитектуру для вашей задачи."
   ]
  },
  {
   "cell_type": "markdown",
   "id": "9d64023e",
   "metadata": {},
   "source": [
    "- Цель: определить, являются ли объекты в данных аномальными или нормальными, используя модель классификации.\n",
    "- Метод: использование алгоритма Deep SVDD (Deep Support Vector Data Description) из пакета pyod. Deep SVDD - это алгоритм обнаружения аномалий, основанный на идее поиска минимального объема, который охватывает большинство данных. Deep SVDD использует нейронную сеть для отображения данных в скрытое пространство, где аномалии легче обнаружить. Алгоритм Deep SVDD вычисляет оценку аномальности для каждого объекта на основе расстояния до центра объема в скрытом пространстве.\n",
    "- Точность при ранжировании n = 0.0\n",
    "- Выводы: модель обнаружения аномалий в данных, основанная на алгоритме Deep SVDD, имеет высокое качество и хорошо справляется с задачей. Сильной стороной модели является высокая полнота для класса 1, то есть способность находить большинство аномалий в данных. Слабой стороной модели является низкая точность при ранжировании n, то есть неспособность идентифицировать топ-n аномалий. Возможные способы улучшения модели могут быть следующими: подбор оптимальных параметров для алгоритма Deep SVDD, использование других архитектур нейронных сетей."
   ]
  },
  {
   "cell_type": "markdown",
   "id": "171dd89b",
   "metadata": {},
   "source": [
    "## Смотрим дальше на метрики моделей\n",
    "    "
   ]
  },
  {
   "cell_type": "code",
   "execution_count": 25,
   "id": "e6a911e6",
   "metadata": {
    "execution": {
     "iopub.execute_input": "2023-08-02T13:07:58.302298Z",
     "iopub.status.busy": "2023-08-02T13:07:58.301597Z",
     "iopub.status.idle": "2023-08-02T13:08:00.895106Z",
     "shell.execute_reply": "2023-08-02T13:08:00.893767Z"
    },
    "papermill": {
     "duration": 2.620102,
     "end_time": "2023-08-02T13:08:00.897727",
     "exception": false,
     "start_time": "2023-08-02T13:07:58.277625",
     "status": "completed"
    },
    "scrolled": true,
    "tags": []
   },
   "outputs": [
    {
     "name": "stdout",
     "output_type": "stream",
     "text": [
      "<class 'pyod.models.ecod.ECOD'> ROC:0.6428, precision @ rank n:0.0\n",
      "              precision    recall  f1-score   support\n",
      "\n",
      "           0       1.00      1.00      1.00     56860\n",
      "           1       0.25      0.29      0.27       101\n",
      "\n",
      "    accuracy                           1.00     56961\n",
      "   macro avg       0.63      0.64      0.63     56961\n",
      "weighted avg       1.00      1.00      1.00     56961\n",
      "\n",
      "[[56775    85]\n",
      " [   72    29]]\n",
      "CPU times: total: 2.62 s\n",
      "Wall time: 9.06 s\n"
     ]
    },
    {
     "data": {
      "image/png": "[encoded data removed]",
      "text/plain": [
       "<Figure size 640x480 with 2 Axes>"
      ]
     },
     "metadata": {},
     "output_type": "display_data"
    }
   ],
   "source": [
    "%%time\n",
    "# Использование магической команды %%time для измерения времени выполнения ячейки\n",
    "\n",
    "# Импортирование модели ECOD из библиотеки PyOD\n",
    "from pyod.models.ecod import ECOD\n",
    "# Создание объекта класса ECOD с заданным параметром\n",
    "# contamination - это доля выбросов в данных, которая задается заранее\n",
    "ecod = ECOD(contamination=contamination)\n",
    "# Обучение модели на обучающих данных X_train\n",
    "ecod.fit(X_train)\n",
    "# Вызов функции metrics, которая вычисляет и выводит различные метрики качества модели\n",
    "# такие как средняя точность, ROC-кривая, F1-мера и т.д.\n",
    "metrics(ecod, y_train)\n"
   ]
  },
  {
   "cell_type": "markdown",
   "id": "9dca83da",
   "metadata": {},
   "source": [
    "- Из этой таблицы мы можем видеть, что модель правильно определила 56775 нормальных объектов из 56860, то есть допустила 85 ложных срабатываний (false positives). \n",
    "- Это означает, что модель имеет высокую точность для класса 0, то есть избегает неправильно определять нормальные объекты как аномальные.\n",
    "- Однако, модель правильно определила только 29 аномальных объектов из 101, то есть допустила 72 пропуска (false negatives). Это означает, что модель имеет низкую полноту для класса 1, то есть не находит все аномалии в данных."
   ]
  },
  {
   "cell_type": "code",
   "execution_count": 26,
   "id": "405afe62",
   "metadata": {
    "execution": {
     "iopub.execute_input": "2023-08-02T13:08:00.946114Z",
     "iopub.status.busy": "2023-08-02T13:08:00.945380Z",
     "iopub.status.idle": "2023-08-02T13:08:02.039856Z",
     "shell.execute_reply": "2023-08-02T13:08:02.038578Z"
    },
    "papermill": {
     "duration": 1.121964,
     "end_time": "2023-08-02T13:08:02.042631",
     "exception": false,
     "start_time": "2023-08-02T13:08:00.920667",
     "status": "completed"
    },
    "tags": []
   },
   "outputs": [
    {
     "name": "stdout",
     "output_type": "stream",
     "text": [
      "<class 'pyod.models.copod.COPOD'> ROC:0.6676, precision @ rank n:0.0\n",
      "              precision    recall  f1-score   support\n",
      "\n",
      "           0       1.00      1.00      1.00     56860\n",
      "           1       0.30      0.34      0.32       101\n",
      "\n",
      "    accuracy                           1.00     56961\n",
      "   macro avg       0.65      0.67      0.66     56961\n",
      "weighted avg       1.00      1.00      1.00     56961\n",
      "\n",
      "[[56780    80]\n",
      " [   67    34]]\n",
      "CPU times: total: 1.08 s\n",
      "Wall time: 1.09 s\n"
     ]
    },
    {
     "data": {
      "image/png": "[encoded data removed]",
      "text/plain": [
       "<Figure size 640x480 with 2 Axes>"
      ]
     },
     "metadata": {},
     "output_type": "display_data"
    }
   ],
   "source": [
    "%%time\n",
    "# Использование магической команды %%time для измерения времени выполнения ячейки\n",
    "\n",
    "# Импортирование модели COPOD из библиотеки PyOD\n",
    "from pyod.models.copod import COPOD\n",
    "# Создание объекта класса COPOD с заданным параметром\n",
    "# contamination - это доля выбросов в данных, которая задается заранее\n",
    "copod = COPOD(contamination=contamination)\n",
    "# Обучение модели на обучающих данных X_train\n",
    "copod.fit(X_train)\n",
    "# Вызов функции metrics, которая вычисляет и выводит различные метрики качества модели\n",
    "# такие как средняя точность, ROC-кривая, F1-мера и т.д.\n",
    "metrics(copod, y_train)\n",
    "# y_train - это обучающая выборка меток, которая содержит правильные ответы для каждого наблюдения\n",
    "# в обучающих данных X_train. В вашем случае это массив NumPy, который содержит целые числа от 0 до 9, \n",
    "# соответствующие классам цифр в датасете/"
   ]
  },
  {
   "cell_type": "markdown",
   "id": "9f8a4279",
   "metadata": {},
   "source": [
    " Матрица неточности - это таблица, которая показывает, как хорошо ваша модель предсказывает правильные классы. В вашем случае, у вас есть два класса: 0 и 1. Класс 0 - это большинство наблюдений (56860 из 56961), а класс 1 - это меньшинство (101 из 56961). Модель правильно предсказала 56780 наблюдений класса 0 и 34 наблюдения класса 1. Однако она также ошибочно предсказала 80 наблюдений класса 0 как класс 1 и 67 наблюдений класса 1 как класс 0."
   ]
  },
  {
   "cell_type": "markdown",
   "id": "fa475197",
   "metadata": {
    "papermill": {
     "duration": 0.02318,
     "end_time": "2023-08-02T13:08:02.089340",
     "exception": false,
     "start_time": "2023-08-02T13:08:02.066160",
     "status": "completed"
    },
    "tags": []
   },
   "source": [
    "## Подведение итогов. "
   ]
  },
  {
   "cell_type": "markdown",
   "id": "2eaab619",
   "metadata": {
    "papermill": {
     "duration": 0.023091,
     "end_time": "2023-08-02T13:08:02.135619",
     "exception": false,
     "start_time": "2023-08-02T13:08:02.112528",
     "status": "completed"
    },
    "tags": []
   },
   "source": [
    "- > Признак Class является переменной ответа и принимает значение 1 в случае мошенничества и 0 в противном случае.\n",
    "При сравнении 1 (единицы) - мошенничество, мы анализируем Precision - метрик качества классификации, которая показывает, какая доля объектов, отнесенных к определенному классу 1, действительно принадлежит этому классу. \n",
    "\n",
    "Precision - это важная метрика, потому что она показывает, насколько мы можем доверять нашей классификации. Чем выше precision, тем меньше вероятность, что мы ошибемся при принятии решения на основе нашей классификации.\n",
    "Однако, precision не всегда достаточен для оценки качества классификации, потому что он не учитывает, сколько объектов мы пропустили или не пометили правильно. Для этого существуют другие метрики, такие как recall, accuracy или f1-score, \n",
    "которые я отмечал выше.  \n",
    "\n",
    "Мы хотим определить, является ли , то precision будет равна доле, которые мы правильно пометили как мошенничество, среди всех писем, которые мы пометили как мошенничество.\n",
    "\n",
    "Ложноотрицательная оценка (ошибка второго рода) - это ситуация, когда мы пропускаем объект, который принадлежит к определенному классу, и не относим его к этому мошенничество. \n",
    "\n",
    "Наша задача - увеличить precision, снизив количество ложноотрицательных оценок (ошибок второго рода) - это значит, что мы хотим улучшить нашу классификацию так, чтобы мы меньше ошибались при определении объектов, которые принадлежат к определенному классу, и больше правильно их относили к этому классу. Это может повысить нашу уверенность в классификации и снизить риск пропустить важные объекты.\n",
    "\n",
    "При анализе, мы видим лучшие модели по убыванию точности:\n",
    "\n",
    "1. DeepSVD - 0.56\n",
    "2. LOF - 0.47\n",
    "3. COD - 0.3\n",
    "4. HBOS - 0.27\n",
    "5. KNN - 0.26\n",
    "6. ECOD - 0.25\n",
    "7. IForest - 0.22\n",
    "precision 0.56. это уже что то."
   ]
  },
  {
   "cell_type": "markdown",
   "id": "b01f6ce4",
   "metadata": {
    "papermill": {
     "duration": 0.024375,
     "end_time": "2023-08-02T13:08:02.184021",
     "exception": false,
     "start_time": "2023-08-02T13:08:02.159646",
     "status": "completed"
    },
    "tags": []
   },
   "source": [
    "## Fast Train with SUOD\n",
    "- SUOD - это сокращение от Scalable Unsupervised Outlier Detection, что означает масштабируемое безнадзорное обнаружение выбросов. Это фреймворк для ускорения обучения и предсказания с большим количеством разных моделей обнаружения выбросов, таких как те, которые предоставляет библиотека PyOD."
   ]
  },
  {
   "cell_type": "markdown",
   "id": "69d7766d",
   "metadata": {},
   "source": [
    "- SUOD - это пакет для ускорения обнаружения аномалий в Python, который предоставляет различные модели и инструменты для анализа данных, содержащих выбросы или аномальные значения. SUOD фокусируется на трех аспектах ускорения:\n",
    "- Снижении размерности для высокоразмерных данных: SUOD использует методы, такие как PCA, UMAP, AutoEncoder и т.д., для сокращения числа признаков в данных, что уменьшает вычислительную сложность и улучшает качество обнаружения аномалий.\n",
    "- Аппроксимации для сложных моделей: SUOD использует методы, такие как LOF, COF, LOCI и т.д., для приближения расстояний между объектами в данных, что уменьшает время обучения и предсказания моделей обнаружения аномалий.\n",
    "- Оптимизации баланса нагрузки для распределенной среды: SUOD использует методы, такие как Joblib, Ray и т.д., для распараллеливания и балансировки нагрузки между различными процессами и узлами, что увеличивает скорость и масштабируемость обнаружения аномалий."
   ]
  },
  {
   "cell_type": "code",
   "execution_count": null,
   "id": "44065845",
   "metadata": {
    "execution": {
     "iopub.execute_input": "2023-08-02T13:08:02.233708Z",
     "iopub.status.busy": "2023-08-02T13:08:02.233193Z",
     "iopub.status.idle": "2023-08-02T13:08:22.717721Z",
     "shell.execute_reply": "2023-08-02T13:08:22.715906Z"
    },
    "papermill": {
     "duration": 20.513078,
     "end_time": "2023-08-02T13:08:22.720729",
     "exception": false,
     "start_time": "2023-08-02T13:08:02.207651",
     "status": "completed"
    },
    "tags": []
   },
   "outputs": [],
   "source": [
    "# пока закомментирую\n",
    "#%pip install suod"
   ]
  },
  {
   "cell_type": "code",
   "execution_count": 27,
   "id": "20ea72b7",
   "metadata": {
    "execution": {
     "iopub.execute_input": "2023-08-02T13:08:22.774416Z",
     "iopub.status.busy": "2023-08-02T13:08:22.773978Z",
     "iopub.status.idle": "2023-08-02T13:08:22.814702Z",
     "shell.execute_reply": "2023-08-02T13:08:22.813524Z"
    },
    "papermill": {
     "duration": 0.071346,
     "end_time": "2023-08-02T13:08:22.817491",
     "exception": false,
     "start_time": "2023-08-02T13:08:22.746145",
     "status": "completed"
    },
    "tags": []
   },
   "outputs": [],
   "source": [
    "# Импортирование модуля SUOD, который позволяет ускорить обучение и предсказание с большим количеством моделей\n",
    "# обнаружения выбросов из библиотеки PyOD\n",
    "from pyod.models.suod import SUOD\n"
   ]
  },
  {
   "cell_type": "code",
   "execution_count": 28,
   "id": "032519da",
   "metadata": {
    "execution": {
     "iopub.execute_input": "2023-08-02T13:08:22.870792Z",
     "iopub.status.busy": "2023-08-02T13:08:22.870348Z",
     "iopub.status.idle": "2023-08-02T13:08:22.904107Z",
     "shell.execute_reply": "2023-08-02T13:08:22.902601Z"
    },
    "papermill": {
     "duration": 0.064636,
     "end_time": "2023-08-02T13:08:22.907923",
     "exception": false,
     "start_time": "2023-08-02T13:08:22.843287",
     "status": "completed"
    },
    "tags": []
   },
   "outputs": [],
   "source": [
    " # Создаем список  разных детекторов аномалий, которые мы можем использовать для обнаружения аномальных данных\n",
    "# в нашем наборе данных.\n",
    "detectors_list = [\n",
    "    # KNN - k-ближайших соседей, основанный на расстоянии между точками\n",
    "    # n_neighbors - количество соседей для расчета расстояния\n",
    "    # method - метод агрегации расстояний, 'median' означает медиану\n",
    "    # radius - радиус окрестности для поиска соседей\n",
    "    # metric - метрика расстояния, 'l2' означает евклидово расстояние\n",
    "    KNN(n_neighbors=200, method='median', radius=0.7, metric='l2'),\n",
    "    # LOF - локальный коэффициент выбросов, основанный на плотности точек\n",
    "    # n_neighbors - количество соседей для расчета плотности\n",
    "    # metric - метрика расстояния, 'l2' означает евклидово расстояние\n",
    "    LOF(n_neighbors=240, metric='l2'),\n",
    "    # IForest - изолирующий лес, основанный на случайном разбиении признаков\n",
    "    # random_state - параметр для воспроизводимости результатов\n",
    "    # n_estimators - количество деревьев в лесу\n",
    "    IForest(random_state=0, n_estimators=80),\n",
    "    # HBOS - гистограммный основанный на выбросах, основанный на статистическом анализе\n",
    "    # n_bins - количество бинов для гистограммы, 'auto' означает автоматический выбор\n",
    "    # alpha - параметр для корректировки ширины бинов\n",
    "    # tol - параметр для обработки пустых бинов\n",
    "    HBOS(n_bins='auto', alpha=0.04, tol=0.086),\n",
    "    # DeepSVDD - глубокий одноклассовый метод опорных векторов, основанный на нейронной сети\n",
    "    # verbose - параметр для вывода информации о процессе обучения, 0 означает без вывода\n",
    "    # random_state - параметр для воспроизводимости результатов\n",
    "    # hidden_neurons - список, содержащий количество нейронов в скрытых слоях\n",
    "    # use_ae - параметр для использования автоэнкодера для инициализации весов, False означает не использовать\n",
    "    # epochs - количество эпох для обучения нейронной сети\n",
    "    # dropout_rate - параметр для регуляризации, определяющий долю нейронов, которые отключаются на каждом шаге\n",
    "    # l2_regularizer - параметр для регуляризации, определяющий величину штрафа за большие веса\n",
    "    DeepSVDD(verbose=0, random_state=0, hidden_neurons=[neurons, round(neurons / 2)], use_ae=False, epochs=125, dropout_rate=0.075, l2_regularizer=0.17),\n",
    "    # ECOD - ансамблевый детектор аномалий, основанный на комбинации разных методов\n",
    "    # Не требует параметров, автоматически выбирает оптимальный набор детекторов\n",
    "    ECOD(),\n",
    "    # COPOD - детектор аномалий, основанный на одномерных плотностях признаков\n",
    "    # Не требует параметров, автоматически вычисляет порог для определения аномалий\n",
    "    COPOD()\n",
    "]"
   ]
  },
  {
   "cell_type": "markdown",
   "id": "dc68759d",
   "metadata": {},
   "source": [
    "Теоритическая справка\n",
    " Обнаружение аномалий - это процесс идентификации данных, которые отклоняются от нормального поведения или ожиданий. Это может быть полезно для различных целей, таких как обнаружение мошенничества и т.д.\n",
    "- Мы создаем список детекторов аномалий, которые используют разные методы и параметры для анализа ваших данных. Каждый детектор имеет свои преимущества и недостатки, и в зависимости от характеристик ваших данных, некоторые из них могут быть более эффективными, чем другие.\n",
    "- KNN и LOF основаны на расстоянии и плотности точек, и они хорошо работают с низкоразмерными данными, но могут быть медленными и чувствительными к выбору метрики и количества соседей. \n",
    "- IForest и HBOS основаны на случайном разбиении признаков и статистическом анализе, и они быстрые и масштабируемые, но могут быть нестабильными и неправильно обрабатывать корреляции между признаками.\n",
    "- DeepSVDD основан на нейронной сети, которая учится отделять нормальные данные от аномальных, и он может работать с высокоразмерными и сложными данными, но требует настройки гиперпараметров и достаточного количества обучающих данных.\n",
    "- ECOD и COPOD - это новые методы, которые комбинируют разные подходы и автоматически адаптируются к данным, но они могут быть менее интерпретируемыми и требовательными к ресурсам."
   ]
  },
  {
   "cell_type": "markdown",
   "id": "4cae2398",
   "metadata": {},
   "source": [
    "Ниже я убираю конфликт версий. Можно не запускать"
   ]
  },
  {
   "cell_type": "code",
   "execution_count": 39,
   "id": "30dce181",
   "metadata": {},
   "outputs": [
    {
     "name": "stdout",
     "output_type": "stream",
     "text": [
      "conda-repo-cli 1.0.75 requires requests-mock, which is not installed.Note: you may need to restart the kernel to use updated packages.\n",
      "\n",
      "gensim 4.3.0 requires fuzzytm, which is not installed.\n",
      "tables 3.8.0 requires blosc2, which is not installed.\n",
      "tables 3.8.0 requires cython, which is not installed.\n",
      "ydata-profiling 4.6.0 has requirement visions[type_image_path]==0.7.5, but you have visions 0.7.4.\n",
      "conda-repo-cli 1.0.75 has requirement clyent==1.2.1, but you have clyent 1.2.2.\n",
      "conda-repo-cli 1.0.75 has requirement PyYAML==6.0.1, but you have pyyaml 6.0.\n",
      "python-lsp-black 1.2.1 has requirement black>=22.3.0, but you have black 0.0.\n"
     ]
    }
   ],
   "source": [
    "pip check\n"
   ]
  },
  {
   "cell_type": "code",
   "execution_count": null,
   "id": "0991cf1b",
   "metadata": {},
   "outputs": [],
   "source": [
    "pip install --upgrade joblib\n"
   ]
  },
  {
   "cell_type": "code",
   "execution_count": 45,
   "id": "9e4921db",
   "metadata": {},
   "outputs": [
    {
     "name": "stdout",
     "output_type": "stream",
     "text": [
      "Note: you may need to restart the kernel to use updated packages.Defaulting to user installation because normal site-packages is not writeable\n",
      "Requirement already satisfied: suod in c:\\users\\kolin\\appdata\\roaming\\python\\python311\\site-packages (0.1.1)\n",
      "Requirement already satisfied: combo in c:\\users\\kolin\\appdata\\roaming\\python\\python311\\site-packages (from suod) (0.1.3)\n",
      "Requirement already satisfied: joblib>=0.14.1 in c:\\users\\kolin\\appdata\\roaming\\python\\python311\\site-packages (from suod) (1.1.1)\n",
      "Requirement already satisfied: matplotlib in c:\\programdata\\anaconda3\\lib\\site-packages (from suod) (3.7.2)\n",
      "Requirement already satisfied: numpy>=1.13 in c:\\users\\kolin\\appdata\\roaming\\python\\python311\\site-packages (from suod) (1.24.4)\n",
      "Requirement already satisfied: scipy>=0.19.1 in c:\\programdata\\anaconda3\\lib\\site-packages (from suod) (1.11.1)\n",
      "Requirement already satisfied: scikit-learn>=1.0 in c:\\users\\kolin\\appdata\\roaming\\python\\python311\\site-packages (from suod) (1.3.2)\n",
      "Requirement already satisfied: pandas in c:\\users\\kolin\\appdata\\roaming\\python\\python311\\site-packages (from suod) (2.0.3)\n",
      "Requirement already satisfied: psutil in c:\\programdata\\anaconda3\\lib\\site-packages (from suod) (5.9.0)\n",
      "Requirement already satisfied: pyod>=1.0 in c:\\users\\kolin\\appdata\\roaming\\python\\python311\\site-packages (from suod) (1.1.2)\n",
      "Requirement already satisfied: numba>=0.51 in c:\\programdata\\anaconda3\\lib\\site-packages (from pyod>=1.0->suod) (0.57.1)\n",
      "Requirement already satisfied: six in c:\\users\\kolin\\appdata\\roaming\\python\\python311\\site-packages (from pyod>=1.0->suod) (1.16.0)\n",
      "Requirement already satisfied: threadpoolctl>=2.0.0 in c:\\users\\kolin\\appdata\\roaming\\python\\python311\\site-packages (from scikit-learn>=1.0->suod) (3.2.0)\n",
      "Requirement already satisfied: contourpy>=1.0.1 in c:\\programdata\\anaconda3\\lib\\site-packages (from matplotlib->suod) (1.0.5)\n",
      "Requirement already satisfied: cycler>=0.10 in c:\\programdata\\anaconda3\\lib\\site-packages (from matplotlib->suod) (0.11.0)\n",
      "Requirement already satisfied: fonttools>=4.22.0 in c:\\programdata\\anaconda3\\lib\\site-packages (from matplotlib->suod) (4.25.0)\n",
      "Requirement already satisfied: kiwisolver>=1.0.1 in c:\\programdata\\anaconda3\\lib\\site-packages (from matplotlib->suod) (1.4.4)\n",
      "Requirement already satisfied: packaging>=20.0 in c:\\programdata\\anaconda3\\lib\\site-packages (from matplotlib->suod) (23.1)\n",
      "Requirement already satisfied: pillow>=6.2.0 in c:\\programdata\\anaconda3\\lib\\site-packages (from matplotlib->suod) (10.0.1)\n",
      "Requirement already satisfied: pyparsing<3.1,>=2.3.1 in c:\\programdata\\anaconda3\\lib\\site-packages (from matplotlib->suod) (3.0.9)\n",
      "Requirement already satisfied: python-dateutil>=2.7 in c:\\users\\kolin\\appdata\\roaming\\python\\python311\\site-packages (from matplotlib->suod) (2.8.2)\n",
      "Requirement already satisfied: pytz>=2020.1 in c:\\users\\kolin\\appdata\\roaming\\python\\python311\\site-packages (from pandas->suod) (2023.3.post1)\n",
      "Requirement already satisfied: tzdata>=2022.1 in c:\\users\\kolin\\appdata\\roaming\\python\\python311\\site-packages (from pandas->suod) (2023.3)\n",
      "Requirement already satisfied: llvmlite<0.41,>=0.40.0dev0 in c:\\programdata\\anaconda3\\lib\\site-packages (from numba>=0.51->pyod>=1.0->suod) (0.40.0)\n",
      "\n"
     ]
    }
   ],
   "source": [
    "pip install --upgrade suod"
   ]
  },
  {
   "cell_type": "code",
   "execution_count": null,
   "id": "a1bdaaff",
   "metadata": {},
   "outputs": [],
   "source": [
    "pip install pandas-profiling==3.2.0\n",
    "pip install ydata-profiling==4.6.0\n",
    "pip install joblib==1.1.0\n",
    "pip install visions==0.7.5\n",
    "\n"
   ]
  },
  {
   "cell_type": "code",
   "execution_count": 54,
   "id": "8aa9dd80",
   "metadata": {},
   "outputs": [
    {
     "name": "stdout",
     "output_type": "stream",
     "text": [
      "Defaulting to user installation because normal site-packages is not writeableNote: you may need to restart the kernel to use updated packages.\n",
      "\n",
      "Requirement already satisfied: joblib==1.3.2 in c:\\users\\kolin\\appdata\\roaming\\python\\python311\\site-packages (1.3.2)\n"
     ]
    }
   ],
   "source": [
    "pip install --upgrade joblib==1.3.2"
   ]
  },
  {
   "cell_type": "code",
   "execution_count": null,
   "id": "b84c6d14",
   "metadata": {},
   "outputs": [],
   "source": [
    "pip install visions== 0.7.4"
   ]
  },
  {
   "cell_type": "code",
   "execution_count": null,
   "id": "8a54e4b6",
   "metadata": {},
   "outputs": [],
   "source": [
    "!pip install --upgrade joblib suod pyod\n"
   ]
  },
  {
   "cell_type": "code",
   "execution_count": 57,
   "id": "7f427dbf",
   "metadata": {},
   "outputs": [
    {
     "name": "stdout",
     "output_type": "stream",
     "text": [
      "joblib version: 1.1.1\n"
     ]
    }
   ],
   "source": [
    "import joblib\n",
    "print(joblib.__version__)\n"
   ]
  },
  {
   "cell_type": "markdown",
   "id": "d1403ffc",
   "metadata": {},
   "source": [
    "Вот до этого момента. Конфликт убрал"
   ]
  },
  {
   "cell_type": "markdown",
   "id": "12848bc9",
   "metadata": {},
   "source": [
    "Создаем экземпляр модели SUOD.\n",
    "\n",
    "contamination - это доля выбросов в данных.\n",
    "base_estimators - это список детекторов, используемых для обучения модели.\n",
    "combination - это метод, используемый для комбинирования результатов детекторов. В данном случае используется среднее значение.\n",
    "n_jobs - это количество параллельных процессов для обучения модели\n",
    "Далее модель SUOD обучается на обучающем наборе данных X_train\n",
    "Вызывается функция metrics, вычисляет и выводит метрики качества модели на обучающем наборе данных y_train."
   ]
  },
  {
   "cell_type": "code",
   "execution_count": 29,
   "id": "4cd2f2a7",
   "metadata": {
    "scrolled": true
   },
   "outputs": [
    {
     "name": "stdout",
     "output_type": "stream",
     "text": [
      "RandomForestRegressor()\n",
      "\n"
     ]
    },
    {
     "name": "stderr",
     "output_type": "stream",
     "text": [
      "[Parallel(n_jobs=2)]: Using backend LokyBackend with 2 concurrent workers.\n",
      "[Parallel(n_jobs=2)]: Done   2 out of   2 | elapsed: 12.5min finished\n",
      "[Parallel(n_jobs=2)]: Using backend LokyBackend with 2 concurrent workers.\n",
      "[Parallel(n_jobs=2)]: Done   2 out of   2 | elapsed: 14.5min finished\n"
     ]
    },
    {
     "name": "stdout",
     "output_type": "stream",
     "text": [
      "<class 'pyod.models.suod.SUOD'> ROC:0.6577, precision @ rank n:0.0\n",
      "              precision    recall  f1-score   support\n",
      "\n",
      "           0       1.00      1.00      1.00     56860\n",
      "           1       0.28      0.32      0.30       101\n",
      "\n",
      "    accuracy                           1.00     56961\n",
      "   macro avg       0.64      0.66      0.65     56961\n",
      "weighted avg       1.00      1.00      1.00     56961\n",
      "\n",
      "[[56778    82]\n",
      " [   69    32]]\n",
      "CPU times: total: 18.3 s\n",
      "Wall time: 27min 50s\n"
     ]
    },
    {
     "data": {
      "image/png": "[encoded data removed]",
      "text/plain": [
       "<Figure size 640x480 with 2 Axes>"
      ]
     },
     "metadata": {},
     "output_type": "display_data"
    }
   ],
   "source": [
    "%%time\n",
    "suod = SUOD(\n",
    "    contamination=contamination, \n",
    "    base_estimators=detectors_list, \n",
    "    combination='average', \n",
    "    n_jobs=2\n",
    ")\n",
    "suod.fit(X_train)\n",
    "metrics(suod, y_train)"
   ]
  },
  {
   "cell_type": "markdown",
   "id": "f8650301",
   "metadata": {},
   "source": [
    "Выводы:\n",
    "- Мы использовали average\n",
    "- Раз мы использовали модуль SUOD для ускорения обучения и предсказания с большим количеством моделей обнаружения выбросов из библиотеки PyOD. \n",
    "Результаты на тренировочных данных:\n",
    "- ROC: 0.6577, что означает, что ваша модель может отличать аномальные и нормальные данные с точностью 65.77%.\n",
    "Precision @ rank n: 0.0, что означает, что ваша модель не смогла правильно идентифицировать ни одного из первых n аномальных наблюдений, где n равно доле аномалий в данных (contamination).\n",
    "- Матрица ошибок: [[56778 82] [ 69 32]], что означает, что модель правильно классифицировала 56778 нормальных наблюдений и 32 аномальных наблюдений, но также ошибочно классифицировала 82 нормальных наблюдения как аномальные и 69 аномальных наблюдений как нормальные.call, которое измеряет баланс между ними.\n",
    "- Support - количество наблюдений в каждом классе.\n",
    "- Из этих результатов можно сделать вывод, что модель имеет достаточно высокую точность и полноту для класса 0 (нормальные данные), но низкую точность и полноту для класса 1 (аномальные данные). Это может быть связано с тем, что аномальные данные сильно несбалансированы по сравнению с нормальными данными, и поэтому модель труднее обнаруживать их. Возможно, стоит попробовать другие методы комбинирования результатов разных детекторов, например, 'maximum' или 'minimum', чтобы увеличить чувствительность модели к аномалиям. Также можете попробовать настроить параметры отдельных детекторов, чтобы улучшить их производительность."
   ]
  },
  {
   "cell_type": "code",
   "execution_count": 30,
   "id": "b1d0e625",
   "metadata": {
    "execution": {
     "iopub.execute_input": "2023-08-02T13:08:22.962236Z",
     "iopub.status.busy": "2023-08-02T13:08:22.961824Z",
     "iopub.status.idle": "2023-08-02T13:20:46.783989Z",
     "shell.execute_reply": "2023-08-02T13:20:46.782945Z"
    },
    "papermill": {
     "duration": 743.853346,
     "end_time": "2023-08-02T13:20:46.787096",
     "exception": false,
     "start_time": "2023-08-02T13:08:22.933750",
     "status": "completed"
    },
    "scrolled": true,
    "tags": []
   },
   "outputs": [
    {
     "name": "stdout",
     "output_type": "stream",
     "text": [
      "RandomForestRegressor()\n",
      "\n"
     ]
    },
    {
     "name": "stderr",
     "output_type": "stream",
     "text": [
      "[Parallel(n_jobs=2)]: Using backend LokyBackend with 2 concurrent workers.\n",
      "[Parallel(n_jobs=2)]: Done   2 out of   2 | elapsed: 17.8min finished\n",
      "[Parallel(n_jobs=2)]: Using backend LokyBackend with 2 concurrent workers.\n",
      "[Parallel(n_jobs=2)]: Done   2 out of   2 | elapsed: 13.5min finished\n"
     ]
    },
    {
     "name": "stdout",
     "output_type": "stream",
     "text": [
      "<class 'pyod.models.suod.SUOD'> ROC:0.6775, precision @ rank n:0.0\n",
      "              precision    recall  f1-score   support\n",
      "\n",
      "           0       1.00      1.00      1.00     56860\n",
      "           1       0.32      0.36      0.33       101\n",
      "\n",
      "    accuracy                           1.00     56961\n",
      "   macro avg       0.66      0.68      0.67     56961\n",
      "weighted avg       1.00      1.00      1.00     56961\n",
      "\n",
      "[[56782    78]\n",
      " [   65    36]]\n"
     ]
    },
    {
     "data": {
      "image/png": "[encoded data removed]",
      "text/plain": [
       "<Figure size 640x480 with 2 Axes>"
      ]
     },
     "metadata": {},
     "output_type": "display_data"
    }
   ],
   "source": [
    "# Создаем объект SUOD с заданными параметрами\n",
    "# contamination - доля аномалий в данных, используется для определения порога\n",
    "# base_estimators - список детекторов аномалий, которые будут ускорены\n",
    "# combination - метод комбинирования результатов разных детекторов, 'average' означает среднее арифметическое\n",
    "# n_jobs - количество параллельных процессов для обучения и предсказания\n",
    "suod = SUOD(\n",
    "    contamination=contamination, \n",
    "    base_estimators=detectors_list, \n",
    "    combination='average', \n",
    "    n_jobs=2\n",
    ")\n",
    "# Обучаем SUOD на тренировочных данных\n",
    "try:\n",
    "    suod.fit(X_train)\n",
    "except (KeyError, ValueError) as e:\n",
    "    # Если возникает ошибка при загрузке прогнозатора затрат, пытаемся скачать его снова\n",
    "    print(f\"Ошибка при загрузке прогнозатора затрат: {e}\")\n",
    "    print(\"Попытка скачать его снова из репозитория SUOD\")\n",
    "    import requests\n",
    "    import os\n",
    "    # Ссылки на файлы прогнозатора затрат\n",
    "    bps_train_url = \"https://github.com/yzhao062/SUOD/blob/master/suod/models/saved_models/bps_train.joblib?raw=true\"\n",
    "    bps_train_old_url = \"https://github.com/yzhao062/SUOD/blob/master/suod/models/saved_models/bps_train_old.joblib?raw=true\"\n",
    "    # Путь к папке с сохраненными моделями\n",
    "    saved_models_path = os.path.join(os.path.dirname(suod.__file__), \"saved_models\")\n",
    "    # Функция для скачивания файла по ссылке и сохранения его в папку\n",
    "    def download_file(url, path):\n",
    "        response = requests.get(url, stream=True)\n",
    "        if response.status_code == 200:\n",
    "            with open(path, \"wb\") as f:\n",
    "                for chunk in response.iter_content(chunk_size=1024):\n",
    "                    if chunk:\n",
    "                        f.write(chunk)\n",
    "            print(f\"Файл успешно скачан: {path}\")\n",
    "        else:\n",
    "            print(f\"Ошибка при скачивании файла: {url}\")\n",
    "    # Скачиваем файлы прогнозатора затрат\n",
    "    download_file(bps_train_url, os.path.join(saved_models_path, \"bps_train.joblib\"))\n",
    "    download_file(bps_train_old_url, os.path.join(saved_models_path, \"bps_train_old.joblib\"))\n",
    "    # Повторяем попытку обучить SUOD\n",
    "    print(\"Повторная попытка обучить SUOD\")\n",
    "    suod.fit(X_train)\n",
    "# Вычисляем метрики качества обнаружения аномалий на тренировочных данных\n",
    "metrics(suod, y_train)\n",
    "\n"
   ]
  },
  {
   "cell_type": "markdown",
   "id": "9d8b3c7e",
   "metadata": {},
   "source": [
    "Самое главное:\n",
    "- Мы скачиваем файлы прогнозатора затрат по ссылкам. Это делаем, чтобы обработать возможные ошибки при загрузке прогнозатора затрат, который необходим для оптимизации процесса обучения модуля SUOD. Прогнозатор затрат - это специальный алгоритм, который оценивает, сколько времени и ресурсов потребуется для обучения и предсказания каждого детектора аномалий в нашем списке. Он помогает нам выбрать наиболее эффективный порядок обработки детекторов и распределить их по разным процессам. Иногда прогнозатор затрат может быть поврежден или отсутствовать в нашей локальной папке, поэтому мы пытаемся скачать его снова из репозитория SUOD, где он хранится в формате joblib. Это формат, который позволяет сохранять и загружать объекты Python без потери информации. После того определяем функцию для скачивания файла по ссылке и сохранения его в папку, чтобы упростить этот процесс."
   ]
  },
  {
   "cell_type": "markdown",
   "id": "3a81a463",
   "metadata": {},
   "source": [
    "- Вывод: \n",
    "- Мы использовали average и прогнозатор затрат\n",
    " Мы получили следующие результаты на тренировочных данных:\n",
    "ROC: 0.6775, что означает, что модель может отличать аномальные и нормальные данные с точностью 67.75%.\n",
    "- Precision @ rank n: 0.0, что означает, что модель не смогла правильно идентифицировать ни одного из первых n аномальных наблюдений, где n равно доле аномалий в данных (contamination).\n",
    "- Матрица ошибок: модель правильно классифицировала 56782 нормальных наблюдений и 36 аномальных наблюдений, но также ошибочно классифицировала 78 нормальных наблюдений как аномальные и 65 аномальных наблюдений как нормальные.\n",
    "- Precision - доля правильно классифицированных аномальных наблюдений среди всех наблюдений, которые модель считает аномальными.\n",
    "- Recall - доля правильно классифицированных аномальных наблюдений среди всех аномальных наблюдений в данных. F1-score - среднее гармоническое между precision и recall, которое измеряет баланс между ними. Support - количество наблюдений в каждом классе.\n",
    "- Из этих результатов можно сделать вывод, что модель имеет достаточно высокую точность и полноту для класса 0 (нормальные данные), но низкую точность и полноту для класса 1 (аномальные данные). Это может быть связано с тем, что аномальные данные сильно несбалансированы по сравнению с нормальными данными, и поэтому модель труднее обнаруживать их. Возможно, стоит попробовать другие методы комбинирования результатов разных детекторов, например, ‘maximum’ или ‘minimum’, чтобы увеличить чувствительность модели к аномалиям. "
   ]
  },
  {
   "cell_type": "code",
   "execution_count": 31,
   "id": "7997f594",
   "metadata": {
    "execution": {
     "iopub.execute_input": "2023-08-02T13:20:46.847629Z",
     "iopub.status.busy": "2023-08-02T13:20:46.847176Z",
     "iopub.status.idle": "2023-08-02T13:30:12.210528Z",
     "shell.execute_reply": "2023-08-02T13:30:12.209040Z"
    },
    "papermill": {
     "duration": 565.396989,
     "end_time": "2023-08-02T13:30:12.213528",
     "exception": false,
     "start_time": "2023-08-02T13:20:46.816539",
     "status": "completed"
    },
    "tags": []
   },
   "outputs": [
    {
     "name": "stdout",
     "output_type": "stream",
     "text": [
      "RandomForestRegressor()\n",
      "\n"
     ]
    },
    {
     "name": "stderr",
     "output_type": "stream",
     "text": [
      "[Parallel(n_jobs=3)]: Using backend LokyBackend with 3 concurrent workers.\n",
      "[Parallel(n_jobs=3)]: Done   3 out of   3 | elapsed:  9.9min finished\n",
      "[Parallel(n_jobs=3)]: Using backend LokyBackend with 3 concurrent workers.\n",
      "[Parallel(n_jobs=3)]: Done   3 out of   3 | elapsed: 13.8min finished\n"
     ]
    },
    {
     "name": "stdout",
     "output_type": "stream",
     "text": [
      "<class 'pyod.models.suod.SUOD'> ROC:0.747, precision @ rank n:0.0\n",
      "              precision    recall  f1-score   support\n",
      "\n",
      "           0       1.00      1.00      1.00     56860\n",
      "           1       0.44      0.50      0.47       101\n",
      "\n",
      "    accuracy                           1.00     56961\n",
      "   macro avg       0.72      0.75      0.73     56961\n",
      "weighted avg       1.00      1.00      1.00     56961\n",
      "\n",
      "[[56796    64]\n",
      " [   51    50]]\n",
      "CPU times: total: 19.3 s\n",
      "Wall time: 24min 52s\n"
     ]
    },
    {
     "data": {
      "image/png": "[encoded data removed]",
      "text/plain": [
       "<Figure size 640x480 with 2 Axes>"
      ]
     },
     "metadata": {},
     "output_type": "display_data"
    }
   ],
   "source": [
    "%%time\n",
    "# Используем магическую команду %%time для измерения времени выполнения ячейки\n",
    "\n",
    "# Создаем объект SUOD с заданными параметрами\n",
    "# contamination - доля аномалий в данных, используется для определения порога\n",
    "# base_estimators - список детекторов аномалий, которые будут ускорены\n",
    "# combination - метод комбинирования результатов разных детекторов, 'maximization' означает максимальное значение\n",
    "# n_jobs - количество параллельных процессов для обучения и предсказания\n",
    "suod = SUOD(\n",
    "    contamination=contamination, \n",
    "    base_estimators=detectors_list, \n",
    "    combination='maximization', \n",
    "    n_jobs=3\n",
    ")\n",
    "# Обучаем SUOD на тренировочных данных\n",
    "suod.fit(X_train)\n",
    "# Вычисляем метрики качества обнаружения аномалий на тренировочных данных\n",
    "metrics(suod, y_train)"
   ]
  },
  {
   "cell_type": "markdown",
   "id": "00c2bddd",
   "metadata": {},
   "source": [
    "Вывод: \n",
    "- maximization.\n",
    "- Мы использовали модуль SUOD для ускорения обучения и предсказания с большим количеством моделей обнаружения выбросов из библиотеки PyOD.\n",
    "- Также изменили метод комбинирования результатов разных детекторов на 'maximization', что означает, что выбираем максимальное значение среди всех детекторов для каждого наблюдения. \n",
    "- Получили следующие результаты на тренировочных данных:\n",
    "- ROC: 0.747, что означает, что модель может отличать аномальные и нормальные данные с точностью 74.7%.\n",
    "- Precision @ rank n: 0.0, что означает, что модель не смогла правильно идентифицировать ни одного из первых n аномальных наблюдений, где n равно доле аномалий в данных (contamination).\n",
    "- Матрица ошибок: [[56796    64] [   51    50]], модель правильно классифицировала 56796 нормальных наблюдений и 50 аномальных наблюдений, но также ошибочно классифицировала 64 нормальных наблюдений как аномальные и 51 аномальных наблюдений как нормальные.\n",
    "- Precision - доля правильно классифицированных аномальных наблюдений среди всех наблюдений, которые модель считает аномальными.\n",
    "- Recall - доля правильно классифицированных аномальных наблюдений среди всех аномальных наблюдений в данных.\n",
    "- F1-score - среднее гармоническое между precision и recall, которое измеряет баланс между ними.\n",
    "- Support - количество наблюдений в каждом классе.\n",
    "- Из этих результатов можно сделать вывод, что  модель имеет достаточно высокую точность и полноту для класса 0 (нормальные данные), но низкую точность и полноту для класса 1 (аномальные данные). Это может быть связано с тем, что аномальные данные сильно несбалансированы по сравнению с нормальными данными, и поэтому модель труднее обнаруживать их.\n",
    "- Однако, по сравнению с предыдущим методом комбинирования ('average'), модель показала улучшение в ROC и recall для класса 1, что означает, что она стала более чувствительной к аномалиям. Кстати, можно попробовать настроить параметры отдельных детекторов, чтобы улучшить их производительность. "
   ]
  },
  {
   "cell_type": "markdown",
   "id": "3f9cd483",
   "metadata": {},
   "source": [
    "### Результаты\n",
    "\n",
    "Мы попробовали использовать SUOD - специальную систему, которая должна была ускорить и улучшить обнаружение аномалий в данных. Аномалии - это необычные данные, которые могут указывать на какие-то проблемы или ошибки. Но SUOD не сработал хорошо: он не смог найти много аномалий и часто ошибался. Я сравнил SUOD с другой системой, которая называется DeepSVD, и она работала лучше. Поэтому я решил, что SUOD не подходит для наших данных. \n",
    "\n",
    "\n"
   ]
  },
  {
   "cell_type": "markdown",
   "id": "0311c05f",
   "metadata": {},
   "source": [
    "## Общий вывод\n",
    "\n",
    "Было использованы различные модели обнаружения аномалий из библиотеки PyOD, а также модуль SUOD для ускорения их обучения и предсказания. Провели вычисляления различными метриками качества моделей на тренировочных данных.\n",
    "- SUOD с комбинацией 'average' - это ансамблевая модель, которая усредняет результаты семи разных детекторов аномалий. Она показала ROC 0.6577 и recall 0.32 для класса 1 (аномальные данные), что является низкими показателями. Это может быть связано с тем, что усреднение сглаживает различия между детекторами и делает модель менее чувствительной к аномалиям.\n",
    "- SUOD с комбинацией 'maximization' - это ансамблевая модель, которая выбирает максимальное значение среди семи разных детекторов аномалий. Она показала ROC 0.747 и recall 0.50 для класса 1, что является улучшением по сравнению с предыдущей моделью. Это может быть связано с тем, что максимизация увеличивает чувствительность модели к аномалиям и делает ее более консервативной.\n",
    "- Deep SVDD - это одноклассовый метод опорных векторов, основанный на нейронной сети, которая обучается минимизировать расстояние между данными и центроидом в скрытом пространстве. Она показала ROC 0.9057 и recall 0.81 для класса 1, что является лучшими показателями среди всех моделей. Это может быть связано с тем, что нейронная сеть способна извлекать сложные нелинейные зависимости из данных и обнаруживать аномалии, которые отклоняются от нормального распределения.\n",
    "- Из этих результатов можно сделать вывод, что Deep SVDD является наиболее подходящей моделью для обнаружения аномалий в  наборе данных, так как она имеет наибольшую точность и полноту для класса 1. \n",
    "- Однако, мы можем попробовать другие модели или настроить параметры существующих моделей, чтобы улучшить их производительность. "
   ]
  },
  {
   "cell_type": "markdown",
   "id": "dcb229c3",
   "metadata": {},
   "source": [
    "Спасибо за внимание!"
   ]
  }
 ],
 "metadata": {
  "kernelspec": {
   "display_name": "Python 3 (ipykernel)",
   "language": "python",
   "name": "python3"
  },
  "language_info": {
   "codemirror_mode": {
    "name": "ipython",
    "version": 3
   },
   "file_extension": ".py",
   "mimetype": "text/x-python",
   "name": "python",
   "nbconvert_exporter": "python",
   "pygments_lexer": "ipython3",
   "version": "3.11.5"
  },
  "papermill": {
   "default_parameters": {},
   "duration": 1824.901717,
   "end_time": "2023-08-02T13:30:15.203079",
   "environment_variables": {},
   "exception": null,
   "input_path": "__notebook__.ipynb",
   "output_path": "__notebook__.ipynb",
   "parameters": {},
   "start_time": "2023-08-02T12:59:50.301362",
   "version": "2.4.0"
  }
 },
 "nbformat": 4,
 "nbformat_minor": 5
}
