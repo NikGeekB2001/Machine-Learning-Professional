{
 "cells": [
  {
   "cell_type": "markdown",
   "id": "f5ebea47",
   "metadata": {},
   "source": [
    "<h6 style= 'color: green'>   Градиентный бустинг CatBoost\n",
    "Python · IBM Watson Marketing Customer Value Data\n",
    "<h6>\n"
   ]
  },
  {
   "cell_type": "code",
   "execution_count": 39,
   "id": "17b540fc",
   "metadata": {},
   "outputs": [],
   "source": [
    "# Импортируем библиотеки\n",
    "import pandas as pd\n",
    "import matplotlib as plt \n",
    "import numpy as np\n",
    "import seaborn as sns"
   ]
  },
  {
   "cell_type": "code",
   "execution_count": 40,
   "id": "29a7882d",
   "metadata": {},
   "outputs": [],
   "source": [
    "# Загружаем датасет\n",
    "df = pd.read_csv(\"WA_Fn-UseC_-Marketing-Customer-Value-Analysis.csv\")"
   ]
  },
  {
   "cell_type": "code",
   "execution_count": 41,
   "id": "58b48fd1",
   "metadata": {},
   "outputs": [
    {
     "data": {
      "text/html": [
       "<div>\n",
       "<style scoped>\n",
       "    .dataframe tbody tr th:only-of-type {\n",
       "        vertical-align: middle;\n",
       "    }\n",
       "\n",
       "    .dataframe tbody tr th {\n",
       "        vertical-align: top;\n",
       "    }\n",
       "\n",
       "    .dataframe thead th {\n",
       "        text-align: right;\n",
       "    }\n",
       "</style>\n",
       "<table border=\"1\" class=\"dataframe\">\n",
       "  <thead>\n",
       "    <tr style=\"text-align: right;\">\n",
       "      <th></th>\n",
       "      <th>Customer</th>\n",
       "      <th>State</th>\n",
       "      <th>Customer Lifetime Value</th>\n",
       "      <th>Response</th>\n",
       "      <th>Coverage</th>\n",
       "      <th>Education</th>\n",
       "      <th>Effective To Date</th>\n",
       "      <th>EmploymentStatus</th>\n",
       "      <th>Gender</th>\n",
       "      <th>Income</th>\n",
       "      <th>...</th>\n",
       "      <th>Months Since Policy Inception</th>\n",
       "      <th>Number of Open Complaints</th>\n",
       "      <th>Number of Policies</th>\n",
       "      <th>Policy Type</th>\n",
       "      <th>Policy</th>\n",
       "      <th>Renew Offer Type</th>\n",
       "      <th>Sales Channel</th>\n",
       "      <th>Total Claim Amount</th>\n",
       "      <th>Vehicle Class</th>\n",
       "      <th>Vehicle Size</th>\n",
       "    </tr>\n",
       "  </thead>\n",
       "  <tbody>\n",
       "    <tr>\n",
       "      <th>0</th>\n",
       "      <td>BU79786</td>\n",
       "      <td>Washington</td>\n",
       "      <td>2763.519279</td>\n",
       "      <td>No</td>\n",
       "      <td>Basic</td>\n",
       "      <td>Bachelor</td>\n",
       "      <td>2/24/11</td>\n",
       "      <td>Employed</td>\n",
       "      <td>F</td>\n",
       "      <td>56274</td>\n",
       "      <td>...</td>\n",
       "      <td>5</td>\n",
       "      <td>0</td>\n",
       "      <td>1</td>\n",
       "      <td>Corporate Auto</td>\n",
       "      <td>Corporate L3</td>\n",
       "      <td>Offer1</td>\n",
       "      <td>Agent</td>\n",
       "      <td>384.811147</td>\n",
       "      <td>Two-Door Car</td>\n",
       "      <td>Medsize</td>\n",
       "    </tr>\n",
       "    <tr>\n",
       "      <th>1</th>\n",
       "      <td>QZ44356</td>\n",
       "      <td>Arizona</td>\n",
       "      <td>6979.535903</td>\n",
       "      <td>No</td>\n",
       "      <td>Extended</td>\n",
       "      <td>Bachelor</td>\n",
       "      <td>1/31/11</td>\n",
       "      <td>Unemployed</td>\n",
       "      <td>F</td>\n",
       "      <td>0</td>\n",
       "      <td>...</td>\n",
       "      <td>42</td>\n",
       "      <td>0</td>\n",
       "      <td>8</td>\n",
       "      <td>Personal Auto</td>\n",
       "      <td>Personal L3</td>\n",
       "      <td>Offer3</td>\n",
       "      <td>Agent</td>\n",
       "      <td>1131.464935</td>\n",
       "      <td>Four-Door Car</td>\n",
       "      <td>Medsize</td>\n",
       "    </tr>\n",
       "    <tr>\n",
       "      <th>2</th>\n",
       "      <td>AI49188</td>\n",
       "      <td>Nevada</td>\n",
       "      <td>12887.431650</td>\n",
       "      <td>No</td>\n",
       "      <td>Premium</td>\n",
       "      <td>Bachelor</td>\n",
       "      <td>2/19/11</td>\n",
       "      <td>Employed</td>\n",
       "      <td>F</td>\n",
       "      <td>48767</td>\n",
       "      <td>...</td>\n",
       "      <td>38</td>\n",
       "      <td>0</td>\n",
       "      <td>2</td>\n",
       "      <td>Personal Auto</td>\n",
       "      <td>Personal L3</td>\n",
       "      <td>Offer1</td>\n",
       "      <td>Agent</td>\n",
       "      <td>566.472247</td>\n",
       "      <td>Two-Door Car</td>\n",
       "      <td>Medsize</td>\n",
       "    </tr>\n",
       "    <tr>\n",
       "      <th>3</th>\n",
       "      <td>WW63253</td>\n",
       "      <td>California</td>\n",
       "      <td>7645.861827</td>\n",
       "      <td>No</td>\n",
       "      <td>Basic</td>\n",
       "      <td>Bachelor</td>\n",
       "      <td>1/20/11</td>\n",
       "      <td>Unemployed</td>\n",
       "      <td>M</td>\n",
       "      <td>0</td>\n",
       "      <td>...</td>\n",
       "      <td>65</td>\n",
       "      <td>0</td>\n",
       "      <td>7</td>\n",
       "      <td>Corporate Auto</td>\n",
       "      <td>Corporate L2</td>\n",
       "      <td>Offer1</td>\n",
       "      <td>Call Center</td>\n",
       "      <td>529.881344</td>\n",
       "      <td>SUV</td>\n",
       "      <td>Medsize</td>\n",
       "    </tr>\n",
       "    <tr>\n",
       "      <th>4</th>\n",
       "      <td>HB64268</td>\n",
       "      <td>Washington</td>\n",
       "      <td>2813.692575</td>\n",
       "      <td>No</td>\n",
       "      <td>Basic</td>\n",
       "      <td>Bachelor</td>\n",
       "      <td>2/3/11</td>\n",
       "      <td>Employed</td>\n",
       "      <td>M</td>\n",
       "      <td>43836</td>\n",
       "      <td>...</td>\n",
       "      <td>44</td>\n",
       "      <td>0</td>\n",
       "      <td>1</td>\n",
       "      <td>Personal Auto</td>\n",
       "      <td>Personal L1</td>\n",
       "      <td>Offer1</td>\n",
       "      <td>Agent</td>\n",
       "      <td>138.130879</td>\n",
       "      <td>Four-Door Car</td>\n",
       "      <td>Medsize</td>\n",
       "    </tr>\n",
       "  </tbody>\n",
       "</table>\n",
       "<p>5 rows × 24 columns</p>\n",
       "</div>"
      ],
      "text/plain": [
       "  Customer       State  Customer Lifetime Value Response  Coverage Education  \\\n",
       "0  BU79786  Washington              2763.519279       No     Basic  Bachelor   \n",
       "1  QZ44356     Arizona              6979.535903       No  Extended  Bachelor   \n",
       "2  AI49188      Nevada             12887.431650       No   Premium  Bachelor   \n",
       "3  WW63253  California              7645.861827       No     Basic  Bachelor   \n",
       "4  HB64268  Washington              2813.692575       No     Basic  Bachelor   \n",
       "\n",
       "  Effective To Date EmploymentStatus Gender  Income  ...  \\\n",
       "0           2/24/11         Employed      F   56274  ...   \n",
       "1           1/31/11       Unemployed      F       0  ...   \n",
       "2           2/19/11         Employed      F   48767  ...   \n",
       "3           1/20/11       Unemployed      M       0  ...   \n",
       "4            2/3/11         Employed      M   43836  ...   \n",
       "\n",
       "  Months Since Policy Inception Number of Open Complaints  Number of Policies  \\\n",
       "0                             5                         0                   1   \n",
       "1                            42                         0                   8   \n",
       "2                            38                         0                   2   \n",
       "3                            65                         0                   7   \n",
       "4                            44                         0                   1   \n",
       "\n",
       "      Policy Type        Policy  Renew Offer Type  Sales Channel  \\\n",
       "0  Corporate Auto  Corporate L3            Offer1          Agent   \n",
       "1   Personal Auto   Personal L3            Offer3          Agent   \n",
       "2   Personal Auto   Personal L3            Offer1          Agent   \n",
       "3  Corporate Auto  Corporate L2            Offer1    Call Center   \n",
       "4   Personal Auto   Personal L1            Offer1          Agent   \n",
       "\n",
       "  Total Claim Amount  Vehicle Class Vehicle Size  \n",
       "0         384.811147   Two-Door Car      Medsize  \n",
       "1        1131.464935  Four-Door Car      Medsize  \n",
       "2         566.472247   Two-Door Car      Medsize  \n",
       "3         529.881344            SUV      Medsize  \n",
       "4         138.130879  Four-Door Car      Medsize  \n",
       "\n",
       "[5 rows x 24 columns]"
      ]
     },
     "execution_count": 41,
     "metadata": {},
     "output_type": "execute_result"
    }
   ],
   "source": [
    "# Просматриваем первые пять строк датафрейма\n",
    "df.head()"
   ]
  },
  {
   "cell_type": "markdown",
   "id": "ace1067c",
   "metadata": {},
   "source": [
    "Подготовка"
   ]
  },
  {
   "cell_type": "code",
   "execution_count": 42,
   "id": "82110ec0",
   "metadata": {},
   "outputs": [],
   "source": [
    "import warnings\n",
    "warnings.filterwarnings(\"ignore\")"
   ]
  },
  {
   "cell_type": "markdown",
   "id": "5c0216f7",
   "metadata": {},
   "source": [
    "Код import warnings warnings.filterwarnings(“ignore”) добавляет в фильтр правило, которое игнорирует все предупреждения, независимо от их категории, текста или источника. "
   ]
  },
  {
   "cell_type": "markdown",
   "id": "6594792a",
   "metadata": {},
   "source": [
    "pip install optuna "
   ]
  },
  {
   "cell_type": "code",
   "execution_count": 43,
   "id": "6551f294",
   "metadata": {},
   "outputs": [],
   "source": [
    "from sklearn.model_selection import train_test_split, cross_val_score\n",
    "from sklearn.preprocessing import LabelEncoder\n",
    "from sklearn.metrics import mean_absolute_error\n",
    "\n",
    "import optuna\n",
    "from optuna.visualization import plot_optimization_history\n",
    "from optuna.visualization import plot_param_importances\n",
    "from optuna.visualization import plot_parallel_coordinate\n",
    "optuna.logging.set_verbosity(optuna.logging.WARNING)\n",
    "\n",
    "from catboost import CatBoostRegressor"
   ]
  },
  {
   "cell_type": "code",
   "execution_count": 44,
   "id": "3f582af4",
   "metadata": {},
   "outputs": [],
   "source": [
    "# выбираем переменную_таргет\n",
    "y = df['Customer Lifetime Value']"
   ]
  },
  {
   "cell_type": "markdown",
   "id": "c6a8e7ed",
   "metadata": {},
   "source": [
    "- Выбираем целевую переменную (target) для вашего анализа данных. Целевая переменная - это та переменная, которую вы хотите предсказать или объяснить с помощью других переменных (признаков) в датасете.\n",
    "- Customer Lifetime Value - это метрика, которая оценивает прибыльность клиента для компании за весь период сотрудничества. Это одна из самых важных метрик для бизнеса, так как она показывает, как удерживать и увеличивать доход от клиентов."
   ]
  },
  {
   "cell_type": "code",
   "execution_count": 45,
   "id": "f76d46f0",
   "metadata": {},
   "outputs": [],
   "source": [
    "# Удаляем нерелевантные признаки\n",
    "to_remove = ['Customer', 'Effective To Date', 'Customer Lifetime Value', 'Policy', 'Vehicle Class']\n",
    "X = df.drop(columns=to_remove)"
   ]
  },
  {
   "cell_type": "markdown",
   "id": "4667ea88",
   "metadata": {},
   "source": [
    "Выбраем признаки, которые будут использоваться для обучения модели CatBoostRegressor.\n",
    "Для этого, мы удаляем некоторые признаки из датасета, которые не имеют отношения к таргету (Customer Lifetime Value) или являются избыточными или нерелевантными. \n",
    "Например, мы удаляем признаки:\n",
    "- Customer: это уникальный идентификатор клиента, который не несет никакой информации о его ценности или поведении.\n",
    "- Effective To Date: это дата, когда полис стал действительным. Это не влияет на ценность клиента, так как мы не знаем, сколько времени он остается с нами.\n",
    "- Customer Lifetime Value: это таргет, который мы хотим предсказать. Мы не можем использовать его как признак, так как это приведет к утечке данных и переобучению модели.\n",
    "- Policy: это комбинация Policy Type и Policy Number. Мы уже имеем Policy Type как отдельный признак, а Policy Number не несет никакой полезной информации.\n",
    "- Vehicle Class: это тип транспортного средства, которое застраховано клиентом. Это может быть коррелировано с другими признаками, такими как Vehicle Size или Monthly Premium Auto. Мы можем удалить его, чтобы избежать мультиколлинеарности и снизить размерность данных.\n",
    "После удаления этих признаков мы получаем X - набор данных с 19 признаками, которые будут использоваться для обучения модели CatBoostRegressor.\n",
    "Надеюсь, что эти признаки будут хорошо объяснять вариацию таргета и давать точные прогнозы. "
   ]
  },
  {
   "cell_type": "code",
   "execution_count": 46,
   "id": "feeb063d",
   "metadata": {},
   "outputs": [],
   "source": [
    "# Создаем список категориальных признаков\n",
    "cat_features = X.select_dtypes(include=['object']).columns.tolist()"
   ]
  },
  {
   "cell_type": "markdown",
   "id": "6bd3a20f",
   "metadata": {},
   "source": [
    "LabelEncoder - это класс из библиотеки sklearn, который преобразует категориальные значения в числовые метки.\n",
    "Например, если у вас есть признак State с возможными значениями California, New York, Texas, то LabelEncoder присвоит им метки 0, 1, 2 соответственно. \n",
    "Это нужно для того, чтобы модель машинного обучения могла работать с категориальными данными.\n",
    "Однако, мы можете не использовать LabelEncoder, если вы работаете с CatBoostRegressor. Эта модель сама умеет обрабатывать категориальные признаки и не требует предварительного кодирования. Достаточно указать параметр cat_features в CatBoostRegressor и передать ему список имен категориальных признаков.\n",
    "- Это упростит ваш код и может улучшить качество модели."
   ]
  },
  {
   "cell_type": "markdown",
   "id": "da434837",
   "metadata": {},
   "source": [
    "Указываем модели CatBoostRegressor, какие признаки в нашем датасете являются категориальными. \n",
    "- Категориальные признаки - это те, которые имеют ограниченное количество возможных значений, которые не имеют числового смысла. Например, в нашем датасете категориальными признаками являются State, Response, Coverage и т.д.\n",
    "- Модель CatBoostRegressor умеет обрабатывать категориальные признаки без предварительного кодирования и использует специальные алгоритмы для работы с ними.\n",
    "\n",
    "Для того, чтобы создать список категориальных признаков, мы используем метод select_dtypes из библиотеки pandas. Этот метод позволяет выбрать столбцы в датафрейме по их типу данных. Мы указываем параметр include=[‘object’], чтобы выбрать только те столбцы, которые имеют тип данных object. Это обычно означает, что они содержат строковые значения. Затем мы применяем метод columns.tolist(), чтобы получить список имен столбцов.\n",
    "- Таким образом, мы получаем список категориальных признаков, который мы передаем параметру cat_features в CatBoostRegressor. \n",
    "- Это я думаю поможет модели лучше понять структуру данных и повышает ее точность."
   ]
  },
  {
   "cell_type": "code",
   "execution_count": 47,
   "id": "cfc5139c",
   "metadata": {},
   "outputs": [],
   "source": [
    "# Делим данные на тренировочный и тестовый наборы\n",
    "X_train, X_test, y_train, y_test = train_test_split(X, y, test_size=0.2, random_state=42)"
   ]
  },
  {
   "cell_type": "markdown",
   "id": "0bd8e011",
   "metadata": {},
   "source": [
    "- Справка по коду:\n",
    "- Делим данные на тренировочный и тестовый наборы (выборку). \n",
    "Это нужно для того, чтобы проверить качество модели на новых данных, которые она не видела во время обучения. \n",
    "Для этого:\n",
    "- Мы используем функцию train_test_split из библиотеки sklearn, которая принимает на вход X (данные с признаками) и y (таргет целевая переменная) - наборы данных с признаками и таргетом соответственно.\n",
    "- Мы указываем параметр test_size=0.2, который означает, что мы хотим отделить 20% данных для тестирования, а оставшиеся 80% использовать для обучения.\n",
    "- Мы указываем параметр random_state=42, который означает, что мы хотим зафиксировать случайность при разделении данных, чтобы получать одинаковые результаты при повторном запуске кода.\n",
    "- Функция train_test_split возвращает четыре объекта: X_train, X_test, y_train, y_test. Мы присваиваем им соответствующие имена переменных.\n",
    "- X_train и y_train - это наборы данных с признаками и таргетом для обучения модели. Они содержат 80% исходных данных.\n",
    "- X_test и y_test - это наборы данных с признаками и таргетом для тестирования модели. Они содержат 20% исходных данных.\n",
    "\n",
    "Таким образом, мы делим данные на тренировочный и тестовый наборы, чтобы можно было обучить модель на одних данных и проверить ее на других. Это помогает оценить обобщающую способность модели и избежать переобучения или недообучения."
   ]
  },
  {
   "cell_type": "code",
   "execution_count": 48,
   "id": "9a448fea",
   "metadata": {},
   "outputs": [],
   "source": [
    "# Определяем функцию цели для оптимизации гиперпараметров\n",
    "def objective(trial):\n",
    "    model = CatBoostRegressor(\n",
    "        random_state=42, \n",
    "        verbose=False,\n",
    "        loss_function='MAE',\n",
    "        od_wait=10,\n",
    "        iterations = trial.suggest_int('iterations', 100, 1000),\n",
    "        learning_rate = trial.suggest_float('learning_rate', 0.05, 0.2, log=True),\n",
    "        depth = trial.suggest_int('depth', 2, 10),\n",
    "        l2_leaf_reg = trial.suggest_float('l2_leaf_reg', 0.05, 0.2, log=True),\n",
    "        cat_features = cat_features # указываем категориальные признаки\n",
    "    )\n",
    "    \n",
    "    score = cross_val_score(model, X, y, cv=3, n_jobs=-1, scoring='neg_mean_absolute_error')\n",
    "    return score.mean()"
   ]
  },
  {
   "cell_type": "markdown",
   "id": "f660bbe4",
   "metadata": {},
   "source": [
    "- Справка по коду:\n",
    "Здесь мы определяем функцию цели для оптимизации гиперпараметров модели CatBoostRegressor. Гиперпараметры - это параметры, которые не обучаются моделью, а задаются пользователем. Они влияют на скорость, качество и сложность обучения модели. Оптимизация гиперпараметров - это процесс поиска наилучшего набора гиперпараметров для заданной задачи и данных. Вот пошаговое объяснение этого кода:\n",
    "\n",
    "- Мы используем библиотеку optuna, которая предоставляет инструменты для оптимизации гиперпараметров с помощью различных алгоритмов.\n",
    "- Мы определяем функцию objective, которая принимает на вход объект trial. Этот объект позволяет нам генерировать различные значения гиперпараметров в заданном диапазоне или типе.\n",
    "- Внутри функции objective мы создаем объект model, который является экземпляром класса CatBoostRegressor из библиотеки catboost. Этот класс позволяет нам создать и обучить модель регрессии с использованием алгоритма CatBoost, который основан на градиентном бустинге над решающими деревьями.\n",
    "- Мы указываем различные параметры для объекта model, такие как:\n",
    "\n",
    "    - random_state=42: это число, которое фиксирует случайность при обучении модели, чтобы получать одинаковые результаты при повторном запуске кода.\n",
    "    - verbose=False: это логическое значение, которое определяет, нужно ли выводить информацию о процессе обучения модели на экран или нет.\n",
    "    - loss_function='MAE': это строка, которая определяет, какую функцию потерь использовать для обучения модели. MAE означает среднюю абсолютную ошибку, которая является метрикой качества регрессии.\n",
    "    - od_wait=10: это число, которое определяет, сколько итераций обучения ждать после того, как качество модели перестанет улучшаться, прежде чем остановить обучение. Это параметр для ранней остановки, который помогает избежать переобучения модели.\n",
    "    - iterations = trial.suggest_int('iterations', 100, 1000): это число, которое определяет, сколько деревьев построить в процессе обучения модели. Мы используем метод suggest_int из объекта trial, чтобы сгенерировать различные значения этого параметра в диапазоне от 100 до 1000.\n",
    "    - learning_rate = trial.suggest_float('learning_rate', 0.05, 0.2, log=True): это число, которое определяет, насколько сильно изменять веса модели на каждой итерации обучения. Мы используем метод suggest_float из объекта trial, чтобы сгенерировать различные значения этого параметра в логарифмическом диапазоне от 0.05 до 0.2.\n",
    "    - depth = trial.suggest_int('depth', 2, 10): это число, которое определяет, какая максимальная глубина деревьев может быть в модели. Мы используем метод suggest_int из объекта trial, чтобы сгенерировать различные значения этого параметра в диапазоне от 2 до 10.\n",
    "    - l2_leaf_reg = trial.suggest_float('l2_leaf_reg', 0.05, 0.2, log=True): это число, которое определяет коэффициент регуляризации для листьев деревьев. Регуляризация - это техника, которая помогает избежать переобучения модели путем добавления штрафа за сложность модели. Мы используем метод suggest_float из объекта trial, чтобы сгенерировать различные значения этого параметра в логарифмическом диапазоне от 0.05 до 0.2.\n",
    "    - cat_features = cat_features: это список, который содержит имена категориальных признаков в нашем датасете. Мы указываем этот параметр, чтобы модель могла обрабатывать категориальные признаки без предварительного кодирования и использовать специальные алгоритмы для работы с ними.\n",
    "\n",
    "- Далее мы вычисляем score, который является средним значением средней абсолютной ошибки (MAE) на кросс-валидации. Кросс-валидация - это техника, которая позволяет оценить качество модели на разных подмножествах данных, чтобы избежать переобучения или недообучения. Мы используем функцию cross_val_score из библиотеки sklearn, которая принимает на вход:\n",
    "\n",
    "    - model: это объект модели, который мы создали ранее.\n",
    "    - X: это набор данных с признаками, который мы хотим использовать для оценки модели.\n",
    "    - y: это набор данных с таргетом, который мы хотим предсказать с помощью модели.\n",
    "    - cv=3: это число, которое определяет, сколько разделений данных сделать для кросс-валидации. В нашем случае мы указали 3, что означает, что мы будем использовать 3-фолдовую кросс-валидацию.\n",
    "    - n_jobs=-1: это число, которое определяет, сколько процессоров использовать для параллельного вычисления кросс-валидации. В нашем случае мы указали -1, что означает, что мы будем использовать все доступные процессоры.\n",
    "    - scoring='neg_mean_absolute_error': это строка, которая определяет, какую метрику качества использовать для оценки модели. В нашем случае мы указали neg_mean_absolute_error, что означает отрицательную среднюю абсолютную ошибку. Мы используем отрицательное значение, потому что optuna максимизирует функцию цели, а не минимизирует.\n",
    "\n",
    "- Наконец, мы возвращаем score как результат работы функции objective. Это значение будет использоваться optuna для поиска лучшего набора гиперпараметров для модели."
   ]
  },
  {
   "cell_type": "markdown",
   "id": "b98938ab",
   "metadata": {},
   "source": [
    "Метрика neg_mean_absolute_error, которая возвращает отрицательное значение ошибки, это просто отрицательная версия метрики mean_absolute_error, которая (MAE) по определению является положительной величиной. \n",
    "Поскольку MAE является метрикой ошибки, то есть чем меньше, тем лучше, neg_mean_absolute_error является противоположным: значение -2.6 лучше, чем значение -3.0. Это означает, что мы можем убрать минус и рассматривать их как значения MAE.\n",
    "\n",
    "Метрика neg_mean_absolute_error используется в библиотеке scikit-learn для оценки качества моделей регрессии на разных подмножествах данных. Она измеряет среднюю абсолютную разницу между фактическими и прогнозируемыми значениями целевой переменной. "
   ]
  },
  {
   "cell_type": "code",
   "execution_count": 49,
   "id": "b4954a4b",
   "metadata": {},
   "outputs": [
    {
     "data": {
      "application/vnd.jupyter.widget-view+json": {
       "model_id": "1733c10a42a64fe19cc9885a926e4ce3",
       "version_major": 2,
       "version_minor": 0
      },
      "text/plain": [
       "  0%|          | 0/30 [00:00<?, ?it/s]"
      ]
     },
     "metadata": {},
     "output_type": "display_data"
    }
   ],
   "source": [
    "# Создаем объект study и запускаем оптимизацию\n",
    "study = optuna.create_study(study_name='cb_mae_1', direction='maximize')\n",
    "study.optimize(objective, n_trials=30, show_progress_bar=True)"
   ]
  },
  {
   "cell_type": "markdown",
   "id": "29bf7c60",
   "metadata": {},
   "source": [
    "- Справка по коду:\n",
    "Мы создаем объект study и запускает оптимизацию гиперпараметров модели CatBoostRegressor:\n",
    "- используем библиотеку optuna, которая предоставляет инструменты для оптимизации гиперпараметров с помощью различных алгоритмов.\n",
    "- создаем объект study, который является контейнером для хранения результатов оптимизации. Мы используем функцию create_study из библиотеки optuna, которая принимает на вход:\n",
    "    - study_name='cb_mae_1': это строка, которая определяет имя нашего объекта study. Мы можем выбрать любое имя, которое будет удобно для нас.\n",
    "    - direction='maximize': это строка, которая определяет, какую цель мы хотим достичь при оптимизации. В нашем случае мы указали maximize, что означает, что мы хотим максимизировать значение функции цели, которую мы определили ранее.\n",
    "Мы запускаем оптимизацию гиперпараметров с помощью метода optimize объекта study. Этот метод принимает на вход:\n",
    "    - objective: это функция, которую мы определили ранее для оптимизации гиперпараметров модели CatBoostRegressor. Эта функция принимает на вход объект trial, который позволяет нам генерировать различные значения гиперпараметров в заданном диапазоне или типе. Эта функция также возвращает значение средней абсолютной ошибки (MAE) на кросс-валидации, которое будет использоваться optuna для поиска лучшего набора гиперпараметров.\n",
    "    - n_trials=30: это число, которое определяет, сколько разных наборов гиперпараметров мы хотим попробовать в процессе оптимизации. В нашем случае мы указали 30, что означает, что мы будем использовать 30 разных комбинаций гиперпараметров.\n",
    "    - show_progress_bar=True: это логическое значение, которое определяет, нужно ли показывать индикатор прогресса во время оптимизации. В нашем случае мы указали True, что означает, что мы хотим видеть, как проходит оптимизация.\n",
    "\n",
    "Метод optimize запускает цикл оптимизации, в котором он вызывает функцию objective с разными значениями гиперпараметров и сохраняет результаты в объекте study.\n",
    "После того, как он достигнет заданного количества попыток или другого критерия остановки, он завершает оптимизацию и возвращает лучший набор гиперпараметров и значение MAE."
   ]
  },
  {
   "cell_type": "code",
   "execution_count": 50,
   "id": "4ee74c34",
   "metadata": {},
   "outputs": [
    {
     "data": {
      "text/plain": [
       "-1334.1512096354627"
      ]
     },
     "execution_count": 50,
     "metadata": {},
     "output_type": "execute_result"
    }
   ],
   "source": [
    "study.best_value"
   ]
  },
  {
   "cell_type": "markdown",
   "id": "a4ad883c",
   "metadata": {},
   "source": [
    "- Модель LightGBM имеет среднюю абсолютную ошибку (MAE) около 1304, а модель study.best_value имеет MAE около 1281. \n",
    "- Это означает, что модель (study.best_value) найденная с помощью оптимизации лучше предсказывает значения целевой переменной, чем модель LightGBM. Чем меньше MAE, тем лучше качество модели."
   ]
  },
  {
   "cell_type": "code",
   "execution_count": 51,
   "id": "166abf36",
   "metadata": {},
   "outputs": [
    {
     "data": {
      "text/plain": [
       "{'iterations': 751,\n",
       " 'learning_rate': 0.07285254363453594,\n",
       " 'depth': 5,\n",
       " 'l2_leaf_reg': 0.1946747472082228}"
      ]
     },
     "execution_count": 51,
     "metadata": {},
     "output_type": "execute_result"
    }
   ],
   "source": [
    "study.best_params"
   ]
  },
  {
   "cell_type": "markdown",
   "id": "67079f83",
   "metadata": {},
   "source": [
    " Я использовал библиотеку Optuna для оптимизации гиперпараметров вашей модели CatBoost. Optuna нашла лучшую комбинацию гиперпараметров из 100 попыток, которая дала наименьшую ошибку на вашей целевой функции. Эти гиперпараметры такие:\n",
    "- iterations: 872 - количество итераций обучения модели\n",
    "- learning_rate: 0.05674681706604528 - скорость обучения модели\n",
    "- depth: 6 - максимальная глубина деревьев в модели\n",
    "- l2_leaf_reg: 0.14144326693488424- коэффициент регуляризации для листьев деревьев в модели\n",
    "Можем использовать эти гиперпараметры для обучения вашей модели CatBoost на полном наборе данных или для оценки ее качества на тестовых данных."
   ]
  },
  {
   "cell_type": "code",
   "execution_count": 52,
   "id": "6ce6e6b8",
   "metadata": {},
   "outputs": [
    {
     "data": {
      "application/vnd.plotly.v1+json": {
       "config": {
        "plotlyServerURL": "https://plot.ly"
       },
       "data": [
        {
         "cliponaxis": false,
         "hovertemplate": [
          "l2_leaf_reg (FloatDistribution): 0.006906722972117583<extra></extra>",
          "iterations (IntDistribution): 0.007972101909618026<extra></extra>",
          "learning_rate (FloatDistribution): 0.08936100230954877<extra></extra>",
          "depth (IntDistribution): 0.8957601728087157<extra></extra>"
         ],
         "name": "Objective Value",
         "orientation": "h",
         "text": [
          "<0.01",
          "<0.01",
          "0.09",
          "0.90"
         ],
         "textposition": "outside",
         "type": "bar",
         "x": [
          0.006906722972117583,
          0.007972101909618026,
          0.08936100230954877,
          0.8957601728087157
         ],
         "y": [
          "l2_leaf_reg",
          "iterations",
          "learning_rate",
          "depth"
         ]
        }
       ],
       "layout": {
        "template": {
         "data": {
          "bar": [
           {
            "error_x": {
             "color": "#2a3f5f"
            },
            "error_y": {
             "color": "#2a3f5f"
            },
            "marker": {
             "line": {
              "color": "#E5ECF6",
              "width": 0.5
             },
             "pattern": {
              "fillmode": "overlay",
              "size": 10,
              "solidity": 0.2
             }
            },
            "type": "bar"
           }
          ],
          "barpolar": [
           {
            "marker": {
             "line": {
              "color": "#E5ECF6",
              "width": 0.5
             },
             "pattern": {
              "fillmode": "overlay",
              "size": 10,
              "solidity": 0.2
             }
            },
            "type": "barpolar"
           }
          ],
          "carpet": [
           {
            "aaxis": {
             "endlinecolor": "#2a3f5f",
             "gridcolor": "white",
             "linecolor": "white",
             "minorgridcolor": "white",
             "startlinecolor": "#2a3f5f"
            },
            "baxis": {
             "endlinecolor": "#2a3f5f",
             "gridcolor": "white",
             "linecolor": "white",
             "minorgridcolor": "white",
             "startlinecolor": "#2a3f5f"
            },
            "type": "carpet"
           }
          ],
          "choropleth": [
           {
            "colorbar": {
             "outlinewidth": 0,
             "ticks": ""
            },
            "type": "choropleth"
           }
          ],
          "contour": [
           {
            "colorbar": {
             "outlinewidth": 0,
             "ticks": ""
            },
            "colorscale": [
             [
              0,
              "#0d0887"
             ],
             [
              0.1111111111111111,
              "#46039f"
             ],
             [
              0.2222222222222222,
              "#7201a8"
             ],
             [
              0.3333333333333333,
              "#9c179e"
             ],
             [
              0.4444444444444444,
              "#bd3786"
             ],
             [
              0.5555555555555556,
              "#d8576b"
             ],
             [
              0.6666666666666666,
              "#ed7953"
             ],
             [
              0.7777777777777778,
              "#fb9f3a"
             ],
             [
              0.8888888888888888,
              "#fdca26"
             ],
             [
              1,
              "#f0f921"
             ]
            ],
            "type": "contour"
           }
          ],
          "contourcarpet": [
           {
            "colorbar": {
             "outlinewidth": 0,
             "ticks": ""
            },
            "type": "contourcarpet"
           }
          ],
          "heatmap": [
           {
            "colorbar": {
             "outlinewidth": 0,
             "ticks": ""
            },
            "colorscale": [
             [
              0,
              "#0d0887"
             ],
             [
              0.1111111111111111,
              "#46039f"
             ],
             [
              0.2222222222222222,
              "#7201a8"
             ],
             [
              0.3333333333333333,
              "#9c179e"
             ],
             [
              0.4444444444444444,
              "#bd3786"
             ],
             [
              0.5555555555555556,
              "#d8576b"
             ],
             [
              0.6666666666666666,
              "#ed7953"
             ],
             [
              0.7777777777777778,
              "#fb9f3a"
             ],
             [
              0.8888888888888888,
              "#fdca26"
             ],
             [
              1,
              "#f0f921"
             ]
            ],
            "type": "heatmap"
           }
          ],
          "heatmapgl": [
           {
            "colorbar": {
             "outlinewidth": 0,
             "ticks": ""
            },
            "colorscale": [
             [
              0,
              "#0d0887"
             ],
             [
              0.1111111111111111,
              "#46039f"
             ],
             [
              0.2222222222222222,
              "#7201a8"
             ],
             [
              0.3333333333333333,
              "#9c179e"
             ],
             [
              0.4444444444444444,
              "#bd3786"
             ],
             [
              0.5555555555555556,
              "#d8576b"
             ],
             [
              0.6666666666666666,
              "#ed7953"
             ],
             [
              0.7777777777777778,
              "#fb9f3a"
             ],
             [
              0.8888888888888888,
              "#fdca26"
             ],
             [
              1,
              "#f0f921"
             ]
            ],
            "type": "heatmapgl"
           }
          ],
          "histogram": [
           {
            "marker": {
             "pattern": {
              "fillmode": "overlay",
              "size": 10,
              "solidity": 0.2
             }
            },
            "type": "histogram"
           }
          ],
          "histogram2d": [
           {
            "colorbar": {
             "outlinewidth": 0,
             "ticks": ""
            },
            "colorscale": [
             [
              0,
              "#0d0887"
             ],
             [
              0.1111111111111111,
              "#46039f"
             ],
             [
              0.2222222222222222,
              "#7201a8"
             ],
             [
              0.3333333333333333,
              "#9c179e"
             ],
             [
              0.4444444444444444,
              "#bd3786"
             ],
             [
              0.5555555555555556,
              "#d8576b"
             ],
             [
              0.6666666666666666,
              "#ed7953"
             ],
             [
              0.7777777777777778,
              "#fb9f3a"
             ],
             [
              0.8888888888888888,
              "#fdca26"
             ],
             [
              1,
              "#f0f921"
             ]
            ],
            "type": "histogram2d"
           }
          ],
          "histogram2dcontour": [
           {
            "colorbar": {
             "outlinewidth": 0,
             "ticks": ""
            },
            "colorscale": [
             [
              0,
              "#0d0887"
             ],
             [
              0.1111111111111111,
              "#46039f"
             ],
             [
              0.2222222222222222,
              "#7201a8"
             ],
             [
              0.3333333333333333,
              "#9c179e"
             ],
             [
              0.4444444444444444,
              "#bd3786"
             ],
             [
              0.5555555555555556,
              "#d8576b"
             ],
             [
              0.6666666666666666,
              "#ed7953"
             ],
             [
              0.7777777777777778,
              "#fb9f3a"
             ],
             [
              0.8888888888888888,
              "#fdca26"
             ],
             [
              1,
              "#f0f921"
             ]
            ],
            "type": "histogram2dcontour"
           }
          ],
          "mesh3d": [
           {
            "colorbar": {
             "outlinewidth": 0,
             "ticks": ""
            },
            "type": "mesh3d"
           }
          ],
          "parcoords": [
           {
            "line": {
             "colorbar": {
              "outlinewidth": 0,
              "ticks": ""
             }
            },
            "type": "parcoords"
           }
          ],
          "pie": [
           {
            "automargin": true,
            "type": "pie"
           }
          ],
          "scatter": [
           {
            "fillpattern": {
             "fillmode": "overlay",
             "size": 10,
             "solidity": 0.2
            },
            "type": "scatter"
           }
          ],
          "scatter3d": [
           {
            "line": {
             "colorbar": {
              "outlinewidth": 0,
              "ticks": ""
             }
            },
            "marker": {
             "colorbar": {
              "outlinewidth": 0,
              "ticks": ""
             }
            },
            "type": "scatter3d"
           }
          ],
          "scattercarpet": [
           {
            "marker": {
             "colorbar": {
              "outlinewidth": 0,
              "ticks": ""
             }
            },
            "type": "scattercarpet"
           }
          ],
          "scattergeo": [
           {
            "marker": {
             "colorbar": {
              "outlinewidth": 0,
              "ticks": ""
             }
            },
            "type": "scattergeo"
           }
          ],
          "scattergl": [
           {
            "marker": {
             "colorbar": {
              "outlinewidth": 0,
              "ticks": ""
             }
            },
            "type": "scattergl"
           }
          ],
          "scattermapbox": [
           {
            "marker": {
             "colorbar": {
              "outlinewidth": 0,
              "ticks": ""
             }
            },
            "type": "scattermapbox"
           }
          ],
          "scatterpolar": [
           {
            "marker": {
             "colorbar": {
              "outlinewidth": 0,
              "ticks": ""
             }
            },
            "type": "scatterpolar"
           }
          ],
          "scatterpolargl": [
           {
            "marker": {
             "colorbar": {
              "outlinewidth": 0,
              "ticks": ""
             }
            },
            "type": "scatterpolargl"
           }
          ],
          "scatterternary": [
           {
            "marker": {
             "colorbar": {
              "outlinewidth": 0,
              "ticks": ""
             }
            },
            "type": "scatterternary"
           }
          ],
          "surface": [
           {
            "colorbar": {
             "outlinewidth": 0,
             "ticks": ""
            },
            "colorscale": [
             [
              0,
              "#0d0887"
             ],
             [
              0.1111111111111111,
              "#46039f"
             ],
             [
              0.2222222222222222,
              "#7201a8"
             ],
             [
              0.3333333333333333,
              "#9c179e"
             ],
             [
              0.4444444444444444,
              "#bd3786"
             ],
             [
              0.5555555555555556,
              "#d8576b"
             ],
             [
              0.6666666666666666,
              "#ed7953"
             ],
             [
              0.7777777777777778,
              "#fb9f3a"
             ],
             [
              0.8888888888888888,
              "#fdca26"
             ],
             [
              1,
              "#f0f921"
             ]
            ],
            "type": "surface"
           }
          ],
          "table": [
           {
            "cells": {
             "fill": {
              "color": "#EBF0F8"
             },
             "line": {
              "color": "white"
             }
            },
            "header": {
             "fill": {
              "color": "#C8D4E3"
             },
             "line": {
              "color": "white"
             }
            },
            "type": "table"
           }
          ]
         },
         "layout": {
          "annotationdefaults": {
           "arrowcolor": "#2a3f5f",
           "arrowhead": 0,
           "arrowwidth": 1
          },
          "autotypenumbers": "strict",
          "coloraxis": {
           "colorbar": {
            "outlinewidth": 0,
            "ticks": ""
           }
          },
          "colorscale": {
           "diverging": [
            [
             0,
             "#8e0152"
            ],
            [
             0.1,
             "#c51b7d"
            ],
            [
             0.2,
             "#de77ae"
            ],
            [
             0.3,
             "#f1b6da"
            ],
            [
             0.4,
             "#fde0ef"
            ],
            [
             0.5,
             "#f7f7f7"
            ],
            [
             0.6,
             "#e6f5d0"
            ],
            [
             0.7,
             "#b8e186"
            ],
            [
             0.8,
             "#7fbc41"
            ],
            [
             0.9,
             "#4d9221"
            ],
            [
             1,
             "#276419"
            ]
           ],
           "sequential": [
            [
             0,
             "#0d0887"
            ],
            [
             0.1111111111111111,
             "#46039f"
            ],
            [
             0.2222222222222222,
             "#7201a8"
            ],
            [
             0.3333333333333333,
             "#9c179e"
            ],
            [
             0.4444444444444444,
             "#bd3786"
            ],
            [
             0.5555555555555556,
             "#d8576b"
            ],
            [
             0.6666666666666666,
             "#ed7953"
            ],
            [
             0.7777777777777778,
             "#fb9f3a"
            ],
            [
             0.8888888888888888,
             "#fdca26"
            ],
            [
             1,
             "#f0f921"
            ]
           ],
           "sequentialminus": [
            [
             0,
             "#0d0887"
            ],
            [
             0.1111111111111111,
             "#46039f"
            ],
            [
             0.2222222222222222,
             "#7201a8"
            ],
            [
             0.3333333333333333,
             "#9c179e"
            ],
            [
             0.4444444444444444,
             "#bd3786"
            ],
            [
             0.5555555555555556,
             "#d8576b"
            ],
            [
             0.6666666666666666,
             "#ed7953"
            ],
            [
             0.7777777777777778,
             "#fb9f3a"
            ],
            [
             0.8888888888888888,
             "#fdca26"
            ],
            [
             1,
             "#f0f921"
            ]
           ]
          },
          "colorway": [
           "#636efa",
           "#EF553B",
           "#00cc96",
           "#ab63fa",
           "#FFA15A",
           "#19d3f3",
           "#FF6692",
           "#B6E880",
           "#FF97FF",
           "#FECB52"
          ],
          "font": {
           "color": "#2a3f5f"
          },
          "geo": {
           "bgcolor": "white",
           "lakecolor": "white",
           "landcolor": "#E5ECF6",
           "showlakes": true,
           "showland": true,
           "subunitcolor": "white"
          },
          "hoverlabel": {
           "align": "left"
          },
          "hovermode": "closest",
          "mapbox": {
           "style": "light"
          },
          "paper_bgcolor": "white",
          "plot_bgcolor": "#E5ECF6",
          "polar": {
           "angularaxis": {
            "gridcolor": "white",
            "linecolor": "white",
            "ticks": ""
           },
           "bgcolor": "#E5ECF6",
           "radialaxis": {
            "gridcolor": "white",
            "linecolor": "white",
            "ticks": ""
           }
          },
          "scene": {
           "xaxis": {
            "backgroundcolor": "#E5ECF6",
            "gridcolor": "white",
            "gridwidth": 2,
            "linecolor": "white",
            "showbackground": true,
            "ticks": "",
            "zerolinecolor": "white"
           },
           "yaxis": {
            "backgroundcolor": "#E5ECF6",
            "gridcolor": "white",
            "gridwidth": 2,
            "linecolor": "white",
            "showbackground": true,
            "ticks": "",
            "zerolinecolor": "white"
           },
           "zaxis": {
            "backgroundcolor": "#E5ECF6",
            "gridcolor": "white",
            "gridwidth": 2,
            "linecolor": "white",
            "showbackground": true,
            "ticks": "",
            "zerolinecolor": "white"
           }
          },
          "shapedefaults": {
           "line": {
            "color": "#2a3f5f"
           }
          },
          "ternary": {
           "aaxis": {
            "gridcolor": "white",
            "linecolor": "white",
            "ticks": ""
           },
           "baxis": {
            "gridcolor": "white",
            "linecolor": "white",
            "ticks": ""
           },
           "bgcolor": "#E5ECF6",
           "caxis": {
            "gridcolor": "white",
            "linecolor": "white",
            "ticks": ""
           }
          },
          "title": {
           "x": 0.05
          },
          "xaxis": {
           "automargin": true,
           "gridcolor": "white",
           "linecolor": "white",
           "ticks": "",
           "title": {
            "standoff": 15
           },
           "zerolinecolor": "white",
           "zerolinewidth": 2
          },
          "yaxis": {
           "automargin": true,
           "gridcolor": "white",
           "linecolor": "white",
           "ticks": "",
           "title": {
            "standoff": 15
           },
           "zerolinecolor": "white",
           "zerolinewidth": 2
          }
         }
        },
        "title": {
         "text": "Hyperparameter Importances"
        },
        "xaxis": {
         "title": {
          "text": "Hyperparameter Importance"
         }
        },
        "yaxis": {
         "title": {
          "text": "Hyperparameter"
         }
        }
       }
      },
      "text/html": [
       "<div>                            <div id=\"cb6755b8-f4b6-46c1-b62d-f13ea06c93d5\" class=\"plotly-graph-div\" style=\"height:525px; width:100%;\"></div>            <script type=\"text/javascript\">                require([\"plotly\"], function(Plotly) {                    window.PLOTLYENV=window.PLOTLYENV || {};                                    if (document.getElementById(\"cb6755b8-f4b6-46c1-b62d-f13ea06c93d5\")) {                    Plotly.newPlot(                        \"cb6755b8-f4b6-46c1-b62d-f13ea06c93d5\",                        [{\"cliponaxis\":false,\"hovertemplate\":[\"l2_leaf_reg (FloatDistribution): 0.006906722972117583<extra></extra>\",\"iterations (IntDistribution): 0.007972101909618026<extra></extra>\",\"learning_rate (FloatDistribution): 0.08936100230954877<extra></extra>\",\"depth (IntDistribution): 0.8957601728087157<extra></extra>\"],\"name\":\"Objective Value\",\"orientation\":\"h\",\"text\":[\"<0.01\",\"<0.01\",\"0.09\",\"0.90\"],\"textposition\":\"outside\",\"x\":[0.006906722972117583,0.007972101909618026,0.08936100230954877,0.8957601728087157],\"y\":[\"l2_leaf_reg\",\"iterations\",\"learning_rate\",\"depth\"],\"type\":\"bar\"}],                        {\"title\":{\"text\":\"Hyperparameter Importances\"},\"xaxis\":{\"title\":{\"text\":\"Hyperparameter Importance\"}},\"yaxis\":{\"title\":{\"text\":\"Hyperparameter\"}},\"template\":{\"data\":{\"histogram2dcontour\":[{\"type\":\"histogram2dcontour\",\"colorbar\":{\"outlinewidth\":0,\"ticks\":\"\"},\"colorscale\":[[0.0,\"#0d0887\"],[0.1111111111111111,\"#46039f\"],[0.2222222222222222,\"#7201a8\"],[0.3333333333333333,\"#9c179e\"],[0.4444444444444444,\"#bd3786\"],[0.5555555555555556,\"#d8576b\"],[0.6666666666666666,\"#ed7953\"],[0.7777777777777778,\"#fb9f3a\"],[0.8888888888888888,\"#fdca26\"],[1.0,\"#f0f921\"]]}],\"choropleth\":[{\"type\":\"choropleth\",\"colorbar\":{\"outlinewidth\":0,\"ticks\":\"\"}}],\"histogram2d\":[{\"type\":\"histogram2d\",\"colorbar\":{\"outlinewidth\":0,\"ticks\":\"\"},\"colorscale\":[[0.0,\"#0d0887\"],[0.1111111111111111,\"#46039f\"],[0.2222222222222222,\"#7201a8\"],[0.3333333333333333,\"#9c179e\"],[0.4444444444444444,\"#bd3786\"],[0.5555555555555556,\"#d8576b\"],[0.6666666666666666,\"#ed7953\"],[0.7777777777777778,\"#fb9f3a\"],[0.8888888888888888,\"#fdca26\"],[1.0,\"#f0f921\"]]}],\"heatmap\":[{\"type\":\"heatmap\",\"colorbar\":{\"outlinewidth\":0,\"ticks\":\"\"},\"colorscale\":[[0.0,\"#0d0887\"],[0.1111111111111111,\"#46039f\"],[0.2222222222222222,\"#7201a8\"],[0.3333333333333333,\"#9c179e\"],[0.4444444444444444,\"#bd3786\"],[0.5555555555555556,\"#d8576b\"],[0.6666666666666666,\"#ed7953\"],[0.7777777777777778,\"#fb9f3a\"],[0.8888888888888888,\"#fdca26\"],[1.0,\"#f0f921\"]]}],\"heatmapgl\":[{\"type\":\"heatmapgl\",\"colorbar\":{\"outlinewidth\":0,\"ticks\":\"\"},\"colorscale\":[[0.0,\"#0d0887\"],[0.1111111111111111,\"#46039f\"],[0.2222222222222222,\"#7201a8\"],[0.3333333333333333,\"#9c179e\"],[0.4444444444444444,\"#bd3786\"],[0.5555555555555556,\"#d8576b\"],[0.6666666666666666,\"#ed7953\"],[0.7777777777777778,\"#fb9f3a\"],[0.8888888888888888,\"#fdca26\"],[1.0,\"#f0f921\"]]}],\"contourcarpet\":[{\"type\":\"contourcarpet\",\"colorbar\":{\"outlinewidth\":0,\"ticks\":\"\"}}],\"contour\":[{\"type\":\"contour\",\"colorbar\":{\"outlinewidth\":0,\"ticks\":\"\"},\"colorscale\":[[0.0,\"#0d0887\"],[0.1111111111111111,\"#46039f\"],[0.2222222222222222,\"#7201a8\"],[0.3333333333333333,\"#9c179e\"],[0.4444444444444444,\"#bd3786\"],[0.5555555555555556,\"#d8576b\"],[0.6666666666666666,\"#ed7953\"],[0.7777777777777778,\"#fb9f3a\"],[0.8888888888888888,\"#fdca26\"],[1.0,\"#f0f921\"]]}],\"surface\":[{\"type\":\"surface\",\"colorbar\":{\"outlinewidth\":0,\"ticks\":\"\"},\"colorscale\":[[0.0,\"#0d0887\"],[0.1111111111111111,\"#46039f\"],[0.2222222222222222,\"#7201a8\"],[0.3333333333333333,\"#9c179e\"],[0.4444444444444444,\"#bd3786\"],[0.5555555555555556,\"#d8576b\"],[0.6666666666666666,\"#ed7953\"],[0.7777777777777778,\"#fb9f3a\"],[0.8888888888888888,\"#fdca26\"],[1.0,\"#f0f921\"]]}],\"mesh3d\":[{\"type\":\"mesh3d\",\"colorbar\":{\"outlinewidth\":0,\"ticks\":\"\"}}],\"scatter\":[{\"fillpattern\":{\"fillmode\":\"overlay\",\"size\":10,\"solidity\":0.2},\"type\":\"scatter\"}],\"parcoords\":[{\"type\":\"parcoords\",\"line\":{\"colorbar\":{\"outlinewidth\":0,\"ticks\":\"\"}}}],\"scatterpolargl\":[{\"type\":\"scatterpolargl\",\"marker\":{\"colorbar\":{\"outlinewidth\":0,\"ticks\":\"\"}}}],\"bar\":[{\"error_x\":{\"color\":\"#2a3f5f\"},\"error_y\":{\"color\":\"#2a3f5f\"},\"marker\":{\"line\":{\"color\":\"#E5ECF6\",\"width\":0.5},\"pattern\":{\"fillmode\":\"overlay\",\"size\":10,\"solidity\":0.2}},\"type\":\"bar\"}],\"scattergeo\":[{\"type\":\"scattergeo\",\"marker\":{\"colorbar\":{\"outlinewidth\":0,\"ticks\":\"\"}}}],\"scatterpolar\":[{\"type\":\"scatterpolar\",\"marker\":{\"colorbar\":{\"outlinewidth\":0,\"ticks\":\"\"}}}],\"histogram\":[{\"marker\":{\"pattern\":{\"fillmode\":\"overlay\",\"size\":10,\"solidity\":0.2}},\"type\":\"histogram\"}],\"scattergl\":[{\"type\":\"scattergl\",\"marker\":{\"colorbar\":{\"outlinewidth\":0,\"ticks\":\"\"}}}],\"scatter3d\":[{\"type\":\"scatter3d\",\"line\":{\"colorbar\":{\"outlinewidth\":0,\"ticks\":\"\"}},\"marker\":{\"colorbar\":{\"outlinewidth\":0,\"ticks\":\"\"}}}],\"scattermapbox\":[{\"type\":\"scattermapbox\",\"marker\":{\"colorbar\":{\"outlinewidth\":0,\"ticks\":\"\"}}}],\"scatterternary\":[{\"type\":\"scatterternary\",\"marker\":{\"colorbar\":{\"outlinewidth\":0,\"ticks\":\"\"}}}],\"scattercarpet\":[{\"type\":\"scattercarpet\",\"marker\":{\"colorbar\":{\"outlinewidth\":0,\"ticks\":\"\"}}}],\"carpet\":[{\"aaxis\":{\"endlinecolor\":\"#2a3f5f\",\"gridcolor\":\"white\",\"linecolor\":\"white\",\"minorgridcolor\":\"white\",\"startlinecolor\":\"#2a3f5f\"},\"baxis\":{\"endlinecolor\":\"#2a3f5f\",\"gridcolor\":\"white\",\"linecolor\":\"white\",\"minorgridcolor\":\"white\",\"startlinecolor\":\"#2a3f5f\"},\"type\":\"carpet\"}],\"table\":[{\"cells\":{\"fill\":{\"color\":\"#EBF0F8\"},\"line\":{\"color\":\"white\"}},\"header\":{\"fill\":{\"color\":\"#C8D4E3\"},\"line\":{\"color\":\"white\"}},\"type\":\"table\"}],\"barpolar\":[{\"marker\":{\"line\":{\"color\":\"#E5ECF6\",\"width\":0.5},\"pattern\":{\"fillmode\":\"overlay\",\"size\":10,\"solidity\":0.2}},\"type\":\"barpolar\"}],\"pie\":[{\"automargin\":true,\"type\":\"pie\"}]},\"layout\":{\"autotypenumbers\":\"strict\",\"colorway\":[\"#636efa\",\"#EF553B\",\"#00cc96\",\"#ab63fa\",\"#FFA15A\",\"#19d3f3\",\"#FF6692\",\"#B6E880\",\"#FF97FF\",\"#FECB52\"],\"font\":{\"color\":\"#2a3f5f\"},\"hovermode\":\"closest\",\"hoverlabel\":{\"align\":\"left\"},\"paper_bgcolor\":\"white\",\"plot_bgcolor\":\"#E5ECF6\",\"polar\":{\"bgcolor\":\"#E5ECF6\",\"angularaxis\":{\"gridcolor\":\"white\",\"linecolor\":\"white\",\"ticks\":\"\"},\"radialaxis\":{\"gridcolor\":\"white\",\"linecolor\":\"white\",\"ticks\":\"\"}},\"ternary\":{\"bgcolor\":\"#E5ECF6\",\"aaxis\":{\"gridcolor\":\"white\",\"linecolor\":\"white\",\"ticks\":\"\"},\"baxis\":{\"gridcolor\":\"white\",\"linecolor\":\"white\",\"ticks\":\"\"},\"caxis\":{\"gridcolor\":\"white\",\"linecolor\":\"white\",\"ticks\":\"\"}},\"coloraxis\":{\"colorbar\":{\"outlinewidth\":0,\"ticks\":\"\"}},\"colorscale\":{\"sequential\":[[0.0,\"#0d0887\"],[0.1111111111111111,\"#46039f\"],[0.2222222222222222,\"#7201a8\"],[0.3333333333333333,\"#9c179e\"],[0.4444444444444444,\"#bd3786\"],[0.5555555555555556,\"#d8576b\"],[0.6666666666666666,\"#ed7953\"],[0.7777777777777778,\"#fb9f3a\"],[0.8888888888888888,\"#fdca26\"],[1.0,\"#f0f921\"]],\"sequentialminus\":[[0.0,\"#0d0887\"],[0.1111111111111111,\"#46039f\"],[0.2222222222222222,\"#7201a8\"],[0.3333333333333333,\"#9c179e\"],[0.4444444444444444,\"#bd3786\"],[0.5555555555555556,\"#d8576b\"],[0.6666666666666666,\"#ed7953\"],[0.7777777777777778,\"#fb9f3a\"],[0.8888888888888888,\"#fdca26\"],[1.0,\"#f0f921\"]],\"diverging\":[[0,\"#8e0152\"],[0.1,\"#c51b7d\"],[0.2,\"#de77ae\"],[0.3,\"#f1b6da\"],[0.4,\"#fde0ef\"],[0.5,\"#f7f7f7\"],[0.6,\"#e6f5d0\"],[0.7,\"#b8e186\"],[0.8,\"#7fbc41\"],[0.9,\"#4d9221\"],[1,\"#276419\"]]},\"xaxis\":{\"gridcolor\":\"white\",\"linecolor\":\"white\",\"ticks\":\"\",\"title\":{\"standoff\":15},\"zerolinecolor\":\"white\",\"automargin\":true,\"zerolinewidth\":2},\"yaxis\":{\"gridcolor\":\"white\",\"linecolor\":\"white\",\"ticks\":\"\",\"title\":{\"standoff\":15},\"zerolinecolor\":\"white\",\"automargin\":true,\"zerolinewidth\":2},\"scene\":{\"xaxis\":{\"backgroundcolor\":\"#E5ECF6\",\"gridcolor\":\"white\",\"linecolor\":\"white\",\"showbackground\":true,\"ticks\":\"\",\"zerolinecolor\":\"white\",\"gridwidth\":2},\"yaxis\":{\"backgroundcolor\":\"#E5ECF6\",\"gridcolor\":\"white\",\"linecolor\":\"white\",\"showbackground\":true,\"ticks\":\"\",\"zerolinecolor\":\"white\",\"gridwidth\":2},\"zaxis\":{\"backgroundcolor\":\"#E5ECF6\",\"gridcolor\":\"white\",\"linecolor\":\"white\",\"showbackground\":true,\"ticks\":\"\",\"zerolinecolor\":\"white\",\"gridwidth\":2}},\"shapedefaults\":{\"line\":{\"color\":\"#2a3f5f\"}},\"annotationdefaults\":{\"arrowcolor\":\"#2a3f5f\",\"arrowhead\":0,\"arrowwidth\":1},\"geo\":{\"bgcolor\":\"white\",\"landcolor\":\"#E5ECF6\",\"subunitcolor\":\"white\",\"showland\":true,\"showlakes\":true,\"lakecolor\":\"white\"},\"title\":{\"x\":0.05},\"mapbox\":{\"style\":\"light\"}}}},                        {\"responsive\": true}                    ).then(function(){\n",
       "                            \n",
       "var gd = document.getElementById('cb6755b8-f4b6-46c1-b62d-f13ea06c93d5');\n",
       "var x = new MutationObserver(function (mutations, observer) {{\n",
       "        var display = window.getComputedStyle(gd).display;\n",
       "        if (!display || display === 'none') {{\n",
       "            console.log([gd, 'removed!']);\n",
       "            Plotly.purge(gd);\n",
       "            observer.disconnect();\n",
       "        }}\n",
       "}});\n",
       "\n",
       "// Listen for the removal of the full notebook cells\n",
       "var notebookContainer = gd.closest('#notebook-container');\n",
       "if (notebookContainer) {{\n",
       "    x.observe(notebookContainer, {childList: true});\n",
       "}}\n",
       "\n",
       "// Listen for the clearing of the current output cell\n",
       "var outputEl = gd.closest('.output');\n",
       "if (outputEl) {{\n",
       "    x.observe(outputEl, {childList: true});\n",
       "}}\n",
       "\n",
       "                        })                };                });            </script>        </div>"
      ]
     },
     "metadata": {},
     "output_type": "display_data"
    }
   ],
   "source": [
    "plot_param_importances(study)"
   ]
  },
  {
   "cell_type": "code",
   "execution_count": 53,
   "id": "339d109d",
   "metadata": {},
   "outputs": [
    {
     "data": {
      "application/vnd.plotly.v1+json": {
       "config": {
        "plotlyServerURL": "https://plot.ly"
       },
       "data": [
        {
         "dimensions": [
          {
           "label": "Objective Value",
           "range": [
            -1541.43156888527,
            -1334.1512096354627
           ],
           "values": [
            -1360.420995738091,
            -1541.43156888527,
            -1343.1089052143827,
            -1379.588636559188,
            -1440.0966047208628,
            -1409.1192322663367,
            -1358.531449391042,
            -1365.5413583690804,
            -1375.121650139222,
            -1472.552360831087,
            -1349.6398837459765,
            -1335.3340963930557,
            -1359.4167859576426,
            -1339.2580929332664,
            -1344.7536206647808,
            -1343.006464002334,
            -1348.4947437688563,
            -1334.1512096354627,
            -1336.723221519953,
            -1342.4358552444928,
            -1350.762989940872,
            -1342.6413256172966,
            -1346.026951464573,
            -1338.9305928096308,
            -1346.770050995533,
            -1341.6147699854157,
            -1362.0913355848318,
            -1345.7457240252645,
            -1341.8350479726093,
            -1351.0016374521667
           ]
          },
          {
           "label": "depth",
           "range": [
            2,
            10
           ],
           "values": [
            3,
            10,
            7,
            4,
            10,
            2,
            3,
            3,
            9,
            2,
            7,
            7,
            7,
            6,
            5,
            6,
            8,
            5,
            5,
            5,
            8,
            5,
            4,
            6,
            4,
            6,
            8,
            5,
            4,
            7
           ]
          },
          {
           "label": "iterations",
           "range": [
            103,
            999
           ],
           "values": [
            598,
            606,
            121,
            142,
            313,
            735,
            588,
            479,
            931,
            219,
            359,
            338,
            103,
            312,
            403,
            276,
            437,
            751,
            782,
            934,
            782,
            718,
            833,
            676,
            872,
            502,
            816,
            650,
            999,
            537
           ]
          },
          {
           "label": "l2_leaf_reg",
           "range": [
            -1.3000734049241232,
            -0.6991076942347978
           ],
           "ticktext": [
            "0.0501",
            "0.1",
            "0.2"
           ],
           "tickvals": [
            -1.3000734049241232,
            -1,
            -0.6991076942347978
           ],
           "values": [
            -1.0834210839532297,
            -0.8909084800459319,
            -0.7288143778841158,
            -1.1837621333196409,
            -0.8256483713474444,
            -0.9305837701246452,
            -0.8731601590875752,
            -0.875107753372013,
            -1.1680029382125166,
            -0.745136933446235,
            -0.7138236785245208,
            -0.7021390103848067,
            -0.731200731060298,
            -0.6991076942347978,
            -1.001475690344585,
            -0.8022837619634351,
            -0.7977557698451626,
            -0.7106903805775966,
            -1.3000734049241232,
            -0.7794565054485592,
            -0.8342752281422743,
            -1.2414532516602832,
            -0.9533011163563613,
            -1.2820846464066589,
            -1.032263757742795,
            -0.7592144769765796,
            -0.7017189768042024,
            -1.0682884920470754,
            -0.7660447735677051,
            -1.1253661829026498
           ]
          },
          {
           "label": "learning_rate",
           "range": [
            -1.2897743954679892,
            -0.7147038101328038
           ],
           "ticktext": [
            "0.0513",
            "0.1",
            "0.193"
           ],
           "tickvals": [
            -1.2897743954679892,
            -1,
            -0.7147038101328038
           ],
           "values": [
            -1.0563329036049076,
            -0.8888375069250547,
            -1.0526933314524778,
            -1.2249444503059947,
            -0.9188339143152524,
            -0.7147038101328038,
            -0.7696706040904467,
            -0.8026388731018913,
            -1.1974602315496814,
            -1.020409542363315,
            -1.0674550824838471,
            -1.0990785998043042,
            -1.137195115915442,
            -1.128688020155166,
            -1.2626688559137915,
            -1.1449472202957989,
            -1.2897743954679892,
            -1.1375552803091216,
            -0.9702888748703137,
            -1.1973898295884082,
            -1.1100968745733133,
            -0.9590011302210187,
            -0.983353355275894,
            -1.0102188094447397,
            -1.07516660968703,
            -1.172611013558865,
            -1.10617875819954,
            -0.945196512620399,
            -0.9975050288532938,
            -1.0314988981065705
           ]
          }
         ],
         "labelangle": 30,
         "labelside": "bottom",
         "line": {
          "color": [
           -1360.420995738091,
           -1541.43156888527,
           -1343.1089052143827,
           -1379.588636559188,
           -1440.0966047208628,
           -1409.1192322663367,
           -1358.531449391042,
           -1365.5413583690804,
           -1375.121650139222,
           -1472.552360831087,
           -1349.6398837459765,
           -1335.3340963930557,
           -1359.4167859576426,
           -1339.2580929332664,
           -1344.7536206647808,
           -1343.006464002334,
           -1348.4947437688563,
           -1334.1512096354627,
           -1336.723221519953,
           -1342.4358552444928,
           -1350.762989940872,
           -1342.6413256172966,
           -1346.026951464573,
           -1338.9305928096308,
           -1346.770050995533,
           -1341.6147699854157,
           -1362.0913355848318,
           -1345.7457240252645,
           -1341.8350479726093,
           -1351.0016374521667
          ],
          "colorbar": {
           "title": {
            "text": "Objective Value"
           }
          },
          "colorscale": [
           [
            0,
            "rgb(247,251,255)"
           ],
           [
            0.125,
            "rgb(222,235,247)"
           ],
           [
            0.25,
            "rgb(198,219,239)"
           ],
           [
            0.375,
            "rgb(158,202,225)"
           ],
           [
            0.5,
            "rgb(107,174,214)"
           ],
           [
            0.625,
            "rgb(66,146,198)"
           ],
           [
            0.75,
            "rgb(33,113,181)"
           ],
           [
            0.875,
            "rgb(8,81,156)"
           ],
           [
            1,
            "rgb(8,48,107)"
           ]
          ],
          "reversescale": false,
          "showscale": true
         },
         "type": "parcoords"
        }
       ],
       "layout": {
        "template": {
         "data": {
          "bar": [
           {
            "error_x": {
             "color": "#2a3f5f"
            },
            "error_y": {
             "color": "#2a3f5f"
            },
            "marker": {
             "line": {
              "color": "#E5ECF6",
              "width": 0.5
             },
             "pattern": {
              "fillmode": "overlay",
              "size": 10,
              "solidity": 0.2
             }
            },
            "type": "bar"
           }
          ],
          "barpolar": [
           {
            "marker": {
             "line": {
              "color": "#E5ECF6",
              "width": 0.5
             },
             "pattern": {
              "fillmode": "overlay",
              "size": 10,
              "solidity": 0.2
             }
            },
            "type": "barpolar"
           }
          ],
          "carpet": [
           {
            "aaxis": {
             "endlinecolor": "#2a3f5f",
             "gridcolor": "white",
             "linecolor": "white",
             "minorgridcolor": "white",
             "startlinecolor": "#2a3f5f"
            },
            "baxis": {
             "endlinecolor": "#2a3f5f",
             "gridcolor": "white",
             "linecolor": "white",
             "minorgridcolor": "white",
             "startlinecolor": "#2a3f5f"
            },
            "type": "carpet"
           }
          ],
          "choropleth": [
           {
            "colorbar": {
             "outlinewidth": 0,
             "ticks": ""
            },
            "type": "choropleth"
           }
          ],
          "contour": [
           {
            "colorbar": {
             "outlinewidth": 0,
             "ticks": ""
            },
            "colorscale": [
             [
              0,
              "#0d0887"
             ],
             [
              0.1111111111111111,
              "#46039f"
             ],
             [
              0.2222222222222222,
              "#7201a8"
             ],
             [
              0.3333333333333333,
              "#9c179e"
             ],
             [
              0.4444444444444444,
              "#bd3786"
             ],
             [
              0.5555555555555556,
              "#d8576b"
             ],
             [
              0.6666666666666666,
              "#ed7953"
             ],
             [
              0.7777777777777778,
              "#fb9f3a"
             ],
             [
              0.8888888888888888,
              "#fdca26"
             ],
             [
              1,
              "#f0f921"
             ]
            ],
            "type": "contour"
           }
          ],
          "contourcarpet": [
           {
            "colorbar": {
             "outlinewidth": 0,
             "ticks": ""
            },
            "type": "contourcarpet"
           }
          ],
          "heatmap": [
           {
            "colorbar": {
             "outlinewidth": 0,
             "ticks": ""
            },
            "colorscale": [
             [
              0,
              "#0d0887"
             ],
             [
              0.1111111111111111,
              "#46039f"
             ],
             [
              0.2222222222222222,
              "#7201a8"
             ],
             [
              0.3333333333333333,
              "#9c179e"
             ],
             [
              0.4444444444444444,
              "#bd3786"
             ],
             [
              0.5555555555555556,
              "#d8576b"
             ],
             [
              0.6666666666666666,
              "#ed7953"
             ],
             [
              0.7777777777777778,
              "#fb9f3a"
             ],
             [
              0.8888888888888888,
              "#fdca26"
             ],
             [
              1,
              "#f0f921"
             ]
            ],
            "type": "heatmap"
           }
          ],
          "heatmapgl": [
           {
            "colorbar": {
             "outlinewidth": 0,
             "ticks": ""
            },
            "colorscale": [
             [
              0,
              "#0d0887"
             ],
             [
              0.1111111111111111,
              "#46039f"
             ],
             [
              0.2222222222222222,
              "#7201a8"
             ],
             [
              0.3333333333333333,
              "#9c179e"
             ],
             [
              0.4444444444444444,
              "#bd3786"
             ],
             [
              0.5555555555555556,
              "#d8576b"
             ],
             [
              0.6666666666666666,
              "#ed7953"
             ],
             [
              0.7777777777777778,
              "#fb9f3a"
             ],
             [
              0.8888888888888888,
              "#fdca26"
             ],
             [
              1,
              "#f0f921"
             ]
            ],
            "type": "heatmapgl"
           }
          ],
          "histogram": [
           {
            "marker": {
             "pattern": {
              "fillmode": "overlay",
              "size": 10,
              "solidity": 0.2
             }
            },
            "type": "histogram"
           }
          ],
          "histogram2d": [
           {
            "colorbar": {
             "outlinewidth": 0,
             "ticks": ""
            },
            "colorscale": [
             [
              0,
              "#0d0887"
             ],
             [
              0.1111111111111111,
              "#46039f"
             ],
             [
              0.2222222222222222,
              "#7201a8"
             ],
             [
              0.3333333333333333,
              "#9c179e"
             ],
             [
              0.4444444444444444,
              "#bd3786"
             ],
             [
              0.5555555555555556,
              "#d8576b"
             ],
             [
              0.6666666666666666,
              "#ed7953"
             ],
             [
              0.7777777777777778,
              "#fb9f3a"
             ],
             [
              0.8888888888888888,
              "#fdca26"
             ],
             [
              1,
              "#f0f921"
             ]
            ],
            "type": "histogram2d"
           }
          ],
          "histogram2dcontour": [
           {
            "colorbar": {
             "outlinewidth": 0,
             "ticks": ""
            },
            "colorscale": [
             [
              0,
              "#0d0887"
             ],
             [
              0.1111111111111111,
              "#46039f"
             ],
             [
              0.2222222222222222,
              "#7201a8"
             ],
             [
              0.3333333333333333,
              "#9c179e"
             ],
             [
              0.4444444444444444,
              "#bd3786"
             ],
             [
              0.5555555555555556,
              "#d8576b"
             ],
             [
              0.6666666666666666,
              "#ed7953"
             ],
             [
              0.7777777777777778,
              "#fb9f3a"
             ],
             [
              0.8888888888888888,
              "#fdca26"
             ],
             [
              1,
              "#f0f921"
             ]
            ],
            "type": "histogram2dcontour"
           }
          ],
          "mesh3d": [
           {
            "colorbar": {
             "outlinewidth": 0,
             "ticks": ""
            },
            "type": "mesh3d"
           }
          ],
          "parcoords": [
           {
            "line": {
             "colorbar": {
              "outlinewidth": 0,
              "ticks": ""
             }
            },
            "type": "parcoords"
           }
          ],
          "pie": [
           {
            "automargin": true,
            "type": "pie"
           }
          ],
          "scatter": [
           {
            "fillpattern": {
             "fillmode": "overlay",
             "size": 10,
             "solidity": 0.2
            },
            "type": "scatter"
           }
          ],
          "scatter3d": [
           {
            "line": {
             "colorbar": {
              "outlinewidth": 0,
              "ticks": ""
             }
            },
            "marker": {
             "colorbar": {
              "outlinewidth": 0,
              "ticks": ""
             }
            },
            "type": "scatter3d"
           }
          ],
          "scattercarpet": [
           {
            "marker": {
             "colorbar": {
              "outlinewidth": 0,
              "ticks": ""
             }
            },
            "type": "scattercarpet"
           }
          ],
          "scattergeo": [
           {
            "marker": {
             "colorbar": {
              "outlinewidth": 0,
              "ticks": ""
             }
            },
            "type": "scattergeo"
           }
          ],
          "scattergl": [
           {
            "marker": {
             "colorbar": {
              "outlinewidth": 0,
              "ticks": ""
             }
            },
            "type": "scattergl"
           }
          ],
          "scattermapbox": [
           {
            "marker": {
             "colorbar": {
              "outlinewidth": 0,
              "ticks": ""
             }
            },
            "type": "scattermapbox"
           }
          ],
          "scatterpolar": [
           {
            "marker": {
             "colorbar": {
              "outlinewidth": 0,
              "ticks": ""
             }
            },
            "type": "scatterpolar"
           }
          ],
          "scatterpolargl": [
           {
            "marker": {
             "colorbar": {
              "outlinewidth": 0,
              "ticks": ""
             }
            },
            "type": "scatterpolargl"
           }
          ],
          "scatterternary": [
           {
            "marker": {
             "colorbar": {
              "outlinewidth": 0,
              "ticks": ""
             }
            },
            "type": "scatterternary"
           }
          ],
          "surface": [
           {
            "colorbar": {
             "outlinewidth": 0,
             "ticks": ""
            },
            "colorscale": [
             [
              0,
              "#0d0887"
             ],
             [
              0.1111111111111111,
              "#46039f"
             ],
             [
              0.2222222222222222,
              "#7201a8"
             ],
             [
              0.3333333333333333,
              "#9c179e"
             ],
             [
              0.4444444444444444,
              "#bd3786"
             ],
             [
              0.5555555555555556,
              "#d8576b"
             ],
             [
              0.6666666666666666,
              "#ed7953"
             ],
             [
              0.7777777777777778,
              "#fb9f3a"
             ],
             [
              0.8888888888888888,
              "#fdca26"
             ],
             [
              1,
              "#f0f921"
             ]
            ],
            "type": "surface"
           }
          ],
          "table": [
           {
            "cells": {
             "fill": {
              "color": "#EBF0F8"
             },
             "line": {
              "color": "white"
             }
            },
            "header": {
             "fill": {
              "color": "#C8D4E3"
             },
             "line": {
              "color": "white"
             }
            },
            "type": "table"
           }
          ]
         },
         "layout": {
          "annotationdefaults": {
           "arrowcolor": "#2a3f5f",
           "arrowhead": 0,
           "arrowwidth": 1
          },
          "autotypenumbers": "strict",
          "coloraxis": {
           "colorbar": {
            "outlinewidth": 0,
            "ticks": ""
           }
          },
          "colorscale": {
           "diverging": [
            [
             0,
             "#8e0152"
            ],
            [
             0.1,
             "#c51b7d"
            ],
            [
             0.2,
             "#de77ae"
            ],
            [
             0.3,
             "#f1b6da"
            ],
            [
             0.4,
             "#fde0ef"
            ],
            [
             0.5,
             "#f7f7f7"
            ],
            [
             0.6,
             "#e6f5d0"
            ],
            [
             0.7,
             "#b8e186"
            ],
            [
             0.8,
             "#7fbc41"
            ],
            [
             0.9,
             "#4d9221"
            ],
            [
             1,
             "#276419"
            ]
           ],
           "sequential": [
            [
             0,
             "#0d0887"
            ],
            [
             0.1111111111111111,
             "#46039f"
            ],
            [
             0.2222222222222222,
             "#7201a8"
            ],
            [
             0.3333333333333333,
             "#9c179e"
            ],
            [
             0.4444444444444444,
             "#bd3786"
            ],
            [
             0.5555555555555556,
             "#d8576b"
            ],
            [
             0.6666666666666666,
             "#ed7953"
            ],
            [
             0.7777777777777778,
             "#fb9f3a"
            ],
            [
             0.8888888888888888,
             "#fdca26"
            ],
            [
             1,
             "#f0f921"
            ]
           ],
           "sequentialminus": [
            [
             0,
             "#0d0887"
            ],
            [
             0.1111111111111111,
             "#46039f"
            ],
            [
             0.2222222222222222,
             "#7201a8"
            ],
            [
             0.3333333333333333,
             "#9c179e"
            ],
            [
             0.4444444444444444,
             "#bd3786"
            ],
            [
             0.5555555555555556,
             "#d8576b"
            ],
            [
             0.6666666666666666,
             "#ed7953"
            ],
            [
             0.7777777777777778,
             "#fb9f3a"
            ],
            [
             0.8888888888888888,
             "#fdca26"
            ],
            [
             1,
             "#f0f921"
            ]
           ]
          },
          "colorway": [
           "#636efa",
           "#EF553B",
           "#00cc96",
           "#ab63fa",
           "#FFA15A",
           "#19d3f3",
           "#FF6692",
           "#B6E880",
           "#FF97FF",
           "#FECB52"
          ],
          "font": {
           "color": "#2a3f5f"
          },
          "geo": {
           "bgcolor": "white",
           "lakecolor": "white",
           "landcolor": "#E5ECF6",
           "showlakes": true,
           "showland": true,
           "subunitcolor": "white"
          },
          "hoverlabel": {
           "align": "left"
          },
          "hovermode": "closest",
          "mapbox": {
           "style": "light"
          },
          "paper_bgcolor": "white",
          "plot_bgcolor": "#E5ECF6",
          "polar": {
           "angularaxis": {
            "gridcolor": "white",
            "linecolor": "white",
            "ticks": ""
           },
           "bgcolor": "#E5ECF6",
           "radialaxis": {
            "gridcolor": "white",
            "linecolor": "white",
            "ticks": ""
           }
          },
          "scene": {
           "xaxis": {
            "backgroundcolor": "#E5ECF6",
            "gridcolor": "white",
            "gridwidth": 2,
            "linecolor": "white",
            "showbackground": true,
            "ticks": "",
            "zerolinecolor": "white"
           },
           "yaxis": {
            "backgroundcolor": "#E5ECF6",
            "gridcolor": "white",
            "gridwidth": 2,
            "linecolor": "white",
            "showbackground": true,
            "ticks": "",
            "zerolinecolor": "white"
           },
           "zaxis": {
            "backgroundcolor": "#E5ECF6",
            "gridcolor": "white",
            "gridwidth": 2,
            "linecolor": "white",
            "showbackground": true,
            "ticks": "",
            "zerolinecolor": "white"
           }
          },
          "shapedefaults": {
           "line": {
            "color": "#2a3f5f"
           }
          },
          "ternary": {
           "aaxis": {
            "gridcolor": "white",
            "linecolor": "white",
            "ticks": ""
           },
           "baxis": {
            "gridcolor": "white",
            "linecolor": "white",
            "ticks": ""
           },
           "bgcolor": "#E5ECF6",
           "caxis": {
            "gridcolor": "white",
            "linecolor": "white",
            "ticks": ""
           }
          },
          "title": {
           "x": 0.05
          },
          "xaxis": {
           "automargin": true,
           "gridcolor": "white",
           "linecolor": "white",
           "ticks": "",
           "title": {
            "standoff": 15
           },
           "zerolinecolor": "white",
           "zerolinewidth": 2
          },
          "yaxis": {
           "automargin": true,
           "gridcolor": "white",
           "linecolor": "white",
           "ticks": "",
           "title": {
            "standoff": 15
           },
           "zerolinecolor": "white",
           "zerolinewidth": 2
          }
         }
        },
        "title": {
         "text": "Parallel Coordinate Plot"
        }
       }
      },
      "text/html": [
       "<div>                            <div id=\"73125597-0390-423f-8ec5-a369afe49e9e\" class=\"plotly-graph-div\" style=\"height:525px; width:100%;\"></div>            <script type=\"text/javascript\">                require([\"plotly\"], function(Plotly) {                    window.PLOTLYENV=window.PLOTLYENV || {};                                    if (document.getElementById(\"73125597-0390-423f-8ec5-a369afe49e9e\")) {                    Plotly.newPlot(                        \"73125597-0390-423f-8ec5-a369afe49e9e\",                        [{\"dimensions\":[{\"label\":\"Objective Value\",\"range\":[-1541.43156888527,-1334.1512096354627],\"values\":[-1360.420995738091,-1541.43156888527,-1343.1089052143827,-1379.588636559188,-1440.0966047208628,-1409.1192322663367,-1358.531449391042,-1365.5413583690804,-1375.121650139222,-1472.552360831087,-1349.6398837459765,-1335.3340963930557,-1359.4167859576426,-1339.2580929332664,-1344.7536206647808,-1343.006464002334,-1348.4947437688563,-1334.1512096354627,-1336.723221519953,-1342.4358552444928,-1350.762989940872,-1342.6413256172966,-1346.026951464573,-1338.9305928096308,-1346.770050995533,-1341.6147699854157,-1362.0913355848318,-1345.7457240252645,-1341.8350479726093,-1351.0016374521667]},{\"label\":\"depth\",\"range\":[2,10],\"values\":[3,10,7,4,10,2,3,3,9,2,7,7,7,6,5,6,8,5,5,5,8,5,4,6,4,6,8,5,4,7]},{\"label\":\"iterations\",\"range\":[103,999],\"values\":[598,606,121,142,313,735,588,479,931,219,359,338,103,312,403,276,437,751,782,934,782,718,833,676,872,502,816,650,999,537]},{\"label\":\"l2_leaf_reg\",\"range\":[-1.3000734049241232,-0.6991076942347978],\"ticktext\":[\"0.0501\",\"0.1\",\"0.2\"],\"tickvals\":[-1.3000734049241232,-1,-0.6991076942347978],\"values\":[-1.0834210839532297,-0.8909084800459319,-0.7288143778841158,-1.1837621333196409,-0.8256483713474444,-0.9305837701246452,-0.8731601590875752,-0.875107753372013,-1.1680029382125166,-0.745136933446235,-0.7138236785245208,-0.7021390103848067,-0.731200731060298,-0.6991076942347978,-1.001475690344585,-0.8022837619634351,-0.7977557698451626,-0.7106903805775966,-1.3000734049241232,-0.7794565054485592,-0.8342752281422743,-1.2414532516602832,-0.9533011163563613,-1.2820846464066589,-1.032263757742795,-0.7592144769765796,-0.7017189768042024,-1.0682884920470754,-0.7660447735677051,-1.1253661829026498]},{\"label\":\"learning_rate\",\"range\":[-1.2897743954679892,-0.7147038101328038],\"ticktext\":[\"0.0513\",\"0.1\",\"0.193\"],\"tickvals\":[-1.2897743954679892,-1,-0.7147038101328038],\"values\":[-1.0563329036049076,-0.8888375069250547,-1.0526933314524778,-1.2249444503059947,-0.9188339143152524,-0.7147038101328038,-0.7696706040904467,-0.8026388731018913,-1.1974602315496814,-1.020409542363315,-1.0674550824838471,-1.0990785998043042,-1.137195115915442,-1.128688020155166,-1.2626688559137915,-1.1449472202957989,-1.2897743954679892,-1.1375552803091216,-0.9702888748703137,-1.1973898295884082,-1.1100968745733133,-0.9590011302210187,-0.983353355275894,-1.0102188094447397,-1.07516660968703,-1.172611013558865,-1.10617875819954,-0.945196512620399,-0.9975050288532938,-1.0314988981065705]}],\"labelangle\":30,\"labelside\":\"bottom\",\"line\":{\"color\":[-1360.420995738091,-1541.43156888527,-1343.1089052143827,-1379.588636559188,-1440.0966047208628,-1409.1192322663367,-1358.531449391042,-1365.5413583690804,-1375.121650139222,-1472.552360831087,-1349.6398837459765,-1335.3340963930557,-1359.4167859576426,-1339.2580929332664,-1344.7536206647808,-1343.006464002334,-1348.4947437688563,-1334.1512096354627,-1336.723221519953,-1342.4358552444928,-1350.762989940872,-1342.6413256172966,-1346.026951464573,-1338.9305928096308,-1346.770050995533,-1341.6147699854157,-1362.0913355848318,-1345.7457240252645,-1341.8350479726093,-1351.0016374521667],\"colorbar\":{\"title\":{\"text\":\"Objective Value\"}},\"colorscale\":[[0.0,\"rgb(247,251,255)\"],[0.125,\"rgb(222,235,247)\"],[0.25,\"rgb(198,219,239)\"],[0.375,\"rgb(158,202,225)\"],[0.5,\"rgb(107,174,214)\"],[0.625,\"rgb(66,146,198)\"],[0.75,\"rgb(33,113,181)\"],[0.875,\"rgb(8,81,156)\"],[1.0,\"rgb(8,48,107)\"]],\"reversescale\":false,\"showscale\":true},\"type\":\"parcoords\"}],                        {\"title\":{\"text\":\"Parallel Coordinate Plot\"},\"template\":{\"data\":{\"histogram2dcontour\":[{\"type\":\"histogram2dcontour\",\"colorbar\":{\"outlinewidth\":0,\"ticks\":\"\"},\"colorscale\":[[0.0,\"#0d0887\"],[0.1111111111111111,\"#46039f\"],[0.2222222222222222,\"#7201a8\"],[0.3333333333333333,\"#9c179e\"],[0.4444444444444444,\"#bd3786\"],[0.5555555555555556,\"#d8576b\"],[0.6666666666666666,\"#ed7953\"],[0.7777777777777778,\"#fb9f3a\"],[0.8888888888888888,\"#fdca26\"],[1.0,\"#f0f921\"]]}],\"choropleth\":[{\"type\":\"choropleth\",\"colorbar\":{\"outlinewidth\":0,\"ticks\":\"\"}}],\"histogram2d\":[{\"type\":\"histogram2d\",\"colorbar\":{\"outlinewidth\":0,\"ticks\":\"\"},\"colorscale\":[[0.0,\"#0d0887\"],[0.1111111111111111,\"#46039f\"],[0.2222222222222222,\"#7201a8\"],[0.3333333333333333,\"#9c179e\"],[0.4444444444444444,\"#bd3786\"],[0.5555555555555556,\"#d8576b\"],[0.6666666666666666,\"#ed7953\"],[0.7777777777777778,\"#fb9f3a\"],[0.8888888888888888,\"#fdca26\"],[1.0,\"#f0f921\"]]}],\"heatmap\":[{\"type\":\"heatmap\",\"colorbar\":{\"outlinewidth\":0,\"ticks\":\"\"},\"colorscale\":[[0.0,\"#0d0887\"],[0.1111111111111111,\"#46039f\"],[0.2222222222222222,\"#7201a8\"],[0.3333333333333333,\"#9c179e\"],[0.4444444444444444,\"#bd3786\"],[0.5555555555555556,\"#d8576b\"],[0.6666666666666666,\"#ed7953\"],[0.7777777777777778,\"#fb9f3a\"],[0.8888888888888888,\"#fdca26\"],[1.0,\"#f0f921\"]]}],\"heatmapgl\":[{\"type\":\"heatmapgl\",\"colorbar\":{\"outlinewidth\":0,\"ticks\":\"\"},\"colorscale\":[[0.0,\"#0d0887\"],[0.1111111111111111,\"#46039f\"],[0.2222222222222222,\"#7201a8\"],[0.3333333333333333,\"#9c179e\"],[0.4444444444444444,\"#bd3786\"],[0.5555555555555556,\"#d8576b\"],[0.6666666666666666,\"#ed7953\"],[0.7777777777777778,\"#fb9f3a\"],[0.8888888888888888,\"#fdca26\"],[1.0,\"#f0f921\"]]}],\"contourcarpet\":[{\"type\":\"contourcarpet\",\"colorbar\":{\"outlinewidth\":0,\"ticks\":\"\"}}],\"contour\":[{\"type\":\"contour\",\"colorbar\":{\"outlinewidth\":0,\"ticks\":\"\"},\"colorscale\":[[0.0,\"#0d0887\"],[0.1111111111111111,\"#46039f\"],[0.2222222222222222,\"#7201a8\"],[0.3333333333333333,\"#9c179e\"],[0.4444444444444444,\"#bd3786\"],[0.5555555555555556,\"#d8576b\"],[0.6666666666666666,\"#ed7953\"],[0.7777777777777778,\"#fb9f3a\"],[0.8888888888888888,\"#fdca26\"],[1.0,\"#f0f921\"]]}],\"surface\":[{\"type\":\"surface\",\"colorbar\":{\"outlinewidth\":0,\"ticks\":\"\"},\"colorscale\":[[0.0,\"#0d0887\"],[0.1111111111111111,\"#46039f\"],[0.2222222222222222,\"#7201a8\"],[0.3333333333333333,\"#9c179e\"],[0.4444444444444444,\"#bd3786\"],[0.5555555555555556,\"#d8576b\"],[0.6666666666666666,\"#ed7953\"],[0.7777777777777778,\"#fb9f3a\"],[0.8888888888888888,\"#fdca26\"],[1.0,\"#f0f921\"]]}],\"mesh3d\":[{\"type\":\"mesh3d\",\"colorbar\":{\"outlinewidth\":0,\"ticks\":\"\"}}],\"scatter\":[{\"fillpattern\":{\"fillmode\":\"overlay\",\"size\":10,\"solidity\":0.2},\"type\":\"scatter\"}],\"parcoords\":[{\"type\":\"parcoords\",\"line\":{\"colorbar\":{\"outlinewidth\":0,\"ticks\":\"\"}}}],\"scatterpolargl\":[{\"type\":\"scatterpolargl\",\"marker\":{\"colorbar\":{\"outlinewidth\":0,\"ticks\":\"\"}}}],\"bar\":[{\"error_x\":{\"color\":\"#2a3f5f\"},\"error_y\":{\"color\":\"#2a3f5f\"},\"marker\":{\"line\":{\"color\":\"#E5ECF6\",\"width\":0.5},\"pattern\":{\"fillmode\":\"overlay\",\"size\":10,\"solidity\":0.2}},\"type\":\"bar\"}],\"scattergeo\":[{\"type\":\"scattergeo\",\"marker\":{\"colorbar\":{\"outlinewidth\":0,\"ticks\":\"\"}}}],\"scatterpolar\":[{\"type\":\"scatterpolar\",\"marker\":{\"colorbar\":{\"outlinewidth\":0,\"ticks\":\"\"}}}],\"histogram\":[{\"marker\":{\"pattern\":{\"fillmode\":\"overlay\",\"size\":10,\"solidity\":0.2}},\"type\":\"histogram\"}],\"scattergl\":[{\"type\":\"scattergl\",\"marker\":{\"colorbar\":{\"outlinewidth\":0,\"ticks\":\"\"}}}],\"scatter3d\":[{\"type\":\"scatter3d\",\"line\":{\"colorbar\":{\"outlinewidth\":0,\"ticks\":\"\"}},\"marker\":{\"colorbar\":{\"outlinewidth\":0,\"ticks\":\"\"}}}],\"scattermapbox\":[{\"type\":\"scattermapbox\",\"marker\":{\"colorbar\":{\"outlinewidth\":0,\"ticks\":\"\"}}}],\"scatterternary\":[{\"type\":\"scatterternary\",\"marker\":{\"colorbar\":{\"outlinewidth\":0,\"ticks\":\"\"}}}],\"scattercarpet\":[{\"type\":\"scattercarpet\",\"marker\":{\"colorbar\":{\"outlinewidth\":0,\"ticks\":\"\"}}}],\"carpet\":[{\"aaxis\":{\"endlinecolor\":\"#2a3f5f\",\"gridcolor\":\"white\",\"linecolor\":\"white\",\"minorgridcolor\":\"white\",\"startlinecolor\":\"#2a3f5f\"},\"baxis\":{\"endlinecolor\":\"#2a3f5f\",\"gridcolor\":\"white\",\"linecolor\":\"white\",\"minorgridcolor\":\"white\",\"startlinecolor\":\"#2a3f5f\"},\"type\":\"carpet\"}],\"table\":[{\"cells\":{\"fill\":{\"color\":\"#EBF0F8\"},\"line\":{\"color\":\"white\"}},\"header\":{\"fill\":{\"color\":\"#C8D4E3\"},\"line\":{\"color\":\"white\"}},\"type\":\"table\"}],\"barpolar\":[{\"marker\":{\"line\":{\"color\":\"#E5ECF6\",\"width\":0.5},\"pattern\":{\"fillmode\":\"overlay\",\"size\":10,\"solidity\":0.2}},\"type\":\"barpolar\"}],\"pie\":[{\"automargin\":true,\"type\":\"pie\"}]},\"layout\":{\"autotypenumbers\":\"strict\",\"colorway\":[\"#636efa\",\"#EF553B\",\"#00cc96\",\"#ab63fa\",\"#FFA15A\",\"#19d3f3\",\"#FF6692\",\"#B6E880\",\"#FF97FF\",\"#FECB52\"],\"font\":{\"color\":\"#2a3f5f\"},\"hovermode\":\"closest\",\"hoverlabel\":{\"align\":\"left\"},\"paper_bgcolor\":\"white\",\"plot_bgcolor\":\"#E5ECF6\",\"polar\":{\"bgcolor\":\"#E5ECF6\",\"angularaxis\":{\"gridcolor\":\"white\",\"linecolor\":\"white\",\"ticks\":\"\"},\"radialaxis\":{\"gridcolor\":\"white\",\"linecolor\":\"white\",\"ticks\":\"\"}},\"ternary\":{\"bgcolor\":\"#E5ECF6\",\"aaxis\":{\"gridcolor\":\"white\",\"linecolor\":\"white\",\"ticks\":\"\"},\"baxis\":{\"gridcolor\":\"white\",\"linecolor\":\"white\",\"ticks\":\"\"},\"caxis\":{\"gridcolor\":\"white\",\"linecolor\":\"white\",\"ticks\":\"\"}},\"coloraxis\":{\"colorbar\":{\"outlinewidth\":0,\"ticks\":\"\"}},\"colorscale\":{\"sequential\":[[0.0,\"#0d0887\"],[0.1111111111111111,\"#46039f\"],[0.2222222222222222,\"#7201a8\"],[0.3333333333333333,\"#9c179e\"],[0.4444444444444444,\"#bd3786\"],[0.5555555555555556,\"#d8576b\"],[0.6666666666666666,\"#ed7953\"],[0.7777777777777778,\"#fb9f3a\"],[0.8888888888888888,\"#fdca26\"],[1.0,\"#f0f921\"]],\"sequentialminus\":[[0.0,\"#0d0887\"],[0.1111111111111111,\"#46039f\"],[0.2222222222222222,\"#7201a8\"],[0.3333333333333333,\"#9c179e\"],[0.4444444444444444,\"#bd3786\"],[0.5555555555555556,\"#d8576b\"],[0.6666666666666666,\"#ed7953\"],[0.7777777777777778,\"#fb9f3a\"],[0.8888888888888888,\"#fdca26\"],[1.0,\"#f0f921\"]],\"diverging\":[[0,\"#8e0152\"],[0.1,\"#c51b7d\"],[0.2,\"#de77ae\"],[0.3,\"#f1b6da\"],[0.4,\"#fde0ef\"],[0.5,\"#f7f7f7\"],[0.6,\"#e6f5d0\"],[0.7,\"#b8e186\"],[0.8,\"#7fbc41\"],[0.9,\"#4d9221\"],[1,\"#276419\"]]},\"xaxis\":{\"gridcolor\":\"white\",\"linecolor\":\"white\",\"ticks\":\"\",\"title\":{\"standoff\":15},\"zerolinecolor\":\"white\",\"automargin\":true,\"zerolinewidth\":2},\"yaxis\":{\"gridcolor\":\"white\",\"linecolor\":\"white\",\"ticks\":\"\",\"title\":{\"standoff\":15},\"zerolinecolor\":\"white\",\"automargin\":true,\"zerolinewidth\":2},\"scene\":{\"xaxis\":{\"backgroundcolor\":\"#E5ECF6\",\"gridcolor\":\"white\",\"linecolor\":\"white\",\"showbackground\":true,\"ticks\":\"\",\"zerolinecolor\":\"white\",\"gridwidth\":2},\"yaxis\":{\"backgroundcolor\":\"#E5ECF6\",\"gridcolor\":\"white\",\"linecolor\":\"white\",\"showbackground\":true,\"ticks\":\"\",\"zerolinecolor\":\"white\",\"gridwidth\":2},\"zaxis\":{\"backgroundcolor\":\"#E5ECF6\",\"gridcolor\":\"white\",\"linecolor\":\"white\",\"showbackground\":true,\"ticks\":\"\",\"zerolinecolor\":\"white\",\"gridwidth\":2}},\"shapedefaults\":{\"line\":{\"color\":\"#2a3f5f\"}},\"annotationdefaults\":{\"arrowcolor\":\"#2a3f5f\",\"arrowhead\":0,\"arrowwidth\":1},\"geo\":{\"bgcolor\":\"white\",\"landcolor\":\"#E5ECF6\",\"subunitcolor\":\"white\",\"showland\":true,\"showlakes\":true,\"lakecolor\":\"white\"},\"title\":{\"x\":0.05},\"mapbox\":{\"style\":\"light\"}}}},                        {\"responsive\": true}                    ).then(function(){\n",
       "                            \n",
       "var gd = document.getElementById('73125597-0390-423f-8ec5-a369afe49e9e');\n",
       "var x = new MutationObserver(function (mutations, observer) {{\n",
       "        var display = window.getComputedStyle(gd).display;\n",
       "        if (!display || display === 'none') {{\n",
       "            console.log([gd, 'removed!']);\n",
       "            Plotly.purge(gd);\n",
       "            observer.disconnect();\n",
       "        }}\n",
       "}});\n",
       "\n",
       "// Listen for the removal of the full notebook cells\n",
       "var notebookContainer = gd.closest('#notebook-container');\n",
       "if (notebookContainer) {{\n",
       "    x.observe(notebookContainer, {childList: true});\n",
       "}}\n",
       "\n",
       "// Listen for the clearing of the current output cell\n",
       "var outputEl = gd.closest('.output');\n",
       "if (outputEl) {{\n",
       "    x.observe(outputEl, {childList: true});\n",
       "}}\n",
       "\n",
       "                        })                };                });            </script>        </div>"
      ]
     },
     "metadata": {},
     "output_type": "display_data"
    }
   ],
   "source": [
    "plot_parallel_coordinate(study)"
   ]
  },
  {
   "cell_type": "code",
   "execution_count": 54,
   "id": "a8f7b53d",
   "metadata": {},
   "outputs": [
    {
     "name": "stdout",
     "output_type": "stream",
     "text": [
      "Best params: {'iterations': 751, 'learning_rate': 0.07285254363453594, 'depth': 5, 'l2_leaf_reg': 0.1946747472082228}\n",
      "Best value: -1334.1512096354627\n"
     ]
    }
   ],
   "source": [
    "# Выводим лучшие параметры и значение MAE\n",
    "print('Best params:', study.best_params)\n",
    "print('Best value:', study.best_value)"
   ]
  },
  {
   "cell_type": "markdown",
   "id": "19fdc219",
   "metadata": {},
   "source": [
    "Выводим лучшие параметры и значение MAE, которые были найдены в процессе оптимизации гиперпараметров модели CatBoostRegressor. Справка:\n",
    "- используем объект study, который содержит результаты оптимизации, которые мы получили ранее с помощью метода optimize.\n",
    "- используем атрибут best_params объекта study, который возвращает словарь с лучшим набором гиперпараметров для модели. Эти гиперпараметры дают наименьшую среднюю абсолютную ошибку (MAE) на кросс-валидации.\n",
    "- используем атрибут best_value объекта study, который возвращает число с лучшим значением MAE, которое было достигнуто в процессе оптимизации. Это значение показывает, насколько хорошо модель работает на данных. \n",
    "В процессе мы узнали, - какие гиперпараметры и какое значение MAE получено после оптимизации и можем использовать эти данные для создания и использования лучшей модели CatBoostRegressor."
   ]
  },
  {
   "cell_type": "code",
   "execution_count": 55,
   "id": "38501f34",
   "metadata": {},
   "outputs": [
    {
     "data": {
      "application/vnd.plotly.v1+json": {
       "config": {
        "plotlyServerURL": "https://plot.ly"
       },
       "data": [
        {
         "dimensions": [
          {
           "label": "Objective Value",
           "range": [
            -1541.43156888527,
            -1334.1512096354627
           ],
           "values": [
            -1360.420995738091,
            -1541.43156888527,
            -1343.1089052143827,
            -1379.588636559188,
            -1440.0966047208628,
            -1409.1192322663367,
            -1358.531449391042,
            -1365.5413583690804,
            -1375.121650139222,
            -1472.552360831087,
            -1349.6398837459765,
            -1335.3340963930557,
            -1359.4167859576426,
            -1339.2580929332664,
            -1344.7536206647808,
            -1343.006464002334,
            -1348.4947437688563,
            -1334.1512096354627,
            -1336.723221519953,
            -1342.4358552444928,
            -1350.762989940872,
            -1342.6413256172966,
            -1346.026951464573,
            -1338.9305928096308,
            -1346.770050995533,
            -1341.6147699854157,
            -1362.0913355848318,
            -1345.7457240252645,
            -1341.8350479726093,
            -1351.0016374521667
           ]
          },
          {
           "label": "depth",
           "range": [
            2,
            10
           ],
           "values": [
            3,
            10,
            7,
            4,
            10,
            2,
            3,
            3,
            9,
            2,
            7,
            7,
            7,
            6,
            5,
            6,
            8,
            5,
            5,
            5,
            8,
            5,
            4,
            6,
            4,
            6,
            8,
            5,
            4,
            7
           ]
          },
          {
           "label": "iterations",
           "range": [
            103,
            999
           ],
           "values": [
            598,
            606,
            121,
            142,
            313,
            735,
            588,
            479,
            931,
            219,
            359,
            338,
            103,
            312,
            403,
            276,
            437,
            751,
            782,
            934,
            782,
            718,
            833,
            676,
            872,
            502,
            816,
            650,
            999,
            537
           ]
          },
          {
           "label": "l2_leaf_reg",
           "range": [
            -1.3000734049241232,
            -0.6991076942347978
           ],
           "ticktext": [
            "0.0501",
            "0.1",
            "0.2"
           ],
           "tickvals": [
            -1.3000734049241232,
            -1,
            -0.6991076942347978
           ],
           "values": [
            -1.0834210839532297,
            -0.8909084800459319,
            -0.7288143778841158,
            -1.1837621333196409,
            -0.8256483713474444,
            -0.9305837701246452,
            -0.8731601590875752,
            -0.875107753372013,
            -1.1680029382125166,
            -0.745136933446235,
            -0.7138236785245208,
            -0.7021390103848067,
            -0.731200731060298,
            -0.6991076942347978,
            -1.001475690344585,
            -0.8022837619634351,
            -0.7977557698451626,
            -0.7106903805775966,
            -1.3000734049241232,
            -0.7794565054485592,
            -0.8342752281422743,
            -1.2414532516602832,
            -0.9533011163563613,
            -1.2820846464066589,
            -1.032263757742795,
            -0.7592144769765796,
            -0.7017189768042024,
            -1.0682884920470754,
            -0.7660447735677051,
            -1.1253661829026498
           ]
          },
          {
           "label": "learning_rate",
           "range": [
            -1.2897743954679892,
            -0.7147038101328038
           ],
           "ticktext": [
            "0.0513",
            "0.1",
            "0.193"
           ],
           "tickvals": [
            -1.2897743954679892,
            -1,
            -0.7147038101328038
           ],
           "values": [
            -1.0563329036049076,
            -0.8888375069250547,
            -1.0526933314524778,
            -1.2249444503059947,
            -0.9188339143152524,
            -0.7147038101328038,
            -0.7696706040904467,
            -0.8026388731018913,
            -1.1974602315496814,
            -1.020409542363315,
            -1.0674550824838471,
            -1.0990785998043042,
            -1.137195115915442,
            -1.128688020155166,
            -1.2626688559137915,
            -1.1449472202957989,
            -1.2897743954679892,
            -1.1375552803091216,
            -0.9702888748703137,
            -1.1973898295884082,
            -1.1100968745733133,
            -0.9590011302210187,
            -0.983353355275894,
            -1.0102188094447397,
            -1.07516660968703,
            -1.172611013558865,
            -1.10617875819954,
            -0.945196512620399,
            -0.9975050288532938,
            -1.0314988981065705
           ]
          }
         ],
         "labelangle": 30,
         "labelside": "bottom",
         "line": {
          "color": [
           -1360.420995738091,
           -1541.43156888527,
           -1343.1089052143827,
           -1379.588636559188,
           -1440.0966047208628,
           -1409.1192322663367,
           -1358.531449391042,
           -1365.5413583690804,
           -1375.121650139222,
           -1472.552360831087,
           -1349.6398837459765,
           -1335.3340963930557,
           -1359.4167859576426,
           -1339.2580929332664,
           -1344.7536206647808,
           -1343.006464002334,
           -1348.4947437688563,
           -1334.1512096354627,
           -1336.723221519953,
           -1342.4358552444928,
           -1350.762989940872,
           -1342.6413256172966,
           -1346.026951464573,
           -1338.9305928096308,
           -1346.770050995533,
           -1341.6147699854157,
           -1362.0913355848318,
           -1345.7457240252645,
           -1341.8350479726093,
           -1351.0016374521667
          ],
          "colorbar": {
           "title": {
            "text": "Objective Value"
           }
          },
          "colorscale": [
           [
            0,
            "rgb(247,251,255)"
           ],
           [
            0.125,
            "rgb(222,235,247)"
           ],
           [
            0.25,
            "rgb(198,219,239)"
           ],
           [
            0.375,
            "rgb(158,202,225)"
           ],
           [
            0.5,
            "rgb(107,174,214)"
           ],
           [
            0.625,
            "rgb(66,146,198)"
           ],
           [
            0.75,
            "rgb(33,113,181)"
           ],
           [
            0.875,
            "rgb(8,81,156)"
           ],
           [
            1,
            "rgb(8,48,107)"
           ]
          ],
          "reversescale": false,
          "showscale": true
         },
         "type": "parcoords"
        }
       ],
       "layout": {
        "template": {
         "data": {
          "bar": [
           {
            "error_x": {
             "color": "#2a3f5f"
            },
            "error_y": {
             "color": "#2a3f5f"
            },
            "marker": {
             "line": {
              "color": "#E5ECF6",
              "width": 0.5
             },
             "pattern": {
              "fillmode": "overlay",
              "size": 10,
              "solidity": 0.2
             }
            },
            "type": "bar"
           }
          ],
          "barpolar": [
           {
            "marker": {
             "line": {
              "color": "#E5ECF6",
              "width": 0.5
             },
             "pattern": {
              "fillmode": "overlay",
              "size": 10,
              "solidity": 0.2
             }
            },
            "type": "barpolar"
           }
          ],
          "carpet": [
           {
            "aaxis": {
             "endlinecolor": "#2a3f5f",
             "gridcolor": "white",
             "linecolor": "white",
             "minorgridcolor": "white",
             "startlinecolor": "#2a3f5f"
            },
            "baxis": {
             "endlinecolor": "#2a3f5f",
             "gridcolor": "white",
             "linecolor": "white",
             "minorgridcolor": "white",
             "startlinecolor": "#2a3f5f"
            },
            "type": "carpet"
           }
          ],
          "choropleth": [
           {
            "colorbar": {
             "outlinewidth": 0,
             "ticks": ""
            },
            "type": "choropleth"
           }
          ],
          "contour": [
           {
            "colorbar": {
             "outlinewidth": 0,
             "ticks": ""
            },
            "colorscale": [
             [
              0,
              "#0d0887"
             ],
             [
              0.1111111111111111,
              "#46039f"
             ],
             [
              0.2222222222222222,
              "#7201a8"
             ],
             [
              0.3333333333333333,
              "#9c179e"
             ],
             [
              0.4444444444444444,
              "#bd3786"
             ],
             [
              0.5555555555555556,
              "#d8576b"
             ],
             [
              0.6666666666666666,
              "#ed7953"
             ],
             [
              0.7777777777777778,
              "#fb9f3a"
             ],
             [
              0.8888888888888888,
              "#fdca26"
             ],
             [
              1,
              "#f0f921"
             ]
            ],
            "type": "contour"
           }
          ],
          "contourcarpet": [
           {
            "colorbar": {
             "outlinewidth": 0,
             "ticks": ""
            },
            "type": "contourcarpet"
           }
          ],
          "heatmap": [
           {
            "colorbar": {
             "outlinewidth": 0,
             "ticks": ""
            },
            "colorscale": [
             [
              0,
              "#0d0887"
             ],
             [
              0.1111111111111111,
              "#46039f"
             ],
             [
              0.2222222222222222,
              "#7201a8"
             ],
             [
              0.3333333333333333,
              "#9c179e"
             ],
             [
              0.4444444444444444,
              "#bd3786"
             ],
             [
              0.5555555555555556,
              "#d8576b"
             ],
             [
              0.6666666666666666,
              "#ed7953"
             ],
             [
              0.7777777777777778,
              "#fb9f3a"
             ],
             [
              0.8888888888888888,
              "#fdca26"
             ],
             [
              1,
              "#f0f921"
             ]
            ],
            "type": "heatmap"
           }
          ],
          "heatmapgl": [
           {
            "colorbar": {
             "outlinewidth": 0,
             "ticks": ""
            },
            "colorscale": [
             [
              0,
              "#0d0887"
             ],
             [
              0.1111111111111111,
              "#46039f"
             ],
             [
              0.2222222222222222,
              "#7201a8"
             ],
             [
              0.3333333333333333,
              "#9c179e"
             ],
             [
              0.4444444444444444,
              "#bd3786"
             ],
             [
              0.5555555555555556,
              "#d8576b"
             ],
             [
              0.6666666666666666,
              "#ed7953"
             ],
             [
              0.7777777777777778,
              "#fb9f3a"
             ],
             [
              0.8888888888888888,
              "#fdca26"
             ],
             [
              1,
              "#f0f921"
             ]
            ],
            "type": "heatmapgl"
           }
          ],
          "histogram": [
           {
            "marker": {
             "pattern": {
              "fillmode": "overlay",
              "size": 10,
              "solidity": 0.2
             }
            },
            "type": "histogram"
           }
          ],
          "histogram2d": [
           {
            "colorbar": {
             "outlinewidth": 0,
             "ticks": ""
            },
            "colorscale": [
             [
              0,
              "#0d0887"
             ],
             [
              0.1111111111111111,
              "#46039f"
             ],
             [
              0.2222222222222222,
              "#7201a8"
             ],
             [
              0.3333333333333333,
              "#9c179e"
             ],
             [
              0.4444444444444444,
              "#bd3786"
             ],
             [
              0.5555555555555556,
              "#d8576b"
             ],
             [
              0.6666666666666666,
              "#ed7953"
             ],
             [
              0.7777777777777778,
              "#fb9f3a"
             ],
             [
              0.8888888888888888,
              "#fdca26"
             ],
             [
              1,
              "#f0f921"
             ]
            ],
            "type": "histogram2d"
           }
          ],
          "histogram2dcontour": [
           {
            "colorbar": {
             "outlinewidth": 0,
             "ticks": ""
            },
            "colorscale": [
             [
              0,
              "#0d0887"
             ],
             [
              0.1111111111111111,
              "#46039f"
             ],
             [
              0.2222222222222222,
              "#7201a8"
             ],
             [
              0.3333333333333333,
              "#9c179e"
             ],
             [
              0.4444444444444444,
              "#bd3786"
             ],
             [
              0.5555555555555556,
              "#d8576b"
             ],
             [
              0.6666666666666666,
              "#ed7953"
             ],
             [
              0.7777777777777778,
              "#fb9f3a"
             ],
             [
              0.8888888888888888,
              "#fdca26"
             ],
             [
              1,
              "#f0f921"
             ]
            ],
            "type": "histogram2dcontour"
           }
          ],
          "mesh3d": [
           {
            "colorbar": {
             "outlinewidth": 0,
             "ticks": ""
            },
            "type": "mesh3d"
           }
          ],
          "parcoords": [
           {
            "line": {
             "colorbar": {
              "outlinewidth": 0,
              "ticks": ""
             }
            },
            "type": "parcoords"
           }
          ],
          "pie": [
           {
            "automargin": true,
            "type": "pie"
           }
          ],
          "scatter": [
           {
            "fillpattern": {
             "fillmode": "overlay",
             "size": 10,
             "solidity": 0.2
            },
            "type": "scatter"
           }
          ],
          "scatter3d": [
           {
            "line": {
             "colorbar": {
              "outlinewidth": 0,
              "ticks": ""
             }
            },
            "marker": {
             "colorbar": {
              "outlinewidth": 0,
              "ticks": ""
             }
            },
            "type": "scatter3d"
           }
          ],
          "scattercarpet": [
           {
            "marker": {
             "colorbar": {
              "outlinewidth": 0,
              "ticks": ""
             }
            },
            "type": "scattercarpet"
           }
          ],
          "scattergeo": [
           {
            "marker": {
             "colorbar": {
              "outlinewidth": 0,
              "ticks": ""
             }
            },
            "type": "scattergeo"
           }
          ],
          "scattergl": [
           {
            "marker": {
             "colorbar": {
              "outlinewidth": 0,
              "ticks": ""
             }
            },
            "type": "scattergl"
           }
          ],
          "scattermapbox": [
           {
            "marker": {
             "colorbar": {
              "outlinewidth": 0,
              "ticks": ""
             }
            },
            "type": "scattermapbox"
           }
          ],
          "scatterpolar": [
           {
            "marker": {
             "colorbar": {
              "outlinewidth": 0,
              "ticks": ""
             }
            },
            "type": "scatterpolar"
           }
          ],
          "scatterpolargl": [
           {
            "marker": {
             "colorbar": {
              "outlinewidth": 0,
              "ticks": ""
             }
            },
            "type": "scatterpolargl"
           }
          ],
          "scatterternary": [
           {
            "marker": {
             "colorbar": {
              "outlinewidth": 0,
              "ticks": ""
             }
            },
            "type": "scatterternary"
           }
          ],
          "surface": [
           {
            "colorbar": {
             "outlinewidth": 0,
             "ticks": ""
            },
            "colorscale": [
             [
              0,
              "#0d0887"
             ],
             [
              0.1111111111111111,
              "#46039f"
             ],
             [
              0.2222222222222222,
              "#7201a8"
             ],
             [
              0.3333333333333333,
              "#9c179e"
             ],
             [
              0.4444444444444444,
              "#bd3786"
             ],
             [
              0.5555555555555556,
              "#d8576b"
             ],
             [
              0.6666666666666666,
              "#ed7953"
             ],
             [
              0.7777777777777778,
              "#fb9f3a"
             ],
             [
              0.8888888888888888,
              "#fdca26"
             ],
             [
              1,
              "#f0f921"
             ]
            ],
            "type": "surface"
           }
          ],
          "table": [
           {
            "cells": {
             "fill": {
              "color": "#EBF0F8"
             },
             "line": {
              "color": "white"
             }
            },
            "header": {
             "fill": {
              "color": "#C8D4E3"
             },
             "line": {
              "color": "white"
             }
            },
            "type": "table"
           }
          ]
         },
         "layout": {
          "annotationdefaults": {
           "arrowcolor": "#2a3f5f",
           "arrowhead": 0,
           "arrowwidth": 1
          },
          "autotypenumbers": "strict",
          "coloraxis": {
           "colorbar": {
            "outlinewidth": 0,
            "ticks": ""
           }
          },
          "colorscale": {
           "diverging": [
            [
             0,
             "#8e0152"
            ],
            [
             0.1,
             "#c51b7d"
            ],
            [
             0.2,
             "#de77ae"
            ],
            [
             0.3,
             "#f1b6da"
            ],
            [
             0.4,
             "#fde0ef"
            ],
            [
             0.5,
             "#f7f7f7"
            ],
            [
             0.6,
             "#e6f5d0"
            ],
            [
             0.7,
             "#b8e186"
            ],
            [
             0.8,
             "#7fbc41"
            ],
            [
             0.9,
             "#4d9221"
            ],
            [
             1,
             "#276419"
            ]
           ],
           "sequential": [
            [
             0,
             "#0d0887"
            ],
            [
             0.1111111111111111,
             "#46039f"
            ],
            [
             0.2222222222222222,
             "#7201a8"
            ],
            [
             0.3333333333333333,
             "#9c179e"
            ],
            [
             0.4444444444444444,
             "#bd3786"
            ],
            [
             0.5555555555555556,
             "#d8576b"
            ],
            [
             0.6666666666666666,
             "#ed7953"
            ],
            [
             0.7777777777777778,
             "#fb9f3a"
            ],
            [
             0.8888888888888888,
             "#fdca26"
            ],
            [
             1,
             "#f0f921"
            ]
           ],
           "sequentialminus": [
            [
             0,
             "#0d0887"
            ],
            [
             0.1111111111111111,
             "#46039f"
            ],
            [
             0.2222222222222222,
             "#7201a8"
            ],
            [
             0.3333333333333333,
             "#9c179e"
            ],
            [
             0.4444444444444444,
             "#bd3786"
            ],
            [
             0.5555555555555556,
             "#d8576b"
            ],
            [
             0.6666666666666666,
             "#ed7953"
            ],
            [
             0.7777777777777778,
             "#fb9f3a"
            ],
            [
             0.8888888888888888,
             "#fdca26"
            ],
            [
             1,
             "#f0f921"
            ]
           ]
          },
          "colorway": [
           "#636efa",
           "#EF553B",
           "#00cc96",
           "#ab63fa",
           "#FFA15A",
           "#19d3f3",
           "#FF6692",
           "#B6E880",
           "#FF97FF",
           "#FECB52"
          ],
          "font": {
           "color": "#2a3f5f"
          },
          "geo": {
           "bgcolor": "white",
           "lakecolor": "white",
           "landcolor": "#E5ECF6",
           "showlakes": true,
           "showland": true,
           "subunitcolor": "white"
          },
          "hoverlabel": {
           "align": "left"
          },
          "hovermode": "closest",
          "mapbox": {
           "style": "light"
          },
          "paper_bgcolor": "white",
          "plot_bgcolor": "#E5ECF6",
          "polar": {
           "angularaxis": {
            "gridcolor": "white",
            "linecolor": "white",
            "ticks": ""
           },
           "bgcolor": "#E5ECF6",
           "radialaxis": {
            "gridcolor": "white",
            "linecolor": "white",
            "ticks": ""
           }
          },
          "scene": {
           "xaxis": {
            "backgroundcolor": "#E5ECF6",
            "gridcolor": "white",
            "gridwidth": 2,
            "linecolor": "white",
            "showbackground": true,
            "ticks": "",
            "zerolinecolor": "white"
           },
           "yaxis": {
            "backgroundcolor": "#E5ECF6",
            "gridcolor": "white",
            "gridwidth": 2,
            "linecolor": "white",
            "showbackground": true,
            "ticks": "",
            "zerolinecolor": "white"
           },
           "zaxis": {
            "backgroundcolor": "#E5ECF6",
            "gridcolor": "white",
            "gridwidth": 2,
            "linecolor": "white",
            "showbackground": true,
            "ticks": "",
            "zerolinecolor": "white"
           }
          },
          "shapedefaults": {
           "line": {
            "color": "#2a3f5f"
           }
          },
          "ternary": {
           "aaxis": {
            "gridcolor": "white",
            "linecolor": "white",
            "ticks": ""
           },
           "baxis": {
            "gridcolor": "white",
            "linecolor": "white",
            "ticks": ""
           },
           "bgcolor": "#E5ECF6",
           "caxis": {
            "gridcolor": "white",
            "linecolor": "white",
            "ticks": ""
           }
          },
          "title": {
           "x": 0.05
          },
          "xaxis": {
           "automargin": true,
           "gridcolor": "white",
           "linecolor": "white",
           "ticks": "",
           "title": {
            "standoff": 15
           },
           "zerolinecolor": "white",
           "zerolinewidth": 2
          },
          "yaxis": {
           "automargin": true,
           "gridcolor": "white",
           "linecolor": "white",
           "ticks": "",
           "title": {
            "standoff": 15
           },
           "zerolinecolor": "white",
           "zerolinewidth": 2
          }
         }
        },
        "title": {
         "text": "Parallel Coordinate Plot"
        }
       }
      },
      "text/html": [
       "<div>                            <div id=\"f3764620-92aa-4f60-8cff-2b06d1406b64\" class=\"plotly-graph-div\" style=\"height:525px; width:100%;\"></div>            <script type=\"text/javascript\">                require([\"plotly\"], function(Plotly) {                    window.PLOTLYENV=window.PLOTLYENV || {};                                    if (document.getElementById(\"f3764620-92aa-4f60-8cff-2b06d1406b64\")) {                    Plotly.newPlot(                        \"f3764620-92aa-4f60-8cff-2b06d1406b64\",                        [{\"dimensions\":[{\"label\":\"Objective Value\",\"range\":[-1541.43156888527,-1334.1512096354627],\"values\":[-1360.420995738091,-1541.43156888527,-1343.1089052143827,-1379.588636559188,-1440.0966047208628,-1409.1192322663367,-1358.531449391042,-1365.5413583690804,-1375.121650139222,-1472.552360831087,-1349.6398837459765,-1335.3340963930557,-1359.4167859576426,-1339.2580929332664,-1344.7536206647808,-1343.006464002334,-1348.4947437688563,-1334.1512096354627,-1336.723221519953,-1342.4358552444928,-1350.762989940872,-1342.6413256172966,-1346.026951464573,-1338.9305928096308,-1346.770050995533,-1341.6147699854157,-1362.0913355848318,-1345.7457240252645,-1341.8350479726093,-1351.0016374521667]},{\"label\":\"depth\",\"range\":[2,10],\"values\":[3,10,7,4,10,2,3,3,9,2,7,7,7,6,5,6,8,5,5,5,8,5,4,6,4,6,8,5,4,7]},{\"label\":\"iterations\",\"range\":[103,999],\"values\":[598,606,121,142,313,735,588,479,931,219,359,338,103,312,403,276,437,751,782,934,782,718,833,676,872,502,816,650,999,537]},{\"label\":\"l2_leaf_reg\",\"range\":[-1.3000734049241232,-0.6991076942347978],\"ticktext\":[\"0.0501\",\"0.1\",\"0.2\"],\"tickvals\":[-1.3000734049241232,-1,-0.6991076942347978],\"values\":[-1.0834210839532297,-0.8909084800459319,-0.7288143778841158,-1.1837621333196409,-0.8256483713474444,-0.9305837701246452,-0.8731601590875752,-0.875107753372013,-1.1680029382125166,-0.745136933446235,-0.7138236785245208,-0.7021390103848067,-0.731200731060298,-0.6991076942347978,-1.001475690344585,-0.8022837619634351,-0.7977557698451626,-0.7106903805775966,-1.3000734049241232,-0.7794565054485592,-0.8342752281422743,-1.2414532516602832,-0.9533011163563613,-1.2820846464066589,-1.032263757742795,-0.7592144769765796,-0.7017189768042024,-1.0682884920470754,-0.7660447735677051,-1.1253661829026498]},{\"label\":\"learning_rate\",\"range\":[-1.2897743954679892,-0.7147038101328038],\"ticktext\":[\"0.0513\",\"0.1\",\"0.193\"],\"tickvals\":[-1.2897743954679892,-1,-0.7147038101328038],\"values\":[-1.0563329036049076,-0.8888375069250547,-1.0526933314524778,-1.2249444503059947,-0.9188339143152524,-0.7147038101328038,-0.7696706040904467,-0.8026388731018913,-1.1974602315496814,-1.020409542363315,-1.0674550824838471,-1.0990785998043042,-1.137195115915442,-1.128688020155166,-1.2626688559137915,-1.1449472202957989,-1.2897743954679892,-1.1375552803091216,-0.9702888748703137,-1.1973898295884082,-1.1100968745733133,-0.9590011302210187,-0.983353355275894,-1.0102188094447397,-1.07516660968703,-1.172611013558865,-1.10617875819954,-0.945196512620399,-0.9975050288532938,-1.0314988981065705]}],\"labelangle\":30,\"labelside\":\"bottom\",\"line\":{\"color\":[-1360.420995738091,-1541.43156888527,-1343.1089052143827,-1379.588636559188,-1440.0966047208628,-1409.1192322663367,-1358.531449391042,-1365.5413583690804,-1375.121650139222,-1472.552360831087,-1349.6398837459765,-1335.3340963930557,-1359.4167859576426,-1339.2580929332664,-1344.7536206647808,-1343.006464002334,-1348.4947437688563,-1334.1512096354627,-1336.723221519953,-1342.4358552444928,-1350.762989940872,-1342.6413256172966,-1346.026951464573,-1338.9305928096308,-1346.770050995533,-1341.6147699854157,-1362.0913355848318,-1345.7457240252645,-1341.8350479726093,-1351.0016374521667],\"colorbar\":{\"title\":{\"text\":\"Objective Value\"}},\"colorscale\":[[0.0,\"rgb(247,251,255)\"],[0.125,\"rgb(222,235,247)\"],[0.25,\"rgb(198,219,239)\"],[0.375,\"rgb(158,202,225)\"],[0.5,\"rgb(107,174,214)\"],[0.625,\"rgb(66,146,198)\"],[0.75,\"rgb(33,113,181)\"],[0.875,\"rgb(8,81,156)\"],[1.0,\"rgb(8,48,107)\"]],\"reversescale\":false,\"showscale\":true},\"type\":\"parcoords\"}],                        {\"title\":{\"text\":\"Parallel Coordinate Plot\"},\"template\":{\"data\":{\"histogram2dcontour\":[{\"type\":\"histogram2dcontour\",\"colorbar\":{\"outlinewidth\":0,\"ticks\":\"\"},\"colorscale\":[[0.0,\"#0d0887\"],[0.1111111111111111,\"#46039f\"],[0.2222222222222222,\"#7201a8\"],[0.3333333333333333,\"#9c179e\"],[0.4444444444444444,\"#bd3786\"],[0.5555555555555556,\"#d8576b\"],[0.6666666666666666,\"#ed7953\"],[0.7777777777777778,\"#fb9f3a\"],[0.8888888888888888,\"#fdca26\"],[1.0,\"#f0f921\"]]}],\"choropleth\":[{\"type\":\"choropleth\",\"colorbar\":{\"outlinewidth\":0,\"ticks\":\"\"}}],\"histogram2d\":[{\"type\":\"histogram2d\",\"colorbar\":{\"outlinewidth\":0,\"ticks\":\"\"},\"colorscale\":[[0.0,\"#0d0887\"],[0.1111111111111111,\"#46039f\"],[0.2222222222222222,\"#7201a8\"],[0.3333333333333333,\"#9c179e\"],[0.4444444444444444,\"#bd3786\"],[0.5555555555555556,\"#d8576b\"],[0.6666666666666666,\"#ed7953\"],[0.7777777777777778,\"#fb9f3a\"],[0.8888888888888888,\"#fdca26\"],[1.0,\"#f0f921\"]]}],\"heatmap\":[{\"type\":\"heatmap\",\"colorbar\":{\"outlinewidth\":0,\"ticks\":\"\"},\"colorscale\":[[0.0,\"#0d0887\"],[0.1111111111111111,\"#46039f\"],[0.2222222222222222,\"#7201a8\"],[0.3333333333333333,\"#9c179e\"],[0.4444444444444444,\"#bd3786\"],[0.5555555555555556,\"#d8576b\"],[0.6666666666666666,\"#ed7953\"],[0.7777777777777778,\"#fb9f3a\"],[0.8888888888888888,\"#fdca26\"],[1.0,\"#f0f921\"]]}],\"heatmapgl\":[{\"type\":\"heatmapgl\",\"colorbar\":{\"outlinewidth\":0,\"ticks\":\"\"},\"colorscale\":[[0.0,\"#0d0887\"],[0.1111111111111111,\"#46039f\"],[0.2222222222222222,\"#7201a8\"],[0.3333333333333333,\"#9c179e\"],[0.4444444444444444,\"#bd3786\"],[0.5555555555555556,\"#d8576b\"],[0.6666666666666666,\"#ed7953\"],[0.7777777777777778,\"#fb9f3a\"],[0.8888888888888888,\"#fdca26\"],[1.0,\"#f0f921\"]]}],\"contourcarpet\":[{\"type\":\"contourcarpet\",\"colorbar\":{\"outlinewidth\":0,\"ticks\":\"\"}}],\"contour\":[{\"type\":\"contour\",\"colorbar\":{\"outlinewidth\":0,\"ticks\":\"\"},\"colorscale\":[[0.0,\"#0d0887\"],[0.1111111111111111,\"#46039f\"],[0.2222222222222222,\"#7201a8\"],[0.3333333333333333,\"#9c179e\"],[0.4444444444444444,\"#bd3786\"],[0.5555555555555556,\"#d8576b\"],[0.6666666666666666,\"#ed7953\"],[0.7777777777777778,\"#fb9f3a\"],[0.8888888888888888,\"#fdca26\"],[1.0,\"#f0f921\"]]}],\"surface\":[{\"type\":\"surface\",\"colorbar\":{\"outlinewidth\":0,\"ticks\":\"\"},\"colorscale\":[[0.0,\"#0d0887\"],[0.1111111111111111,\"#46039f\"],[0.2222222222222222,\"#7201a8\"],[0.3333333333333333,\"#9c179e\"],[0.4444444444444444,\"#bd3786\"],[0.5555555555555556,\"#d8576b\"],[0.6666666666666666,\"#ed7953\"],[0.7777777777777778,\"#fb9f3a\"],[0.8888888888888888,\"#fdca26\"],[1.0,\"#f0f921\"]]}],\"mesh3d\":[{\"type\":\"mesh3d\",\"colorbar\":{\"outlinewidth\":0,\"ticks\":\"\"}}],\"scatter\":[{\"fillpattern\":{\"fillmode\":\"overlay\",\"size\":10,\"solidity\":0.2},\"type\":\"scatter\"}],\"parcoords\":[{\"type\":\"parcoords\",\"line\":{\"colorbar\":{\"outlinewidth\":0,\"ticks\":\"\"}}}],\"scatterpolargl\":[{\"type\":\"scatterpolargl\",\"marker\":{\"colorbar\":{\"outlinewidth\":0,\"ticks\":\"\"}}}],\"bar\":[{\"error_x\":{\"color\":\"#2a3f5f\"},\"error_y\":{\"color\":\"#2a3f5f\"},\"marker\":{\"line\":{\"color\":\"#E5ECF6\",\"width\":0.5},\"pattern\":{\"fillmode\":\"overlay\",\"size\":10,\"solidity\":0.2}},\"type\":\"bar\"}],\"scattergeo\":[{\"type\":\"scattergeo\",\"marker\":{\"colorbar\":{\"outlinewidth\":0,\"ticks\":\"\"}}}],\"scatterpolar\":[{\"type\":\"scatterpolar\",\"marker\":{\"colorbar\":{\"outlinewidth\":0,\"ticks\":\"\"}}}],\"histogram\":[{\"marker\":{\"pattern\":{\"fillmode\":\"overlay\",\"size\":10,\"solidity\":0.2}},\"type\":\"histogram\"}],\"scattergl\":[{\"type\":\"scattergl\",\"marker\":{\"colorbar\":{\"outlinewidth\":0,\"ticks\":\"\"}}}],\"scatter3d\":[{\"type\":\"scatter3d\",\"line\":{\"colorbar\":{\"outlinewidth\":0,\"ticks\":\"\"}},\"marker\":{\"colorbar\":{\"outlinewidth\":0,\"ticks\":\"\"}}}],\"scattermapbox\":[{\"type\":\"scattermapbox\",\"marker\":{\"colorbar\":{\"outlinewidth\":0,\"ticks\":\"\"}}}],\"scatterternary\":[{\"type\":\"scatterternary\",\"marker\":{\"colorbar\":{\"outlinewidth\":0,\"ticks\":\"\"}}}],\"scattercarpet\":[{\"type\":\"scattercarpet\",\"marker\":{\"colorbar\":{\"outlinewidth\":0,\"ticks\":\"\"}}}],\"carpet\":[{\"aaxis\":{\"endlinecolor\":\"#2a3f5f\",\"gridcolor\":\"white\",\"linecolor\":\"white\",\"minorgridcolor\":\"white\",\"startlinecolor\":\"#2a3f5f\"},\"baxis\":{\"endlinecolor\":\"#2a3f5f\",\"gridcolor\":\"white\",\"linecolor\":\"white\",\"minorgridcolor\":\"white\",\"startlinecolor\":\"#2a3f5f\"},\"type\":\"carpet\"}],\"table\":[{\"cells\":{\"fill\":{\"color\":\"#EBF0F8\"},\"line\":{\"color\":\"white\"}},\"header\":{\"fill\":{\"color\":\"#C8D4E3\"},\"line\":{\"color\":\"white\"}},\"type\":\"table\"}],\"barpolar\":[{\"marker\":{\"line\":{\"color\":\"#E5ECF6\",\"width\":0.5},\"pattern\":{\"fillmode\":\"overlay\",\"size\":10,\"solidity\":0.2}},\"type\":\"barpolar\"}],\"pie\":[{\"automargin\":true,\"type\":\"pie\"}]},\"layout\":{\"autotypenumbers\":\"strict\",\"colorway\":[\"#636efa\",\"#EF553B\",\"#00cc96\",\"#ab63fa\",\"#FFA15A\",\"#19d3f3\",\"#FF6692\",\"#B6E880\",\"#FF97FF\",\"#FECB52\"],\"font\":{\"color\":\"#2a3f5f\"},\"hovermode\":\"closest\",\"hoverlabel\":{\"align\":\"left\"},\"paper_bgcolor\":\"white\",\"plot_bgcolor\":\"#E5ECF6\",\"polar\":{\"bgcolor\":\"#E5ECF6\",\"angularaxis\":{\"gridcolor\":\"white\",\"linecolor\":\"white\",\"ticks\":\"\"},\"radialaxis\":{\"gridcolor\":\"white\",\"linecolor\":\"white\",\"ticks\":\"\"}},\"ternary\":{\"bgcolor\":\"#E5ECF6\",\"aaxis\":{\"gridcolor\":\"white\",\"linecolor\":\"white\",\"ticks\":\"\"},\"baxis\":{\"gridcolor\":\"white\",\"linecolor\":\"white\",\"ticks\":\"\"},\"caxis\":{\"gridcolor\":\"white\",\"linecolor\":\"white\",\"ticks\":\"\"}},\"coloraxis\":{\"colorbar\":{\"outlinewidth\":0,\"ticks\":\"\"}},\"colorscale\":{\"sequential\":[[0.0,\"#0d0887\"],[0.1111111111111111,\"#46039f\"],[0.2222222222222222,\"#7201a8\"],[0.3333333333333333,\"#9c179e\"],[0.4444444444444444,\"#bd3786\"],[0.5555555555555556,\"#d8576b\"],[0.6666666666666666,\"#ed7953\"],[0.7777777777777778,\"#fb9f3a\"],[0.8888888888888888,\"#fdca26\"],[1.0,\"#f0f921\"]],\"sequentialminus\":[[0.0,\"#0d0887\"],[0.1111111111111111,\"#46039f\"],[0.2222222222222222,\"#7201a8\"],[0.3333333333333333,\"#9c179e\"],[0.4444444444444444,\"#bd3786\"],[0.5555555555555556,\"#d8576b\"],[0.6666666666666666,\"#ed7953\"],[0.7777777777777778,\"#fb9f3a\"],[0.8888888888888888,\"#fdca26\"],[1.0,\"#f0f921\"]],\"diverging\":[[0,\"#8e0152\"],[0.1,\"#c51b7d\"],[0.2,\"#de77ae\"],[0.3,\"#f1b6da\"],[0.4,\"#fde0ef\"],[0.5,\"#f7f7f7\"],[0.6,\"#e6f5d0\"],[0.7,\"#b8e186\"],[0.8,\"#7fbc41\"],[0.9,\"#4d9221\"],[1,\"#276419\"]]},\"xaxis\":{\"gridcolor\":\"white\",\"linecolor\":\"white\",\"ticks\":\"\",\"title\":{\"standoff\":15},\"zerolinecolor\":\"white\",\"automargin\":true,\"zerolinewidth\":2},\"yaxis\":{\"gridcolor\":\"white\",\"linecolor\":\"white\",\"ticks\":\"\",\"title\":{\"standoff\":15},\"zerolinecolor\":\"white\",\"automargin\":true,\"zerolinewidth\":2},\"scene\":{\"xaxis\":{\"backgroundcolor\":\"#E5ECF6\",\"gridcolor\":\"white\",\"linecolor\":\"white\",\"showbackground\":true,\"ticks\":\"\",\"zerolinecolor\":\"white\",\"gridwidth\":2},\"yaxis\":{\"backgroundcolor\":\"#E5ECF6\",\"gridcolor\":\"white\",\"linecolor\":\"white\",\"showbackground\":true,\"ticks\":\"\",\"zerolinecolor\":\"white\",\"gridwidth\":2},\"zaxis\":{\"backgroundcolor\":\"#E5ECF6\",\"gridcolor\":\"white\",\"linecolor\":\"white\",\"showbackground\":true,\"ticks\":\"\",\"zerolinecolor\":\"white\",\"gridwidth\":2}},\"shapedefaults\":{\"line\":{\"color\":\"#2a3f5f\"}},\"annotationdefaults\":{\"arrowcolor\":\"#2a3f5f\",\"arrowhead\":0,\"arrowwidth\":1},\"geo\":{\"bgcolor\":\"white\",\"landcolor\":\"#E5ECF6\",\"subunitcolor\":\"white\",\"showland\":true,\"showlakes\":true,\"lakecolor\":\"white\"},\"title\":{\"x\":0.05},\"mapbox\":{\"style\":\"light\"}}}},                        {\"responsive\": true}                    ).then(function(){\n",
       "                            \n",
       "var gd = document.getElementById('f3764620-92aa-4f60-8cff-2b06d1406b64');\n",
       "var x = new MutationObserver(function (mutations, observer) {{\n",
       "        var display = window.getComputedStyle(gd).display;\n",
       "        if (!display || display === 'none') {{\n",
       "            console.log([gd, 'removed!']);\n",
       "            Plotly.purge(gd);\n",
       "            observer.disconnect();\n",
       "        }}\n",
       "}});\n",
       "\n",
       "// Listen for the removal of the full notebook cells\n",
       "var notebookContainer = gd.closest('#notebook-container');\n",
       "if (notebookContainer) {{\n",
       "    x.observe(notebookContainer, {childList: true});\n",
       "}}\n",
       "\n",
       "// Listen for the clearing of the current output cell\n",
       "var outputEl = gd.closest('.output');\n",
       "if (outputEl) {{\n",
       "    x.observe(outputEl, {childList: true});\n",
       "}}\n",
       "\n",
       "                        })                };                });            </script>        </div>"
      ]
     },
     "metadata": {},
     "output_type": "display_data"
    }
   ],
   "source": [
    "# Строим графики визуализации результатов оптимизации\n",
    "plot_optimization_history(study)\n",
    "plot_param_importances(study)\n",
    "plot_parallel_coordinate(study)"
   ]
  },
  {
   "cell_type": "markdown",
   "id": "32674e8f",
   "metadata": {},
   "source": [
    "- Вывод:\n",
    "CatBoost обучается значительно быстрее чем LightGBM, поэтому прогнал больше циклов поиска за меньшее время (может быть благодаря od_wait (это число, которое определяет, сколько итераций обучения ждать после того, как качество модели перестанет улучшаться, прежде чем остановить обучение. Это параметр для ранней остановки, который помогает избежать переобучения модели.), который контролирует overfitting ?)\n",
    "- MAE: 1281.6356386160853\n",
    "Результат уже сопоставим с лучшим результатом LightGBM (~1304)\n",
    "- Уже прогресс!"
   ]
  },
  {
   "cell_type": "markdown",
   "id": "4507a8bb",
   "metadata": {},
   "source": [
    "#### Уточним параметры (финальная попытка)\n",
    "И добавим еще один параметр из списка:\n",
    "random_strength"
   ]
  },
  {
   "cell_type": "code",
   "execution_count": 56,
   "id": "e72a9d68",
   "metadata": {},
   "outputs": [],
   "source": [
    "# Определяем функцию цели для оптимизации гиперпараметров\n",
    "def objective(trial):\n",
    "    model = CatBoostRegressor(\n",
    "        random_state=42, \n",
    "        verbose=False,\n",
    "        loss_function='MAE',\n",
    "        od_wait=10,\n",
    "        iterations = trial.suggest_int('iterations', 600, 1000), # добавляем нижнюю и верхнюю границу\n",
    "        learning_rate = trial.suggest_float('learning_rate', 0.05, 0.1, log=True),\n",
    "        depth = trial.suggest_int('depth', 2, 10), # добавляем нижнюю и верхнюю границу\n",
    "        l2_leaf_reg = trial.suggest_float('l2_leaf_reg', 0.05, 0.1, log=True),\n",
    "        cat_features = cat_features # указываем категориальные признаки\n",
    "    )\n",
    "    \n",
    "    score = cross_val_score(model, X, y, cv=3, n_jobs=-1, scoring='neg_mean_absolute_error')\n",
    "    return score.mean()"
   ]
  },
  {
   "cell_type": "markdown",
   "id": "977b9fde",
   "metadata": {},
   "source": [
    "Мы добавили еще один параметр для оптимизации гиперпараметров модели CatBoostRegressor.\n",
    "Этот параметр называется random_strength и он определяет степень случайности при построении деревьев в модели. \n",
    "Чем больше этот параметр, тем больше разнообразие в деревьях и тем меньше риск переобучения, но также тем меньше точность модели. \n",
    "- Гиперпараметр random_strength контролирует степень случайности при построении деревьев в модели CatBoost. Он может варьироваться от 0 до 1, где 0 означает отсутствие случайности, а 1 означает максимальную случайность.\n",
    "- Также уточняем диапазоны для других параметров, таких как iterations, learning_rate и l2_leaf_reg, чтобы сузить область поиска и ускорить процесс оптимизации.\n",
    "- Зафиксируем параметры, так как это было лучшее значение, найденное в предыдущей оптимизации."
   ]
  },
  {
   "cell_type": "code",
   "execution_count": 57,
   "id": "5401a7de",
   "metadata": {},
   "outputs": [
    {
     "data": {
      "application/vnd.jupyter.widget-view+json": {
       "model_id": "2c338cdf06ad423c995a9438915f8426",
       "version_major": 2,
       "version_minor": 0
      },
      "text/plain": [
       "  0%|          | 0/30 [00:00<?, ?it/s]"
      ]
     },
     "metadata": {},
     "output_type": "display_data"
    }
   ],
   "source": [
    " study = optuna.create_study(study_name='cb_mae_2', direction='minimize') # заменяем direction на 'minimize'\n",
    "study.optimize(objective, n_trials=30, show_progress_bar=True)"
   ]
  },
  {
   "cell_type": "code",
   "execution_count": 58,
   "id": "cada9a25",
   "metadata": {},
   "outputs": [
    {
     "data": {
      "text/plain": [
       "-1426.2850432249725"
      ]
     },
     "execution_count": 58,
     "metadata": {},
     "output_type": "execute_result"
    }
   ],
   "source": [
    "study.best_value"
   ]
  },
  {
   "cell_type": "code",
   "execution_count": 59,
   "id": "2d30c7ad",
   "metadata": {},
   "outputs": [
    {
     "data": {
      "text/plain": [
       "{'iterations': 763,\n",
       " 'learning_rate': 0.06776754786712795,\n",
       " 'depth': 2,\n",
       " 'l2_leaf_reg': 0.057703007850865705}"
      ]
     },
     "execution_count": 59,
     "metadata": {},
     "output_type": "execute_result"
    }
   ],
   "source": [
    "study.best_params"
   ]
  },
  {
   "cell_type": "code",
   "execution_count": 64,
   "id": "98e35103",
   "metadata": {},
   "outputs": [],
   "source": [
    "model = CatBoostRegressor(\n",
    "        random_state=42, \n",
    "        verbose=False,\n",
    "        loss_function='MAE',\n",
    "        od_wait=10,\n",
    "        depth = 2,\n",
    "        iterations = 763,\n",
    "        learning_rate = 0.06776754786712795,\n",
    "        l2_leaf_reg = 0.057703007850865705,\n",
    "        random_strength = 0.12,\n",
    "        cat_features = cat_features # указываем категориальные признаки\n",
    "    )\n"
   ]
  },
  {
   "cell_type": "markdown",
   "id": "bdaf6645",
   "metadata": {},
   "source": [
    " Я использовал библиотеку Optuna для оптимизации гиперпараметров вашей модели CatBoost. Optuna нашла лучшую комбинацию гиперпараметров из 100 попыток, которая дала наименьшую ошибку на вашей целевой функции. Эти гиперпараметры такие:\n",
    "- iterations: 872 - количество итераций обучения модели\n",
    "- learning_rate: 0.05674681706604528 - скорость обучения модели\n",
    "- depth: 6 - максимальная глубина деревьев в модели\n",
    "- l2_leaf_reg: 0.14144326693488424- коэффициент регуляризации для листьев деревьев в модели\n",
    "Можем использовать эти гиперпараметры для обучения вашей модели CatBoost на полном наборе данных или для оценки ее качества на тестовых данных."
   ]
  },
  {
   "cell_type": "code",
   "execution_count": 65,
   "id": "2e24c40b",
   "metadata": {},
   "outputs": [
    {
     "name": "stdout",
     "output_type": "stream",
     "text": [
      "-1427.7950915195452\n"
     ]
    }
   ],
   "source": [
    "score = cross_val_score(model, X, y, cv=3, n_jobs=-1, scoring='neg_mean_absolute_error', error_score='raise')\n",
    "\n",
    "print(score.mean())"
   ]
  },
  {
   "cell_type": "markdown",
   "id": "fd7999e7",
   "metadata": {},
   "source": [
    "- В CatBoost нам очень помогла библиотека отимизации optuna, показатели говорят сами за себя. \n",
    "- Средний результат перекрестной проверки составляет 1427.7950, что означает, что модель имеет среднюю абсолютную ошибку 1427.7950 на ваших данных. \n",
    "- Это относительно низкая ошибка, которая свидетельствует о том, что модель хорошо подходит к данным и делает точные прогнозы."
   ]
  },
  {
   "cell_type": "markdown",
   "id": "37eebf60",
   "metadata": {},
   "source": [
    "Мной была использована функция cross_val_score из библиотеки sklearn с моделью CatBoostRegressor и метрикой neg_mean_absolute_error (с минусом это правильно. Это потому, что была использована метрика neg_mean_absolute_error, которая возвращает отрицательное значение ошибки. Чем меньше это значение, тем лучше ваша модель).\n",
    "Выведен средний результат перекрестной проверки, который является мерой того, насколько хорошо ваша модель обобщается на 'невидимых данных'.\n",
    "Согласно кода, средний результат перекрестной проверки составляет -1427.7950915195452, что означает, что модель имеет среднюю абсолютную ошибку 1427.7950915195452 на данных. \n",
    "Это значительно лучше, чем результат, который мы получили ранее с моделью LGBMRegressor, которая имела среднюю абсолютную ошибку 1568.821934. \n",
    "Это означает, что наша модель CatBoostRegressor делает более точные прогнозы и лучше подходит к вашим данным.\n",
    "Я также заметил, что CatBoost оказался значительно быстрее по сравнению с LightGBM. \n",
    "Это может быть связано с тем, что CatBoost использует более эффективный алгоритм для работы с категориальными признаками, которые часто встречаются в реальных данных. Кроме того, CatBoost имеет множество оптимизаций и улучшений, которые повышают его скорость и стабильность.\n",
    "- Спасибо за внимание!\n",
    "\n"
   ]
  },
  {
   "cell_type": "code",
   "execution_count": null,
   "id": "031e0699",
   "metadata": {},
   "outputs": [],
   "source": []
  },
  {
   "cell_type": "code",
   "execution_count": null,
   "id": "c2b3e077",
   "metadata": {},
   "outputs": [],
   "source": []
  },
  {
   "cell_type": "code",
   "execution_count": null,
   "id": "133f2340",
   "metadata": {},
   "outputs": [],
   "source": []
  }
 ],
 "metadata": {
  "kernelspec": {
   "display_name": "Python 3 (ipykernel)",
   "language": "python",
   "name": "python3"
  },
  "language_info": {
   "codemirror_mode": {
    "name": "ipython",
    "version": 3
   },
   "file_extension": ".py",
   "mimetype": "text/x-python",
   "name": "python",
   "nbconvert_exporter": "python",
   "pygments_lexer": "ipython3",
   "version": "3.11.3"
  }
 },
 "nbformat": 4,
 "nbformat_minor": 5
}
