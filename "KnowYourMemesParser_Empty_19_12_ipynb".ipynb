{
  "cells": [
    {
      "cell_type": "markdown",
      "metadata": {
        "id": "view-in-github",
        "colab_type": "text"
      },
      "source": [
        "<a href=\"https://colab.research.google.com/github/NikGeekB2001/Machine-Learning-Professional/blob/main/%22KnowYourMemesParser_Empty_19_12_ipynb%22.ipynb\" target=\"_parent\"><img src=\"https://colab.research.google.com/assets/colab-badge.svg\" alt=\"Open In Colab\"/></a>"
      ]
    },
    {
      "cell_type": "markdown",
      "metadata": {
        "id": "IO1m4W-2FugO"
      },
      "source": [
        "# Парсим мемы в питоне: как обойти серверную блокировку.\n"
      ]
    },
    {
      "cell_type": "markdown",
      "metadata": {
        "id": "6-qGF6CjFugR"
      },
      "source": [
        "# 1. Вламываемся в мемохранилище\n",
        "\n",
        "## 1.1. Что мы хотим получить\n",
        "\n",
        "Итак, мы хотим распарсить [knowyourmeme.com](http://knowyourmeme.com) и получить кучу разных переменных:\n",
        "\n",
        "- **Name** – название мема,\n",
        "- **Origin_year** – год его создания,\n",
        "- **Views** – число просмотров,\n",
        "- **About** – текстовое описание мема,\n",
        "- ** и многие другие**\n",
        "\n",
        "Более того, мы хотим сделать это без вот этого всего:\n",
        "\n",
        "\n",
        "\n",
        "После скачивания и чистки данных от мусора, можно будет заняться строительством моделей. Например, попытаться предсказать популярность мема по его параметрам. Но это все позже, а сейчас познакомимся с парой определений:\n",
        "\n",
        "* **Парсер** — это скрипт, который грабит информацию с сайта\n",
        "* **Краулер** — это часть парсера, которая бродит по ссылкам\n",
        "* **Краулинг** — это переход по страницам и ссылкам\n",
        "* **Скрапинг** — это сбор данных со страниц\n",
        "* **Парсинг** — это сразу и краулинг и скрапинг!\n",
        "\n",
        "\n",
        "## 1.2.  Что такое HTML\n",
        "\n",
        "**HTML (HyperText Markup Language)**  — это такой же язык разметки как Markdown или LaTeX. Он является стандартным для написания различных сайтов. Команды в таком языке называются **тегами**. Если открыть абсолютно любой сайт, нажать на правую кнопку мышки, а после нажать `View page source`, то перед вами предстанет HTML скелет этого сайта.\n",
        "\n",
        "Можно увидеть, что HTML-страница это ни что иное как набор вложенных тегов. Можно заметить, например, следующие теги:\n",
        "\n",
        "- `<title>` – заголовок страницы\n",
        "- `<h1>…<h6>` – заголовки разных уровней\n",
        "- `<p>` – абзац (paragraph)\n",
        "- `<div>` – выделения фрагмента документа с целью изменения вида содержимого\n",
        "- `<table>` – прорисовка таблицы\n",
        "- `<tr>` – разделитель для строк в таблице\n",
        "- `<td>` – разделитель для столбцов в таблице\n",
        "- `<b>` – устанавливает жирное начертание шрифта\n",
        "\n",
        "Обычно команда `<...>` открывает тег, а  `</...>` закрывает его. Все, что находится между этими двумя командами, подчиняется правилу, которое диктует тег. Например, все, что находится между `<p>` и  `</p>` — это отдельный абзац.   \n",
        "\n",
        "Теги образуют своеобразное дерево с корнем в теге `<html>` и разбивают страницу на разные логические кусочки. У каждого тега могут быть свои потомки (дети) — те теги, которые вложены в него, и свои родители.\n",
        "\n",
        "Например, HTML-древо страницы может выглядеть вот так:\n",
        "\n",
        "    <html>\n",
        "    <head> Заголовок </head>\n",
        "    <body>\n",
        "        <div>\n",
        "            Первый кусок текста со своими свойствами\n",
        "        </div>\n",
        "        <div>\n",
        "            Второй кусок текста\n",
        "                <b>\n",
        "                    Третий, жирный кусок\n",
        "                </b>\n",
        "        </div>\n",
        "        Четвёртый кусок текста        \n",
        "    </body>\n",
        "    </html>            \n",
        "    \n",
        "    \n",
        "\n",
        "\n",
        "Можно работать с этим html как с текстом, а можно как с деревом. Обход этого дерева и есть парсинг веб-страницы. Мы всего лишь будем находить нужные нам узлы среди всего этого разнообразия и забирать из них информацию!\n",
        "\n",
        "Вручную обходить эти деревья не очень приятно, поэтому есть специальные языки для обхода деревьев.\n",
        "\n"
      ]
    },
    {
      "cell_type": "markdown",
      "metadata": {
        "id": "WWG2SZpHFugT"
      },
      "source": [
        "## 1.3. Наш первый запрос\n",
        "\n",
        "Доступ к веб-станицам позволяет получать модуль `requests`. Подгрузим его. За компанию подгрузим ещё парочку дельных пакетов."
      ]
    },
    {
      "cell_type": "code",
      "source": [
        "import warnings\n",
        "warnings.filterwarnings(\"ignore\")"
      ],
      "metadata": {
        "id": "rnxFdMJIALLo"
      },
      "execution_count": 6,
      "outputs": []
    },
    {
      "cell_type": "code",
      "execution_count": 7,
      "metadata": {
        "id": "35Uti68PFugT"
      },
      "outputs": [],
      "source": [
        "import requests      # Библиотека для отправки запросов\n",
        "import numpy as np   # Библиотека для матриц, векторов и линала\n",
        "import pandas as pd  # Библиотека для табличек\n",
        "import time          # Библиотека для времени"
      ]
    },
    {
      "cell_type": "markdown",
      "metadata": {
        "id": "Dq4nNCdWFugV"
      },
      "source": [
        "Для наших благородных исследовательских целей нужно собрать данные по каждому мему с соответствующей ему страницы. Но для начала нужно получить адреса этих страниц. Поэтому открываем основную страницу со всеми выложенными мемами. Выглядит она следующим образом:\n",
        "\n",
        "\n",
        "\n",
        "Со страницы всех мемов http://knowyourmeme.com/memes/all мы  будем тащить ссылки на каждый из перечисленных мемов. Сохраним в переменную `page_link` адрес основной страницы и откроем её при помощи библиотеки `requests`."
      ]
    },
    {
      "cell_type": "code",
      "execution_count": 8,
      "metadata": {
        "id": "G2U_F6onFugV"
      },
      "outputs": [],
      "source": [
        "page_link = 'http://knowyourmeme.com/memes/all/page/1'"
      ]
    },
    {
      "cell_type": "markdown",
      "metadata": {
        "id": "3cOE5tBeFugY"
      },
      "source": [
        "Не будем показывать серверу, что мы сидим на питоне и используем библиотеку requests. Это может вызвать у него некоторые подозрения относительно наших благих намерений и он решит нас безжалостно отвергнуть.\n",
        "\n",
        "\n",
        "Очевидно, что нашему скромному запросу не тягаться с таким обилием мета-информации, которое передается при запросе из обычного браузера. К счастью, никто нам не мешает притвориться человечными и пустить пыль в глаза сервера при помощи генерации фейкового юзер-агента. Библиотек, которые справляются с такой задачей, существует очень и очень много, лично мне больше всего нравится [`fake-useragent`](https://pypi.python.org/pypi/fake-useragent). При вызове метода из различных кусочков будет генерироваться рандомное сочетание операционной системы, спецификаций и версии браузера, которые можно передавать в запрос:"
      ]
    },
    {
      "cell_type": "code",
      "source": [
        "!pip install fake_useragent"
      ],
      "metadata": {
        "colab": {
          "base_uri": "https://localhost:8080/"
        },
        "id": "30VTGnO_GAuR",
        "outputId": "da0514d1-b7ca-49ef-aed7-b990236f38ed"
      },
      "execution_count": 9,
      "outputs": [
        {
          "output_type": "stream",
          "name": "stdout",
          "text": [
            "Requirement already satisfied: fake_useragent in /usr/local/lib/python3.10/dist-packages (1.4.0)\n"
          ]
        }
      ]
    },
    {
      "cell_type": "code",
      "execution_count": 10,
      "metadata": {
        "id": "_k3ix86eFugY"
      },
      "outputs": [],
      "source": [
        "# подгрузим один из методов этой библиотеки\n",
        "from fake_useragent import UserAgent"
      ]
    },
    {
      "cell_type": "code",
      "source": [
        "UserAgent().chrome"
      ],
      "metadata": {
        "colab": {
          "base_uri": "https://localhost:8080/",
          "height": 36
        },
        "id": "DoxSGx1lG_2C",
        "outputId": "1525b8bb-6693-49c5-d680-9e6edd315d9c"
      },
      "execution_count": 11,
      "outputs": [
        {
          "output_type": "execute_result",
          "data": {
            "text/plain": [
              "'Mozilla/5.0 (Macintosh; Intel Mac OS X 10_15_7) AppleWebKit/537.36 (KHTML, like Gecko) Chrome/116.0.0.0 Safari/537.36'"
            ],
            "application/vnd.google.colaboratory.intrinsic+json": {
              "type": "string"
            }
          },
          "metadata": {},
          "execution_count": 11
        }
      ]
    },
    {
      "cell_type": "code",
      "execution_count": 12,
      "metadata": {
        "colab": {
          "base_uri": "https://localhost:8080/",
          "height": 36
        },
        "id": "p6k_rhytFugZ",
        "outputId": "6f8051b7-c78b-45bb-f5ad-6586cb59c6db"
      },
      "outputs": [
        {
          "output_type": "execute_result",
          "data": {
            "text/plain": [
              "'Mozilla/5.0 (Macintosh; Intel Mac OS X 10_15_7) AppleWebKit/605.1.15 (KHTML, like Gecko) Version/16.5 Safari/605.1.15'"
            ],
            "application/vnd.google.colaboratory.intrinsic+json": {
              "type": "string"
            }
          },
          "metadata": {},
          "execution_count": 12
        }
      ],
      "source": [
        "UserAgent().safari"
      ]
    },
    {
      "cell_type": "code",
      "execution_count": 13,
      "metadata": {
        "colab": {
          "base_uri": "https://localhost:8080/"
        },
        "id": "a_N4v7k_FugZ",
        "outputId": "2310b098-53d3-45eb-865f-3db6eab27ecf"
      },
      "outputs": [
        {
          "output_type": "execute_result",
          "data": {
            "text/plain": [
              "<Response [200]>"
            ]
          },
          "metadata": {},
          "execution_count": 13
        }
      ],
      "source": [
        "response = requests.get(page_link, headers={'User-Agent': UserAgent().chrome})\n",
        "response"
      ]
    },
    {
      "cell_type": "code",
      "source": [
        "type(response)"
      ],
      "metadata": {
        "colab": {
          "base_uri": "https://localhost:8080/"
        },
        "id": "Hzy4Ofd4rwYZ",
        "outputId": "130fb3ee-9634-40af-9b97-7304dd53912f"
      },
      "execution_count": 14,
      "outputs": [
        {
          "output_type": "execute_result",
          "data": {
            "text/plain": [
              "requests.models.Response"
            ]
          },
          "metadata": {},
          "execution_count": 14
        }
      ]
    },
    {
      "cell_type": "markdown",
      "metadata": {
        "id": "Stgq18QcFuga"
      },
      "source": [
        "Замечательно, наша небольшая маскировка сработала и обманутый сервер покорно выдал благословенный 200 ответ — соединение установлено и данные получены, всё чудесно! Посмотрим, что же все-таки мы получили."
      ]
    },
    {
      "cell_type": "code",
      "execution_count": 15,
      "metadata": {
        "id": "7CzC1F1rFuga"
      },
      "outputs": [],
      "source": [
        "html = response.content"
      ]
    },
    {
      "cell_type": "code",
      "execution_count": 16,
      "metadata": {
        "colab": {
          "base_uri": "https://localhost:8080/"
        },
        "id": "lC27vW4oFuga",
        "outputId": "dd51b3fe-de72-4c32-fbd2-6aac04954243"
      },
      "outputs": [
        {
          "output_type": "execute_result",
          "data": {
            "text/plain": [
              "b\"<!DOCTYPE html>\\n<html xmlns:fb='https://www.facebook.com/2008/fbml' xmlns='https://www.w3.org/1999/xhtml'>\\n<head>\\n<meta content='width=1060' name='viewport'>\\n<meta content='text/html; charset=utf-8' http-equiv='Content-Type'>\\n\\n<meta property='og:title' content='All Entries' />\\n<meta property='og:site_name' content='Know Your Meme' />\\n<meta property='og:image' content='https://a.kym-cdn.com/assets/kym-logo-large-2be3f3818691470a0369e154647ca0f0.png' />\\n<meta property='og:type' content='article' />\\n<meta property='fb:app_id' content='104675392961482' />\\n<meta property='fb:pages' content='88519108736' />\\n<meta property='article:publisher' content='https://www.facebook.com/knowyourmeme' />\\n<meta name='twitter:card' content='summary_large_image' />\\n<meta name='twitter:site' content='@knowyourmeme' />\\n<meta name='twitter:creator' content='@knowyourmeme' />\\n<meta name='twitter:title' content='All Entries' />\\n<meta name='twitter:description' content='Know Your Meme | Our confirmed section feat\""
            ]
          },
          "metadata": {},
          "execution_count": 16
        }
      ],
      "source": [
        "html[:1000]"
      ]
    },
    {
      "cell_type": "code",
      "execution_count": 17,
      "metadata": {
        "colab": {
          "base_uri": "https://localhost:8080/"
        },
        "id": "AY0nhvoTFugb",
        "outputId": "e648ca4c-ed9e-449c-e55e-76af6893c63b"
      },
      "outputs": [
        {
          "output_type": "execute_result",
          "data": {
            "text/plain": [
              "b' href=\"https://knowyourmeme.com/terms-of-service\" rel=\"nofollow\" target=\"_blank\">terms of use</a> and <a href=\"https://knowyourmeme.com/privacy\" rel=\"nofollow\" target=\"_blank\">privacy policy</a> and <a href=\"https://knowyourmeme.com/dmca\" rel=\"nofollow\" target=\"_blank\">DMCA policy</a>. <br> &copy; 2007-2023 <a href=\"https://literally.media\" target=\"_blank\">Literally Media Ltd.</a> </p> </div> </div>\\n<div class=\\'hide\\'> <div id=\\'login_signup_form\\'> <h3>Hi! You must login or signup first!</h3> <table> <tr> <td class=\\'login\\'> <h6>Already a memeber?</h6> <p><a href=\"https://knowyourmeme.com/login\" class=\"large red button\" rel=\"nofollow\">Login Now!</a></p> </td> <td class=\\'signup\\'> <h6>Don\\'t have an account?</h6> <p><a href=\"https://knowyourmeme.com/signup\" class=\"large red button\" rel=\"nofollow\">Sign up Now!</a></p> </td> </tr> </table> </div> </div> <div class=\\'hide\\' data-sections=\\'Entry Galleries\\' id=\\'chartbeat-sections\\'></div>\\n<div data-group=\"control\" id=\"split-test\" />\\n</body>\\n</html>\\n'"
            ]
          },
          "metadata": {},
          "execution_count": 17
        }
      ],
      "source": [
        "html[-1000:]"
      ]
    },
    {
      "cell_type": "code",
      "execution_count": 18,
      "metadata": {
        "colab": {
          "base_uri": "https://localhost:8080/"
        },
        "id": "giRv1imoFugb",
        "outputId": "b975a495-b766-465f-8300-853de645dabc"
      },
      "outputs": [
        {
          "output_type": "execute_result",
          "data": {
            "text/plain": [
              "46451"
            ]
          },
          "metadata": {},
          "execution_count": 18
        }
      ],
      "source": [
        "len(html)"
      ]
    },
    {
      "cell_type": "code",
      "execution_count": 19,
      "metadata": {
        "colab": {
          "base_uri": "https://localhost:8080/"
        },
        "id": "u2fvAtRhFugb",
        "outputId": "eb7af083-01f7-4b41-8b5d-e914232d1859"
      },
      "outputs": [
        {
          "output_type": "execute_result",
          "data": {
            "text/plain": [
              "bytes"
            ]
          },
          "metadata": {},
          "execution_count": 19
        }
      ],
      "source": [
        "type(html)"
      ]
    },
    {
      "cell_type": "markdown",
      "metadata": {
        "id": "x3nssAXqFugb"
      },
      "source": [
        "# Выглядит неудобоваримо, как насчет сварить из этого дела что-то покрасивее? Например, красивый суп."
      ]
    },
    {
      "cell_type": "markdown",
      "metadata": {
        "id": "PdL3hXi2Fugc"
      },
      "source": [
        "## 1.4. Красивый суп\n",
        "\n",
        "\n",
        "\n",
        "Пакет **[bs4 , a.k.a BeautifulSoup](https://www.crummy.com/software/BeautifulSoup/)** (тут есть гиперссылка на лучшего друга человека — документацию) был назван в честь стишка про красивый суп из Алисы в стране чудес.\n",
        "\n",
        "Красивый суп — это совершенно волшебная библиотека, которая из сырого и необработанного HTML кода страницы выдаст вам структурированный массив данных, по которому очень удобно искать необходимые теги, классы, атрибуты, тексты и прочие элементы веб страниц.\n",
        "\n",
        "> Пакет под названием `BeautifulSoup` — скорее всего, не то, что нам нужно. Это третья версия (*Beautiful Soup 3*), а мы будем использовать четвертую. Нужно будет установить пакет `beautifulsoup4`. Чтобы было совсем весело, при импорте нужно указывать другое название пакета — `bs4`, а импортировать функцию под названием `BeautifulSoup`. В общем, сначала легко запутаться, но эти трудности нужно преодолеть.\n",
        "\n",
        "С необработанным XML кодом страницы пакет также работает (XML — это исковерканый и превращённый в диалект, с помощью своих команд, HTML). Для того, чтобы пакет корректно работал с XML разметкой, придётся в довесок ко всему нашему арсеналу установить пакет `xml`."
      ]
    },
    {
      "cell_type": "code",
      "execution_count": 20,
      "metadata": {
        "id": "r3iHCGdPFugc"
      },
      "outputs": [],
      "source": [
        "from bs4 import BeautifulSoup"
      ]
    },
    {
      "cell_type": "markdown",
      "metadata": {
        "id": "m1Q5epfiFugc"
      },
      "source": [
        "Передадим функции `BeautifulSoup` текст веб-страницы, которую мы недавно получили."
      ]
    },
    {
      "cell_type": "code",
      "execution_count": 21,
      "metadata": {
        "id": "98tY_xT1Fugc"
      },
      "outputs": [],
      "source": [
        "soup = BeautifulSoup(html, 'html.parser') # В опции также можно указать lxml,\n",
        "                                         # если предварительно установить одноименный пакет"
      ]
    },
    {
      "cell_type": "code",
      "execution_count": 22,
      "metadata": {
        "colab": {
          "base_uri": "https://localhost:8080/"
        },
        "id": "HK5l0uasFugd",
        "outputId": "f5743600-0681-4ece-f007-bee8d1297398"
      },
      "outputs": [
        {
          "output_type": "execute_result",
          "data": {
            "text/plain": [
              "bs4.BeautifulSoup"
            ]
          },
          "metadata": {},
          "execution_count": 22
        }
      ],
      "source": [
        "type(soup)"
      ]
    },
    {
      "cell_type": "code",
      "execution_count": 23,
      "metadata": {
        "colab": {
          "base_uri": "https://localhost:8080/"
        },
        "id": "iytVf49JFugd",
        "outputId": "dd85334c-0a42-4322-ab9f-a2b652f1892b"
      },
      "outputs": [
        {
          "output_type": "stream",
          "name": "stdout",
          "text": [
            "<!DOCTYPE html>\n",
            "<html xmlns=\"https://www.w3.org/1999/xhtml\" xmlns:fb=\"https://www.facebook.com/2008/fbml\">\n",
            " <head>\n",
            "  <meta content=\"width=1060\" name=\"viewport\"/>\n",
            "  <meta content=\"text/html; charset=utf-8\" http-equiv=\"Content-Type\"/>\n",
            "  <meta content=\"All Entries\" property=\"og:title\">\n",
            "   <meta content=\"Know Your Meme\" property=\"og:site_name\">\n",
            "    <meta content=\"https://a.kym-cdn.com/assets/kym-logo-large-2be3f3818691470a0369e154647ca0f0.png\" property=\"og:image\"/>\n",
            "    <meta content=\"article\" property=\"og:type\"/>\n",
            "    <meta content=\"104675392961482\" property=\"fb:app_id\"/>\n",
            "    <meta content=\"88519108736\" property=\"fb:pages\"/>\n",
            "    <meta content=\"https://www.facebook.com/knowyourmeme\" property=\"article:publisher\"/>\n",
            "    <meta content=\"summary_large_image\" name=\"twitter:card\"/>\n",
            "    <meta content=\"@knowyourmeme\" name=\"twitter:site\"/>\n",
            "    <meta content=\"@knowyourmeme\" name=\"twitter:creator\"/>\n",
            "    <meta content=\"All Entries\" name=\"twitter:title\"/>\n",
            "    <meta content=\"Know Your Meme | Our confirmed section features over 1,000 entries on a wide range of Internet-related topics carefully researched and verified by the research staff.\" name=\"twitter:description\"/>\n",
            "    <meta content=\"https://a.kym-cdn.com/assets/kym-logo-large-2be3f3818691470a0369e154647ca0f0.png\" name=\"twitter:image\"/>\n",
            "    <meta content=\"Know Your Meme | Our confirmed section features over 1,000 entries on a wide range of Internet-related topics carefully researched and verified by the research staff.\" name=\"description\"/>\n",
            "    <meta content=\"https://knowyourmeme.com/memes/all/page/1\" property=\"og:url\"/>\n",
            "    <meta content=\"Know Your Meme | Our confirmed section features over 1,000 entries on a wide range of Internet-related topics carefully researched and verified by the research staff.\" property=\"og:description\"/>\n",
            "    <meta content=\"unsafe-url\" name=\"referrer\"/>\n",
            "    <meta content=\"max-image-preview:large\" name=\"robots\"/>\n",
            "    <link href=\"https://knowyourmeme.com/memes/all/page/1\" rel=\"canonical\"/>\n",
            "    <link href=\"http\n"
          ]
        }
      ],
      "source": [
        "print(soup.prettify()[:2000])"
      ]
    },
    {
      "cell_type": "markdown",
      "metadata": {
        "id": "Mq5XZ8V_Fugd"
      },
      "source": [
        "Получим что-то вот такое:\n",
        "    \n",
        "```\n",
        "<!DOCTYPE html>\n",
        "\n",
        "<html xmlns=\"http://www.w3.org/1999/xhtml\" xmlns:fb=\"http://www.facebook.com/2008/fbml\">\n",
        "<head>\n",
        "<meta content=\"text/html; charset=utf-8\" http-equiv=\"Content-Type\"/>\n",
        "<script type=\"text/javascript\">window.NREUM||(NREUM={});NREUM.info={\"beacon\":\"bam.nr-data.net\",\"errorBeacon\":\"bam.nr-data.net\",\"licenseKey\":\"c1a6d52f38\",\"applicationID\":\"31165848\",\"transactionName\":\"dFdfRUpeWglTQB8GDUNKWFRLHkUNWUU=\",\"queueTime\":0,\"applicationTime\":24,\"agent\":\"\"}</script>\n",
        "<script type=\"text/javascript\">window.NREUM||(NREUM={}),__nr_require=function(e,n,t){function r(t){if(!n[t]){var o=n[t]={exports:{}};e[t][0].call(o.exports,function(n){var o=e[t][1][n];return r(o||n)},o,o.exports)}return n[t].exports}if(\"function\"==typeof __nr_require)return __nr_require;for(var o=0;o<t.length;o++)r(t[o]);return r}({1:[function(e,n,t){function r(){}function o(e,n,t){return function(){return i(e,[c.now()].concat(u(arguments)),n?null:this,t),n?void 0:this}}var i=e(\"handle\"),a=e(2),u=e(3),f=e(\"ee\").get(\"tracer\"),c=e(\"loader\"),s=NREUM;\"undefined\"==typeof window.newrelic&&(newrelic=s);var p=\n",
        "```\n",
        "\n",
        "Стало намного лучше, не правда ли? Что же лежит в переменной `soup`? Невнимательный пользователь, скорее всего, скажет,что ничего вообще не изменилось. Тем не менее, это не так. Теперь мы можем свободно бродить по HTML-дереву страницы, искать детей, родителей и вытаскивать их!\n",
        "\n",
        "Например, можно бродить по вершинам, указывая путь из тегов."
      ]
    },
    {
      "cell_type": "code",
      "execution_count": 24,
      "metadata": {
        "colab": {
          "base_uri": "https://localhost:8080/"
        },
        "id": "uNVZ0sjjFugd",
        "outputId": "6e0dccd0-1737-4e42-900d-f0a0afff509f"
      },
      "outputs": [
        {
          "output_type": "execute_result",
          "data": {
            "text/plain": [
              "<title>All Entries | Know Your Meme</title>"
            ]
          },
          "metadata": {},
          "execution_count": 24
        }
      ],
      "source": [
        "soup.html.head.title"
      ]
    },
    {
      "cell_type": "code",
      "execution_count": 25,
      "metadata": {
        "colab": {
          "base_uri": "https://localhost:8080/"
        },
        "id": "EfEDt9dVFugd",
        "outputId": "60eb8588-75b3-4074-a377-f529a2ffb0aa"
      },
      "outputs": [
        {
          "output_type": "execute_result",
          "data": {
            "text/plain": [
              "bs4.element.Tag"
            ]
          },
          "metadata": {},
          "execution_count": 25
        }
      ],
      "source": [
        "type(soup.html.head.title)"
      ]
    },
    {
      "cell_type": "markdown",
      "metadata": {
        "id": "KoR4X92NFuge"
      },
      "source": [
        "Можно вытащить из того места, куда мы забрели, текст с помощью метода `text`."
      ]
    },
    {
      "cell_type": "code",
      "execution_count": null,
      "metadata": {
        "scrolled": true,
        "colab": {
          "base_uri": "https://localhost:8080/",
          "height": 35
        },
        "id": "14svOurWFuge",
        "outputId": "ede68e7a-be07-46b8-b4da-23c09779365b"
      },
      "outputs": [
        {
          "output_type": "execute_result",
          "data": {
            "text/plain": [
              "'All Entries | Know Your Meme'"
            ],
            "application/vnd.google.colaboratory.intrinsic+json": {
              "type": "string"
            }
          },
          "metadata": {},
          "execution_count": 21
        }
      ],
      "source": [
        "soup.html.head.title.text"
      ]
    },
    {
      "cell_type": "code",
      "source": [
        "type(soup.html.head.title.text)"
      ],
      "metadata": {
        "colab": {
          "base_uri": "https://localhost:8080/"
        },
        "id": "Jx0A2KLFtJJk",
        "outputId": "20d84eff-158a-483f-c52e-3a8668786991"
      },
      "execution_count": null,
      "outputs": [
        {
          "output_type": "execute_result",
          "data": {
            "text/plain": [
              "str"
            ]
          },
          "metadata": {},
          "execution_count": 22
        }
      ]
    },
    {
      "cell_type": "markdown",
      "metadata": {
        "id": "5RHnScSLFuge"
      },
      "source": [
        "Более того, зная адрес элемента, мы сразу можем найти его. Например, можно сделать это по классу. Следующая команда должна найти элемент, который лежит внутри тега `a` и имеет класс `photo`."
      ]
    },
    {
      "cell_type": "code",
      "execution_count": null,
      "metadata": {
        "colab": {
          "base_uri": "https://localhost:8080/"
        },
        "id": "bKogk1QCFuge",
        "outputId": "e56d63a4-7a50-4c33-ba6f-53bcf5d0818e"
      },
      "outputs": [
        {
          "output_type": "execute_result",
          "data": {
            "text/plain": [
              "<a class=\"photo left\" href=\"https://knowyourmeme.com/memes/staring-fish-do-you-fart\" target=\"_self\"><img alt=\"Staring Fish Has A Question For You\" fetchpriority=\"low\" height=\"112\" src=\"https://i.kym-cdn.com/featured_items/icons/wide/000/022/349/cover1.jpg\" title=\"It's The Four Year Anniversary Of The Staring Fish, Who Asks A Very Important Question\" width=\"198\"/> <div class=\"info abs\"> <div class=\"c\"> It's The Four Year Anniversary Of The Staring Fish, Who Asks A Very Important Question </div> </div> </a>"
            ]
          },
          "metadata": {},
          "execution_count": 23
        }
      ],
      "source": [
        "obj = soup.find('a', attrs = {'class':'photo'})\n",
        "obj"
      ]
    },
    {
      "cell_type": "code",
      "execution_count": null,
      "metadata": {
        "colab": {
          "base_uri": "https://localhost:8080/"
        },
        "id": "9J95jG8gFuge",
        "outputId": "0921b556-4e78-4bec-be56-e59d64961da5"
      },
      "outputs": [
        {
          "output_type": "execute_result",
          "data": {
            "text/plain": [
              "['photo', 'left']"
            ]
          },
          "metadata": {},
          "execution_count": 24
        }
      ],
      "source": [
        "obj.get(\"class\")"
      ]
    },
    {
      "cell_type": "markdown",
      "metadata": {
        "id": "Kkkh8JNGFuge"
      },
      "source": [
        "Однако, вопреки нашим ожиданиям, вытащенный объект имеет класс `\"photo left\"`. Оказывается, `BeautifulSoup4` расценивает аттрибуты `class` как набор отдельных значений, поэтому `\"photo left\"` для библиотеки равносильно `[\"photo\", \"left\"]`, а указанное нами значение этого класса `\"photo\"` входит в этот список. Чтобы избежать такой неприятной ситуации и проходов по ненужным нам ссылкам, придется воспользоваться собственной функцией и задать строгое соответствие:"
      ]
    },
    {
      "cell_type": "code",
      "execution_count": null,
      "metadata": {
        "colab": {
          "base_uri": "https://localhost:8080/"
        },
        "id": "KGY09M4nFugf",
        "outputId": "c3b6c299-0d94-4a2e-b6b9-0e89db18fa58"
      },
      "outputs": [
        {
          "output_type": "execute_result",
          "data": {
            "text/plain": [
              "True"
            ]
          },
          "metadata": {},
          "execution_count": 25
        }
      ],
      "source": [
        "'photo' in ['photo', 'left']"
      ]
    },
    {
      "cell_type": "code",
      "execution_count": null,
      "metadata": {
        "colab": {
          "base_uri": "https://localhost:8080/"
        },
        "id": "vPIag13NFugf",
        "outputId": "3b3e6e9a-cb1a-426a-a51a-e8a3cdae00cc"
      },
      "outputs": [
        {
          "output_type": "execute_result",
          "data": {
            "text/plain": [
              "<a class=\"photo\" href=\"https://knowyourmeme.com/memes/glen-fatcock\"><img alt=\"Glen Fatcock\" data-src=\"https://i.kym-cdn.com/entries/icons/medium/000/047/666/83th02.png\" loading=\"lazy\" src=\"https://a.kym-cdn.com/assets/blank-b3f96f160b75b1b49b426754ba188fe8.gif\" title=\"Glen Fatcock\"/> <div class=\"entry-labels\"> <span class=\"label label-submission\"> Submission </span> </div> </a>"
            ]
          },
          "metadata": {},
          "execution_count": 26
        }
      ],
      "source": [
        "obj = soup.find(lambda tag: tag.name == 'a' and tag.get('class') == ['photo'])\n",
        "obj"
      ]
    },
    {
      "cell_type": "code",
      "execution_count": null,
      "metadata": {
        "colab": {
          "base_uri": "https://localhost:8080/"
        },
        "id": "5PLa79QRFugf",
        "outputId": "dc673dc9-bfd2-4aa5-8b3f-bfa02eb4a73a"
      },
      "outputs": [
        {
          "output_type": "execute_result",
          "data": {
            "text/plain": [
              "['photo']"
            ]
          },
          "metadata": {},
          "execution_count": 27
        }
      ],
      "source": [
        "obj.get(\"class\")"
      ]
    },
    {
      "cell_type": "code",
      "execution_count": null,
      "metadata": {
        "colab": {
          "base_uri": "https://localhost:8080/"
        },
        "id": "p5BAc0fEFugf",
        "outputId": "751e5b66-4677-4176-8519-0fbfcd83737c"
      },
      "outputs": [
        {
          "output_type": "execute_result",
          "data": {
            "text/plain": [
              "<a class=\"photo\" href=\"https://knowyourmeme.com/memes/glen-fatcock\"><img alt=\"Glen Fatcock\" data-src=\"https://i.kym-cdn.com/entries/icons/medium/000/047/666/83th02.png\" loading=\"lazy\" src=\"https://a.kym-cdn.com/assets/blank-b3f96f160b75b1b49b426754ba188fe8.gif\" title=\"Glen Fatcock\"/> <div class=\"entry-labels\"> <span class=\"label label-submission\"> Submission </span> </div> </a>"
            ]
          },
          "metadata": {},
          "execution_count": 28
        }
      ],
      "source": [
        "obj"
      ]
    },
    {
      "cell_type": "markdown",
      "metadata": {
        "id": "rXsWLWTmFugf"
      },
      "source": [
        "Полученный после поиска объект также обладает структурой bs4. Поэтому можно продолжить искать нужные нам объекты уже в нём! Вытащим ссылку на этот мем. Сделать это можно по атрибуту `href`, в котором лежит наша ссылка."
      ]
    },
    {
      "cell_type": "code",
      "execution_count": null,
      "metadata": {
        "colab": {
          "base_uri": "https://localhost:8080/",
          "height": 35
        },
        "id": "ADWulcegFugg",
        "outputId": "fb65d646-ea5c-4e19-f4db-58b78d545a9b"
      },
      "outputs": [
        {
          "output_type": "execute_result",
          "data": {
            "text/plain": [
              "'https://knowyourmeme.com/memes/glen-fatcock'"
            ],
            "application/vnd.google.colaboratory.intrinsic+json": {
              "type": "string"
            }
          },
          "metadata": {},
          "execution_count": 29
        }
      ],
      "source": [
        "obj.attrs['href']"
      ]
    },
    {
      "cell_type": "markdown",
      "metadata": {
        "id": "iB43fXxDFugg"
      },
      "source": [
        "Обратите внимание, что после всех этих безумных преобразований у данных поменялся тип. Теперь они `str`. Это означет, что с ними можно работать как с текстом и пускать в ход для отсеивания лишней информации регулярные выражения."
      ]
    },
    {
      "cell_type": "code",
      "execution_count": null,
      "metadata": {
        "colab": {
          "base_uri": "https://localhost:8080/"
        },
        "id": "5-0EDpR_Fugg",
        "outputId": "6205ebb3-22a1-4310-dc57-bb42fccc72ad"
      },
      "outputs": [
        {
          "output_type": "stream",
          "name": "stdout",
          "text": [
            "Тип данных до вытаскивания ссылки: <class 'bs4.element.Tag'>\n",
            "Тип данных после вытаскивания ссылки: <class 'str'>\n"
          ]
        }
      ],
      "source": [
        "print(\"Тип данных до вытаскивания ссылки:\", type(obj))\n",
        "print(\"Тип данных после вытаскивания ссылки:\", type(obj.attrs['href']))"
      ]
    },
    {
      "cell_type": "markdown",
      "metadata": {
        "id": "jr_4IjurFugg"
      },
      "source": [
        "Если несколько элементов на странице обладают указанным адресом, то метод `find` вернёт только самый первый.  Чтобы найти все элементы с таким адресом, нужно использовать метод `findAll`, и на выход будет выдан список. Таким образом, мы можем получить одним поиском сразу все объекты, содержащие ссылки на страницы с мемами."
      ]
    },
    {
      "cell_type": "code",
      "execution_count": null,
      "metadata": {
        "colab": {
          "base_uri": "https://localhost:8080/"
        },
        "id": "Hq8RXn5cFugg",
        "outputId": "1d56727f-3804-40da-e138-3d7434ed61e6"
      },
      "outputs": [
        {
          "output_type": "execute_result",
          "data": {
            "text/plain": [
              "[<a class=\"photo\" href=\"https://knowyourmeme.com/memes/glen-fatcock\"><img alt=\"Glen Fatcock\" data-src=\"https://i.kym-cdn.com/entries/icons/medium/000/047/666/83th02.png\" loading=\"lazy\" src=\"https://a.kym-cdn.com/assets/blank-b3f96f160b75b1b49b426754ba188fe8.gif\" title=\"Glen Fatcock\"/> <div class=\"entry-labels\"> <span class=\"label label-submission\"> Submission </span> </div> </a>,\n",
              " <a class=\"photo\" href=\"https://knowyourmeme.com/memes/events/senate-hearing-room-gay-porn-incident\"><img alt=\"Senate Hearing Room Gay Porn Incident\" data-src=\"https://i.kym-cdn.com/entries/icons/medium/000/047/665/Screenshot_50.jpg\" loading=\"lazy\" src=\"https://a.kym-cdn.com/assets/blank-b3f96f160b75b1b49b426754ba188fe8.gif\" title=\"Senate Hearing Room Gay Porn Incident\"/> <div class=\"entry-labels\"> <span class=\"label label-submission\"> Submission </span> <span class=\"label\" style=\"background: #0b6a40; color: white;\">Event</span> <span class=\"label label-nsfw\"> NSFW </span> </div> </a>,\n",
              " <a class=\"photo\" href=\"https://knowyourmeme.com/memes/maryam-moshiri-doing-the-middle-finger\"><img alt=\"Maryam Moshiri Doing The Middle Finger\" data-src=\"https://i.kym-cdn.com/entries/icons/medium/000/047/663/Screenshot_20231216_005359_X.jpg\" loading=\"lazy\" src=\"https://a.kym-cdn.com/assets/blank-b3f96f160b75b1b49b426754ba188fe8.gif\" title=\"Maryam Moshiri Doing The Middle Finger\"/> <div class=\"entry-labels\"> <span class=\"label label-submission\"> Submission </span> </div> </a>]"
            ]
          },
          "metadata": {},
          "execution_count": 31
        }
      ],
      "source": [
        "meme_links = soup.findAll(lambda tag: tag.name == 'a' and tag.get('class') == ['photo'])\n",
        "meme_links[:3]"
      ]
    },
    {
      "cell_type": "code",
      "execution_count": null,
      "metadata": {
        "colab": {
          "base_uri": "https://localhost:8080/"
        },
        "id": "-wZ2TuUeFugg",
        "outputId": "a42ffe13-137a-47ba-dd60-d21ee6a914d8"
      },
      "outputs": [
        {
          "output_type": "execute_result",
          "data": {
            "text/plain": [
              "16"
            ]
          },
          "metadata": {},
          "execution_count": 32
        }
      ],
      "source": [
        "len(meme_links)"
      ]
    },
    {
      "cell_type": "markdown",
      "metadata": {
        "id": "MAJ9yyQxFugh"
      },
      "source": [
        "Осталось очистить полученный список от мусора:"
      ]
    },
    {
      "cell_type": "code",
      "execution_count": null,
      "metadata": {
        "id": "xVeWPcC2Fugh"
      },
      "outputs": [],
      "source": [
        "meme_links = [link.attrs['href'] for link in meme_links]"
      ]
    },
    {
      "cell_type": "code",
      "execution_count": null,
      "metadata": {
        "colab": {
          "base_uri": "https://localhost:8080/"
        },
        "id": "R9_2SeUuFugh",
        "outputId": "79c4a798-3e24-4523-c6bf-381280432784"
      },
      "outputs": [
        {
          "output_type": "execute_result",
          "data": {
            "text/plain": [
              "['https://knowyourmeme.com/memes/glen-fatcock',\n",
              " 'https://knowyourmeme.com/memes/events/senate-hearing-room-gay-porn-incident',\n",
              " 'https://knowyourmeme.com/memes/maryam-moshiri-doing-the-middle-finger',\n",
              " 'https://knowyourmeme.com/memes/aubrey-plaza-eye-contact-happiest-season',\n",
              " 'https://knowyourmeme.com/memes/the-hand-that-is-always-slightly-faster-than-you',\n",
              " 'https://knowyourmeme.com/memes/events/gavle-goat',\n",
              " 'https://knowyourmeme.com/memes/gen-alpha-kids-cant-read',\n",
              " 'https://knowyourmeme.com/memes/nba-quote-cards',\n",
              " 'https://knowyourmeme.com/memes/lethal-company-hero-give-him-back-hes-mine',\n",
              " 'https://knowyourmeme.com/memes/people/beavo']"
            ]
          },
          "metadata": {},
          "execution_count": 34
        }
      ],
      "source": [
        "meme_links[:10]"
      ]
    },
    {
      "cell_type": "code",
      "execution_count": null,
      "metadata": {
        "colab": {
          "base_uri": "https://localhost:8080/"
        },
        "id": "_P5kFv5FFugh",
        "outputId": "350813da-5162-4316-97ad-2b2c3f70a4a1"
      },
      "outputs": [
        {
          "output_type": "execute_result",
          "data": {
            "text/plain": [
              "16"
            ]
          },
          "metadata": {},
          "execution_count": 35
        }
      ],
      "source": [
        "len(meme_links)"
      ]
    },
    {
      "cell_type": "markdown",
      "metadata": {
        "id": "rL-MDp53Fugh"
      },
      "source": [
        "Готово, получили чуть менее 20 по числу мемов на одной странице поиска.\n",
        "\n",
        "\n",
        "Остался последний момент. Когда мы скачаем все мемы с текущей страницы, нам нужно будет каким-то образом забраться на соседнюю. На сайте это можно делать просто пролистывая страницу с мемами вниз, javascript-функции подтянут новые мемы на текущее окно, но сейчас трогать эти функции не хочется.\n",
        "\n",
        "Обычно, все параметры, которые мы устанавливаем на сайте для поиска, отображаются на структуре хрефа. Мемы не являются исключением. Если мы хотим получить первую порцию мемов, мы должны будем обратиться к сайту по ссылке\n",
        "\n",
        "                `http://knowyourmeme.com/memes/all/page/1`\n",
        "\n",
        "\n",
        "Если мы захотим получить вторую поцию с шестнадцатью мемами, нам придётся немного видоизменить ссылку, а именно заменить номер страницы на 2.\n",
        "\n",
        "\n",
        "                `http://knowyourmeme.com/memes/all/page/2`\n",
        "\n",
        "Таким незатейливым образом мы сможем пройтись по всем страницам и ограбить мемохранилище.\n",
        "\n",
        "Наконец, обернем в красивую функцию все-все манипуляции, проделанные выше:"
      ]
    },
    {
      "cell_type": "code",
      "execution_count": null,
      "metadata": {
        "code_folding": [],
        "id": "iwKbhgBuFugh"
      },
      "outputs": [],
      "source": [
        "def getPageLinks(page_number):\n",
        "    \"\"\"\n",
        "        Возвращает список ссылок на мемы, полученный с текущей страницы\n",
        "\n",
        "        page_number: int/string\n",
        "            номер страницы для парсинга\n",
        "\n",
        "    \"\"\"\n",
        "    # составляем ссылку на страницу поиска\n",
        "    page_link = 'http://knowyourmeme.com/memes/all/page/{}'.format(page_number)\n",
        "\n",
        "    # запрашиваем данные по ней\n",
        "    response = requests.get(page_link, headers={'User-Agent': UserAgent().chrome})\n",
        "\n",
        "    if not response.ok:\n",
        "        # если сервер нам отказал, вернем пустой лист для текущей страницы\n",
        "        return []\n",
        "\n",
        "    # получаем содержимое страницы и переводим в суп\n",
        "    html = response.content\n",
        "    soup = BeautifulSoup(html,'html.parser')\n",
        "\n",
        "    # наконец, ищем ссылки на мемы и очищаем их от ненужных тэгов\n",
        "    meme_links = soup.findAll(lambda tag: tag.name == 'a' and tag.get('class') == ['photo'])\n",
        "    meme_links = ['http://knowyourmeme.com' + link.attrs['href'] for link in meme_links]\n",
        "\n",
        "    return meme_links"
      ]
    },
    {
      "cell_type": "markdown",
      "metadata": {
        "id": "tapV9bsDFugi"
      },
      "source": [
        "Протестируем функцию и убедимся, что всё хорошо"
      ]
    },
    {
      "cell_type": "code",
      "execution_count": null,
      "metadata": {
        "colab": {
          "base_uri": "https://localhost:8080/"
        },
        "id": "LQ3QNzNJFugi",
        "outputId": "000ac4fa-2164-4f61-f17f-40639fa74453"
      },
      "outputs": [
        {
          "output_type": "execute_result",
          "data": {
            "text/plain": [
              "['http://knowyourmeme.comhttps://knowyourmeme.com/memes/glen-fatcock',\n",
              " 'http://knowyourmeme.comhttps://knowyourmeme.com/memes/events/senate-hearing-room-gay-porn-incident']"
            ]
          },
          "metadata": {},
          "execution_count": 37
        }
      ],
      "source": [
        "meme_links = getPageLinks(1)\n",
        "meme_links[:2]"
      ]
    },
    {
      "cell_type": "code",
      "execution_count": null,
      "metadata": {
        "colab": {
          "base_uri": "https://localhost:8080/"
        },
        "id": "q3QfW4_VFugi",
        "outputId": "1d7afff4-d623-4f41-d6ff-bf585f5c8008"
      },
      "outputs": [
        {
          "output_type": "execute_result",
          "data": {
            "text/plain": [
              "['http://knowyourmeme.comhttps://knowyourmeme.com/memes/master-debater',\n",
              " 'http://knowyourmeme.comhttps://knowyourmeme.com/memes/my-hot-witch-wife']"
            ]
          },
          "metadata": {},
          "execution_count": 38
        }
      ],
      "source": [
        "meme_links = getPageLinks(2)\n",
        "meme_links[:2]"
      ]
    },
    {
      "cell_type": "markdown",
      "metadata": {
        "id": "KlqMT1cOFugi"
      },
      "source": [
        "Отлично, функция работает и теперь мы теоретически можем достать ссылки на все мемы, для чего нам придется пройтись по 2000+ страниц. Прежде чем расстраивать сервер таким количеством запросов, посмотрим, как доставать всю необходимую информацию о конкретном меме."
      ]
    },
    {
      "cell_type": "markdown",
      "metadata": {
        "id": "YYjuK9I-Fugj"
      },
      "source": [
        "## 1.5 Финальная подготовка к грабежу\n",
        "\n",
        "По аналогии со ссылками можно вытащить что угодно. Для этого надо сделать несколько шагов:\n",
        "\n",
        "1. Открываем страничку с мемом\n",
        "2. Находим любым способом тег для нужной нам информации\n",
        "3. Пихаем всё это в красивый суп\n",
        "4. ......\n",
        "5. Profit\n",
        "\n",
        "Для закрепления информации в голове любознательного читателя, вытащим число просмотров мема.\n",
        "\n",
        "А в качестве примера возьмем самый популярный на этом сайте мем - Doge, набравший более 14 миллионов просмотров к 2023 году.\n",
        "\n",
        "Сама страница, с которой мы будем доставать дорогую нашему исследовательскому сердцу информацию выглядит следуюшим образом:\n",
        "\n",
        "\n",
        "\n",
        "Как и прежде, для начала сохраним ссылку на страницу в переменную и вытащим по ней контент."
      ]
    },
    {
      "cell_type": "code",
      "source": [
        "meme_page = 'http://knowyourmeme.com/memes/doge'\n",
        "meme_page"
      ],
      "metadata": {
        "colab": {
          "base_uri": "https://localhost:8080/",
          "height": 35
        },
        "id": "-2UDRrZWxGE4",
        "outputId": "b1b100ab-2ef1-453a-f816-a6f978cb846e"
      },
      "execution_count": null,
      "outputs": [
        {
          "output_type": "execute_result",
          "data": {
            "text/plain": [
              "'http://knowyourmeme.com/memes/doge'"
            ],
            "application/vnd.google.colaboratory.intrinsic+json": {
              "type": "string"
            }
          },
          "metadata": {},
          "execution_count": 39
        }
      ]
    },
    {
      "cell_type": "code",
      "execution_count": null,
      "metadata": {
        "id": "zOuKDQXzFugj"
      },
      "outputs": [],
      "source": [
        "meme_page = 'http://knowyourmeme.com/memes/doge'\n",
        "\n",
        "response = requests.get(meme_page, headers={'User-Agent': UserAgent().chrome})\n",
        "\n",
        "html = response.content\n",
        "soup = BeautifulSoup(html,'html.parser')"
      ]
    },
    {
      "cell_type": "markdown",
      "metadata": {
        "id": "uZiSTmkeFugj"
      },
      "source": [
        "Посмотрим, как можно вытащить статистику просмотров, комментариев, а также числа загруженных видео и фото, связанных с нашим мемов. Всё это добро хранится справа вверху под тэгами `\"dd\"` и с классами  `\"views\"`, `\"videos\"`, `\"photos\"` и `\"comments\"`"
      ]
    },
    {
      "cell_type": "code",
      "execution_count": null,
      "metadata": {
        "colab": {
          "base_uri": "https://localhost:8080/"
        },
        "id": "EElJ6Qh-Fugj",
        "outputId": "639a3a82-1be0-4706-ee51-68c4ae9e747a"
      },
      "outputs": [
        {
          "output_type": "execute_result",
          "data": {
            "text/plain": [
              "<dd class=\"views\" title=\"14,109,395 Views\">\n",
              "<a href=\"/memes/doge\" rel=\"nofollow\">14,109,395</a>\n",
              "</dd>"
            ]
          },
          "metadata": {},
          "execution_count": 41
        }
      ],
      "source": [
        "views = soup.find(attrs={'class':'views'})\n",
        "views"
      ]
    },
    {
      "cell_type": "code",
      "execution_count": null,
      "metadata": {
        "colab": {
          "base_uri": "https://localhost:8080/"
        },
        "id": "grO3KfulFugj",
        "outputId": "c66ec701-1937-40b5-ff1e-d199c1ac800c"
      },
      "outputs": [
        {
          "output_type": "execute_result",
          "data": {
            "text/plain": [
              "bs4.element.Tag"
            ]
          },
          "metadata": {},
          "execution_count": 42
        }
      ],
      "source": [
        "type(views)"
      ]
    },
    {
      "cell_type": "code",
      "execution_count": null,
      "metadata": {
        "colab": {
          "base_uri": "https://localhost:8080/"
        },
        "id": "nIUpGs5WFugj",
        "outputId": "9878e3a2-b230-4536-d0a2-d5ef141f1a00"
      },
      "outputs": [
        {
          "output_type": "execute_result",
          "data": {
            "text/plain": [
              "str"
            ]
          },
          "metadata": {},
          "execution_count": 43
        }
      ],
      "source": [
        "views = views.get(\"title\")\n",
        "type(views)"
      ]
    },
    {
      "cell_type": "code",
      "source": [
        "views"
      ],
      "metadata": {
        "colab": {
          "base_uri": "https://localhost:8080/",
          "height": 35
        },
        "id": "E5WT3Pwm_7ej",
        "outputId": "a6291375-138f-4586-e14e-90dff48caff2"
      },
      "execution_count": null,
      "outputs": [
        {
          "output_type": "execute_result",
          "data": {
            "text/plain": [
              "'14,109,395 Views'"
            ],
            "application/vnd.google.colaboratory.intrinsic+json": {
              "type": "string"
            }
          },
          "metadata": {},
          "execution_count": 44
        }
      ]
    },
    {
      "cell_type": "code",
      "execution_count": null,
      "metadata": {
        "colab": {
          "base_uri": "https://localhost:8080/"
        },
        "id": "rgqmnrWPFugk",
        "outputId": "3bf46519-7716-46e1-cee2-5936affd082b"
      },
      "outputs": [
        {
          "output_type": "execute_result",
          "data": {
            "text/plain": [
              "['14,109,395', 'Views']"
            ]
          },
          "metadata": {},
          "execution_count": 45
        }
      ],
      "source": [
        "views.split()"
      ]
    },
    {
      "cell_type": "code",
      "execution_count": null,
      "metadata": {
        "colab": {
          "base_uri": "https://localhost:8080/",
          "height": 35
        },
        "id": "NbcAbXwmFugk",
        "outputId": "05e3ad39-73b5-498b-bd47-364b3f316ab2"
      },
      "outputs": [
        {
          "output_type": "execute_result",
          "data": {
            "text/plain": [
              "'14,109,395'"
            ],
            "application/vnd.google.colaboratory.intrinsic+json": {
              "type": "string"
            }
          },
          "metadata": {},
          "execution_count": 46
        }
      ],
      "source": [
        "views = views.split()[0]\n",
        "views"
      ]
    },
    {
      "cell_type": "code",
      "execution_count": null,
      "metadata": {
        "colab": {
          "base_uri": "https://localhost:8080/"
        },
        "id": "wq2LFwaTFugk",
        "outputId": "91255bba-47fe-48bd-d765-0750145553b7"
      },
      "outputs": [
        {
          "output_type": "execute_result",
          "data": {
            "text/plain": [
              "14109395"
            ]
          },
          "metadata": {},
          "execution_count": 47
        }
      ],
      "source": [
        "views = int(views.replace(',', ''))\n",
        "views"
      ]
    },
    {
      "cell_type": "markdown",
      "metadata": {
        "id": "K07DBjbhFugk"
      },
      "source": [
        "Снова запихнём всё это в небольшую функцию."
      ]
    },
    {
      "cell_type": "code",
      "execution_count": null,
      "metadata": {
        "code_folding": [],
        "id": "9-oozJZ_Fugk"
      },
      "outputs": [],
      "source": [
        "def getStats(soup, stats):\n",
        "    \"\"\"\n",
        "        Возвращает очищенное число просмотров/коментариев/...\n",
        "\n",
        "        soup: объект bs4.BeautifulSoup\n",
        "            суп текущей страницы\n",
        "\n",
        "        stats: string\n",
        "            views/videos/photos/comments\n",
        "\n",
        "    \"\"\"\n",
        "    try:\n",
        "        obj = soup.find(attrs={'class':stats})\n",
        "        obj = obj.get(\"title\")\n",
        "        obj = obj.split()[0]\n",
        "        obj = int(obj.replace(',', ''))\n",
        "    except:\n",
        "        obj=None\n",
        "\n",
        "    return obj"
      ]
    },
    {
      "cell_type": "markdown",
      "metadata": {
        "id": "AEzpeek6Fugk"
      },
      "source": [
        "Всё готово!"
      ]
    },
    {
      "cell_type": "code",
      "execution_count": null,
      "metadata": {
        "colab": {
          "base_uri": "https://localhost:8080/"
        },
        "id": "KuwKRqxKFugl",
        "outputId": "39694b13-2ecb-431f-f73e-7d2d7dbb01b9"
      },
      "outputs": [
        {
          "output_type": "stream",
          "name": "stdout",
          "text": [
            "Просмотры: 14109395\n",
            "Видео: 105\n",
            "Фото: 1795\n",
            "Комментарии: 923\n"
          ]
        }
      ],
      "source": [
        "views = getStats(soup, stats='views')\n",
        "videos = getStats(soup, stats='videos')\n",
        "photos = getStats(soup, stats='photos')\n",
        "comments = getStats(soup, stats='comments')\n",
        "\n",
        "print(\"Просмотры: {}\\nВидео: {}\\nФото: {}\\nКомментарии: {}\".format(views, videos, photos, comments))"
      ]
    },
    {
      "cell_type": "markdown",
      "metadata": {
        "id": "YmbdyVmzFugl"
      },
      "source": [
        "Еще из интересного и исследовательского —  достанем дату и время добавления мема. Если посмотреть на страницу в браузере, можно подумать, что максимум информации, который мы можем вытащить - это число лет, прошедших с момента публикации —  `Added 9 years ago by NovaXP`. Однако мы так просто сдаваться не будем, полезем в кишки html и откопаем там кусок, ответственный за эту надпись:\n",
        "\n",
        "\n",
        "\n",
        "Ага! Вот и подробности по дате добавления, с точностью до минуты. Элементарно"
      ]
    },
    {
      "cell_type": "code",
      "execution_count": null,
      "metadata": {
        "colab": {
          "base_uri": "https://localhost:8080/",
          "height": 35
        },
        "id": "7iovlNyGFugl",
        "outputId": "4bcdcdc9-3b8f-4289-d3cd-57eb9e1926eb"
      },
      "outputs": [
        {
          "output_type": "execute_result",
          "data": {
            "text/plain": [
              "'2013-07-24T16:29:55-04:00'"
            ],
            "application/vnd.google.colaboratory.intrinsic+json": {
              "type": "string"
            }
          },
          "metadata": {},
          "execution_count": 50
        }
      ],
      "source": [
        "date = soup.findAll('abbr', attrs={'class':'timeago'})[1].attrs['title']\n",
        "date"
      ]
    },
    {
      "cell_type": "markdown",
      "metadata": {
        "id": "9ZARMk2UFugl"
      },
      "source": [
        "На самом деле, парсеры — дело непредсказуемое. Часто страницы, которые мы парсим, имеют очень неоднородну структуру. Например, если мы парсим мемы, на части страниц может быть указано описание, а на части нет. Как только код впервые натыкается на отсутствие описания, он выдаёт ошибку и останавливается. Чтобы нормально собрать все данные, приходится прописывать исключения. Вроде бы, хранилище мемов хорошо оборудовано и никаких внештатных ситуаций происходить не должно. Тем не менее, очень не хочется проснуться утром и увидеть, что код сделал 20 итераций, нарвался на ошибку и отрубился.  Чтобы такого не произошло, можно, например, использовать конструкцию `try - except` и просто обрабатывать неугодные нам ошибки. Про исключения можно почитать [на просторах интернета](https://pythonworld.ru/tipy-dannyx-v-python/isklyucheniya-v-python-konstrukciya-try-except-dlya-obrabotki-isklyuchenij.html). В нашем же случае до ошибки можно и не доводить, а предварительно проверять, есть ли необходимый элемент на странице или нет при помощи обычного `if - else`, и уже после этого пытаться его распарсить.\n",
        "\n"
      ]
    },
    {
      "cell_type": "markdown",
      "metadata": {
        "id": "VbRkaP7qFugm"
      },
      "source": [
        "## Truthy & Falsy python\n",
        "[Подробнее](https://www.freecodecamp.org/news/truthy-and-falsy-values-in-python/)"
      ]
    },
    {
      "cell_type": "code",
      "execution_count": null,
      "metadata": {
        "colab": {
          "base_uri": "https://localhost:8080/"
        },
        "id": "3JhYh_tLFugm",
        "outputId": "d7c7f347-ec0b-4a15-ed0a-c53ca3173558"
      },
      "outputs": [
        {
          "output_type": "stream",
          "name": "stdout",
          "text": [
            "2\n"
          ]
        }
      ],
      "source": [
        "a = None\n",
        "if a:\n",
        "    print(1)\n",
        "else:\n",
        "    print(2)"
      ]
    },
    {
      "cell_type": "code",
      "execution_count": null,
      "metadata": {
        "colab": {
          "base_uri": "https://localhost:8080/"
        },
        "id": "F3Oi5E71Fugm",
        "outputId": "617bfa1a-52b3-4b18-d4bd-48dca655a420"
      },
      "outputs": [
        {
          "output_type": "stream",
          "name": "stdout",
          "text": [
            "1\n"
          ]
        }
      ],
      "source": [
        "if [1, 2, 3]:\n",
        "    print(1)\n",
        "else:\n",
        "    print(2)"
      ]
    },
    {
      "cell_type": "code",
      "execution_count": null,
      "metadata": {
        "id": "-MQUkh72Fugm",
        "colab": {
          "base_uri": "https://localhost:8080/"
        },
        "outputId": "f0aecb4c-06fd-4546-cc4c-b7bba2fcb358"
      },
      "outputs": [
        {
          "output_type": "stream",
          "name": "stdout",
          "text": [
            "2\n"
          ]
        }
      ],
      "source": [
        "if []:\n",
        "    print(1)\n",
        "else:\n",
        "    print(2)"
      ]
    },
    {
      "cell_type": "markdown",
      "metadata": {
        "id": "Zdy-LI2ZFugm"
      },
      "source": [
        "Такой код позволяет обезопасить себя от ошибок в коде. В данном случае, мы можем переписать всю конструкцию с `if - else` в виде одной удобной строки. Эта строка проверит полон ли респонса `meme_status` и ежели нет, то выдаст пустоту."
      ]
    },
    {
      "cell_type": "code",
      "execution_count": null,
      "metadata": {
        "colab": {
          "base_uri": "https://localhost:8080/",
          "height": 35
        },
        "id": "oQHn5THMFugm",
        "outputId": "83017e39-9bb9-4849-fa34-9c1fd3247107"
      },
      "outputs": [
        {
          "output_type": "execute_result",
          "data": {
            "text/plain": [
              "'Hello'"
            ],
            "application/vnd.google.colaboratory.intrinsic+json": {
              "type": "string"
            }
          },
          "metadata": {},
          "execution_count": 54
        }
      ],
      "source": [
        "\"Hello\" if True else \"Bye\""
      ]
    },
    {
      "cell_type": "code",
      "execution_count": null,
      "metadata": {
        "colab": {
          "base_uri": "https://localhost:8080/"
        },
        "id": "HsvTFH9fFugn",
        "outputId": "cfc1009f-6ad3-402a-957a-e6243b4aaa90"
      },
      "outputs": [
        {
          "output_type": "execute_result",
          "data": {
            "text/plain": [
              "1"
            ]
          },
          "metadata": {},
          "execution_count": 55
        }
      ],
      "source": [
        "1 if (\"a\" in ['a', 'b']) or ('c' in [1, 4]) else 0"
      ]
    },
    {
      "cell_type": "code",
      "source": [
        "1 if (\"a\" in ['a', 'b']) and ('c' in [1, 4]) else 0"
      ],
      "metadata": {
        "colab": {
          "base_uri": "https://localhost:8080/"
        },
        "id": "l1EqDBhb6yiV",
        "outputId": "f45fd77f-9ae6-454c-ce45-97c764d5edb6"
      },
      "execution_count": null,
      "outputs": [
        {
          "output_type": "execute_result",
          "data": {
            "text/plain": [
              "0"
            ]
          },
          "metadata": {},
          "execution_count": 56
        }
      ]
    },
    {
      "cell_type": "markdown",
      "metadata": {
        "id": "DuszrKApFugn"
      },
      "source": [
        "По аналогии можно вытащить всю остальную информацию со страницы."
      ]
    },
    {
      "cell_type": "markdown",
      "metadata": {
        "id": "AldZOdwUFugn"
      },
      "source": [
        "Cоберем текстовое описание мема и его название."
      ]
    },
    {
      "cell_type": "code",
      "execution_count": null,
      "metadata": {
        "code_folding": [],
        "id": "HwJOlMR5Fugn"
      },
      "outputs": [],
      "source": [
        "def getText(soup):\n",
        "    \"\"\"\n",
        "        Возвращает текстовые описания мема\n",
        "\n",
        "        soup: объект bs4.BeautifulSoup\n",
        "            суп текущей страницы\n",
        "\n",
        "    \"\"\"\n",
        "    # название - идёт с самым большим заголовком h1, легко найти\n",
        "    meme_name = soup.find('section', attrs={'class':'info'}).find('h1').text.strip()\n",
        "\n",
        "    # достаём все тексты под картинкой\n",
        "    body = soup.find('section', attrs={'class':'bodycopy'})\n",
        "\n",
        "    # раздел about (если он есть), должен идти первым, берем его без уточнения класса\n",
        "    meme_about = body.find('p')\n",
        "    meme_about = \"\" if not meme_about else meme_about.text\n",
        "\n",
        "    # раздел origin можно найти после заголовка Origin или History,\n",
        "    # находим заголовок, определяем родителя и ищем следущего ребенка - наш раздел\n",
        "    meme_origin = body.find(text='Origin') or body.find(text='History')\n",
        "    meme_origin = \"\" if not meme_origin else meme_origin.parent.find_next().text\n",
        "\n",
        "    # весь остальной текст (если он есть) можно запихнуть в одно текстовое поле\n",
        "    if body.text:\n",
        "        other_text = body.text.strip().split('\\n')[4:]\n",
        "        other_text = \" \".join(other_text).strip()\n",
        "    else:\n",
        "        other_text = \"\"\n",
        "\n",
        "    return {'Name': meme_name, 'About':meme_about, 'Origin':meme_origin, 'Other_text':other_text}"
      ]
    },
    {
      "cell_type": "code",
      "execution_count": null,
      "metadata": {
        "colab": {
          "base_uri": "https://localhost:8080/"
        },
        "id": "8BOEA-pCFugn",
        "outputId": "d0f688ba-d405-4457-bce2-75df8cf94851"
      },
      "outputs": [
        {
          "output_type": "stream",
          "name": "stdout",
          "text": [
            "Название мема:\n",
            "Doge\n",
            "\n",
            "О чем мем:\n",
            "Doge (pronounced /ˈdoʊdʒ/ DOHJ) is a slang term for \"dog\" that is primarily associated with pictures of Shiba Inus (nicknamed \"Shibe\") and internal monologue captions on Tumblr. These photos may be photoshopped to change the dog's face or captioned with interior monologues in Comic Sans font. The primary meme and iconography associated with Doge is the Shiba Inu named Kabosu, whose photos taken by her owner Atsuko Sato in early 2010 went viral across the internet, spawning numerous memes and larger trends in the following decades. Starting in 2017, Ironic Doge formats gained prevalence over the original wholesome version as the memetic character continued to evolve.\n",
            "\n",
            "Происхождение:\n",
            "The use of the misspelled word \"doge\" to refer to a dog dates back to June 24th, 2005, when it was mentioned in an episode of Homestar Runner's puppet show. In the episode titled \"Biz Cas Fri 1\"[2], Homestar calls Strong Bad his \"d-o-g-e\" while trying to distract him from his work.\n",
            "\n",
            "Остальной текст:\n",
            "The use of the misspelled word \"doge\" to refer to a dog dates back to June 24th, 2005, when it was mentioned in an episode of Homestar Runner's puppet show. In the episode titled \"Biz Cas Fri 1\"[2], H...\n",
            "\n"
          ]
        }
      ],
      "source": [
        "text_fields = getText(soup)\n",
        "\n",
        "print(\"Название мема:\\n{}\\n\\nО чем мем:\\n{}\\n\\nПроисхождение:\\n{}\\n\\nОстальной текст:\\n{}...\\n\"\\\n",
        "      .format(text_fields['Name'], text_fields['About'], text_fields['Origin'], text_fields['Other_text'][:200]))"
      ]
    },
    {
      "cell_type": "markdown",
      "metadata": {
        "id": "04QupfWdFugo"
      },
      "source": [
        "Наконец, создадим функцию, возвращающую всю информацию по текущему мему"
      ]
    },
    {
      "cell_type": "code",
      "execution_count": null,
      "metadata": {
        "code_folding": [],
        "id": "DypiTwxQFugo"
      },
      "outputs": [],
      "source": [
        "def getMemeData(meme_page):\n",
        "    \"\"\"\n",
        "        Запрашивает данные по странице, возвращает обработанный словарь с данными\n",
        "\n",
        "        meme_page: string\n",
        "            ссылка на страницу с мемом\n",
        "\n",
        "    \"\"\"\n",
        "\n",
        "    # запрашиваем данные по ссылке\n",
        "    response = requests.get(meme_page, headers={'User-Agent': UserAgent().chrome})\n",
        "\n",
        "    if not response.ok:\n",
        "        # если сервер нам отказал, вернем статус ошибки\n",
        "        return response.status_code\n",
        "\n",
        "    # получаем содержимое страницы и переводим в суп\n",
        "    html = response.content\n",
        "    soup = BeautifulSoup(html,'html.parser')\n",
        "\n",
        "    # используя ранее написанные функции парсим информацию\n",
        "    views = getStats(soup=soup, stats='views')\n",
        "    videos = getStats(soup=soup, stats='videos')\n",
        "    photos = getStats(soup=soup, stats='photos')\n",
        "    comments = getStats(soup=soup, stats='comments')\n",
        "\n",
        "    # дата\n",
        "    date = soup.findAll('abbr', attrs={'class':'timeago'})[1].attrs['title']\n",
        "\n",
        "    # текстовые поля\n",
        "    text_fileds = getText(soup=soup)\n",
        "\n",
        "    # составляем словарь, в котором будут хранится все полученные и обработанные данные\n",
        "    data_row = {\"date_added\":date, \"views\":views,\n",
        "                \"videos\":videos, \"photos\":photos, \"comments\":comments}\n",
        "    data_row.update(text_fileds)\n",
        "\n",
        "    return data_row"
      ]
    },
    {
      "cell_type": "code",
      "execution_count": null,
      "metadata": {
        "id": "V0IXYJXgFugo"
      },
      "outputs": [],
      "source": [
        "data_row = getMemeData('http://knowyourmeme.com/memes/doge')"
      ]
    },
    {
      "cell_type": "code",
      "source": [
        "data_row"
      ],
      "metadata": {
        "colab": {
          "base_uri": "https://localhost:8080/"
        },
        "id": "IUbxnp7AP_uo",
        "outputId": "769e949b-8846-41a0-9ae1-1d1c2602ddfa"
      },
      "execution_count": null,
      "outputs": [
        {
          "output_type": "execute_result",
          "data": {
            "text/plain": [
              "{'date_added': '2013-07-24T16:29:55-04:00',\n",
              " 'views': 14109395,\n",
              " 'videos': 105,\n",
              " 'photos': 1795,\n",
              " 'comments': 923,\n",
              " 'Name': 'Doge',\n",
              " 'About': 'Doge (pronounced /ˈdoʊdʒ/ DOHJ) is a slang term for \"dog\" that is primarily associated with pictures of Shiba Inus (nicknamed \"Shibe\") and internal monologue captions on Tumblr. These photos may be photoshopped to change the dog\\'s face or captioned with interior monologues in Comic Sans font. The primary meme and iconography associated with Doge is the Shiba Inu named Kabosu, whose photos taken by her owner Atsuko Sato in early 2010 went viral across the internet, spawning numerous memes and larger trends in the following decades. Starting in 2017, Ironic Doge formats gained prevalence over the original wholesome version as the memetic character continued to evolve.',\n",
              " 'Origin': 'The use of the misspelled word \"doge\" to refer to a dog dates back to June 24th, 2005, when it was mentioned in an episode of Homestar Runner\\'s puppet show. In the episode titled \"Biz Cas Fri 1\"[2], Homestar calls Strong Bad his \"d-o-g-e\" while trying to distract him from his work.',\n",
              " 'Other_text': 'The use of the misspelled word \"doge\" to refer to a dog dates back to June 24th, 2005, when it was mentioned in an episode of Homestar Runner\\'s puppet show. In the episode titled \"Biz Cas Fri 1\"[2], Homestar calls Strong Bad his \"d-o-g-e\" while trying to distract him from his work.        Identity On February 13th, 2010, Japanese kindergarten teacher Atsuko Sato posted several photos of her rescue-adopted Shiba Inu dog Kabosu to her personal blog.[38] Among the photos included a peculiar shot of Kabosu sitting on a couch while glaring sideways at the camera with raised eyebrows (shown below, right).      In December 2013, shortly after the breakout of \"Doge,\" the tech news site The Verge[39] published an article identifying Sato\\'s Kabosu as the original Shiba Inu depicted in the meme. In addition to Kabosu, The Verge also identified \"Suki,\" a Shiba Inu who lives with San Francisco-based photographer Jonathan Fleming, as the scarfed dog portrayed in another popular instance of the meme. Spread On October 28th, 2010, a photo of Kabosu was submitted to the /r/Ads subreddit[3] with the title \"LMBO LOOK @ THIS FUKKIN DOGE,\" where it received 266 upvotes, 218 points overall and 48 comments prior to being archived. Sometime in April 2012, Tumblr user leonsumbitches[15] uploaded an audio file of a computer reading a passage written like the commands of a turn-based adventure game about encountering a \"doge.\" The passage was paired with a photo of a woman patting a dog on the head[16] and has gained more than 33,000 notes as of July 2013.  http://dailydoge.tumblr.com/post/21839788086/leonsumbitches-you-have-encountered-ａ-ｄｏｇｅ   In response, the single-topic blog Your Daily Doge[17] was created but was quickly abandoned after reblogging leonsumbitches\\' post several times. On May 7th, YouTuber KwandaoRen66 uploaded a video with a person reading the text over a fake Pokemon battle.[4] By June, doge threads in which numerous people shared photos of dogs in different outfits began appearing on 4chan boards, including /v/[11] (Video Games). The same month, a photoset of a dog with a cup and saucer balanced on his head went viral on Tumblr after airpi[14] referred to it as \"Polite Doge.\" In August, the first doge single-topic blog, F--k Yeah Doge[13], launched on Tumblr. The growth in the summer of 2012 coincided with the popularity of the single topic Tumblr Shiba Confessions, as people began to refer to these dogs as \"shibes.\"[18]      In December 2012, the term \"doge\" appeared on Reddit in a post submitted to /r/DogsIWannaHug.[6] The same month, an interior monologue captioned photo of a Schnauzer was submitted to Cheezburger[5] with the title \"Schnauze.\" On January 8th, 2013, the subreddit /r/Doge[7] was created, sharing photos and videos of the captioned Shiba Inus.[8] In May, /r/dailydoge[9] was created to share one dog photo a day, captioned or not. Another single-topic blog, shibe-doge[12], launched in July 2013 dedicated to sharing Shiba Inu photos. On July 29th, 2013, a doge thread[19] was sticky-featured at the top of the 4chan board /s4s/ (Shit 4chan Says), garnering more than 600 replies.    On November 20, 2013, YouTube implemented an Easter egg, that changes the text to be colored and in Comic Sans, much like the original internal-monologue style captions, when a user searches the phrase \"doge meme\".[22] On Tumblr, in addition to the captioned photos, the \"doge\" tag[10] often contains images of a Shiba Inu whose facial features have been manipulated, similar to Starecat. 4chan\\'s /r/Murica Raid On the evening of August 26th, 2013, a group of users on 4chan raided against Reddit\\'s tongue-in-cheek patriotic forum /r/Murica[20], flooding the subreddit\\'s frontpage with dozens of photoshopped images depicting the Doge character in All-American-themed settings (shown below). According to The Daily Dot\\'s report[21], the raid started late Sunday night and lasted until about 12:15 p.m. (ET) on August 27th, at which point /r/Murica\\'s moderators began removing Doge-related posts from the subreddit index. Unlike previous clashes between the users of 4chan and Reddit, the sudden influx of Doge images was reportedly met by little opposition from Reddit\\'s user base, reflecting the growing popularity of the character outside of Tumblr.            Trademark Controversy On June 24th, 2014, the California-based gaming accessory company filed to trademark \"Doge\" with the United States patent office to sell card boxes and playing card covers with Kabosu\\'s likeness on the front. On June 23rd, The Daily Dot[41] published an article about the trademark filing, which included a statement from Ultra PRO General Manager Jay Kuo who claimed the trademark was filed to protect the company from being sued and that they would allow \"royalty-free use for any vendor who wishes to use the mark.\" The article also contained a statement by the Intellectual Property Director at the Electronic Frontier Foundation Corynne McSherry, who noted that the filing is problematic because it attempts to trademark the entire word, not just a stylized version of it.[40] Death Hoax On March 31st, 2017, the Twitter account @CCTV reported that the Shiba Inu, Doge, had died at age 16.[42] The tweet received more than 8,400 retweets and 13,100 likes.    However, the tweet was an April Fools\\' Day prank. According to Kabosu\\'s official Instagram account, @kabosumama, doge is alive and well. @Kabosumama posted a video of the dog (shown below), which received more than 4,600 likes and 22,600 views.[43]    The post also contained the caption:  \"Kabosu is OK, she is alive! I don\\'t care that somebody told the lie that Kabosu is dead for April Fools\\' Day, but one important thing for me is \" Kabosu is a girl\", she is a female dog.\"  Dogecoin On December 6th, BitcoinTalk forum member Dogecoin introduced an alternative cryptocurrency based on the meme as a satire of the Bitcoin boom in a thread[23] titled \"Dogecoin – very currency – many coin – wow – v1.1 Released.\" Similar to Bitcoin and its derivatives, Dogecoin can be mined and exchanged for goods and services among the participants, though it is programmed to level out at a higher threshold of up to 100 billion coins and prevent any use of special bitcoin-mining equipment like ASICs. In comparison, Bitcoin will cap out at 21 million coins and Litecoin will support up to 84 million coins in circulation.      Following the launch of the official website,[24] a slew of social media channels and referential webpages soon emerged for Dogecoin, including a Twitter account[25] and a Facebook page,[26] racking up more than 1,000 followers and 1,800 likes within the first week, respectively. On December 8th, an entire subreddit community dedicated to the use of satirical cryptocurrency was launched at /r/dogecoin,[29] accruing more than 2,600 subscribers in just over a week.      Throughout the first weekend of December, Dogecoin was highlighted by a number of tech news sites and blogs, providing a further boost to the value of the satirical currency.[35][36][37] By December 14th, an encyclopedic article[27] describing the concept of \"Dogecoin\" had been submitted by Wikipedia editor CitationNeeded. At its peak, the estimated value of DogeCoin skyrocketed to as high as $400.80 per coin (shown below).[28][31]  As of December 15th, one Dogecoin (DOGE) is worth about $ 0.0002 USD, with a market capitalization of $1.45 million USD and 7.2% of the 100 billion total coins having been mined.[30][32][33][34]        Political Examples Several Republican politicians have highlighted Doge-style image macros on their Twitter feeds. On December 23rd, 2013, Congressional Representatives Steve Stockman and Thomas Massie posted political Doge image macros (shown below).     On June 9th, 2014, the official Republican National Committee Twitter feed posted a Doge image macro mocking Bill and Hillary Clinton. The same day, the official Democratic Party Twitter feed replied to the tweet mocking the use of Doge as being \"as dated as your policies\" (shown below).     Ironic Doge Memes Ironic Doge Memes are memes that feature the Doge meme in strange or surreal circumstances. Many take the form of image macros and often feature edits to the Doge image for the purposes of dark or absurd humor. The format was popularized on deep iFunny and Facebook between 2016 and 2017 and reached mainstream popularity in 2018, gaining prevalence over the original wholesome format.      Atsuko Sato and Kabosu Interview On February 20th, 2020, Japanese nursery teacher Atsuko Sato, the owner of Kabosu (Doge\\'s real name), conducted an interview with Know Your Meme to learn more about the origins of the meme and other details. Sato told KYM that Kabosu, 14 years old at the time, was a rescue dog when she adopted her from a kill shelter years before the meme.  Kabosu\\'s breeder went out of business, and she was rescued by an animal welfare organization after being brought to an animal welfare center to be put down, along with 19 other Shiba Inu. Most of the Shiba Inu that were brought there with her were killed. Two years had passed since I lost my previous dog, and I wanted to live with a dog again. I looked at the information about the new arrivals that had just been advertised as looking for foster parents on the website and found out about Kabosu. Sixteen days after being brought to the animal welfare center, she became a member of my family.           2021 Doge NFT Auction In mid-June 2021, the photographs taken of Kabosu by Atsuko Sato that later became the Doge meme were auctioned off as a series of NFTs. On June 11th following the conclusion of the auction, the Doge NFT sold for roughly $4.06 million (1696.9 ETH), setting the record for the highest meme NFT auction ever.  After the historic sale, Atsuko Sato donated a significant portion of the money to various charities, which included Plan International, Terra Renaissance, Florence, the Japanese Red Cross, World Food Program, Ashi Naga and Japan Heart.[44]  As Kabosu became a meme people love so much, I came to believe that Kabosu was given a special mission by the universe. Through the launch of these NFTs, I\\'d like to help children in need all over the world. Kabosu and I would be very happy if we could help bring a smile to their face.  Doge / Kabosu Cancer Diagnosis On December 27th, 2022, Atsuko Sato announced on her Instagram[45] account @kabosumama that Kabosu (Doge) had been diagnosed with \"acute cholangiohepatitis and chronic lymphoma leukemia,\" noting that she was in declining health but on medication to assist her recovery (seen below). The news of Kabosu\\'s cancer rapidly spread online shortly after, leading to an outpouring of support around the web.               View this post on Instagram                      A post shared by かぼすママ (@kabosumama)    In the following weeks and months, Sato continued sharing updates on Kabosu\\'s health as she slowly began to recover somewhat, according to her Instagram. For example, on February 9th, 2023, Sato said in an Instagram video that Kabosu was eating more food lately and doing therapy as part of her treatment, among other things (seen below).               View this post on Instagram                      A post shared by かぼすママ (@kabosumama)   On February 22nd, 2023, Atsuko Sato then posted another update on Kabosu\\'s status and shared images of her latest blood test results to her Instagram,[46] which noted that it was \"an incredible recovery\" as she thanked fans for their support. Related Memes Wew Lad Wew Lad is an obfuscatory expression associated with circle jerking or shitposting, which is often accompanied by a poorly-drawn illustration of a man\\'s face known as the \"Wrinkle Face\" or a digitally altered picture of the Doge Shiba Inu.          Cheems Cheems is an Ironic Doge character popular on /r/dogelore. His real name is Balltze, or Ball Ball. In memes, he is known for liking cheeseburgers, which he pronounces, \"Cheemsburbger.\" Memes featuring Cheems are usually based upon the character humorously misspelling various words, particularly by including extra M letters and first appeared on /r/dogelore in June 2019.  Swole Doge Swole Doge, also known as Chad Doge refers to a popular edit of Doge that imagines the character having an extremely muscular human body. The edit gained significant popularity in memes in major Doge meme pages on Facebook, Instagram and Reddit starting in July 2019.  Swole Doge vs. Cheems Swole Doge vs. Cheems refers to a comparison format in which representatives of the same group from two historical eras are presented as Swole (Chad) Doge and Cheems and are compared to each other, similar to Virgin vs. Chad. Originating from a viral Facebook meme, the format gained popularity on Reddit and Facebook starting in mid-May 2020.        Dogelore Dogelore is a subreddit dedicated exclusively to memes about Doge and related dog characters within the so-called \"Doge lore\" such as Walter, Perro, Cheems, Swole Doge and others. Created by /r/OKBR founder Kirbizia in 2018, the subreddit accumulated over 200,000 subscribers in two years and is one of the major hubs of Doge memes online.  Various Examples         Search Interest Editors Note: Search interest for the word \"doge\"[1] is partially inconsistent as it is also a Venetian term for \"leader\" used as a title in some Italian \"crowned republics\" including Genoa and Venice.        Meme Trends External References  [1] Wikipedia – Doge [2] Homestar Runner Wiki – Biz Caz Fri 1 [3] Reddit – /r/ads: LMBO LOOK @ THIS FUKKEN DOGE  [4] YouTube – You have encountered A D O G E [5] Cheezburger – schnauze / 12/08/2012 [6] Reddit – /r/dogsiwannahug: Hugging precious doge / 12/24/2012 [7] Reddit – /r/doge / 01/08/2013 [8] Reddit – /r/trees: Snope Doge / 01/17/2013 [9] Reddit – /r/dailydoge 05/16/2013 [10] Tumblr – Posts tagged \"doge\" [11] Foolz Archive – Meet Doge / 06/16/2012 [12] Tumblr – shibe-doge web archive [13] Tumblr – f--kyeahdoge [14] Tumblr – airpi: A POLITE DOGE has approached you 06/24/2012 [15] Tumblr (via Wayback Machine) – leonsumbitches [16] Your Daily Doge – Reblog of leonsumbitches\\' Post [17] Tumblr – Your Daily Doge [18] Tumblr – Posts Tagged \"shibe\" [19] 4chan – /s4s/: le sticky doge [20] Reddit – /r/Murica – Murica! F--k Yeah! [21] The Daily Dot – 4chan spammed Reddit with an army of Shiba Inus [22] Google Operating System – YouTube Easter Egg for Doge Meme [23] Bitcoin Talk Forum – [ANN][DOGE] Dogecoin – very currency – many coin – wow – v1.1 Released [24] Dogecoin.com – Dogecoin [25] Twitter – @Dogecoin\\'s Tweets [26] Facebook – Dogecoin [27] Wikipedia – Dogecoin [28] Doge Coin Official Forum – Topic: How many Dogecoins have you guys dug? [29] Reddit – /r/dogecoin [30] Coin Marketcap – DogeCoin 30-Day Market Cap Graph [31] Doge Coin Official Forum – [INFO] Current Average Value of DOGE [32] Slashgear – Dogecoin digital currency takes on Bitcoin with a bit of meme flair [33] Geek.com (via Wayback Machine) – Dogecoin: Not a viable alternative to Bitcoin, but possibly the best invention on the internet [34] Geekosystem (now The MarySue) – Dogecoin, A Cryptocurrency For Doges, Is Now A Thing [35] Dogecoin Forum (via Wayback Machine) – Dogewallet hacked! [36] The Verge – Millions of Dogecoin stolen in Christmas hack [37] Reddit – Dogewallet Explanation [38] Exblog – Kabosu112 [39] The Verge – Wow this Doge [40] United States Patent and Trademark Office – Doge [41] The Daily Dot – Doge Trademark Ultra PRO [42] Twitter – RIP, Doge! Shiba Inu who inspired popular Internet memes died in Japan aged 16 [43] Instagram – Kabosu is OK [44] Doge NFT Auction – Charities [45] Instagram – kabosumama [46] Instagram – kabosumama'}"
            ]
          },
          "metadata": {},
          "execution_count": 61
        }
      ]
    },
    {
      "cell_type": "markdown",
      "metadata": {
        "id": "smDLqxXeFugo"
      },
      "source": [
        "А теперь подготовим табличку, чтобы в неё записывать всё ~~награбленные~~ честно полученные данные, добавим в неё первую полученную строку и полюбуемся на результат"
      ]
    },
    {
      "cell_type": "code",
      "execution_count": null,
      "metadata": {
        "id": "ZhQv3iciFugo"
      },
      "outputs": [],
      "source": [
        "final_df = pd.DataFrame(columns=['Name',  'Type', 'Year', 'Origin',\n",
        "                                 'date_added', 'views', 'videos', 'photos', 'comments',\n",
        "                                 'About',  'Other_text'])"
      ]
    },
    {
      "cell_type": "code",
      "execution_count": null,
      "metadata": {
        "id": "vidS64jbFugo"
      },
      "outputs": [],
      "source": [
        "final_df = final_df.append(data_row, ignore_index=True).dropna(axis = 1)"
      ]
    },
    {
      "cell_type": "code",
      "execution_count": null,
      "metadata": {
        "colab": {
          "base_uri": "https://localhost:8080/",
          "height": 98
        },
        "id": "W0YGjZPnFugp",
        "outputId": "b543bc6f-ad66-4d41-d271-4094da16f03a"
      },
      "outputs": [
        {
          "output_type": "execute_result",
          "data": {
            "text/plain": [
              "   Name                                             Origin  \\\n",
              "0  Doge  The use of the misspelled word \"doge\" to refer...   \n",
              "\n",
              "                  date_added     views videos photos comments  \\\n",
              "0  2013-07-24T16:29:55-04:00  14109395    105   1795      923   \n",
              "\n",
              "                                               About  \\\n",
              "0  Doge (pronounced /ˈdoʊdʒ/ DOHJ) is a slang ter...   \n",
              "\n",
              "                                          Other_text  \n",
              "0  The use of the misspelled word \"doge\" to refer...  "
            ],
            "text/html": [
              "\n",
              "  <div id=\"df-a2d44776-3e88-413c-99a0-c8c6ec92cdf8\" class=\"colab-df-container\">\n",
              "    <div>\n",
              "<style scoped>\n",
              "    .dataframe tbody tr th:only-of-type {\n",
              "        vertical-align: middle;\n",
              "    }\n",
              "\n",
              "    .dataframe tbody tr th {\n",
              "        vertical-align: top;\n",
              "    }\n",
              "\n",
              "    .dataframe thead th {\n",
              "        text-align: right;\n",
              "    }\n",
              "</style>\n",
              "<table border=\"1\" class=\"dataframe\">\n",
              "  <thead>\n",
              "    <tr style=\"text-align: right;\">\n",
              "      <th></th>\n",
              "      <th>Name</th>\n",
              "      <th>Origin</th>\n",
              "      <th>date_added</th>\n",
              "      <th>views</th>\n",
              "      <th>videos</th>\n",
              "      <th>photos</th>\n",
              "      <th>comments</th>\n",
              "      <th>About</th>\n",
              "      <th>Other_text</th>\n",
              "    </tr>\n",
              "  </thead>\n",
              "  <tbody>\n",
              "    <tr>\n",
              "      <th>0</th>\n",
              "      <td>Doge</td>\n",
              "      <td>The use of the misspelled word \"doge\" to refer...</td>\n",
              "      <td>2013-07-24T16:29:55-04:00</td>\n",
              "      <td>14109395</td>\n",
              "      <td>105</td>\n",
              "      <td>1795</td>\n",
              "      <td>923</td>\n",
              "      <td>Doge (pronounced /ˈdoʊdʒ/ DOHJ) is a slang ter...</td>\n",
              "      <td>The use of the misspelled word \"doge\" to refer...</td>\n",
              "    </tr>\n",
              "  </tbody>\n",
              "</table>\n",
              "</div>\n",
              "    <div class=\"colab-df-buttons\">\n",
              "\n",
              "  <div class=\"colab-df-container\">\n",
              "    <button class=\"colab-df-convert\" onclick=\"convertToInteractive('df-a2d44776-3e88-413c-99a0-c8c6ec92cdf8')\"\n",
              "            title=\"Convert this dataframe to an interactive table.\"\n",
              "            style=\"display:none;\">\n",
              "\n",
              "  <svg xmlns=\"http://www.w3.org/2000/svg\" height=\"24px\" viewBox=\"0 -960 960 960\">\n",
              "    <path d=\"M120-120v-720h720v720H120Zm60-500h600v-160H180v160Zm220 220h160v-160H400v160Zm0 220h160v-160H400v160ZM180-400h160v-160H180v160Zm440 0h160v-160H620v160ZM180-180h160v-160H180v160Zm440 0h160v-160H620v160Z\"/>\n",
              "  </svg>\n",
              "    </button>\n",
              "\n",
              "  <style>\n",
              "    .colab-df-container {\n",
              "      display:flex;\n",
              "      gap: 12px;\n",
              "    }\n",
              "\n",
              "    .colab-df-convert {\n",
              "      background-color: #E8F0FE;\n",
              "      border: none;\n",
              "      border-radius: 50%;\n",
              "      cursor: pointer;\n",
              "      display: none;\n",
              "      fill: #1967D2;\n",
              "      height: 32px;\n",
              "      padding: 0 0 0 0;\n",
              "      width: 32px;\n",
              "    }\n",
              "\n",
              "    .colab-df-convert:hover {\n",
              "      background-color: #E2EBFA;\n",
              "      box-shadow: 0px 1px 2px rgba(60, 64, 67, 0.3), 0px 1px 3px 1px rgba(60, 64, 67, 0.15);\n",
              "      fill: #174EA6;\n",
              "    }\n",
              "\n",
              "    .colab-df-buttons div {\n",
              "      margin-bottom: 4px;\n",
              "    }\n",
              "\n",
              "    [theme=dark] .colab-df-convert {\n",
              "      background-color: #3B4455;\n",
              "      fill: #D2E3FC;\n",
              "    }\n",
              "\n",
              "    [theme=dark] .colab-df-convert:hover {\n",
              "      background-color: #434B5C;\n",
              "      box-shadow: 0px 1px 3px 1px rgba(0, 0, 0, 0.15);\n",
              "      filter: drop-shadow(0px 1px 2px rgba(0, 0, 0, 0.3));\n",
              "      fill: #FFFFFF;\n",
              "    }\n",
              "  </style>\n",
              "\n",
              "    <script>\n",
              "      const buttonEl =\n",
              "        document.querySelector('#df-a2d44776-3e88-413c-99a0-c8c6ec92cdf8 button.colab-df-convert');\n",
              "      buttonEl.style.display =\n",
              "        google.colab.kernel.accessAllowed ? 'block' : 'none';\n",
              "\n",
              "      async function convertToInteractive(key) {\n",
              "        const element = document.querySelector('#df-a2d44776-3e88-413c-99a0-c8c6ec92cdf8');\n",
              "        const dataTable =\n",
              "          await google.colab.kernel.invokeFunction('convertToInteractive',\n",
              "                                                    [key], {});\n",
              "        if (!dataTable) return;\n",
              "\n",
              "        const docLinkHtml = 'Like what you see? Visit the ' +\n",
              "          '<a target=\"_blank\" href=https://colab.research.google.com/notebooks/data_table.ipynb>data table notebook</a>'\n",
              "          + ' to learn more about interactive tables.';\n",
              "        element.innerHTML = '';\n",
              "        dataTable['output_type'] = 'display_data';\n",
              "        await google.colab.output.renderOutput(dataTable, element);\n",
              "        const docLink = document.createElement('div');\n",
              "        docLink.innerHTML = docLinkHtml;\n",
              "        element.appendChild(docLink);\n",
              "      }\n",
              "    </script>\n",
              "  </div>\n",
              "\n",
              "    </div>\n",
              "  </div>\n"
            ]
          },
          "metadata": {},
          "execution_count": 64
        }
      ],
      "source": [
        "final_df"
      ]
    },
    {
      "cell_type": "markdown",
      "metadata": {
        "id": "_pC_HY8mFugp"
      },
      "source": [
        "Первый мем оказался в наших рукак. Еще раз убедимся что всё работает — пройдемся по списку из ссылок на мемы, полученных ранее в перменной `meme_links`."
      ]
    },
    {
      "cell_type": "code",
      "execution_count": null,
      "metadata": {
        "id": "pn2888z-Fugp"
      },
      "outputs": [],
      "source": [
        "from tqdm import tqdm_notebook"
      ]
    },
    {
      "cell_type": "code",
      "execution_count": null,
      "metadata": {
        "colab": {
          "base_uri": "https://localhost:8080/"
        },
        "id": "2FSWcLpsFugp",
        "outputId": "9aa7d2de-a883-4145-97d1-3654cab17904"
      },
      "outputs": [
        {
          "output_type": "execute_result",
          "data": {
            "text/plain": [
              "['http://knowyourmeme.comhttps://knowyourmeme.com/memes/master-debater',\n",
              " 'http://knowyourmeme.comhttps://knowyourmeme.com/memes/my-hot-witch-wife',\n",
              " 'http://knowyourmeme.comhttps://knowyourmeme.com/memes/hersheys-kisses-christmas-commercial',\n",
              " 'http://knowyourmeme.comhttps://knowyourmeme.com/memes/people/will-stancil',\n",
              " 'http://knowyourmeme.comhttps://knowyourmeme.com/memes/lamborghini-genesis-tiktok',\n",
              " 'http://knowyourmeme.comhttps://knowyourmeme.com/memes/canned-pumpkin-guy',\n",
              " 'http://knowyourmeme.comhttps://knowyourmeme.com/memes/the-cia-award-for-excellence-in-journalism',\n",
              " 'http://knowyourmeme.comhttps://knowyourmeme.com/memes/events/kai-cenat-nicki-minaj-3-am-twitch-stream',\n",
              " 'http://knowyourmeme.comhttps://knowyourmeme.com/memes/fl-studio-speedruns',\n",
              " 'http://knowyourmeme.comhttps://knowyourmeme.com/memes/resolver',\n",
              " 'http://knowyourmeme.comhttps://knowyourmeme.com/memes/subcultures/kung-fu-panda-4',\n",
              " 'http://knowyourmeme.comhttps://knowyourmeme.com/memes/gillette-labs-commercial',\n",
              " 'http://knowyourmeme.comhttps://knowyourmeme.com/memes/events/twitch-artistic-nudity-policy-update',\n",
              " 'http://knowyourmeme.comhttps://knowyourmeme.com/memes/uragami-locks-in',\n",
              " 'http://knowyourmeme.comhttps://knowyourmeme.com/memes/cunt-era-and-im-high-as-fuck-and-have-a-gun-in-my-backpack-shirts',\n",
              " 'http://knowyourmeme.comhttps://knowyourmeme.com/memes/the-haters-said-i-couldnt-do-it']"
            ]
          },
          "metadata": {},
          "execution_count": 66
        }
      ],
      "source": [
        "meme_links"
      ]
    },
    {
      "cell_type": "code",
      "execution_count": null,
      "metadata": {
        "scrolled": false,
        "colab": {
          "base_uri": "https://localhost:8080/",
          "height": 49,
          "referenced_widgets": [
            "09cfb4b502814b4b81fdf93a837660ec",
            "ea9baf580f604208affdd0d051e34dd9",
            "de4ef222413c405b8cb7d755eedc2150",
            "256e77199e824cee94fba85b8fd00bf5",
            "d9616528fee546ea8a3d066b953e5172",
            "f1880de7dbc34a6381681fb40e909f60",
            "5f4261b7a8eb46b7b21b4a1c2f909350",
            "88e5a274dca146ee8025b32104f69d8b",
            "c79984b3b0a842efb76b3b7ad841484e",
            "89ebbe461ea84679acf11a58582fe51c",
            "db0b1417eef04360b0f340be80bebe77"
          ]
        },
        "id": "srOVa1nHFugp",
        "outputId": "25c2e53a-d051-4f20-d73e-fec1f5996d81"
      },
      "outputs": [
        {
          "output_type": "display_data",
          "data": {
            "text/plain": [
              "  0%|          | 0/16 [00:00<?, ?it/s]"
            ],
            "application/vnd.jupyter.widget-view+json": {
              "version_major": 2,
              "version_minor": 0,
              "model_id": "09cfb4b502814b4b81fdf93a837660ec"
            }
          },
          "metadata": {}
        }
      ],
      "source": [
        "for meme_link in tqdm_notebook(meme_links):\n",
        "    try:\n",
        "        data_row = getMemeData(meme_link)\n",
        "        final_df = final_df.append(data_row, ignore_index=True)\n",
        "        time.sleep(0.3)\n",
        "    except:\n",
        "        continue"
      ]
    },
    {
      "cell_type": "code",
      "execution_count": null,
      "metadata": {
        "id": "MMJStcOlFugp"
      },
      "outputs": [],
      "source": [
        "final_df = final_df.drop_duplicates().dropna(axis = 1)"
      ]
    },
    {
      "cell_type": "code",
      "execution_count": null,
      "metadata": {
        "colab": {
          "base_uri": "https://localhost:8080/"
        },
        "id": "dOU6TZQIFugp",
        "outputId": "22820523-406d-4052-f1f9-d8b9a9bc8662"
      },
      "outputs": [
        {
          "output_type": "execute_result",
          "data": {
            "text/plain": [
              "(1, 9)"
            ]
          },
          "metadata": {},
          "execution_count": 69
        }
      ],
      "source": [
        "final_df.shape"
      ]
    },
    {
      "cell_type": "code",
      "execution_count": null,
      "metadata": {
        "colab": {
          "base_uri": "https://localhost:8080/",
          "height": 98
        },
        "id": "jL3_7JwVFugq",
        "outputId": "22889e45-d5a4-45c4-b4fd-ee1328850ff6"
      },
      "outputs": [
        {
          "output_type": "execute_result",
          "data": {
            "text/plain": [
              "   Name                                             Origin  \\\n",
              "0  Doge  The use of the misspelled word \"doge\" to refer...   \n",
              "\n",
              "                  date_added     views videos photos comments  \\\n",
              "0  2013-07-24T16:29:55-04:00  14109395    105   1795      923   \n",
              "\n",
              "                                               About  \\\n",
              "0  Doge (pronounced /ˈdoʊdʒ/ DOHJ) is a slang ter...   \n",
              "\n",
              "                                          Other_text  \n",
              "0  The use of the misspelled word \"doge\" to refer...  "
            ],
            "text/html": [
              "\n",
              "  <div id=\"df-b97617da-9b85-4f71-9fbc-1b1804216f1e\" class=\"colab-df-container\">\n",
              "    <div>\n",
              "<style scoped>\n",
              "    .dataframe tbody tr th:only-of-type {\n",
              "        vertical-align: middle;\n",
              "    }\n",
              "\n",
              "    .dataframe tbody tr th {\n",
              "        vertical-align: top;\n",
              "    }\n",
              "\n",
              "    .dataframe thead th {\n",
              "        text-align: right;\n",
              "    }\n",
              "</style>\n",
              "<table border=\"1\" class=\"dataframe\">\n",
              "  <thead>\n",
              "    <tr style=\"text-align: right;\">\n",
              "      <th></th>\n",
              "      <th>Name</th>\n",
              "      <th>Origin</th>\n",
              "      <th>date_added</th>\n",
              "      <th>views</th>\n",
              "      <th>videos</th>\n",
              "      <th>photos</th>\n",
              "      <th>comments</th>\n",
              "      <th>About</th>\n",
              "      <th>Other_text</th>\n",
              "    </tr>\n",
              "  </thead>\n",
              "  <tbody>\n",
              "    <tr>\n",
              "      <th>0</th>\n",
              "      <td>Doge</td>\n",
              "      <td>The use of the misspelled word \"doge\" to refer...</td>\n",
              "      <td>2013-07-24T16:29:55-04:00</td>\n",
              "      <td>14109395</td>\n",
              "      <td>105</td>\n",
              "      <td>1795</td>\n",
              "      <td>923</td>\n",
              "      <td>Doge (pronounced /ˈdoʊdʒ/ DOHJ) is a slang ter...</td>\n",
              "      <td>The use of the misspelled word \"doge\" to refer...</td>\n",
              "    </tr>\n",
              "  </tbody>\n",
              "</table>\n",
              "</div>\n",
              "    <div class=\"colab-df-buttons\">\n",
              "\n",
              "  <div class=\"colab-df-container\">\n",
              "    <button class=\"colab-df-convert\" onclick=\"convertToInteractive('df-b97617da-9b85-4f71-9fbc-1b1804216f1e')\"\n",
              "            title=\"Convert this dataframe to an interactive table.\"\n",
              "            style=\"display:none;\">\n",
              "\n",
              "  <svg xmlns=\"http://www.w3.org/2000/svg\" height=\"24px\" viewBox=\"0 -960 960 960\">\n",
              "    <path d=\"M120-120v-720h720v720H120Zm60-500h600v-160H180v160Zm220 220h160v-160H400v160Zm0 220h160v-160H400v160ZM180-400h160v-160H180v160Zm440 0h160v-160H620v160ZM180-180h160v-160H180v160Zm440 0h160v-160H620v160Z\"/>\n",
              "  </svg>\n",
              "    </button>\n",
              "\n",
              "  <style>\n",
              "    .colab-df-container {\n",
              "      display:flex;\n",
              "      gap: 12px;\n",
              "    }\n",
              "\n",
              "    .colab-df-convert {\n",
              "      background-color: #E8F0FE;\n",
              "      border: none;\n",
              "      border-radius: 50%;\n",
              "      cursor: pointer;\n",
              "      display: none;\n",
              "      fill: #1967D2;\n",
              "      height: 32px;\n",
              "      padding: 0 0 0 0;\n",
              "      width: 32px;\n",
              "    }\n",
              "\n",
              "    .colab-df-convert:hover {\n",
              "      background-color: #E2EBFA;\n",
              "      box-shadow: 0px 1px 2px rgba(60, 64, 67, 0.3), 0px 1px 3px 1px rgba(60, 64, 67, 0.15);\n",
              "      fill: #174EA6;\n",
              "    }\n",
              "\n",
              "    .colab-df-buttons div {\n",
              "      margin-bottom: 4px;\n",
              "    }\n",
              "\n",
              "    [theme=dark] .colab-df-convert {\n",
              "      background-color: #3B4455;\n",
              "      fill: #D2E3FC;\n",
              "    }\n",
              "\n",
              "    [theme=dark] .colab-df-convert:hover {\n",
              "      background-color: #434B5C;\n",
              "      box-shadow: 0px 1px 3px 1px rgba(0, 0, 0, 0.15);\n",
              "      filter: drop-shadow(0px 1px 2px rgba(0, 0, 0, 0.3));\n",
              "      fill: #FFFFFF;\n",
              "    }\n",
              "  </style>\n",
              "\n",
              "    <script>\n",
              "      const buttonEl =\n",
              "        document.querySelector('#df-b97617da-9b85-4f71-9fbc-1b1804216f1e button.colab-df-convert');\n",
              "      buttonEl.style.display =\n",
              "        google.colab.kernel.accessAllowed ? 'block' : 'none';\n",
              "\n",
              "      async function convertToInteractive(key) {\n",
              "        const element = document.querySelector('#df-b97617da-9b85-4f71-9fbc-1b1804216f1e');\n",
              "        const dataTable =\n",
              "          await google.colab.kernel.invokeFunction('convertToInteractive',\n",
              "                                                    [key], {});\n",
              "        if (!dataTable) return;\n",
              "\n",
              "        const docLinkHtml = 'Like what you see? Visit the ' +\n",
              "          '<a target=\"_blank\" href=https://colab.research.google.com/notebooks/data_table.ipynb>data table notebook</a>'\n",
              "          + ' to learn more about interactive tables.';\n",
              "        element.innerHTML = '';\n",
              "        dataTable['output_type'] = 'display_data';\n",
              "        await google.colab.output.renderOutput(dataTable, element);\n",
              "        const docLink = document.createElement('div');\n",
              "        docLink.innerHTML = docLinkHtml;\n",
              "        element.appendChild(docLink);\n",
              "      }\n",
              "    </script>\n",
              "  </div>\n",
              "\n",
              "    </div>\n",
              "  </div>\n"
            ]
          },
          "metadata": {},
          "execution_count": 70
        }
      ],
      "source": [
        "final_df.head()"
      ]
    },
    {
      "cell_type": "markdown",
      "metadata": {
        "id": "CSJijjxbFugq"
      },
      "source": [
        "Отлично! Всё работает, мемы качаются, данные наполняются и всё было бы хорошо, если бы не одно но — количество запросов, которое нам придётся сделать, чтобы всё получить."
      ]
    },
    {
      "cell_type": "markdown",
      "metadata": {
        "id": "Zinb3rLUFugq"
      },
      "source": [
        "# 2.  Момент истины\n",
        "\n",
        "Вот он! Тот самый момент абсолютного триумфа, когда код дописан и всё, что нам, мирным собирателям, остаётся — запустить наш код на одну ночку. Кажется, что через страсть мы преобрели силу. Запускаем наш код по всем  страницам с мемами. На всякий случай обернём наш цикл в `try-except`. Мало ли что там с этими мемами бывает."
      ]
    },
    {
      "cell_type": "code",
      "source": [
        "# Немного красивых циклов. При желании пакет можно отключить и\n",
        "# удалить команду tqdm_notebook из всех циклов\n",
        "from tqdm import tqdm_notebook\n",
        "\n",
        "\n",
        "final_df = pd.DataFrame(columns=['name', 'status', 'type', 'origin_year', 'origin_place',\n",
        "                                 'date_added', 'views', 'videos', 'photos', 'comments',\n",
        "                                 'tags', 'about', 'origin', 'other_text'])\n",
        "\n",
        "for page_number in tqdm_notebook(range(1500), desc='Pages'):\n",
        "    # собрали хрефы с текущей страницы\n",
        "    meme_links = getPageLinks(page_number)\n",
        "    for meme_link in tqdm_notebook(meme_links, desc='Memes', leave=False):\n",
        "        # иногда с первого раза страничка не парсится\n",
        "        for i in range(3):\n",
        "            try:\n",
        "                # пытаемся собрать по мему немного даты\n",
        "                data_row = getMemeData(meme_link)\n",
        "                # и закидываем её в таблицу\n",
        "                final_df = final_df.append(data_row, ignore_index=True)\n",
        "                # если всё получилось - выходим из внутреннего цикла\n",
        "                break\n",
        "            except:\n",
        "                # Иначе, пробуем еще несколько раз, пока не закончатся попытки\n",
        "                print('AHTUNG! parsing once again:', meme_link)\n",
        "                continue\n",
        "            time.sleep(0.3)"
      ],
      "metadata": {
        "id": "2m-twXCAOF1v"
      },
      "execution_count": null,
      "outputs": []
    },
    {
      "cell_type": "markdown",
      "metadata": {
        "id": "KanuGui9Fugq"
      },
      "source": [
        "## 2.2 Тор - сын Одина\n",
        "\n",
        "Иногда серверу надоедает общаться с одним и тем же человеком, делающим кучу запросов и сервер банит его. К сожалению, не только у людей запас терпения ограничен.\n",
        "\n",
        "Приходится маскироваться. Для такой маскировки можно использовать разные способы, более того, один из них мы уже использовали, когда притворились человеком в нашем `request-header`. Для текущей же задачи, когда нас вероломно заблокировали по IP, нужно искать способы помощнее, чтобы иметь возможность этот IP менять. Конечно, как вариант можно было бы использовать прокси-сервера, тогда мы бы имели в запасе некоторое количество разных IP адресов, которые можно подставлять по мере \"забанивания\". Однако в этом подходе есть пара проблем: первая - нужно где-то раздобыть эти прокси, вторая - а что если ограниченного числа адресов нам не хватит и нужно больше?\n",
        "\n",
        "В таком случае лучше всего нам подойдёт [Tor](https://www.torproject.org/). Вопреки пропагандируемому мнению, Tor используется не только преступниками, педофилами и прочими нехорошими террористами. Это, мягко говоря, далеко не так, и мы, мирные собиратели данных, являемся тому подтверждением. Всем прелестям, связанным с работой Tor, можно было бы посвятить несколько больших статеек, что собственно говоря уже и сделано. Подробнее про это можно почитатать по следующим ссылкам:\n",
        "\n",
        "* [Как работает Tor](https://geektimes.ru/post/277578/)\n",
        "* [Методы анонимности в сети](https://habrahabr.ru/post/204266/)\n",
        "* [Прокси-сервер с помощью Tor](https://habrahabr.ru/company/etagi/blog/315002/)\n",
        "\n"
      ]
    },
    {
      "cell_type": "code",
      "execution_count": null,
      "metadata": {
        "id": "rAL-xWrQFugr"
      },
      "outputs": [],
      "source": [
        "def checkIP():\n",
        "    ip = requests.get('http://checkip.dyndns.org').content\n",
        "    soup = BeautifulSoup(ip, 'html.parser')\n",
        "    print(soup.find('body').text)"
      ]
    },
    {
      "cell_type": "code",
      "execution_count": null,
      "metadata": {
        "id": "DshD-B1ZFugr"
      },
      "outputs": [],
      "source": [
        "checkIP()"
      ]
    },
    {
      "cell_type": "markdown",
      "metadata": {
        "id": "-lVT1VK3Fugt"
      },
      "source": [
        "\n",
        "\n",
        "\n",
        "## Почиташки\n",
        "\n",
        "* [Неплохая инструкция](https://jarroba.com/anonymous-scraping-by-tor-network/) о самостоятельном парсинге через Tor без использования чужих готовых классов.\n",
        "* [Репозиторий](https://github.com/DmitrySerg/memology) с исследованием мемов.\n",
        "* [Оригинальный кодекс](http://starwars.wikia.com/wiki/Code_of_the_Sith) адепта тёмной стороны силы."
      ]
    },
    {
      "cell_type": "code",
      "execution_count": null,
      "metadata": {
        "id": "9jDW-zBWFugt"
      },
      "outputs": [],
      "source": []
    }
  ],
  "metadata": {
    "kernelspec": {
      "display_name": "Python 3",
      "language": "python",
      "name": "python3"
    },
    "language_info": {
      "codemirror_mode": {
        "name": "ipython",
        "version": 3
      },
      "file_extension": ".py",
      "mimetype": "text/x-python",
      "name": "python",
      "nbconvert_exporter": "python",
      "pygments_lexer": "ipython3",
      "version": "3.6.4"
    },
    "varInspector": {
      "cols": {
        "lenName": 16,
        "lenType": 16,
        "lenVar": 40
      },
      "kernels_config": {
        "python": {
          "delete_cmd_postfix": "",
          "delete_cmd_prefix": "del ",
          "library": "var_list.py",
          "varRefreshCmd": "print(var_dic_list())"
        },
        "r": {
          "delete_cmd_postfix": ") ",
          "delete_cmd_prefix": "rm(",
          "library": "var_list.r",
          "varRefreshCmd": "cat(var_dic_list()) "
        }
      },
      "types_to_exclude": [
        "module",
        "function",
        "builtin_function_or_method",
        "instance",
        "_Feature"
      ],
      "window_display": false
    },
    "colab": {
      "provenance": [],
      "include_colab_link": true
    },
    "widgets": {
      "application/vnd.jupyter.widget-state+json": {
        "09cfb4b502814b4b81fdf93a837660ec": {
          "model_module": "@jupyter-widgets/controls",
          "model_name": "HBoxModel",
          "model_module_version": "1.5.0",
          "state": {
            "_dom_classes": [],
            "_model_module": "@jupyter-widgets/controls",
            "_model_module_version": "1.5.0",
            "_model_name": "HBoxModel",
            "_view_count": null,
            "_view_module": "@jupyter-widgets/controls",
            "_view_module_version": "1.5.0",
            "_view_name": "HBoxView",
            "box_style": "",
            "children": [
              "IPY_MODEL_ea9baf580f604208affdd0d051e34dd9",
              "IPY_MODEL_de4ef222413c405b8cb7d755eedc2150",
              "IPY_MODEL_256e77199e824cee94fba85b8fd00bf5"
            ],
            "layout": "IPY_MODEL_d9616528fee546ea8a3d066b953e5172"
          }
        },
        "ea9baf580f604208affdd0d051e34dd9": {
          "model_module": "@jupyter-widgets/controls",
          "model_name": "HTMLModel",
          "model_module_version": "1.5.0",
          "state": {
            "_dom_classes": [],
            "_model_module": "@jupyter-widgets/controls",
            "_model_module_version": "1.5.0",
            "_model_name": "HTMLModel",
            "_view_count": null,
            "_view_module": "@jupyter-widgets/controls",
            "_view_module_version": "1.5.0",
            "_view_name": "HTMLView",
            "description": "",
            "description_tooltip": null,
            "layout": "IPY_MODEL_f1880de7dbc34a6381681fb40e909f60",
            "placeholder": "​",
            "style": "IPY_MODEL_5f4261b7a8eb46b7b21b4a1c2f909350",
            "value": "100%"
          }
        },
        "de4ef222413c405b8cb7d755eedc2150": {
          "model_module": "@jupyter-widgets/controls",
          "model_name": "FloatProgressModel",
          "model_module_version": "1.5.0",
          "state": {
            "_dom_classes": [],
            "_model_module": "@jupyter-widgets/controls",
            "_model_module_version": "1.5.0",
            "_model_name": "FloatProgressModel",
            "_view_count": null,
            "_view_module": "@jupyter-widgets/controls",
            "_view_module_version": "1.5.0",
            "_view_name": "ProgressView",
            "bar_style": "success",
            "description": "",
            "description_tooltip": null,
            "layout": "IPY_MODEL_88e5a274dca146ee8025b32104f69d8b",
            "max": 16,
            "min": 0,
            "orientation": "horizontal",
            "style": "IPY_MODEL_c79984b3b0a842efb76b3b7ad841484e",
            "value": 16
          }
        },
        "256e77199e824cee94fba85b8fd00bf5": {
          "model_module": "@jupyter-widgets/controls",
          "model_name": "HTMLModel",
          "model_module_version": "1.5.0",
          "state": {
            "_dom_classes": [],
            "_model_module": "@jupyter-widgets/controls",
            "_model_module_version": "1.5.0",
            "_model_name": "HTMLModel",
            "_view_count": null,
            "_view_module": "@jupyter-widgets/controls",
            "_view_module_version": "1.5.0",
            "_view_name": "HTMLView",
            "description": "",
            "description_tooltip": null,
            "layout": "IPY_MODEL_89ebbe461ea84679acf11a58582fe51c",
            "placeholder": "​",
            "style": "IPY_MODEL_db0b1417eef04360b0f340be80bebe77",
            "value": " 16/16 [00:00&lt;00:00, 26.44it/s]"
          }
        },
        "d9616528fee546ea8a3d066b953e5172": {
          "model_module": "@jupyter-widgets/base",
          "model_name": "LayoutModel",
          "model_module_version": "1.2.0",
          "state": {
            "_model_module": "@jupyter-widgets/base",
            "_model_module_version": "1.2.0",
            "_model_name": "LayoutModel",
            "_view_count": null,
            "_view_module": "@jupyter-widgets/base",
            "_view_module_version": "1.2.0",
            "_view_name": "LayoutView",
            "align_content": null,
            "align_items": null,
            "align_self": null,
            "border": null,
            "bottom": null,
            "display": null,
            "flex": null,
            "flex_flow": null,
            "grid_area": null,
            "grid_auto_columns": null,
            "grid_auto_flow": null,
            "grid_auto_rows": null,
            "grid_column": null,
            "grid_gap": null,
            "grid_row": null,
            "grid_template_areas": null,
            "grid_template_columns": null,
            "grid_template_rows": null,
            "height": null,
            "justify_content": null,
            "justify_items": null,
            "left": null,
            "margin": null,
            "max_height": null,
            "max_width": null,
            "min_height": null,
            "min_width": null,
            "object_fit": null,
            "object_position": null,
            "order": null,
            "overflow": null,
            "overflow_x": null,
            "overflow_y": null,
            "padding": null,
            "right": null,
            "top": null,
            "visibility": null,
            "width": null
          }
        },
        "f1880de7dbc34a6381681fb40e909f60": {
          "model_module": "@jupyter-widgets/base",
          "model_name": "LayoutModel",
          "model_module_version": "1.2.0",
          "state": {
            "_model_module": "@jupyter-widgets/base",
            "_model_module_version": "1.2.0",
            "_model_name": "LayoutModel",
            "_view_count": null,
            "_view_module": "@jupyter-widgets/base",
            "_view_module_version": "1.2.0",
            "_view_name": "LayoutView",
            "align_content": null,
            "align_items": null,
            "align_self": null,
            "border": null,
            "bottom": null,
            "display": null,
            "flex": null,
            "flex_flow": null,
            "grid_area": null,
            "grid_auto_columns": null,
            "grid_auto_flow": null,
            "grid_auto_rows": null,
            "grid_column": null,
            "grid_gap": null,
            "grid_row": null,
            "grid_template_areas": null,
            "grid_template_columns": null,
            "grid_template_rows": null,
            "height": null,
            "justify_content": null,
            "justify_items": null,
            "left": null,
            "margin": null,
            "max_height": null,
            "max_width": null,
            "min_height": null,
            "min_width": null,
            "object_fit": null,
            "object_position": null,
            "order": null,
            "overflow": null,
            "overflow_x": null,
            "overflow_y": null,
            "padding": null,
            "right": null,
            "top": null,
            "visibility": null,
            "width": null
          }
        },
        "5f4261b7a8eb46b7b21b4a1c2f909350": {
          "model_module": "@jupyter-widgets/controls",
          "model_name": "DescriptionStyleModel",
          "model_module_version": "1.5.0",
          "state": {
            "_model_module": "@jupyter-widgets/controls",
            "_model_module_version": "1.5.0",
            "_model_name": "DescriptionStyleModel",
            "_view_count": null,
            "_view_module": "@jupyter-widgets/base",
            "_view_module_version": "1.2.0",
            "_view_name": "StyleView",
            "description_width": ""
          }
        },
        "88e5a274dca146ee8025b32104f69d8b": {
          "model_module": "@jupyter-widgets/base",
          "model_name": "LayoutModel",
          "model_module_version": "1.2.0",
          "state": {
            "_model_module": "@jupyter-widgets/base",
            "_model_module_version": "1.2.0",
            "_model_name": "LayoutModel",
            "_view_count": null,
            "_view_module": "@jupyter-widgets/base",
            "_view_module_version": "1.2.0",
            "_view_name": "LayoutView",
            "align_content": null,
            "align_items": null,
            "align_self": null,
            "border": null,
            "bottom": null,
            "display": null,
            "flex": null,
            "flex_flow": null,
            "grid_area": null,
            "grid_auto_columns": null,
            "grid_auto_flow": null,
            "grid_auto_rows": null,
            "grid_column": null,
            "grid_gap": null,
            "grid_row": null,
            "grid_template_areas": null,
            "grid_template_columns": null,
            "grid_template_rows": null,
            "height": null,
            "justify_content": null,
            "justify_items": null,
            "left": null,
            "margin": null,
            "max_height": null,
            "max_width": null,
            "min_height": null,
            "min_width": null,
            "object_fit": null,
            "object_position": null,
            "order": null,
            "overflow": null,
            "overflow_x": null,
            "overflow_y": null,
            "padding": null,
            "right": null,
            "top": null,
            "visibility": null,
            "width": null
          }
        },
        "c79984b3b0a842efb76b3b7ad841484e": {
          "model_module": "@jupyter-widgets/controls",
          "model_name": "ProgressStyleModel",
          "model_module_version": "1.5.0",
          "state": {
            "_model_module": "@jupyter-widgets/controls",
            "_model_module_version": "1.5.0",
            "_model_name": "ProgressStyleModel",
            "_view_count": null,
            "_view_module": "@jupyter-widgets/base",
            "_view_module_version": "1.2.0",
            "_view_name": "StyleView",
            "bar_color": null,
            "description_width": ""
          }
        },
        "89ebbe461ea84679acf11a58582fe51c": {
          "model_module": "@jupyter-widgets/base",
          "model_name": "LayoutModel",
          "model_module_version": "1.2.0",
          "state": {
            "_model_module": "@jupyter-widgets/base",
            "_model_module_version": "1.2.0",
            "_model_name": "LayoutModel",
            "_view_count": null,
            "_view_module": "@jupyter-widgets/base",
            "_view_module_version": "1.2.0",
            "_view_name": "LayoutView",
            "align_content": null,
            "align_items": null,
            "align_self": null,
            "border": null,
            "bottom": null,
            "display": null,
            "flex": null,
            "flex_flow": null,
            "grid_area": null,
            "grid_auto_columns": null,
            "grid_auto_flow": null,
            "grid_auto_rows": null,
            "grid_column": null,
            "grid_gap": null,
            "grid_row": null,
            "grid_template_areas": null,
            "grid_template_columns": null,
            "grid_template_rows": null,
            "height": null,
            "justify_content": null,
            "justify_items": null,
            "left": null,
            "margin": null,
            "max_height": null,
            "max_width": null,
            "min_height": null,
            "min_width": null,
            "object_fit": null,
            "object_position": null,
            "order": null,
            "overflow": null,
            "overflow_x": null,
            "overflow_y": null,
            "padding": null,
            "right": null,
            "top": null,
            "visibility": null,
            "width": null
          }
        },
        "db0b1417eef04360b0f340be80bebe77": {
          "model_module": "@jupyter-widgets/controls",
          "model_name": "DescriptionStyleModel",
          "model_module_version": "1.5.0",
          "state": {
            "_model_module": "@jupyter-widgets/controls",
            "_model_module_version": "1.5.0",
            "_model_name": "DescriptionStyleModel",
            "_view_count": null,
            "_view_module": "@jupyter-widgets/base",
            "_view_module_version": "1.2.0",
            "_view_name": "StyleView",
            "description_width": ""
          }
        }
      }
    }
  },
  "nbformat": 4,
  "nbformat_minor": 0
}