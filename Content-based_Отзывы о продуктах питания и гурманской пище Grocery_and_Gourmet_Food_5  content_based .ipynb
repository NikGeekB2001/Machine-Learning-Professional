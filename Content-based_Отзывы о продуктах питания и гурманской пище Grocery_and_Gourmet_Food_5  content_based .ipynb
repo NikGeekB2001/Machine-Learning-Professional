{
 "cells": [
  {
   "cell_type": "markdown",
   "metadata": {},
   "source": [
    "### Content-based_Отзывы о продуктах питания и гурманской пище file_path = 'Grocery_and_Gourmet_Food_5"
   ]
  },
  {
   "cell_type": "markdown",
   "metadata": {
    "id": "-weEbNKijnSG"
   },
   "source": [
    "- Рекомендательные системы — это комплекс сервисов и программ, который анализирует предпочтения пользователей и пытается предсказать, что может их заинтересовать. Они помогают клиентам определиться с выбором товара или контента, а также повышают лояльность, конверсию и средний чек интернет-магазинов, предприятий быстрого питания, телекоммуникационных и финансовых организаций.\n",
    "- Существует два основных типа рекомендательных систем: контентно-ориентированная и коллаборативная фильтрация.\n",
    "- Контентно-ориентированная фильтрация основана на анализе характеристик товаров и предпочтениях пользователя. Система анализирует содержание товаров, такие как текстовые описания, категории, ключевые слова и т. д., и сопоставляет их с предпочтениями пользователя. На основе этого анализа система предлагает рекомендации, соответствующие интересам пользователя.\n",
    "- Коллаборативная фильтрация рекомендует продукты как на основе оценок самого покупателя, так и на основе явных и неявных предпочтений других пользователей. Например, если вы купили стиральную машину, то коллаборативная система предложит товары, которыми интересовались другие покупатели стиральных машин, а не машину другого бренда.\n",
    "- Универсальных методов не существует, и всё чаще применяется гибридный подход, который сочетает методы для получения максимально точных рекомендаций на имеющихся данных и при минимальных затратах времени."
   ]
  },
  {
   "cell_type": "markdown",
   "metadata": {},
   "source": [
    "- Скачаем набор данных Amazon, который включает отзывы пользователей о различных продуктах. Данные предоставляются в формате JSON и могут быть использованы для экспериментов и анализа данных.\n",
    "- \"5-core\" и \"ratings only\" относятся к двум разным типам данных, доступных на сайте Amazon Review Data.\n",
    "- \"5-core\" относится к подмножеству данных, в котором каждое из оставшихся пользователей и элементов имеет 5 отзывов каждый. Это означает, что если у пользователя было менее 5 отзывов, он был исключен из этого набора данных. Эти данные обычно используются для экспериментов, где требуется большое количество отзывов от каждого пользователя и каждого товара.\n",
    "- \"ratings only\" относится к набору данных, который включает только кортежи (item, user, rating, timestamp). \n",
    "- Каждый поднабор включает информацию об отзывах пользователей, такую как рейтинг, время отзыва, идентификатор отзывателя и текст отзыва. Это означает, что в этих данных нет метаданных или самих отзывов, они включают только рейтинги. "
   ]
  },
  {
   "cell_type": "markdown",
   "metadata": {},
   "source": [
    "Такие данные обычно используются для обучения рекомендательных систем, так как они содержат только необходимые данные для предсказания рейтингов.\n",
    "- Ура, нужно обучить рекомендательную систему, то \"ratings only\" может быть более подходящим."
   ]
  },
  {
   "cell_type": "markdown",
   "metadata": {},
   "source": [
    "Один из способов использования этих данных - это создание системы рекомендаций. Например, вы можете использовать модель матричного факторизации для предсказания рейтингов на основе только рейтинговых данных. Это может быть особенно полезно для компаний, которые хотят улучшить свои системы рекомендаций и увеличить продажи.\n",
    "\n",
    "Другой возможный подход - это анализ отзывов для определения общего мнения клиентов о конкретных продуктах или категориях продуктов. Это может помочь компаниям улучшить свои продукты или изменить свою стратегию маркетинга."
   ]
  },
  {
   "cell_type": "markdown",
   "metadata": {},
   "source": [
    "### Content-based подход на основе поведения пользователя"
   ]
  },
  {
   "cell_type": "markdown",
   "metadata": {
    "id": "B8C2DpJnjnSI"
   },
   "source": [
    "#### Импорт библиотек"
   ]
  },
  {
   "cell_type": "code",
   "execution_count": 1,
   "metadata": {},
   "outputs": [
    {
     "data": {
      "text/html": [
       "<style>.container { width:90% !important; }</style>"
      ],
      "text/plain": [
       "<IPython.core.display.HTML object>"
      ]
     },
     "metadata": {},
     "output_type": "display_data"
    }
   ],
   "source": [
    "# Установка ширины контейнера для отображения\n",
    "from IPython.display import display, HTML\n",
    "display(HTML(\"<style>.container { width:90% !important; }</style>\"))"
   ]
  },
  {
   "cell_type": "code",
   "execution_count": 2,
   "metadata": {
    "id": "NN9-N0-TjnSI"
   },
   "outputs": [],
   "source": [
    "# Импортируем необходимые библиотеки\n",
    "import pandas as pd # Используется для работы с данными\n",
    "import seaborn as sns\n",
    "import matplotlib.pyplot as plt \n",
    "import scipy.sparse as sparse # Используется для работы с разреженными матрицами\n",
    "import numpy as np # Используется для математических операций\n",
    "from scipy.sparse.linalg import spsolve # Функция для решения систем линейных уравнений"
   ]
  },
  {
   "cell_type": "code",
   "execution_count": 4,
   "metadata": {},
   "outputs": [],
   "source": [
    "# Импортируем необходимые библиотеки по построению модели\n",
    "from sklearn.model_selection import train_test_split  # Для разделения данных на обучающую и тестовую выборки\n",
    "from sklearn.metrics import mean_squared_error  # Для вычисления среднеквадратичной ошибки\n",
    "from math import sqrt  # Для вычисления квадратного корня\n",
    "from sklearn.feature_extraction.text import TfidfVectorizer, TfidfTransformer  # Для преобразования текста в векторы TF-IDF\n",
    "from sklearn.metrics.pairwise import linear_kernel, cosine_similarity  # Для вычисления линейного ядра и косинусного сходства\n",
    "from sklearn.neighbors import NearestNeighbors  # Для построения модели ближайших соседей"
   ]
  },
  {
   "cell_type": "code",
   "execution_count": 5,
   "metadata": {
    "id": "OXb4-0HMjnSJ"
   },
   "outputs": [],
   "source": [
    "from typing import List, Dict # Импортируем типы List и Dict из модуля typing"
   ]
  },
  {
   "cell_type": "code",
   "execution_count": 6,
   "metadata": {
    "id": "50BLVB2HjnSJ"
   },
   "outputs": [],
   "source": [
    "# Импорт класса TfidfVectorizer из модуля feature_extraction.text\n",
    "from sklearn.feature_extraction.text import TfidfVectorizer \n",
    "\n",
    "# Импорт функции cosine_similarity из модуля metrics.pairwise\n",
    "from sklearn.metrics.pairwise import cosine_similarity "
   ]
  },
  {
   "cell_type": "markdown",
   "metadata": {
    "id": "o509HNXVjnSJ"
   },
   "source": [
    " - Как видно из описания, в этом наборе данных Grocery and Gourmet Food\n",
    "- Бакалея и еда для гурманов\tсодержатся Метаданные, такие как текст отзыва или описание товара, включены в набор данных \"Office Products\" в разделе \"5-core\". Этот набор данных содержит полные отзывы пользователей, включая текст отзыва, рейтинг, время отзыва и другие детали.\n",
    "- \"Бакалея и еда для гурманов\" относится к категории товаров на Amazon, которые включают в себя различные виды продуктов питания и напитков. Эта категория может включать в себя все, от сыра и хлеба до специализированных продуктов питания и напитков."
   ]
  },
  {
   "cell_type": "markdown",
   "metadata": {
    "id": "8_Tu9XGZjnSJ"
   },
   "source": [
    "#### Загружаем датасет"
   ]
  },
  {
   "cell_type": "code",
   "execution_count": 7,
   "metadata": {},
   "outputs": [
    {
     "name": "stdout",
     "output_type": "stream",
     "text": [
      "   overall  verified   reviewTime      reviewerID        asin  \\\n",
      "0        5      True  11 19, 2014  A1QVBUH9E1V6I8  4639725183   \n",
      "1        5      True  10 13, 2016  A3GEOILWLK86XM  4639725183   \n",
      "2        5      True  11 21, 2015  A32RD6L701BIGP  4639725183   \n",
      "3        5      True  08 12, 2015  A2UY1O1FBGKIE6  4639725183   \n",
      "4        5      True  05 28, 2015  A3QHVBQYDV7Z6U  4639725183   \n",
      "\n",
      "      reviewerName                                         reviewText  \\\n",
      "0   Jamshed Mathur                                No adverse comment.   \n",
      "1        itsjustme                          Gift for college student.   \n",
      "2  Krystal Clifton  If you like strong tea, this is for you. It mi...   \n",
      "3          U. Kane  Love the tea. The flavor is way better than th...   \n",
      "4         The Nana  I have searched everywhere until I browsed Ama...   \n",
      "\n",
      "                         summary  unixReviewTime vote style image  \n",
      "0                     Five Stars      1416355200  NaN   NaN   NaN  \n",
      "1                 Great product.      1476316800  NaN   NaN   NaN  \n",
      "2                         Strong      1448064000  NaN   NaN   NaN  \n",
      "3                      Great tea      1439337600  NaN   NaN   NaN  \n",
      "4  This is the tea I remembered!      1432771200  NaN   NaN   NaN  \n"
     ]
    }
   ],
   "source": [
    "import pandas as pd\n",
    "\n",
    "# Путь к файлу с отзывами о продуктах питания и гурманской пище\n",
    "file_path = 'Grocery_and_Gourmet_Food_5.json.gz'  # Замените на актуальный путь к файлу\n",
    "\n",
    "# Чтение JSON файла по частям с использованием chunksize\n",
    "chunk_size =  10000  # Размер части данных для чтения за один раз\n",
    "chunks = []\n",
    "\n",
    "for chunk in pd.read_json(file_path, lines=True, chunksize=chunk_size):\n",
    "    chunks.append(chunk)\n",
    "\n",
    "# Объединение всех частей в один DataFrame\n",
    "retail_data = pd.concat(chunks, ignore_index=True)\n",
    "\n",
    "# Вывод первых пяти строк DataFrame\n",
    "print(retail_data.head())\n"
   ]
  },
  {
   "cell_type": "markdown",
   "metadata": {},
   "source": [
    " - Используем функцию pd.read_json из библиотеки pandas для чтения больших JSON файлов по частям (или \"чанкам\"), что позволяет обрабатывать данные в удобных порциях, не загружая всё файл в память сразу. Это особенно полезно при работе с большими наборами данных."
   ]
  },
  {
   "cell_type": "markdown",
   "metadata": {},
   "source": [
    "## 1. Проводим предпроверочный анализ"
   ]
  },
  {
   "cell_type": "code",
   "execution_count": 8,
   "metadata": {},
   "outputs": [
    {
     "data": {
      "text/html": [
       "<div>\n",
       "<style scoped>\n",
       "    .dataframe tbody tr th:only-of-type {\n",
       "        vertical-align: middle;\n",
       "    }\n",
       "\n",
       "    .dataframe tbody tr th {\n",
       "        vertical-align: top;\n",
       "    }\n",
       "\n",
       "    .dataframe thead th {\n",
       "        text-align: right;\n",
       "    }\n",
       "</style>\n",
       "<table border=\"1\" class=\"dataframe\">\n",
       "  <thead>\n",
       "    <tr style=\"text-align: right;\">\n",
       "      <th></th>\n",
       "      <th>overall</th>\n",
       "      <th>verified</th>\n",
       "      <th>reviewTime</th>\n",
       "      <th>reviewerID</th>\n",
       "      <th>asin</th>\n",
       "      <th>reviewerName</th>\n",
       "      <th>reviewText</th>\n",
       "      <th>summary</th>\n",
       "      <th>unixReviewTime</th>\n",
       "      <th>vote</th>\n",
       "      <th>style</th>\n",
       "      <th>image</th>\n",
       "    </tr>\n",
       "  </thead>\n",
       "  <tbody>\n",
       "    <tr>\n",
       "      <th>0</th>\n",
       "      <td>5</td>\n",
       "      <td>True</td>\n",
       "      <td>11 19, 2014</td>\n",
       "      <td>A1QVBUH9E1V6I8</td>\n",
       "      <td>4639725183</td>\n",
       "      <td>Jamshed Mathur</td>\n",
       "      <td>No adverse comment.</td>\n",
       "      <td>Five Stars</td>\n",
       "      <td>1416355200</td>\n",
       "      <td>NaN</td>\n",
       "      <td>NaN</td>\n",
       "      <td>NaN</td>\n",
       "    </tr>\n",
       "    <tr>\n",
       "      <th>1</th>\n",
       "      <td>5</td>\n",
       "      <td>True</td>\n",
       "      <td>10 13, 2016</td>\n",
       "      <td>A3GEOILWLK86XM</td>\n",
       "      <td>4639725183</td>\n",
       "      <td>itsjustme</td>\n",
       "      <td>Gift for college student.</td>\n",
       "      <td>Great product.</td>\n",
       "      <td>1476316800</td>\n",
       "      <td>NaN</td>\n",
       "      <td>NaN</td>\n",
       "      <td>NaN</td>\n",
       "    </tr>\n",
       "    <tr>\n",
       "      <th>2</th>\n",
       "      <td>5</td>\n",
       "      <td>True</td>\n",
       "      <td>11 21, 2015</td>\n",
       "      <td>A32RD6L701BIGP</td>\n",
       "      <td>4639725183</td>\n",
       "      <td>Krystal Clifton</td>\n",
       "      <td>If you like strong tea, this is for you. It mi...</td>\n",
       "      <td>Strong</td>\n",
       "      <td>1448064000</td>\n",
       "      <td>NaN</td>\n",
       "      <td>NaN</td>\n",
       "      <td>NaN</td>\n",
       "    </tr>\n",
       "    <tr>\n",
       "      <th>3</th>\n",
       "      <td>5</td>\n",
       "      <td>True</td>\n",
       "      <td>08 12, 2015</td>\n",
       "      <td>A2UY1O1FBGKIE6</td>\n",
       "      <td>4639725183</td>\n",
       "      <td>U. Kane</td>\n",
       "      <td>Love the tea. The flavor is way better than th...</td>\n",
       "      <td>Great tea</td>\n",
       "      <td>1439337600</td>\n",
       "      <td>NaN</td>\n",
       "      <td>NaN</td>\n",
       "      <td>NaN</td>\n",
       "    </tr>\n",
       "    <tr>\n",
       "      <th>4</th>\n",
       "      <td>5</td>\n",
       "      <td>True</td>\n",
       "      <td>05 28, 2015</td>\n",
       "      <td>A3QHVBQYDV7Z6U</td>\n",
       "      <td>4639725183</td>\n",
       "      <td>The Nana</td>\n",
       "      <td>I have searched everywhere until I browsed Ama...</td>\n",
       "      <td>This is the tea I remembered!</td>\n",
       "      <td>1432771200</td>\n",
       "      <td>NaN</td>\n",
       "      <td>NaN</td>\n",
       "      <td>NaN</td>\n",
       "    </tr>\n",
       "  </tbody>\n",
       "</table>\n",
       "</div>"
      ],
      "text/plain": [
       "   overall  verified   reviewTime      reviewerID        asin  \\\n",
       "0        5      True  11 19, 2014  A1QVBUH9E1V6I8  4639725183   \n",
       "1        5      True  10 13, 2016  A3GEOILWLK86XM  4639725183   \n",
       "2        5      True  11 21, 2015  A32RD6L701BIGP  4639725183   \n",
       "3        5      True  08 12, 2015  A2UY1O1FBGKIE6  4639725183   \n",
       "4        5      True  05 28, 2015  A3QHVBQYDV7Z6U  4639725183   \n",
       "\n",
       "      reviewerName                                         reviewText  \\\n",
       "0   Jamshed Mathur                                No adverse comment.   \n",
       "1        itsjustme                          Gift for college student.   \n",
       "2  Krystal Clifton  If you like strong tea, this is for you. It mi...   \n",
       "3          U. Kane  Love the tea. The flavor is way better than th...   \n",
       "4         The Nana  I have searched everywhere until I browsed Ama...   \n",
       "\n",
       "                         summary  unixReviewTime vote style image  \n",
       "0                     Five Stars      1416355200  NaN   NaN   NaN  \n",
       "1                 Great product.      1476316800  NaN   NaN   NaN  \n",
       "2                         Strong      1448064000  NaN   NaN   NaN  \n",
       "3                      Great tea      1439337600  NaN   NaN   NaN  \n",
       "4  This is the tea I remembered!      1432771200  NaN   NaN   NaN  "
      ]
     },
     "execution_count": 8,
     "metadata": {},
     "output_type": "execute_result"
    }
   ],
   "source": [
    "# Вывод первых пяти строк данных\n",
    "retail_data.head()"
   ]
  },
  {
   "cell_type": "markdown",
   "metadata": {},
   "source": [
    "- Используем библиотеку pandas для чтения данных из сжатого JSON файла с отзывами о продуктах питания и гурманской пище. \n",
    "- ниже представлен перевод на русский язык:\n",
    "- overall — общий рейтинг товара.\n",
    "- verified — флаг подтверждения отзыва.\n",
    "- reviewTime — время отзыва в читаемом формате.\n",
    "- reviewerID — идентификатор пользователя-автора отзыва.\n",
    "- asin — идентификатор товара Amazon Standard Identification Number.\n",
    "- reviewerName — имя пользователя-автора отзыва.\n",
    "- reviewText — текст отзыва.\n",
    "- summary — краткое содержание отзыва.\n",
    "- unixReviewTime — время отзыва в формате Unix timestamp.\n",
    "- vote — количество полезных голосов для отзыва.\n",
    "- style — метаданные товара (например, формат, цвет и т.д.).\n",
    "- image — изображения, добавленные пользователем после получения товара."
   ]
  },
  {
   "cell_type": "code",
   "execution_count": 9,
   "metadata": {},
   "outputs": [
    {
     "data": {
      "text/plain": [
       "(1143860, 12)"
      ]
     },
     "execution_count": 9,
     "metadata": {},
     "output_type": "execute_result"
    }
   ],
   "source": [
    "# Смотрим на размерность\n",
    "retail_data.shape"
   ]
  },
  {
   "cell_type": "markdown",
   "metadata": {},
   "source": [
    "### Препроцессинг"
   ]
  },
  {
   "cell_type": "code",
   "execution_count": 10,
   "metadata": {},
   "outputs": [
    {
     "name": "stdout",
     "output_type": "stream",
     "text": [
      "count    1.143860e+06\n",
      "mean     4.442209e+00\n",
      "std      1.063901e+00\n",
      "min      1.000000e+00\n",
      "25%      4.000000e+00\n",
      "50%      5.000000e+00\n",
      "75%      5.000000e+00\n",
      "max      5.000000e+00\n",
      "Name: overall, dtype: float64\n"
     ]
    }
   ],
   "source": [
    "# Анализируем колонку\n",
    "# Статистика по рейтингам\n",
    "print(retail_data['overall'].describe())"
   ]
  },
  {
   "cell_type": "code",
   "execution_count": 11,
   "metadata": {},
   "outputs": [
    {
     "data": {
      "text/plain": [
       "summary\n",
       "Five Stars                                                                                    231688\n",
       "Four Stars                                                                                     35910\n",
       "Three Stars                                                                                    16120\n",
       "One Star                                                                                        7222\n",
       "Two Stars                                                                                       6603\n",
       "                                                                                               ...  \n",
       "The packaging & presentation is very nice. Makes for good gift for a tea-lover                     1\n",
       "Ok for total newcomers -- overpriced waste of your money for people that know their stuff.         1\n",
       "These are pretty good teas                                                                         1\n",
       "so I have no idea of how it was liked. As far as shipping                                          1\n",
       "This is as close to Ranch as I will ever be able to have and it is good.                           1\n",
       "Name: count, Length: 526954, dtype: int64"
      ]
     },
     "execution_count": 11,
     "metadata": {},
     "output_type": "execute_result"
    }
   ],
   "source": [
    "# Анализируем колонку\n",
    "retail_data['summary'].value_counts()"
   ]
  },
  {
   "cell_type": "code",
   "execution_count": 12,
   "metadata": {},
   "outputs": [
    {
     "data": {
      "image/png": "[encoded data removed]",
      "text/plain": [
       "<Figure size 640x480 with 1 Axes>"
      ]
     },
     "metadata": {},
     "output_type": "display_data"
    }
   ],
   "source": [
    "# Распределение рейтингов\n",
    "sns.countplot(x='overall', data=retail_data)\n",
    "plt.title('Распределение рейтингов')\n",
    "plt.xlabel('Рейтинг')\n",
    "plt.ylabel('Количество')\n",
    "plt.show()"
   ]
  },
  {
   "cell_type": "code",
   "execution_count": 13,
   "metadata": {},
   "outputs": [
    {
     "data": {
      "text/plain": [
       "41320"
      ]
     },
     "execution_count": 13,
     "metadata": {},
     "output_type": "execute_result"
    }
   ],
   "source": [
    "# Количество уникальных товаров\n",
    "retail_data['asin'].nunique()"
   ]
  },
  {
   "cell_type": "code",
   "execution_count": 14,
   "metadata": {},
   "outputs": [
    {
     "data": {
      "text/plain": [
       "overall                 0\n",
       "verified                0\n",
       "reviewTime              0\n",
       "reviewerID              0\n",
       "asin                    0\n",
       "reviewerName          138\n",
       "reviewText            390\n",
       "summary               219\n",
       "unixReviewTime          0\n",
       "vote               985658\n",
       "style              551774\n",
       "image             1134350\n",
       "dtype: int64"
      ]
     },
     "execution_count": 14,
     "metadata": {},
     "output_type": "execute_result"
    }
   ],
   "source": [
    "# Работа с пропущенными значениями\n",
    "retail_data.isnull().sum()"
   ]
  },
  {
   "cell_type": "markdown",
   "metadata": {},
   "source": [
    "- Используем asin и reviewText для контентной фильтрации.\n",
    "- Контентная фильтрация — это метод рекомендательных систем, который основан на анализе характеристик товаров и предпочтениях пользователя.\n",
    "- Система анализирует содержание товаров, такие как текстовые описания, категории, ключевые слова и т. д., и сопоставляет их с предпочтениями пользователя. На основе этого анализа система предлагает рекомендации, соответствующие интересам пользователя."
   ]
  },
  {
   "cell_type": "code",
   "execution_count": 15,
   "metadata": {},
   "outputs": [
    {
     "name": "stdout",
     "output_type": "stream",
     "text": [
      "     overall  verified   reviewTime      reviewerID        asin  \\\n",
      "393        4      True   05 7, 2016  A2R0EBFJFCNSZM  B00006FWVX   \n",
      "578        5      True  11 19, 2015  A1QC1C545QHNZG  B00008RCN8   \n",
      "873        3      True   08 5, 2011   ALJ77PYM7D513  B0000CD02T   \n",
      "961        5      True  08 13, 2017  A1Q5AHXG0HVV34  B0000CFH7B   \n",
      "978        4      True  06 16, 2016  A21DSKR8PDX0ZY  B0000CFH7B   \n",
      "\n",
      "           reviewerName                                         reviewText  \\\n",
      "393               356NV  I love using these colors to dye my white cand...   \n",
      "578              yalcin  The best price you could ever get, Fresh made ...   \n",
      "873    Mrs. Mia Wallace  Usually a big fan of Bob's Red Mill products, ...   \n",
      "961          City Chick  I am writing this based on my use with FROSTIN...   \n",
      "978  KrystalHagerty1234  Really cool spray.  Be sure that whatever your...   \n",
      "\n",
      "                                               summary  unixReviewTime  vote  \\\n",
      "393                                Nice, solid colors.      1462579200  14.0   \n",
      "578     Best Price, Best Quality, Fresh Out of the Box      1447891200   4.0   \n",
      "873                            Too grainy for my taste      1312502400   2.0   \n",
      "961  Safe, successful and effective way of coloring...      1502582400  13.0   \n",
      "978                                   Really cool idea      1466035200   7.0   \n",
      "\n",
      "                                  style  \\\n",
      "393              {'Color:': ' Primary'}   \n",
      "578          {'Flavor:': ' Wintermint'}   \n",
      "873  {'Size:': ' 24 Ounce (Pack of 4)'}   \n",
      "961     {'Color:': ' Pearl Color Mist'}   \n",
      "978                 {'Color:': ' Gold'}   \n",
      "\n",
      "                                                 image  \n",
      "393  [https://images-na.ssl-images-amazon.com/image...  \n",
      "578  [https://images-na.ssl-images-amazon.com/image...  \n",
      "873  [https://images-na.ssl-images-amazon.com/image...  \n",
      "961  [https://images-na.ssl-images-amazon.com/image...  \n",
      "978  [https://images-na.ssl-images-amazon.com/image...  \n"
     ]
    }
   ],
   "source": [
    "# Чтение данных из Excel-файла\n",
    "# retail_data = pd.read_excel('Grocery_and_Gourmet_Food_5.xlsx')\n",
    "\n",
    "# Удаление строк, где количество равно  0\n",
    "retail_data = retail_data[retail_data.overall >  0]\n",
    "\n",
    "# Удаление строк с пропущенными значениями\n",
    "retail_data = retail_data.dropna()\n",
    "\n",
    "# Вывод первых пяти строк данных\n",
    "print(retail_data.head())"
   ]
  },
  {
   "cell_type": "markdown",
   "metadata": {},
   "source": [
    "Видим, что каждая запись в данных включает в себя идентификатор товара, идентификатор пользователя, который оставил отзыв, рейтинг, который он дал, и временную метку отзыва. "
   ]
  },
  {
   "cell_type": "markdown",
   "metadata": {},
   "source": [
    "использовать asin для контентной фильтрации, так как это уникальный идентификатор товара, который позволяет сравнивать разные отзывы о одном и том же продукте. Для анализа текста вы можете выбрать столбец reviewText или summary в зависимости от вашей цели. Если вы хотите анализировать более подробные и развернутые мнения клиентов, то лучше использовать reviewText, так как это полный текст отзыва. Если вы хотите анализировать более краткие и сжатые высказывания, то лучше использовать summary, так как это короткое изложение основной мысли отзыва. Оба столбца содержат полезную информацию для анализа текста, но имеют разную длину и степень детализации. Вы можете также комбинировать оба столбца, чтобы получить более полное представление о текстах отзывов"
   ]
  },
  {
   "cell_type": "code",
   "execution_count": 16,
   "metadata": {},
   "outputs": [
    {
     "data": {
      "text/html": [
       "<div>\n",
       "<style scoped>\n",
       "    .dataframe tbody tr th:only-of-type {\n",
       "        vertical-align: middle;\n",
       "    }\n",
       "\n",
       "    .dataframe tbody tr th {\n",
       "        vertical-align: top;\n",
       "    }\n",
       "\n",
       "    .dataframe thead th {\n",
       "        text-align: right;\n",
       "    }\n",
       "</style>\n",
       "<table border=\"1\" class=\"dataframe\">\n",
       "  <thead>\n",
       "    <tr style=\"text-align: right;\">\n",
       "      <th></th>\n",
       "      <th>overall</th>\n",
       "      <th>verified</th>\n",
       "      <th>reviewTime</th>\n",
       "      <th>reviewerID</th>\n",
       "      <th>asin</th>\n",
       "      <th>reviewerName</th>\n",
       "      <th>reviewText</th>\n",
       "      <th>summary</th>\n",
       "      <th>unixReviewTime</th>\n",
       "      <th>vote</th>\n",
       "      <th>style</th>\n",
       "      <th>image</th>\n",
       "    </tr>\n",
       "  </thead>\n",
       "  <tbody>\n",
       "    <tr>\n",
       "      <th>393</th>\n",
       "      <td>4</td>\n",
       "      <td>True</td>\n",
       "      <td>05 7, 2016</td>\n",
       "      <td>A2R0EBFJFCNSZM</td>\n",
       "      <td>B00006FWVX</td>\n",
       "      <td>356NV</td>\n",
       "      <td>I love using these colors to dye my white cand...</td>\n",
       "      <td>Nice, solid colors.</td>\n",
       "      <td>1462579200</td>\n",
       "      <td>14.0</td>\n",
       "      <td>{'Color:': ' Primary'}</td>\n",
       "      <td>[https://images-na.ssl-images-amazon.com/image...</td>\n",
       "    </tr>\n",
       "    <tr>\n",
       "      <th>578</th>\n",
       "      <td>5</td>\n",
       "      <td>True</td>\n",
       "      <td>11 19, 2015</td>\n",
       "      <td>A1QC1C545QHNZG</td>\n",
       "      <td>B00008RCN8</td>\n",
       "      <td>yalcin</td>\n",
       "      <td>The best price you could ever get, Fresh made ...</td>\n",
       "      <td>Best Price, Best Quality, Fresh Out of the Box</td>\n",
       "      <td>1447891200</td>\n",
       "      <td>4.0</td>\n",
       "      <td>{'Flavor:': ' Wintermint'}</td>\n",
       "      <td>[https://images-na.ssl-images-amazon.com/image...</td>\n",
       "    </tr>\n",
       "    <tr>\n",
       "      <th>873</th>\n",
       "      <td>3</td>\n",
       "      <td>True</td>\n",
       "      <td>08 5, 2011</td>\n",
       "      <td>ALJ77PYM7D513</td>\n",
       "      <td>B0000CD02T</td>\n",
       "      <td>Mrs. Mia Wallace</td>\n",
       "      <td>Usually a big fan of Bob's Red Mill products, ...</td>\n",
       "      <td>Too grainy for my taste</td>\n",
       "      <td>1312502400</td>\n",
       "      <td>2.0</td>\n",
       "      <td>{'Size:': ' 24 Ounce (Pack of 4)'}</td>\n",
       "      <td>[https://images-na.ssl-images-amazon.com/image...</td>\n",
       "    </tr>\n",
       "    <tr>\n",
       "      <th>961</th>\n",
       "      <td>5</td>\n",
       "      <td>True</td>\n",
       "      <td>08 13, 2017</td>\n",
       "      <td>A1Q5AHXG0HVV34</td>\n",
       "      <td>B0000CFH7B</td>\n",
       "      <td>City Chick</td>\n",
       "      <td>I am writing this based on my use with FROSTIN...</td>\n",
       "      <td>Safe, successful and effective way of coloring...</td>\n",
       "      <td>1502582400</td>\n",
       "      <td>13.0</td>\n",
       "      <td>{'Color:': ' Pearl Color Mist'}</td>\n",
       "      <td>[https://images-na.ssl-images-amazon.com/image...</td>\n",
       "    </tr>\n",
       "    <tr>\n",
       "      <th>978</th>\n",
       "      <td>4</td>\n",
       "      <td>True</td>\n",
       "      <td>06 16, 2016</td>\n",
       "      <td>A21DSKR8PDX0ZY</td>\n",
       "      <td>B0000CFH7B</td>\n",
       "      <td>KrystalHagerty1234</td>\n",
       "      <td>Really cool spray.  Be sure that whatever your...</td>\n",
       "      <td>Really cool idea</td>\n",
       "      <td>1466035200</td>\n",
       "      <td>7.0</td>\n",
       "      <td>{'Color:': ' Gold'}</td>\n",
       "      <td>[https://images-na.ssl-images-amazon.com/image...</td>\n",
       "    </tr>\n",
       "  </tbody>\n",
       "</table>\n",
       "</div>"
      ],
      "text/plain": [
       "     overall  verified   reviewTime      reviewerID        asin  \\\n",
       "393        4      True   05 7, 2016  A2R0EBFJFCNSZM  B00006FWVX   \n",
       "578        5      True  11 19, 2015  A1QC1C545QHNZG  B00008RCN8   \n",
       "873        3      True   08 5, 2011   ALJ77PYM7D513  B0000CD02T   \n",
       "961        5      True  08 13, 2017  A1Q5AHXG0HVV34  B0000CFH7B   \n",
       "978        4      True  06 16, 2016  A21DSKR8PDX0ZY  B0000CFH7B   \n",
       "\n",
       "           reviewerName                                         reviewText  \\\n",
       "393               356NV  I love using these colors to dye my white cand...   \n",
       "578              yalcin  The best price you could ever get, Fresh made ...   \n",
       "873    Mrs. Mia Wallace  Usually a big fan of Bob's Red Mill products, ...   \n",
       "961          City Chick  I am writing this based on my use with FROSTIN...   \n",
       "978  KrystalHagerty1234  Really cool spray.  Be sure that whatever your...   \n",
       "\n",
       "                                               summary  unixReviewTime  vote  \\\n",
       "393                                Nice, solid colors.      1462579200  14.0   \n",
       "578     Best Price, Best Quality, Fresh Out of the Box      1447891200   4.0   \n",
       "873                            Too grainy for my taste      1312502400   2.0   \n",
       "961  Safe, successful and effective way of coloring...      1502582400  13.0   \n",
       "978                                   Really cool idea      1466035200   7.0   \n",
       "\n",
       "                                  style  \\\n",
       "393              {'Color:': ' Primary'}   \n",
       "578          {'Flavor:': ' Wintermint'}   \n",
       "873  {'Size:': ' 24 Ounce (Pack of 4)'}   \n",
       "961     {'Color:': ' Pearl Color Mist'}   \n",
       "978                 {'Color:': ' Gold'}   \n",
       "\n",
       "                                                 image  \n",
       "393  [https://images-na.ssl-images-amazon.com/image...  \n",
       "578  [https://images-na.ssl-images-amazon.com/image...  \n",
       "873  [https://images-na.ssl-images-amazon.com/image...  \n",
       "961  [https://images-na.ssl-images-amazon.com/image...  \n",
       "978  [https://images-na.ssl-images-amazon.com/image...  "
      ]
     },
     "execution_count": 16,
     "metadata": {},
     "output_type": "execute_result"
    }
   ],
   "source": [
    "# Вывод первых пяти строк данных\n",
    "retail_data.head()"
   ]
  },
  {
   "cell_type": "markdown",
   "metadata": {
    "id": "MzbZPWXHjnSL"
   },
   "source": [
    "В content-based рекоммендательной системе мы будет по купленным товары искать похожие товары, то есть товары с похожим описанием. Для этого созданим таблицу с описаниями товаров."
   ]
  },
  {
   "cell_type": "code",
   "execution_count": 17,
   "metadata": {},
   "outputs": [
    {
     "name": "stdout",
     "output_type": "stream",
     "text": [
      "(2940, 2)\n"
     ]
    },
    {
     "data": {
      "text/html": [
       "<div>\n",
       "<style scoped>\n",
       "    .dataframe tbody tr th:only-of-type {\n",
       "        vertical-align: middle;\n",
       "    }\n",
       "\n",
       "    .dataframe tbody tr th {\n",
       "        vertical-align: top;\n",
       "    }\n",
       "\n",
       "    .dataframe thead th {\n",
       "        text-align: right;\n",
       "    }\n",
       "</style>\n",
       "<table border=\"1\" class=\"dataframe\">\n",
       "  <thead>\n",
       "    <tr style=\"text-align: right;\">\n",
       "      <th></th>\n",
       "      <th>asin</th>\n",
       "      <th>reviewText</th>\n",
       "    </tr>\n",
       "  </thead>\n",
       "  <tbody>\n",
       "    <tr>\n",
       "      <th>0</th>\n",
       "      <td>B00006FWVX</td>\n",
       "      <td>i love using these colors to dye my white cand...</td>\n",
       "    </tr>\n",
       "    <tr>\n",
       "      <th>1</th>\n",
       "      <td>B00008RCN8</td>\n",
       "      <td>the best price you could ever get, fresh made ...</td>\n",
       "    </tr>\n",
       "    <tr>\n",
       "      <th>2</th>\n",
       "      <td>B0000CD02T</td>\n",
       "      <td>usually a big fan of bob's red mill products, ...</td>\n",
       "    </tr>\n",
       "    <tr>\n",
       "      <th>3</th>\n",
       "      <td>B0000CFH7B</td>\n",
       "      <td>i am writing this based on my use with frostin...</td>\n",
       "    </tr>\n",
       "    <tr>\n",
       "      <th>4</th>\n",
       "      <td>B0000CFH7B</td>\n",
       "      <td>really cool spray.  be sure that whatever your...</td>\n",
       "    </tr>\n",
       "  </tbody>\n",
       "</table>\n",
       "</div>"
      ],
      "text/plain": [
       "         asin                                         reviewText\n",
       "0  B00006FWVX  i love using these colors to dye my white cand...\n",
       "1  B00008RCN8  the best price you could ever get, fresh made ...\n",
       "2  B0000CD02T  usually a big fan of bob's red mill products, ...\n",
       "3  B0000CFH7B  i am writing this based on my use with frostin...\n",
       "4  B0000CFH7B  really cool spray.  be sure that whatever your..."
      ]
     },
     "execution_count": 17,
     "metadata": {},
     "output_type": "execute_result"
    }
   ],
   "source": [
    "# Создание таблицы item_lookup с двумя столбцами: asin и reviewText\n",
    "# Удаление дубликатов по этим столбцам\n",
    "item_lookup = retail_data[['asin', 'reviewText']].drop_duplicates()\n",
    "\n",
    "# Преобразование столбца asin в строковый тип данных\n",
    "# Удаление пропущенных значений в этом столбце\n",
    "item_lookup['asin'] = item_lookup.asin.astype(str).dropna()\n",
    "\n",
    "# Преобразование всех символов в столбце reviewText в нижний регистр\n",
    "item_lookup.reviewText = item_lookup.reviewText.apply(lambda x: x.lower())\n",
    "\n",
    "# Сброс индексов таблицы\n",
    "item_lookup = item_lookup.reset_index(drop = True)\n",
    "\n",
    "# Вывод размера таблицы (количество строк и столбцов)\n",
    "print(item_lookup.shape)\n",
    "\n",
    "# Вывод первых пяти строк таблицы\n",
    "item_lookup.head()\n"
   ]
  },
  {
   "cell_type": "markdown",
   "metadata": {},
   "source": [
    "- Представляем тексты в виде векторов, находим по косинусной расстоянию самые близкие тексты\n",
    "- Предварительная обработка текста: Тексты (например, отзывы или описания товаров) преобразуются в векторы, используя техники, такие как Term Frequency-Inverse Document Frequency (TF-IDF), которые учитывают важность слов в документе относительно остальной коллекции документов.\n",
    "- Вычисление векторов: Каждому элементу (например, товару или отзыву) присваивается вектор признаков, основанный на его текстовой информации."
   ]
  },
  {
   "cell_type": "markdown",
   "metadata": {},
   "source": [
    "## 2. Построение рекомендательной системы"
   ]
  },
  {
   "cell_type": "markdown",
   "metadata": {
    "id": "SpE70HO7jnSL"
   },
   "source": [
    "### Контентная фильтрация\n",
    "\n",
    "Content-based-метод основан на предыдущих покупках пользователя. Будем искать товары с похожим описанием и рекомендовать их пользователю.\n",
    "\n",
    "Для определения схожести товаров мы можем извлекать важные слова или словосочетания из отзывов и затем, базируясь на этом, составлять систему рекомендаций.\n",
    "\n",
    "Будем использовать метод TF-IDF (TF — term frequency, IDF — inverse document frequency) для построения системы."
   ]
  },
  {
   "cell_type": "markdown",
   "metadata": {
    "id": "vBOD3VnRjnSU"
   },
   "source": [
    "\n",
    "Выполняем TF-IDF и считаем скор для каждого описания товара."
   ]
  },
  {
   "cell_type": "code",
   "execution_count": 18,
   "metadata": {
    "id": "QlPdUgcUjnSU"
   },
   "outputs": [],
   "source": [
    "# Импортируем классы TfidfVectorizer и TfidfTransformer из библиотеки sklearn\n",
    "from sklearn.feature_extraction.text import TfidfVectorizer, TfidfTransformer\n",
    "\n",
    "# Создаем объект TfidfVectorizer с параметрами:\n",
    "# analyzer='word' - анализируем текст по словам, а не по символам\n",
    "# stop_words='english' - исключаем из анализа английские стоп-слова, такие как the, a, an и т. д.\n",
    "tfidf = TfidfVectorizer(analyzer='word', stop_words='english')\n",
    "\n",
    "# Преобразовываем столбец reviewText из таблицы item_lookup в матрицу tf-idf\n",
    "# tf-idf - это мера, которая учитывает частоту слова в документе и обратную частоту слова в коллекции документов\n",
    "# tf-idf повышает вес редких слов и снижает вес частых слов\n",
    "tfidf_matrix = tfidf.fit_transform(item_lookup['reviewText'])\n"
   ]
  },
  {
   "cell_type": "markdown",
   "metadata": {
    "id": "4V3_Oy0ijnSU"
   },
   "source": [
    "Считаем похожесть одного описания на другое, используя косинусовую меру."
   ]
  },
  {
   "cell_type": "code",
   "execution_count": 19,
   "metadata": {
    "id": "kab6Rws6jnSU"
   },
   "outputs": [],
   "source": [
    "# Импортируем функции linear_kernel и cosine_similarity из библиотеки sklearn\n",
    "from sklearn.metrics.pairwise import linear_kernel, cosine_similarity\n",
    "\n",
    "# Вычисляем косинусное сходство между векторами tf-idf из матрицы tfidf_matrix\n",
    "# Косинусное сходство - это мера, которая показывает, насколько близки два вектора по углу между ними\n",
    "# Косинусное сходство равно 1, если векторы совпадают, 0, если они перпендикулярны, и -1, если они противоположны\n",
    "cosine_similarities = cosine_similarity(tfidf_matrix)"
   ]
  },
  {
   "cell_type": "code",
   "execution_count": 20,
   "metadata": {
    "colab": {
     "base_uri": "https://localhost:8080/"
    },
    "id": "BaBw2OAol2F5",
    "outputId": "21a03bda-c2dd-41b5-e752-695527fa82f7"
   },
   "outputs": [
    {
     "data": {
      "text/plain": [
       "(2940, 14382)"
      ]
     },
     "execution_count": 20,
     "metadata": {},
     "output_type": "execute_result"
    }
   ],
   "source": [
    "# Смотрим на размерность\n",
    "tfidf_matrix.shape"
   ]
  },
  {
   "cell_type": "code",
   "execution_count": 21,
   "metadata": {
    "id": "nQ7AA01LjnSU"
   },
   "outputs": [],
   "source": [
    "# Создаем пустой словарь similarities\n",
    "similarities = {}\n",
    "\n",
    "# Проходим по всем строкам матрицы cosine_similarities\n",
    "for i in range(len(cosine_similarities)):\n",
    "    # Сортируем индексы строк по убыванию косинусного сходства\n",
    "    # Берем только 50 последних индексов, т.е. 50 самых похожих товаров\n",
    "    similar_indices = cosine_similarities[i].argsort()[:-50:-1]\n",
    "    \n",
    "    # Добавляем в словарь similarities пару ключ-значение,\n",
    "    # где ключ - это значение столбца asin из таблицы item_lookup для текущей строки\n",
    "    # Значение - это список из 50 кортежей, каждый из которых содержит три элемента: косинусное сходство, \n",
    "    # отзывы и код товара для похожего товара\n",
    "    # Пропускаем первый элемент списка, т.к. это сам товар, для которого ищем похожие\n",
    "    similarities[item_lookup['asin'].iloc[i]] = [(cosine_similarities[i][x], \n",
    "                                                  item_lookup.iloc[x]['reviewText'], \n",
    "                                                  item_lookup.iloc[x]['reviewText']) for x in similar_indices][1:]\n"
   ]
  },
  {
   "cell_type": "code",
   "execution_count": 22,
   "metadata": {
    "id": "jBqGdv69jnSV"
   },
   "outputs": [],
   "source": [
    "# Определяем класс ContentBasedRecommender\n",
    "class ContentBasedRecommender:\n",
    "    # Определяем конструктор класса, который принимает матрицу сходства между товарами\n",
    "    def __init__(self, matrix):\n",
    "        # Сохраняем матрицу сходства в атрибуте matrix_similar\n",
    "        self.matrix_similar = matrix\n",
    "\n",
    "    # Определяем вспомогательный метод _print_message, который печатает рекомендованные товары\n",
    "    def _print_message(self, item, recom_item):\n",
    "        # Определяем количество рекомендованных товаров\n",
    "        rec_items = len(recom_item)\n",
    "\n",
    "        # Печатаем сообщение с количеством рекомендованных товаров\n",
    "        print(f'The {rec_items} recommended items are:')\n",
    "        # Проходим по списку рекомендованных товаров\n",
    "        for i in range(rec_items):\n",
    "            # Печатаем номер, описание и сходство рекомендованного товара\n",
    "            print(f\"Number {i+1}:\")\n",
    "            print(f\"{recom_item[i][1]} with {round(recom_item[i][0], 3)} similarity score\")\n",
    "            # Печатаем разделитель\n",
    "            print(\"--------------------\")\n",
    "\n",
    "    # Определяем основной метод recommend, который принимает словарь с параметрами рекомендации и флаг verbose\n",
    "    def recommend(self, recommendation, verbose = True):\n",
    "        # Извлекаем товар, для которого нужно дать рекомендации, из словаря recommendation\n",
    "        item = recommendation['item']\n",
    "        # Извлекаем количество товаров, которые нужно рекомендовать, из словаря recommendation\n",
    "        number_items = recommendation['item_number']\n",
    "        # Извлекаем список похожих товаров из матрицы сходства по ключу item\n",
    "        # Ограничиваем список по количеству number_items\n",
    "        recom_item = self.matrix_similar[item][:number_items]\n",
    "        # Проверяем флаг verbose\n",
    "        if verbose:\n",
    "            # Если verbose равен True, то вызываем метод _print_message для печати рекомендаций\n",
    "            self._print_message(item=item, recom_item=recom_item)\n",
    "        # Возвращаем список рекомендованных товаров\n",
    "        return recom_item\n"
   ]
  },
  {
   "cell_type": "code",
   "execution_count": 23,
   "metadata": {
    "id": "UNF8qYYXjnSV"
   },
   "outputs": [],
   "source": [
    "# Создаем объект recommedations класса ContentBasedRecommender\n",
    "# Передаем ему словарь similarities, который содержит похожие товары для каждого товара\n",
    "recommedations = ContentBasedRecommender(similarities)"
   ]
  },
  {
   "cell_type": "markdown",
   "metadata": {
    "id": "EtngHah2jnSV"
   },
   "source": [
    "- У нас есть возможность выбрать конкретный товар и использовать полученные данные для создания рекомендации. Это может быть основано на анализе исторических данных, текущих настроек пользователя или другим критериям, которые можем  мы определить.\n",
    "- Предисказание в рекомендательной системе обычно означает прогнозирование того, насколько вероятно, что пользователь оценит товар высоко, или какие товары пользователь, вероятно, заинтересуют на основе его предыдущего поведения или характеристик товара."
   ]
  },
  {
   "cell_type": "code",
   "execution_count": 24,
   "metadata": {
    "colab": {
     "base_uri": "https://localhost:8080/"
    },
    "id": "Gkjnb9a3TX9k",
    "outputId": "96109072-6146-4b02-9403-a0b876c2d86c"
   },
   "outputs": [
    {
     "data": {
      "text/plain": [
       "asin                                                 B0000DG86X\n",
       "reviewText    nice tree for the money. well packaged. no com...\n",
       "Name: 10, dtype: object"
      ]
     },
     "execution_count": 24,
     "metadata": {},
     "output_type": "execute_result"
    }
   ],
   "source": [
    "# Выбираем одиннадцатую строку из таблицы item_lookup по индексу\n",
    "# Используем метод iloc, который принимает целочисленный индекс\n",
    "# Обратите внимание, что индексация начинается с нуля, поэтому одиннадцатая строка имеет индекс 10\n",
    "item_lookup.iloc[10]"
   ]
  },
  {
   "cell_type": "code",
   "execution_count": 25,
   "metadata": {
    "colab": {
     "base_uri": "https://localhost:8080/"
    },
    "id": "9JyEpXSYjnSV",
    "outputId": "2ffb3fa4-d0eb-4333-fec8-ae770e9b7aec"
   },
   "outputs": [
    {
     "name": "stdout",
     "output_type": "stream",
     "text": [
      "Recommendations for  B0000DG86X nice tree for the money. well packaged. no complaints.  we'll i do have one complaint, the fedex man keeps delivering my packages next door. this is my second tree that i've ordered through amazon and i've been pleased with both. will order again. :\n",
      "\n",
      "\n",
      "The 5 recommended items are:\n",
      "Number 1:\n",
      "the base of the tree was thicker than the one shown in the picture.  the i received has a nice taper.  a nice touch, there was a little bit of moss growing over the dirt.\n",
      "\n",
      "the tree came packaged in a tall box with an inner styrofoam base to protect the pot.  the pot and base of the tree were wrapped tight in a thick plastic and the soil was damp upon arrival.  the rest of the space inside the box was filled with a biodegradable type of foam peanuts (watch out, they get everywhere when you take the tree out).\n",
      "\n",
      "fantastic tree! with 0.305 similarity score\n",
      "--------------------\n",
      "Number 2:\n",
      "very lovely/healthy tree. i know it looks dead in the pics but it is just dormant, the buds are swelled and ready to bloom any week now! my favorite part is the spectacular nebari! this tree will give me a jump start on a red wood bonsai piece. the only complaint i have is there is a bare spot on the lower part of the trunk... it will require some branch grafting before i can begin training it for bonsai. i think i should also mention that other than the bare spot on the trunk, the top of the tree has an excellent start on ramification. the tree comes in a very sturdy ceramic pot. if you are a bonsai enthusiast like myself, the pot that comes with the tree is only training quality, it is not a presentable display pot for showing off your work of art. however if you are not a bonsai enthusiast and want this item for home decor it is still a beautiful pot. can't wait until the spring so i can plant my redwood in the ground to thicken up the trunk! with 0.197 similarity score\n",
      "--------------------\n",
      "Number 3:\n",
      "this is delicious, no doubt!  i bought it to use as a natural color for fondant for my kids' birthday cakes.  my guys have horrible reactions to artificial colors, but what's a birthday cake without cool colors??  so i bought india tree natural food dyes (i'll review those after i've used all 3), and i followed advice on a blog about using this 'black' cocoa powder to color my fondant black.  first off, when i received it, i was very disappointed because it is very dark brown, but i need a true 'black' and grey fondants for my cakes.  i mixed up some marshmallow cream fondant and added in the black cocoa to see how far off it would be, and wow!  it turned black, not brown!  hooray!  -full disclosure, i added a single drop of india tree's natural blue color to really make it a midnight black, but i really don't even think it needed it.  i can't wait to bake these cakes, i will come back and post pictures. :)  oh!  i almost forgot!  the best part: the black fondant tasted awesome!  super chocolaty fondant.  -and i made one mean cup of hot chocolate the other night when i was craving some sweet.  thank you!!\n",
      "\n",
      "***as promised, here are the pictures.  all black items were colored with this onyx cocoa.  brown colored items were made with an organic cacao powder (ordered here on amazon, too).  all other colors were made using india tree organic food colors -again, from amazon -green 'paint' was made with blue and yellow india tree color mixed with vodka.  it took a lot of india tree color to get the brightness needed for the green & the red stripes.  it took a reasonable amount of this ebony cocoa powder mixed into the white rolled fondant to get the true black.  (obviously not a pro cake decorator here, and my shoulders were too sore to finish the cakes as well as i wanted. but this cocoa powder was perfect!!) with 0.155 similarity score\n",
      "--------------------\n",
      "Number 4:\n",
      "this is my second time ordering the \"bulk\" amount, because these biscuits have no match, and they are hard to find in stores. packaging was much better this time -- bubble wrapped and double boxed. i'm giving a lower rating, though, because i received these in early august, and the expiration date is already up this december. so i feel i've been sent old merchandise. i would expect at least a year for a processed and packaged food item like this, especially ordered in this quantity. i don't know if amazon will allow for a return or exchange.\n",
      "\n",
      "***update***\n",
      "food items cannot be returned, but i was pleased to see that amazon refunded my money! now that's customer service. with 0.138 similarity score\n",
      "--------------------\n",
      "Number 5:\n",
      "i use to drink fresh coconut water before straight from the coconut tree. so it's fresh and love it. so, i see this vita coco and i decided to try it.\n",
      "  one thing i like of vita coco is the container, it's not plastic. i like that it.\n",
      "  this vira coco water coconut is not bad at all considering it's not fresh from the coconut tree. i tried different brand before and i did not like it. but this i like. i also love that i can grab one ang put it in my purse when i am in a hurry.\n",
      " here's the reason why i give 1 star look at the picture below. i hate to leave 1 star buy wish they handle my order good cause i pay money for it. couple of the coconut water small box was empty because of the hole.\n",
      "\n",
      "disclaimer\n",
      "  i pay full price and i am not paid to review. with 0.134 similarity score\n",
      "--------------------\n"
     ]
    }
   ],
   "source": [
    "# Задаем индекс товара, для которого хотим получить рекомендации\n",
    "idx = 10\n",
    "\n",
    "# Создаем словарь recommendation, который содержит параметры для рекомендательной системы\n",
    "# Ключ item - это значение столбца asin из таблицы item_lookup для выбранного товара\n",
    "# Ключ item_number - это количество товаров, которые хотим рекомендовать\n",
    "recommendation = {\n",
    "    \"item\": item_lookup['asin'].iloc[idx],\n",
    "    \"item_number\": 5\n",
    "}\n",
    "\n",
    "# Печатаем товар, для которого хотим получить рекомендации, и его описание\n",
    "print('Recommendations for ',item_lookup['asin'].iloc[idx], item_lookup['reviewText'].iloc[idx],':\\n\\n')\n",
    "\n",
    "# Вызываем метод recommend объекта recommedations, который создали ранее, и передаем ему словарь recommendation\n",
    "# Метод recommend возвращает список рекомендованных товаров и печатает их, если флаг verbose равен True\n",
    "recom_item = recommedations.recommend(recommendation)\n"
   ]
  },
  {
   "cell_type": "markdown",
   "metadata": {},
   "source": [
    "Мы пока не можем сказать, насколько точны эти рекомендации, потому что  не знаем, какие критерии должны использоваться для оценки рекомендательной системы. - Эти рекомендации основаны на контентно-ориентированном подходе, который учитывает сходство текстов отзывов между товарами. \n",
    "- Этот подход может дать хорошие результаты, если мы хотим найти товары, которые имеют похожие характеристики или свойства, о которых пишут в отзывах. - Например, если мы ищем деревья, то мы можем получить рекомендации других деревьев, которые имеют похожий вид, размер, уход или качество.\n",
    "- Однако этот подход может не учитывать другие факторы, такие как рейтинг, цена, доступность или предпочтения пользователя.\n",
    "- Это уже на будущее, если мы хотим улучшить рекомендательную систему, то мы можем попробовать использовать другие источники данных, такие как метаданные товаров, история покупок или поведение пользователя, или использовать другие методы, такие как коллаборативная фильтрация или гибридные модели."
   ]
  },
  {
   "cell_type": "code",
   "execution_count": 26,
   "metadata": {},
   "outputs": [],
   "source": [
    "# Мы можем преобразовать дату из линекс, но возмем уже готовую из датасета\n",
    "# Импортируем модуль datetime\n",
    "# import datetime\n",
    "\n",
    "# Преобразуем unixReviewTime в целое число\n",
    "# unixReviewTime = int(1462579200)\n",
    "\n",
    "# Создаем объект datetime из unixReviewTime с помощью метода fromtimestamp\n",
    "# date = datetime.datetime.fromtimestamp(unixReviewTime)\n",
    "\n",
    "# Выводим дату в желаемом формате\n",
    "# print(date.strftime(\"%d.%m.%Y\"))\n"
   ]
  },
  {
   "cell_type": "code",
   "execution_count": 27,
   "metadata": {},
   "outputs": [
    {
     "data": {
      "text/html": [
       "<div>\n",
       "<style scoped>\n",
       "    .dataframe tbody tr th:only-of-type {\n",
       "        vertical-align: middle;\n",
       "    }\n",
       "\n",
       "    .dataframe tbody tr th {\n",
       "        vertical-align: top;\n",
       "    }\n",
       "\n",
       "    .dataframe thead th {\n",
       "        text-align: right;\n",
       "    }\n",
       "</style>\n",
       "<table border=\"1\" class=\"dataframe\">\n",
       "  <thead>\n",
       "    <tr style=\"text-align: right;\">\n",
       "      <th></th>\n",
       "      <th>overall</th>\n",
       "      <th>verified</th>\n",
       "      <th>reviewTime</th>\n",
       "      <th>reviewerID</th>\n",
       "      <th>asin</th>\n",
       "      <th>reviewerName</th>\n",
       "      <th>reviewText</th>\n",
       "      <th>summary</th>\n",
       "      <th>unixReviewTime</th>\n",
       "      <th>vote</th>\n",
       "      <th>style</th>\n",
       "      <th>image</th>\n",
       "    </tr>\n",
       "  </thead>\n",
       "  <tbody>\n",
       "    <tr>\n",
       "      <th>393</th>\n",
       "      <td>4</td>\n",
       "      <td>True</td>\n",
       "      <td>05 7, 2016</td>\n",
       "      <td>A2R0EBFJFCNSZM</td>\n",
       "      <td>B00006FWVX</td>\n",
       "      <td>356NV</td>\n",
       "      <td>I love using these colors to dye my white cand...</td>\n",
       "      <td>Nice, solid colors.</td>\n",
       "      <td>1462579200</td>\n",
       "      <td>14.0</td>\n",
       "      <td>{'Color:': ' Primary'}</td>\n",
       "      <td>[https://images-na.ssl-images-amazon.com/image...</td>\n",
       "    </tr>\n",
       "    <tr>\n",
       "      <th>578</th>\n",
       "      <td>5</td>\n",
       "      <td>True</td>\n",
       "      <td>11 19, 2015</td>\n",
       "      <td>A1QC1C545QHNZG</td>\n",
       "      <td>B00008RCN8</td>\n",
       "      <td>yalcin</td>\n",
       "      <td>The best price you could ever get, Fresh made ...</td>\n",
       "      <td>Best Price, Best Quality, Fresh Out of the Box</td>\n",
       "      <td>1447891200</td>\n",
       "      <td>4.0</td>\n",
       "      <td>{'Flavor:': ' Wintermint'}</td>\n",
       "      <td>[https://images-na.ssl-images-amazon.com/image...</td>\n",
       "    </tr>\n",
       "    <tr>\n",
       "      <th>873</th>\n",
       "      <td>3</td>\n",
       "      <td>True</td>\n",
       "      <td>08 5, 2011</td>\n",
       "      <td>ALJ77PYM7D513</td>\n",
       "      <td>B0000CD02T</td>\n",
       "      <td>Mrs. Mia Wallace</td>\n",
       "      <td>Usually a big fan of Bob's Red Mill products, ...</td>\n",
       "      <td>Too grainy for my taste</td>\n",
       "      <td>1312502400</td>\n",
       "      <td>2.0</td>\n",
       "      <td>{'Size:': ' 24 Ounce (Pack of 4)'}</td>\n",
       "      <td>[https://images-na.ssl-images-amazon.com/image...</td>\n",
       "    </tr>\n",
       "    <tr>\n",
       "      <th>961</th>\n",
       "      <td>5</td>\n",
       "      <td>True</td>\n",
       "      <td>08 13, 2017</td>\n",
       "      <td>A1Q5AHXG0HVV34</td>\n",
       "      <td>B0000CFH7B</td>\n",
       "      <td>City Chick</td>\n",
       "      <td>I am writing this based on my use with FROSTIN...</td>\n",
       "      <td>Safe, successful and effective way of coloring...</td>\n",
       "      <td>1502582400</td>\n",
       "      <td>13.0</td>\n",
       "      <td>{'Color:': ' Pearl Color Mist'}</td>\n",
       "      <td>[https://images-na.ssl-images-amazon.com/image...</td>\n",
       "    </tr>\n",
       "    <tr>\n",
       "      <th>978</th>\n",
       "      <td>4</td>\n",
       "      <td>True</td>\n",
       "      <td>06 16, 2016</td>\n",
       "      <td>A21DSKR8PDX0ZY</td>\n",
       "      <td>B0000CFH7B</td>\n",
       "      <td>KrystalHagerty1234</td>\n",
       "      <td>Really cool spray.  Be sure that whatever your...</td>\n",
       "      <td>Really cool idea</td>\n",
       "      <td>1466035200</td>\n",
       "      <td>7.0</td>\n",
       "      <td>{'Color:': ' Gold'}</td>\n",
       "      <td>[https://images-na.ssl-images-amazon.com/image...</td>\n",
       "    </tr>\n",
       "  </tbody>\n",
       "</table>\n",
       "</div>"
      ],
      "text/plain": [
       "     overall  verified   reviewTime      reviewerID        asin  \\\n",
       "393        4      True   05 7, 2016  A2R0EBFJFCNSZM  B00006FWVX   \n",
       "578        5      True  11 19, 2015  A1QC1C545QHNZG  B00008RCN8   \n",
       "873        3      True   08 5, 2011   ALJ77PYM7D513  B0000CD02T   \n",
       "961        5      True  08 13, 2017  A1Q5AHXG0HVV34  B0000CFH7B   \n",
       "978        4      True  06 16, 2016  A21DSKR8PDX0ZY  B0000CFH7B   \n",
       "\n",
       "           reviewerName                                         reviewText  \\\n",
       "393               356NV  I love using these colors to dye my white cand...   \n",
       "578              yalcin  The best price you could ever get, Fresh made ...   \n",
       "873    Mrs. Mia Wallace  Usually a big fan of Bob's Red Mill products, ...   \n",
       "961          City Chick  I am writing this based on my use with FROSTIN...   \n",
       "978  KrystalHagerty1234  Really cool spray.  Be sure that whatever your...   \n",
       "\n",
       "                                               summary  unixReviewTime  vote  \\\n",
       "393                                Nice, solid colors.      1462579200  14.0   \n",
       "578     Best Price, Best Quality, Fresh Out of the Box      1447891200   4.0   \n",
       "873                            Too grainy for my taste      1312502400   2.0   \n",
       "961  Safe, successful and effective way of coloring...      1502582400  13.0   \n",
       "978                                   Really cool idea      1466035200   7.0   \n",
       "\n",
       "                                  style  \\\n",
       "393              {'Color:': ' Primary'}   \n",
       "578          {'Flavor:': ' Wintermint'}   \n",
       "873  {'Size:': ' 24 Ounce (Pack of 4)'}   \n",
       "961     {'Color:': ' Pearl Color Mist'}   \n",
       "978                 {'Color:': ' Gold'}   \n",
       "\n",
       "                                                 image  \n",
       "393  [https://images-na.ssl-images-amazon.com/image...  \n",
       "578  [https://images-na.ssl-images-amazon.com/image...  \n",
       "873  [https://images-na.ssl-images-amazon.com/image...  \n",
       "961  [https://images-na.ssl-images-amazon.com/image...  \n",
       "978  [https://images-na.ssl-images-amazon.com/image...  "
      ]
     },
     "execution_count": 27,
     "metadata": {},
     "output_type": "execute_result"
    }
   ],
   "source": [
    "retail_data.head()"
   ]
  },
  {
   "cell_type": "code",
   "execution_count": 28,
   "metadata": {},
   "outputs": [],
   "source": [
    "# Посмотрим на отзывы\n",
    "# retail_data['reviewText'].value_counts()"
   ]
  },
  {
   "cell_type": "code",
   "execution_count": 29,
   "metadata": {
    "colab": {
     "base_uri": "https://localhost:8080/",
     "height": 112
    },
    "id": "YzuYag_qjnSV",
    "outputId": "642ecaae-afeb-42a4-8909-9f6bacda3acd"
   },
   "outputs": [
    {
     "data": {
      "text/html": [
       "<div>\n",
       "<style scoped>\n",
       "    .dataframe tbody tr th:only-of-type {\n",
       "        vertical-align: middle;\n",
       "    }\n",
       "\n",
       "    .dataframe tbody tr th {\n",
       "        vertical-align: top;\n",
       "    }\n",
       "\n",
       "    .dataframe thead th {\n",
       "        text-align: right;\n",
       "    }\n",
       "</style>\n",
       "<table border=\"1\" class=\"dataframe\">\n",
       "  <thead>\n",
       "    <tr style=\"text-align: right;\">\n",
       "      <th></th>\n",
       "      <th>overall</th>\n",
       "      <th>verified</th>\n",
       "      <th>reviewTime</th>\n",
       "      <th>reviewerID</th>\n",
       "      <th>asin</th>\n",
       "      <th>reviewerName</th>\n",
       "      <th>reviewText</th>\n",
       "      <th>summary</th>\n",
       "      <th>unixReviewTime</th>\n",
       "      <th>vote</th>\n",
       "      <th>style</th>\n",
       "      <th>image</th>\n",
       "    </tr>\n",
       "  </thead>\n",
       "  <tbody>\n",
       "    <tr>\n",
       "      <th>141709</th>\n",
       "      <td>5</td>\n",
       "      <td>True</td>\n",
       "      <td>01 20, 2017</td>\n",
       "      <td>A21DSKR8PDX0ZY</td>\n",
       "      <td>B000MT22QE</td>\n",
       "      <td>KrystalHagerty1234</td>\n",
       "      <td>Great for my project! The color gets darker af...</td>\n",
       "      <td>Great color!</td>\n",
       "      <td>1484870400</td>\n",
       "      <td>2</td>\n",
       "      <td>{'Color:': ' Maroon'}</td>\n",
       "      <td>[https://images-na.ssl-images-amazon.com/image...</td>\n",
       "    </tr>\n",
       "    <tr>\n",
       "      <th>978</th>\n",
       "      <td>4</td>\n",
       "      <td>True</td>\n",
       "      <td>06 16, 2016</td>\n",
       "      <td>A21DSKR8PDX0ZY</td>\n",
       "      <td>B0000CFH7B</td>\n",
       "      <td>KrystalHagerty1234</td>\n",
       "      <td>Really cool spray.  Be sure that whatever your...</td>\n",
       "      <td>Really cool idea</td>\n",
       "      <td>1466035200</td>\n",
       "      <td>7.0</td>\n",
       "      <td>{'Color:': ' Gold'}</td>\n",
       "      <td>[https://images-na.ssl-images-amazon.com/image...</td>\n",
       "    </tr>\n",
       "    <tr>\n",
       "      <th>176214</th>\n",
       "      <td>4</td>\n",
       "      <td>True</td>\n",
       "      <td>07 7, 2016</td>\n",
       "      <td>A21DSKR8PDX0ZY</td>\n",
       "      <td>B000VTBFIG</td>\n",
       "      <td>KrystalHagerty1234</td>\n",
       "      <td>I was expecting something the size of an acryl...</td>\n",
       "      <td>Quite a big bottle!</td>\n",
       "      <td>1467849600</td>\n",
       "      <td>11.0</td>\n",
       "      <td>{'Color:': ' Navy Blue'}</td>\n",
       "      <td>[https://images-na.ssl-images-amazon.com/image...</td>\n",
       "    </tr>\n",
       "    <tr>\n",
       "      <th>229915</th>\n",
       "      <td>4</td>\n",
       "      <td>True</td>\n",
       "      <td>07 7, 2016</td>\n",
       "      <td>A21DSKR8PDX0ZY</td>\n",
       "      <td>B000VTBFIG</td>\n",
       "      <td>KrystalHagerty1234</td>\n",
       "      <td>I was expecting something the size of an acryl...</td>\n",
       "      <td>Quite a big bottle!</td>\n",
       "      <td>1467849600</td>\n",
       "      <td>11.0</td>\n",
       "      <td>{'Color:': ' Navy Blue'}</td>\n",
       "      <td>[https://images-na.ssl-images-amazon.com/image...</td>\n",
       "    </tr>\n",
       "    <tr>\n",
       "      <th>1077626</th>\n",
       "      <td>3</td>\n",
       "      <td>True</td>\n",
       "      <td>09 17, 2017</td>\n",
       "      <td>A21DSKR8PDX0ZY</td>\n",
       "      <td>B005TKI7NI</td>\n",
       "      <td>KrystalHagerty1234</td>\n",
       "      <td>I have mixed feelings about this product.\\nWas...</td>\n",
       "      <td>Mixed feelings</td>\n",
       "      <td>1505606400</td>\n",
       "      <td>2.0</td>\n",
       "      <td>{'Size:': ' 15 oz'}</td>\n",
       "      <td>[https://images-na.ssl-images-amazon.com/image...</td>\n",
       "    </tr>\n",
       "  </tbody>\n",
       "</table>\n",
       "</div>"
      ],
      "text/plain": [
       "         overall  verified   reviewTime      reviewerID        asin  \\\n",
       "141709         5      True  01 20, 2017  A21DSKR8PDX0ZY  B000MT22QE   \n",
       "978            4      True  06 16, 2016  A21DSKR8PDX0ZY  B0000CFH7B   \n",
       "176214         4      True   07 7, 2016  A21DSKR8PDX0ZY  B000VTBFIG   \n",
       "229915         4      True   07 7, 2016  A21DSKR8PDX0ZY  B000VTBFIG   \n",
       "1077626        3      True  09 17, 2017  A21DSKR8PDX0ZY  B005TKI7NI   \n",
       "\n",
       "               reviewerName  \\\n",
       "141709   KrystalHagerty1234   \n",
       "978      KrystalHagerty1234   \n",
       "176214   KrystalHagerty1234   \n",
       "229915   KrystalHagerty1234   \n",
       "1077626  KrystalHagerty1234   \n",
       "\n",
       "                                                reviewText  \\\n",
       "141709   Great for my project! The color gets darker af...   \n",
       "978      Really cool spray.  Be sure that whatever your...   \n",
       "176214   I was expecting something the size of an acryl...   \n",
       "229915   I was expecting something the size of an acryl...   \n",
       "1077626  I have mixed feelings about this product.\\nWas...   \n",
       "\n",
       "                     summary  unixReviewTime  vote                     style  \\\n",
       "141709          Great color!      1484870400     2     {'Color:': ' Maroon'}   \n",
       "978         Really cool idea      1466035200   7.0       {'Color:': ' Gold'}   \n",
       "176214   Quite a big bottle!      1467849600  11.0  {'Color:': ' Navy Blue'}   \n",
       "229915   Quite a big bottle!      1467849600  11.0  {'Color:': ' Navy Blue'}   \n",
       "1077626       Mixed feelings      1505606400   2.0       {'Size:': ' 15 oz'}   \n",
       "\n",
       "                                                     image  \n",
       "141709   [https://images-na.ssl-images-amazon.com/image...  \n",
       "978      [https://images-na.ssl-images-amazon.com/image...  \n",
       "176214   [https://images-na.ssl-images-amazon.com/image...  \n",
       "229915   [https://images-na.ssl-images-amazon.com/image...  \n",
       "1077626  [https://images-na.ssl-images-amazon.com/image...  "
      ]
     },
     "execution_count": 29,
     "metadata": {},
     "output_type": "execute_result"
    }
   ],
   "source": [
    "# Задаем номер клиента, для которого хотим получить данные\n",
    "customer = 'A21DSKR8PDX0ZY'\n",
    "\n",
    "# Выбираем данные о розничной торговле, которые соответствуют этому номеру счета, из таблицы retail_data\n",
    "# Копируем эти данные в новую таблицу cur_customer, чтобы не изменять исходную таблицу\n",
    "cur_customer = retail_data[retail_data.reviewerID == customer].copy()\n",
    "\n",
    "# Сортируем данные по столбцу InvoiceDate по возрастанию\n",
    "cur_customer = cur_customer.sort_values('reviewTime')\n",
    "\n",
    "# Выводим первые пять строк данных\n",
    "cur_customer.head()\n"
   ]
  },
  {
   "cell_type": "code",
   "execution_count": 30,
   "metadata": {},
   "outputs": [
    {
     "data": {
      "text/plain": [
       "reviewText\n",
       "I was expecting something the size of an acrylic paint bottle but to my surprise it's much bigger. So I only gave it 4 out of 5 stars because I still had to use quite a bit of it to get the color I wanted. I used at least 20 drops and it still didn't come out navy. Now I am not a professional baker at this point but I think it also had something to do with the frosting I bought. I know that bakery  buttercream takes colors way better so it may be useful for professionals. I've included a picture of the color I got with 20 drops.                                                                                                                                                                                                                                          2\n",
       "Great for my project! The color gets darker after a while and for bigger projects (not pictured) I also mixed my buttercream with a little bit of chocolate so I didn't have to use so much dye.                                                                                                                                                                                                                                                                                                                                                                                                                                                                                                                                                                                                1\n",
       "Really cool spray.  Be sure that whatever your spraying is room temperature and not right out of the fridge otherwise the spray well kind a look dewy.  Use the spray on something that's already yellow for a better look .  You need several coats and the can isn't very big .  Yellow looks awesome for my husbands Notre Dame cupcakes !\\n\\nUpdate:\\nI have also tried red  and it works great!  I got the frosting basically pink in color with food dye and then I sprayed over the top with red .  Didn't take a lot but man it was everywhere so do it outside or over a sink if possible.\\n\\nUpdate #2:\\n I have now used black and It turned out awesome for my galaxy cupcakes!  Started with blue frosting ,  Sprayed a little bit of black , then painted on some luster dust!    1\n",
       "I have mixed feelings about this product.\\nWas it red? Yes\\nWas it edible? Technically\\nWas it good?  No\\nDid it work like actual buttercream? Yes and No\\nSo with real buttercream and even regular buttercream you can buy pre made you can make frozen buttercream transfers that you can pick up with your hands and put onto a cake. This stuff no matter how long it was in the freezer was slightly floppy.\\nDid this do the job? Barely with the help of some creativity\\nWould I buy this again?  No                                                                                                                                                                                                                                                                                   1\n",
       "Name: count, dtype: int64"
      ]
     },
     "execution_count": 30,
     "metadata": {},
     "output_type": "execute_result"
    }
   ],
   "source": [
    "cur_customer['reviewText'].value_counts()"
   ]
  },
  {
   "cell_type": "markdown",
   "metadata": {},
   "source": [
    "- Мы хотим получить рекомендации для товара, который выбрали из данных о продажах.\n",
    "- Смотри на последний товар. и основываясь на нём делаем рекомендации."
   ]
  },
  {
   "cell_type": "code",
   "execution_count": 31,
   "metadata": {},
   "outputs": [
    {
     "name": "stdout",
     "output_type": "stream",
     "text": [
      "Recommendations for  B005TKI7NI b005tki7ni \n",
      "\n",
      "\n",
      "The 5 recommended items are:\n",
      "Number 1:\n",
      "these colors are great, they worked perfectly to color my buttercream and paint my fondant. with 0.275 similarity score\n",
      "--------------------\n",
      "Number 2:\n",
      "red buttercream or any really dark color has always been hard for me to make myself. so when i needed to make a big elmo cake i decided to buy it already made. the color was perfect. i've never had a problem with ck brand buttercreams. with 0.259 similarity score\n",
      "--------------------\n",
      "Number 3:\n",
      "great for my project! the color gets darker after a while and for bigger projects (not pictured) i also mixed my buttercream with a little bit of chocolate so i didn't have to use so much dye. with 0.233 similarity score\n",
      "--------------------\n",
      "Number 4:\n",
      "nice, crusting buttercream for the money.  add a little whipping cream and butter flavoring and it tastes just like a nice, silky, italian buttercream.  it accepts tint beautifully and holds shape very well.  i used this frosting for the cakes in the photos. this container provided enough icing to frost both of the cakes and 18 cupcakes.  i was generous with the amount i used. they received so many compliments on  both design and taste, so i highly recommend this frosting. with 0.215 similarity score\n",
      "--------------------\n",
      "Number 5:\n",
      "fabulous!! seriously, this was my very first fondant cake and it made me look like a pro! very easy to work with after being microwaved for a few seconds like the package indicates.  it was winter and came in rock hard.  keep in mind i did work at a bakery for 5 years using buttercream,so i'm not an amateur.  but i have never worked with fondant before, i was scared.  well, not anymore! everyone raved over my beautiful daughter's pretty birthday cake. oh, and it tasted great, also!  i am one happy customer! with 0.184 similarity score\n",
      "--------------------\n"
     ]
    }
   ],
   "source": [
    "# Создаем словарь recommendation, который содержит параметры для рекомендательной системы\n",
    "# Ключ item - это код товара, для которого хотим получить рекомендации, который мы извлекаем из последней строки таблицы cur_customer\n",
    "# Ключ item_number - это количество товаров, которые хотим рекомендовать\n",
    "recommendation = {\n",
    "    \"item\": str(cur_customer.iloc[-1].asin),\n",
    "    \"item_number\": 5\n",
    "}\n",
    "\n",
    "# Печатаем код и описание отзывов, для которого хотим получить рекомендации, в нижнем регистре\n",
    "# Используем метод iloc, чтобы выбрать последнюю строку из таблицы cur_customer\n",
    "# Используем столбцы StockCode и Description, чтобы получить код и описание товара\n",
    "print('Recommendations for ',cur_customer.iloc[-1].asin, cur_customer.iloc[-1]['asin'].lower(),'\\n\\n')\n",
    "\n",
    "# Вызываем метод recommend объекта recommedations, который создали ранее, и передаем ему словарь recommendation\n",
    "# Метод recommend возвращает список рекомендованных товаров и печатает их, если флаг verbose равен True\n",
    "recom_item = recommedations.recommend(recommendation)"
   ]
  },
  {
   "cell_type": "markdown",
   "metadata": {},
   "source": [
    "5 рекомендуемых предметов:\n",
    "Номер 1:\n",
    "эти цвета великолепны, они отлично подошли для окраски моего сливочного крема и помадки. с показателем сходства 0,275\n",
    "--------------------\n",
    "Номер 2:\n",
    "красный сливочный крем или любой действительно темный цвет мне всегда было трудно приготовить самому. Поэтому, когда мне нужно было испечь большой торт «Элмо», я решил купить его уже готовым. цвет был идеальным. У меня никогда не было проблем с сливочным кремом марки ck. с показателем сходства 0,259\n",
    "--------------------\n",
    "Номер 3:\n",
    "отлично подходит для моего проекта! через некоторое время цвет становится темнее, и для более крупных проектов (не на фото) я также смешивал сливочный крем с небольшим количеством шоколада, чтобы мне не пришлось использовать так много красителя. с показателем сходства 0,233\n",
    "--------------------\n",
    "Номер 4:\n",
    "хороший, хрустящий сливочный крем за свои деньги. добавьте немного взбитых сливок и ароматизатора сливочного масла, и по вкусу он будет похож на приятный шелковистый итальянский сливочный крем. он прекрасно принимает оттенок и очень хорошо держит форму. Эту глазурь я использовала для тортов на фотографиях. в этом контейнере было достаточно глазури, чтобы заморозить как торты, так и 18 кексов. я был щедр на сумму, которую я использовал. они получили так много комплиментов как по дизайну, так и по вкусу, поэтому я очень рекомендую эту глазурь. с показателем сходства 0,215\n",
    "--------------------\n",
    "Номер 5:\n",
    "поразительнй!! серьезно, это был мой самый первый торт из помадки, и он заставил меня выглядеть профессионалом! с ним очень легко работать после нескольких секунд нагрева в микроволновой печи, как указано на упаковке. это была зима, и она пришла очень тяжелая. имейте в виду, что я 5 лет работал в пекарне, используя сливочный крем, так что я не любитель. но я никогда раньше не работала с мастикой, мне было страшно. ну, уже нет! все были в восторге от красивого праздничного торта моей прекрасной дочери. ох, и еще это было очень вкусно! я один"
   ]
  },
  {
   "cell_type": "markdown",
   "metadata": {},
   "source": [
    "- Вывод\n",
    "- Показатель сходства — это мера, которая показывает, насколько близки тексты отзывов между двумя товарами. Чем выше показатель, тем больше совпадений в словах, темах и оценках. Показатель сходства может быть вычислен разными способами, например, с помощью Евклидова расстояния, коэффициента корреляции Пирсона, косинусного сходства или коэффициента Жаккара.\n",
    "- В нашем случае мы использовали косинусное сходство, которое измеряет угол между двумя векторами, представляющими тексты отзывов. Косинусное сходство может принимать значения от -1 до 1, где -1 означает полное противоположение, 0 означает отсутствие сходства, а 1 означает полное совпадение.\n",
    "- Например: Показатель сходства 0,215, который указан для товара номер 4 в списке рекомендаций, означает, что тексты отзывов на товар, который мы выбрали, и товар номер 4 имеют некоторые общие слова и темы, но не очень много. \n",
    "- Это не очень высокий показатель, но и не очень низкий. Он говорит о том, что эти товары имеют некоторые похожие свойства, но не идентичны. \n",
    "- Например, оба товара связаны с сливочным кремом, но имеют разные цвета, ароматы и упаковки. Возможно, если нам понравится товар номер 4, и мы хотим попробовать другой вкус или вид сливочного крема, но если мы ищете что-то очень похожее на наш выбранный товар, то лучше посмотреть на товары с более высоким показателем сходства, например, товар номер 2."
   ]
  },
  {
   "cell_type": "markdown",
   "metadata": {},
   "source": []
  },
  {
   "cell_type": "markdown",
   "metadata": {},
   "source": [
    "Целевая переменная в контексте машинного обучения обычно относится к тому, что модель пытается предсказать. В случае рекомендательных систем, целевой переменной может быть рейтинг, который пользователь поставил товару, или желаемое поведение пользователя, такое как покупка товара или его добавление в корзину. В вашем случае, если у вас есть рейтинги, которые вы хотите предсказать, они должны быть использованы в качестве целевой переменной для обучения модели.\n",
    "\n",
    "Однако, в предоставленном вами коде нет явного указания на то, какая переменная является целевой. Если вы хотите построить рекомендательную систему на основе контентной фильтрации, то вам не нужна целевая переменная в том смысле, как это обычно понимается в задачах регрессии или классификации. Вместо этого, вы используете текстовые отзывы для вычисления сходства между товарами и предлагаете товары, которые наиболее похожи на товары, которые пользователь уже оценил высоко.\n",
    "\n",
    "В контентно-ориентированных рекомендательных системах, таких как те, что вы используете, цель состоит в том, чтобы предложить пользователю товары, которые ему понравятся на основе его предыдущих интересов или поведения. Это достигается путем анализа текстовых данных, таких как отзывы, и вычисления сходства между товарами. В этом контексте, целевая переменная может быть неявной, поскольку она определяется на основе интересов пользователя и предпочтений, а не на основе явно заданных рейтингов.\n",
    "\n",
    "Таким образом, в вашем случае, если вы хотите построить рекомендательную систему на основе контентной фильтрации, вам не нужно использовать `retail_data` в качестве целевой переменной, так как вы не предсказываете рейтинги. Вместо этого, вы используете `item_lookup` для создания матрицы сходства, которая затем используется для рекомендации товаров на основе текстовых отзывов [1]."
   ]
  },
  {
   "cell_type": "markdown",
   "metadata": {},
   "source": [
    "## 3. Разделение данных на обучающую и тестовую выборки"
   ]
  },
  {
   "cell_type": "code",
   "execution_count": 32,
   "metadata": {},
   "outputs": [],
   "source": [
    "from sklearn.model_selection import train_test_split\n",
    "\n",
    "# Задаем процент данных, который хотим занулить\n",
    "test_size = 0.2\n",
    "\n",
    "# Разделяем данные на обучающую и тестовую выборки\n",
    "train_data, test_data = train_test_split(retail_data, test_size=test_size, random_state=42)\n",
    "\n",
    "# Зануляем рейтинги в обучающей выборке\n",
    "train_data = train_data.copy()\n",
    "train_data.loc[:, 'overall'] = 0\n"
   ]
  },
  {
   "cell_type": "markdown",
   "metadata": {},
   "source": [
    "## 4. Оценка качества рекомендаций"
   ]
  },
  {
   "cell_type": "code",
   "execution_count": 33,
   "metadata": {},
   "outputs": [
    {
     "name": "stdout",
     "output_type": "stream",
     "text": [
      "Test RMSE: 4.0168\n"
     ]
    }
   ],
   "source": [
    "from sklearn.metrics import mean_squared_error\n",
    "from math import sqrt\n",
    "\n",
    "# Получаем рекомендации для тестовой выборки\n",
    "test_data['predicted_rating'] = test_data['asin'].apply(lambda x: recommedations.recommend({\"item\": x, \"item_number\": 1}, verbose=False)[0][0] if x in recommedations.matrix_similar else 0)\n",
    "\n",
    "# Вычисляем RMSE\n",
    "rmse = sqrt(mean_squared_error(test_data['overall'], test_data['predicted_rating']))\n",
    "print(f'Test RMSE: {rmse:.4f}')\n"
   ]
  },
  {
   "cell_type": "markdown",
   "metadata": {},
   "source": [
    "- Вывод:\n",
    "- В результате тестирования модели рекомендательной системы было получено значение среднеквадратичной ошибки (RMSE) равное 4.0168. Это значение представляет собой среднее отклонение между реальными и предсказанными рейтингами.\n",
    "- Среднеквадратичная ошибка (RMSE) является стандартной метрикой для оценки качества моделей регрессии, включая рекомендательные системы. Она измеряет стандартное отклонение ошибок модели: то есть, насколько в среднем прогнозы модели отклоняются от истинных значений.\n",
    "- В нашем случае, рейтинги варьируются от 0 до 5. Значение RMSE 4.0168 указывает на то, что прогнозы модели в среднем отклоняются от истинных значений на 4.0168 единиц рейтинга. Учитывая диапазон рейтингов от 0 до 5, это довольно высокое значение RMSE, что указывает на низкую точность модели.\n",
    "- Это может быть связано с различными факторами, такими как сложность данных, выбор модели или метода обучения, и т.д. Возможно, потребуется дополнительная настройка модели или использование других подходов для улучшения точности прогнозов.\n",
    "- Важно отметить, что RMSE является агрегированной метрикой, и она может не полностью отражать качество рекомендаций для всех пользователей. Например, модель может давать очень точные прогнозы для некоторых пользователей, но очень неточные - для других, и RMSE будет усреднять эти ошибки. Поэтому всегда полезно использовать дополнительные метрики для оценки качества рекомендательной системы.\n",
    "- Также стоит учесть, что оптимальное значение RMSE зависит от конкретной задачи и данных. В некоторых случаях, даже модели с высоким RMSE могут быть полезны, если они способны выявить неочевидные или контринтуитивные взаимосвязи в данных.\n",
    "- В целом, значение RMSE 4.0168 указывает на то, что есть потенциал для улучшения модели рекомендательной системы."
   ]
  },
  {
   "cell_type": "markdown",
   "metadata": {},
   "source": [
    "- Данный подход — это контентно-ориентированная рекомендательная система, которая учитывает сходство текстов отзывов между товарами. \n",
    "\n",
    "### Преимущества:\n",
    "* Мы можем учитывать предпочтения пользователя, основываясь на его истории покупок и отзывах.\n",
    "* Мы можем давать персонализированные рекомендации, которые соответствуют интересам и потребностям пользователя.\n",
    "* Мы можем частично решать проблему холодного старта, когда у нас нет достаточно данных о новых пользователях или товарах, используя контент товаров, такой как описание, категория, метаданные и т.д.\n",
    "\n",
    "### Недостатки:\n",
    "* Мы можем быть навязчивыми, если мы даем слишком много или неуместных рекомендаций, которые могут раздражать или отпугивать пользователя.\n",
    "* Мы можем упускать из вида другие факторы, которые влияют на выбор пользователя, такие как цена, доступность, рейтинг, отзывы других пользователей и т.д.\n",
    "* Мы можем снижать разнообразие рекомендаций, если мы сосредотачиваемся только на похожих товарах, и не предлагаем новые или неожиданные товары, которые могут заинтересовать пользователя."
   ]
  },
  {
   "cell_type": "markdown",
   "metadata": {},
   "source": [
    "Спасибо за внимание!"
   ]
  }
 ],
 "metadata": {
  "colab": {
   "provenance": []
  },
  "kernelspec": {
   "display_name": "Python 3 (ipykernel)",
   "language": "python",
   "name": "python3"
  },
  "language_info": {
   "codemirror_mode": {
    "name": "ipython",
    "version": 3
   },
   "file_extension": ".py",
   "mimetype": "text/x-python",
   "name": "python",
   "nbconvert_exporter": "python",
   "pygments_lexer": "ipython3",
   "version": "3.11.5"
  }
 },
 "nbformat": 4,
 "nbformat_minor": 1
}
